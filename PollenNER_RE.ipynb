{
 "cells": [
  {
   "cell_type": "markdown",
   "metadata": {
    "id": "CXtM17W9kr52"
   },
   "source": [
    "# **PollenNER** — извлечения сущностей для анализа сообщений Пыльца Club\n",
    "\n",
    "---\n",
    "\n",
    "\n",
    "\n",
    "\n",
    "## Заказчик\n",
    "\n",
    "[Пыльца Club](https://pollen.club/) — краудсорсинговый сервис для людей с пыльцевой аллергией. Платформа объединяет тысячи пользователей, информируя их о текущем уровне аллергенов в воздухе и рисках для здоровья. Данные о концентрации пыльцевых частиц и прогнозах доступны через веб-интерфейс и мобильное приложение, что помогает планировать активность и корректировать терапию.\n",
    "\n",
    "\n",
    "\n",
    "## Исполнитель\n",
    "\n",
    "\n",
    "\n",
    "[Мельник Даниил](https://github.com/DanielNRU/)\n",
    "\n",
    "\n",
    "\n",
    "---\n",
    "\n",
    "\n",
    "\n",
    "## Описание проекта\n",
    "\n",
    "\n",
    "\n",
    "Цель — создать и обучить NLP-систему, способную извлекать из пользовательских сообщений ключевую информацию о:\n",
    "\n",
    "\n",
    "\n",
    "* **Топонимах**\n",
    "\n",
    "* **Симптомах**\n",
    "\n",
    "* **Медицинских препаратах**\n",
    "\n",
    "* **Аллергенах**\n",
    "\n",
    "\n",
    "\n",
    "---\n",
    "\n",
    "\n",
    "\n",
    "## Задачи\n",
    "\n",
    "\n",
    "\n",
    "1. **Подготовка и разметка данных**\n",
    "\n",
    "\n",
    "\n",
    " * Загрузка исторических сообщений пользователей\n",
    "\n",
    " * Очистка и нормализация текста\n",
    "\n",
    " * Аннотирование сущностей в Label Studio\n",
    "\n",
    " * Формирование тренировочной и тестовой выборок\n",
    "\n",
    "\n",
    "\n",
    "2. **Разработка NER-модуля**\n",
    "\n",
    "\n",
    "\n",
    " * Использование предобученной модели **DeepPavlov/rubert-base-cased**\n",
    "\n",
    " * Активное обучение для оптимального расширения аннотаций\n",
    "\n",
    " * Оценка неопределённости для отбора самых информативных примеров\n",
    "\n",
    " * PEFT и LoRA для экономии ресурсов при тонкой настройке\n",
    "\n",
    "\n",
    "\n",
    "3. **Построение RE-модуля**\n",
    "\n",
    "\n",
    "\n",
    " * Модель для классификации отношений между сущностями\n",
    "\n",
    " * Балансировка классов, оптимизация метрик качества\n",
    "\n",
    " * Интеграция в единый пайплайн с NER-модулем\n",
    "\n",
    "\n",
    "\n",
    "4. **Тестирование и внедрение**\n",
    "\n",
    "\n",
    "\n",
    " * Валидация на тестовой выборке\n",
    "\n",
    " * Анализ ошибок и доработка сложных кейсов\n",
    "\n",
    "\n",
    "\n",
    "---\n",
    "\n",
    "\n",
    "\n",
    "## Технологический стек\n",
    "\n",
    "\n",
    "\n",
    "* **Языки и библиотеки**: Python, Pandas, NumPy, scikit-learn\n",
    "\n",
    "* **ML-фреймворки**: PyTorch, Transformers (Hugging Face), PEFT (LoRA)\n",
    "\n",
    "* **Разметка**: Label Studio\n",
    "\n",
    "* **Подходы**: Active Learning, Parameter-Efficient Fine-Tuning\n",
    "\n",
    "\n",
    "\n",
    "---\n"
   ]
  },
  {
   "cell_type": "markdown",
   "metadata": {
    "id": "mWRORxG3uHU8"
   },
   "source": [
    "## Импорты библиотек"
   ]
  },
  {
   "cell_type": "code",
   "execution_count": 4,
   "metadata": {
    "id": "P7jsWDDntzgf"
   },
   "outputs": [],
   "source": [
    "# Стандартные библиотеки Python\n",
    "import os\n",
    "import json\n",
    "import random\n",
    "import re\n",
    "import time\n",
    "import warnings\n",
    "from collections import Counter\n",
    "from typing import List, Dict, Optional\n",
    "\n",
    "# Научные вычисления и обработка данных\n",
    "import numpy as np\n",
    "import pandas as pd\n",
    "import torch\n",
    "import matplotlib.pyplot as plt\n",
    "import seaborn as sns\n",
    "from sklearn.cluster import KMeans\n",
    "from sklearn.feature_extraction.text import TfidfVectorizer\n",
    "from sklearn.metrics import classification_report\n",
    "import multiprocessing\n",
    "from joblib import parallel_backend\n",
    "\n",
    "# Hugging Face и трансформеры\n",
    "from datasets import Dataset\n",
    "from transformers import (\n",
    "    AutoTokenizer,\n",
    "    AutoModelForTokenClassification,\n",
    "    Trainer,\n",
    "    TrainingArguments,\n",
    "    DataCollatorForTokenClassification,\n",
    "    EarlyStoppingCallback,\n",
    "    AutoModelForSequenceClassification,\n",
    "    AutoConfig\n",
    ")\n",
    "from peft import LoraConfig, get_peft_model\n",
    "\n",
    "# Внешние API и сервисы\n",
    "import requests\n",
    "from label_studio_sdk.client import LabelStudio\n",
    "from dotenv import load_dotenv\n",
    "import evaluate"
   ]
  },
  {
   "cell_type": "markdown",
   "metadata": {
    "id": "z9mQVwTSuXw8"
   },
   "source": [
    "## Настройка окружения и константы"
   ]
  },
  {
   "cell_type": "code",
   "execution_count": 6,
   "metadata": {
    "id": "7fT3StR0u1NF"
   },
   "outputs": [],
   "source": [
    "SEED = 42\n",
    "RANDOM_STATE = 42\n",
    "LABEL_CONFIG = '''<View>\n",
    "  <Labels name=\"label\" toName=\"text\">\n",
    "    <Label value=\"TOPONYM\" background=\"#ff0d00\"/>\n",
    "    <Label value=\"MEDICINE\" background=\"#022bf7\"/>\n",
    "    <Label value=\"SYMPTOM\" background=\"#ffd500\"/>\n",
    "    <Label value=\"ALLERGEN\" background=\"#00ff55\"/>\n",
    "    <Label value=\"BODY_PART\" background=\"#ff00ff\"/>\n",
    "  </Labels>\n",
    "\n",
    "  <Relations>\n",
    "    <Relation value=\"has_symptom\" />\n",
    "    <Relation value=\"has_medicine\" />\n",
    "  </Relations>\n",
    "\n",
    "  <Text name=\"text\" value=\"$text\" granularity=\"word\"/>\n",
    "</View>'''\n",
    "\n",
    "torch.manual_seed(SEED)\n",
    "np.random.seed(SEED)\n",
    "random.seed(SEED)\n",
    "if torch.cuda.is_available():\n",
    "    torch.cuda.manual_seed_all(SEED)"
   ]
  },
  {
   "cell_type": "code",
   "execution_count": 7,
   "metadata": {
    "id": "UtqVftZ-ugG3"
   },
   "outputs": [],
   "source": [
    "n_jobs = max(1, multiprocessing.cpu_count() - 1)\n",
    "os.environ['LOKY_MAX_CPU_COUNT'] = str(n_jobs)\n",
    "\n",
    "# Подавляем лишние предупреждения, чтобы не засорять вывод.\n",
    "warnings.filterwarnings('ignore', category=FutureWarning)\n",
    "warnings.filterwarnings('ignore', message='No label_names provided for model class')\n",
    "warnings.filterwarnings('ignore', message='Could not find the number of physical cores')\n",
    "\n",
    "# Загружаем переменные окружения из .env файла (токены, URL и т.д.)\n",
    "# Для начинающих: .env файл - это файл с конфиденциальными данными (токены, пароли),\n",
    "# которые не должны попадать в репозиторий кода\n",
    "load_dotenv()\n",
    "LS_TOKEN = os.getenv('LS_LEGACY_TOKEN')  # Токен для Label Studio\n",
    "LS_URL = os.getenv('LS_URL', 'http://localhost:8080')  # URL сервера Label Studio\n",
    "HF_TOKEN = os.getenv('HUGGINGFACE_HUB_TOKEN')  # Токен для HuggingFace Hub\n",
    "assert LS_TOKEN and HF_TOKEN, 'Установите LS_LEGACY_TOKEN и HUGGINGFACE_HUB_TOKEN в .env'\n",
    "\n",
    "# Инициализация клиента для работы с Label Studio через API\n",
    "ls = LabelStudio(base_url=LS_URL, api_key=LS_TOKEN)"
   ]
  },
  {
   "cell_type": "code",
   "execution_count": 8,
   "metadata": {
    "id": "NdGm9zH4vjwF"
   },
   "outputs": [],
   "source": [
    "## Конфигурация меток и токенизатора\n",
    "# Список всех сущностей, которые мы хотим распознавать.\n",
    "LABELS = ['TOPONYM', 'MEDICINE', 'SYMPTOM', 'ALLERGEN', 'BODY_PART']\n",
    "# Словари для преобразования между строковыми и числовыми метками.\n",
    "LABEL2ID = {'O': 0, **{f'B-{l}': i*2+1 for i, l in enumerate(LABELS)}, **{f'I-{l}': i*2+2 for i, l in enumerate(LABELS)}}\n",
    "ID2LABEL = {v: k for k, v in LABEL2ID.items()}\n",
    "\n",
    "TOKENIZER = AutoTokenizer.from_pretrained('DeepPavlov/rubert-base-cased')\n",
    "\n",
    "# Список размеров обучающих выборок для активного обучения.\n",
    "sizes = list(range(50, 2001, 50))\n",
    "\n",
    "# Список допустимых отношений между сущностями для задачи RE.\n",
    "RE_RELATION_LABELS = ['has_symptom', 'has_medicine']\n",
    "\n",
    "# Тестовый пример\n",
    "TEST_EXAMPLES = [\n",
    "    \"В Московской области у меня началась аллергия на пыльцу березы, потекли глаза, нос, принимаю Зиртек и Назонекс. У ребенка в Новокузнецке чешутся глаза, уши и течет нос, врач прописал Кромогексал, Назонекс в нос. В Санкт-Петербурге началось цветение ольхи, сильная реакция, принимаю Эриус, но глаза все равно слезятся.\",\n",
    "]\n",
    "\n",
    "# Определяем функцию для вычисления метрик\n",
    "metric = evaluate.load('seqeval')"
   ]
  },
  {
   "cell_type": "markdown",
   "metadata": {
    "id": "7K6E1Sofu8xn"
   },
   "source": [
    "## Вспомогательные функции"
   ]
  },
  {
   "cell_type": "code",
   "execution_count": 10,
   "metadata": {
    "id": "J06OxELJvT0n"
   },
   "outputs": [],
   "source": [
    "def bulk_import_via_http(project_id: int,\n",
    "                         tasks_list: List[Dict],\n",
    "                         ls_url: str,\n",
    "                         ls_token: str,\n",
    "                         chunk_size: int = 100,\n",
    "                         max_retries: int = 3):\n",
    "    \"\"\"\n",
    "    Импорт списка задач в Label Studio через HTTP-эндпоинт /import.\n",
    "\n",
    "    Параметры:\n",
    "    - project_id: ID проекта в Label Studio\n",
    "    - tasks_list: список задач для импорта\n",
    "    - ls_url: URL сервера Label Studio\n",
    "    - ls_token: токен доступа\n",
    "    - chunk_size: размер чанка для импорта\n",
    "    - max_retries: максимальное количество попыток при ошибке\n",
    "\n",
    "    Процесс:\n",
    "    1. Разбивает список задач на чанки\n",
    "    2. Отправляет каждый чанк через API\n",
    "    3. При ошибке делает повторные попытки с экспоненциальной задержкой\n",
    "    \"\"\"\n",
    "    url = f\"{ls_url}/api/projects/{project_id}/import\"\n",
    "    headers = {'Authorization': f'Token {ls_token}', 'Content-Type': 'application/json'}\n",
    "    total = len(tasks_list)\n",
    "\n",
    "    # Проходим по списку чанков\n",
    "    for i in range(0, total, chunk_size):\n",
    "        chunk = tasks_list[i:i + chunk_size]\n",
    "        start, end = i + 1, min(i + chunk_size, total)\n",
    "\n",
    "        # Пытаемся отправить с ретрай\n",
    "        for attempt in range(1, max_retries + 1):\n",
    "            resp = requests.post(url, headers=headers, json=chunk)\n",
    "            if resp.ok:\n",
    "                print(f\"Импортировано задач {start}–{end} из {total}\")\n",
    "                break\n",
    "            print(f\"Ошибка импорта {start}–{end}: {resp.status_code}. Попытка {attempt}/{max_retries}\")\n",
    "            if attempt < max_retries:\n",
    "                time.sleep(2 ** attempt)  # Экспоненциальная задержка\n",
    "            else:\n",
    "                print(f\"Не удалось импортировать {start}–{end} после {max_retries} попыток.\")\n",
    "\n",
    "def calculate_uncertainty_scores(model, texts, tokenizer, batch_size=8):\n",
    "    \"\"\"\n",
    "    Рассчитывает оценки неопределенности для каждого текста на основе энтропии предсказаний модели.\n",
    "\n",
    "    Параметры:\n",
    "    - model: модель для предсказаний\n",
    "    - texts: список текстов для оценки\n",
    "    - tokenizer: токенизатор для обработки текстов\n",
    "    - batch_size: размер батча для обработки\n",
    "\n",
    "    Возвращает:\n",
    "    - список оценок неопределенности для каждого текста\n",
    "    \"\"\"\n",
    "    uncertainties = []\n",
    "    model.eval()\n",
    "    device = next(model.parameters()).device\n",
    "\n",
    "    # Обработка текстов батчами\n",
    "    for i in range(0, len(texts), batch_size):\n",
    "        batch_texts = texts[i:i + batch_size]\n",
    "        inputs = tokenizer(batch_texts,\n",
    "                           padding=True,\n",
    "                           truncation=True,\n",
    "                           max_length=512,\n",
    "                           return_tensors=\"pt\")\n",
    "        inputs = {k: v.to(device) for k, v in inputs.items()}\n",
    "\n",
    "        with torch.no_grad():\n",
    "            outputs = model(**inputs)\n",
    "            logits = outputs.logits\n",
    "            # Вычисляем вероятности через softmax\n",
    "            probs = torch.softmax(logits, dim=-1)\n",
    "            # Рассчитываем энтропию как меру неопределенности\n",
    "            entropy = -torch.sum(probs * torch.log(probs + 1e-10), dim=-1)\n",
    "            # Усредняем энтропию по всем токенам в тексте\n",
    "            avg_entropy = entropy.mean(dim=1)\n",
    "            uncertainties.extend(avg_entropy.cpu().numpy())\n",
    "\n",
    "        # Очищаем память GPU\n",
    "        del outputs, logits, probs, entropy, avg_entropy\n",
    "        torch.cuda.empty_cache()\n",
    "\n",
    "    return uncertainties\n",
    "\n",
    "def retry_on_error(func, max_retries=5, delay=2):\n",
    "    \"\"\"\n",
    "    Декоратор для повторных попыток выполнения функции при ошибках.\n",
    "\n",
    "    Параметры:\n",
    "    - func: функция для выполнения\n",
    "    - max_retries: максимальное количество попыток\n",
    "    - delay: начальная задержка между попытками\n",
    "\n",
    "    Возвращает:\n",
    "    - результат выполнения функции или None при неудаче\n",
    "    \"\"\"\n",
    "    def wrapper(*args, **kwargs):\n",
    "        for attempt in range(max_retries):\n",
    "            try:\n",
    "                return func(*args, **kwargs)\n",
    "            except Exception as e:\n",
    "                if attempt == max_retries - 1:\n",
    "                    raise e\n",
    "                print(f\"Ошибка при выполнении {func.__name__}: {str(e)}. Попытка {attempt + 1}/{max_retries}\")\n",
    "                time.sleep(delay * (2 ** attempt))  # Экспоненциальная задержка\n",
    "        return None\n",
    "    return wrapper\n",
    "\n",
    "@retry_on_error\n",
    "def create_task(ls_client, project_id, text, text_id):\n",
    "    \"\"\"\n",
    "    Создание задачи в Label Studio с повторными попытками.\n",
    "    \"\"\"\n",
    "    return ls_client.tasks.create(\n",
    "        project=project_id,\n",
    "        data={\n",
    "            'text': text,\n",
    "            'meta': {\n",
    "                'id': str(text_id)\n",
    "            }\n",
    "        }\n",
    "    )\n",
    "\n",
    "@retry_on_error\n",
    "def delete_task(ls_client, task_id):\n",
    "    \"\"\"\n",
    "    Удаление задачи в Label Studio с повторными попытками.\n",
    "    \"\"\"\n",
    "    return ls_client.tasks.delete(task_id)\n",
    "\n",
    "@retry_on_error\n",
    "def get_project_tasks(ls_client, project_id):\n",
    "    \"\"\"\n",
    "    Получение списка задач проекта с повторными попытками.\n",
    "    \"\"\"\n",
    "    return list(ls_client.tasks.list(project=project_id, fields=['data', 'is_labeled']))\n",
    "\n",
    "@retry_on_error\n",
    "def export_project(ls_client, project_id):\n",
    "    \"\"\"\n",
    "    Экспорт проекта с повторными попытками.\n",
    "    \"\"\"\n",
    "    resp = requests.get(\n",
    "        f\"{LS_URL}/api/projects/{project_id}/export?exportType=JSON&download_all_tasks=true\",\n",
    "        headers={'Authorization': f'Token {LS_TOKEN}'}\n",
    "    )\n",
    "    resp.raise_for_status()\n",
    "    return resp.json()\n",
    "\n",
    "@retry_on_error\n",
    "def get_or_create_project(ls_client, title, label_config):\n",
    "    \"\"\"\n",
    "    Получение существующего проекта или создание нового с повторными попытками.\n",
    "    \"\"\"\n",
    "    try:\n",
    "        proj = next((p for p in ls_client.projects.list() if p.title == title), None)\n",
    "        if not proj:\n",
    "            proj = ls_client.projects.create(title=title, label_config=label_config)\n",
    "            print(f\"Создан проект '{title}' (ID={proj.id})\")\n",
    "        return proj\n",
    "    except Exception as e:\n",
    "        print(f\"Ошибка при работе с проектом '{title}': {str(e)}\")\n",
    "        raise\n",
    "\n",
    "def ensure_project(texts_with_ids, title, export_path, import_prev_json=None):\n",
    "    \"\"\"\n",
    "    Убеждаемся, что в Label Studio есть проект с нужными текстами.\n",
    "\n",
    "    Параметры:\n",
    "    - texts_with_ids: список кортежей (id, text)\n",
    "    - title: название проекта\n",
    "    - export_path: путь для сохранения экспортированных данных\n",
    "    - import_prev_json: путь к файлу с предыдущими аннотациями\n",
    "\n",
    "    Процесс:\n",
    "    1. Проверяет существование проекта\n",
    "    2. Создает новый или использует существующий\n",
    "    3. Импортирует тексты и аннотации\n",
    "    4. Экспортирует размеченные данные\n",
    "\n",
    "    Возвращает:\n",
    "    - список примеров с аннотациями\n",
    "    \"\"\"\n",
    "    # Находим или создаём проект\n",
    "    proj = get_or_create_project(ls, title, LABEL_CONFIG)\n",
    "\n",
    "    # Получаем таски с повторными попытками\n",
    "    tasks = get_project_tasks(ls, proj.id)\n",
    "\n",
    "    # Если число совпадает\n",
    "    if len(tasks) == len(texts_with_ids):\n",
    "        labeled = sum(t.is_labeled for t in tasks)\n",
    "        if labeled == len(texts_with_ids):\n",
    "            print(f\"Все {len(texts_with_ids)} задач размечены в '{title}', экспорт\")\n",
    "            data = export_project(ls, proj.id)\n",
    "            with open(export_path, 'w', encoding='utf-8') as f:\n",
    "                json.dump(data, f, ensure_ascii=False, indent=2)\n",
    "            examples = []\n",
    "            # Парсим аннотации в нужный формат\n",
    "            for item in data:\n",
    "                tags = []\n",
    "                for ann in item.get('annotations', []):\n",
    "                    for r in ann.get('result', []):\n",
    "                        v = r.get('value')\n",
    "                        if v and isinstance(v, dict) and 'start' in v and 'end' in v and 'labels' in v:\n",
    "                            tags.append({'start': v['start'], 'end': v['end'], 'label': v['labels'][0]})\n",
    "                examples.append({'text': item['data']['text'], 'tags': tags})\n",
    "            print(f\"Экспортировано {len(examples)} примеров в {export_path}\")\n",
    "            return examples\n",
    "        # Если есть неразмеченные — ждём\n",
    "        print(f\"В '{title}' размечено {labeled}/{len(texts_with_ids)}. Заверши разметку.\")\n",
    "        input(\"Нажми Enter после разметки...\")\n",
    "        return ensure_project(texts_with_ids, title, export_path, import_prev_json)\n",
    "\n",
    "    # Иначе — удаляем и создаём заново\n",
    "    if tasks:\n",
    "        for t in tasks:\n",
    "            delete_task(ls, t.id)\n",
    "        print(f\"Очистили {len(tasks)} задач в '{title}'\")\n",
    "\n",
    "    existing = []\n",
    "    # Импорт предыдущих аннотаций, если есть\n",
    "    if import_prev_json and os.path.exists(import_prev_json):\n",
    "        prev = json.load(open(import_prev_json, 'r', encoding='utf-8'))\n",
    "        bulk_import_via_http(proj.id, prev, LS_URL, LS_TOKEN, chunk_size=100)\n",
    "        existing = [i['data']['text'] for i in prev]\n",
    "\n",
    "    # Создаём новые таски для оставшихся текстов\n",
    "    for text_id, text in texts_with_ids:\n",
    "        if text not in existing:\n",
    "            create_task(ls, proj.id, text, text_id)\n",
    "\n",
    "    print(f\"Созданы {len(texts_with_ids) - len(existing)} новых задач в '{title}'\")\n",
    "    input(f\"Разметь их и нажми Enter...\")\n",
    "\n",
    "    # Экспорт и разбираем аннотации\n",
    "    data = export_project(ls, proj.id)\n",
    "    with open(export_path, 'w', encoding='utf-8') as f:\n",
    "        json.dump(data, f, ensure_ascii=False, indent=2)\n",
    "\n",
    "    examples = []\n",
    "    for item in data:\n",
    "        tags = []\n",
    "        for ann in item.get('annotations', []):\n",
    "            for r in ann.get('result', []):\n",
    "                v = r.get('value')\n",
    "                if v and isinstance(v, dict) and 'start' in v and 'end' in v and 'labels' in v:\n",
    "                    tags.append({'start': v['start'], 'end': v['end'], 'label': v['labels'][0]})\n",
    "        examples.append({'text': item['data']['text'], 'tags': tags})\n",
    "\n",
    "    print(f\"Экспортировано {len(examples)} примеров в {export_path}\")\n",
    "    return examples\n",
    "\n",
    "def align_labels(example):\n",
    "    \"\"\"\n",
    "    Привязывает аннотации к токенам текста.\n",
    "\n",
    "    Параметры:\n",
    "    - example: пример с текстом и аннотациями\n",
    "\n",
    "    Возвращает:\n",
    "    - список ID меток для каждого токена\n",
    "    \"\"\"\n",
    "    tok = TOKENIZER(example['text'], return_offsets_mapping=True, truncation=True, max_length=512)\n",
    "    labels = ['O'] * len(tok['offset_mapping'])\n",
    "\n",
    "    # Для каждой аннотации находим соответствующие токены\n",
    "    for tag in example.get('tags', []):\n",
    "        for i, (s, e) in enumerate(tok['offset_mapping']):\n",
    "            if s >= tag['start'] and e <= tag['end']:\n",
    "                # B- для начала сущности, I- для продолжения\n",
    "                labels[i] = ('B-' if s == tag['start'] else 'I-') + tag['label']\n",
    "\n",
    "    return [LABEL2ID[l] for l in labels]\n",
    "\n",
    "def to_hf_dataset(examples):\n",
    "    \"\"\"\n",
    "    Преобразует примеры в формат HuggingFace Dataset.\n",
    "\n",
    "    Параметры:\n",
    "    - examples: список примеров с текстами и аннотациями\n",
    "\n",
    "    Возвращает:\n",
    "    - датасет в формате HuggingFace\n",
    "    - коллатор для батчей\n",
    "    - список текстов\n",
    "    \"\"\"\n",
    "    if not examples: return None, None, []\n",
    "\n",
    "    # Преобразуем в DataFrame\n",
    "    df = pd.DataFrame(examples)\n",
    "    ds = Dataset.from_pandas(df)\n",
    "\n",
    "    # Сохраняем тексты для последующего анализа\n",
    "    texts = df['text'].tolist()\n",
    "\n",
    "    def fn(ex):\n",
    "        # Токенизация и выравнивание меток\n",
    "        tok = TOKENIZER(ex['text'], truncation=True, padding='max_length', max_length=512)\n",
    "        aligned = align_labels(ex)\n",
    "        tok['labels'] = aligned + [-100] * (512 - len(aligned))  # -100 для padding\n",
    "        return tok\n",
    "\n",
    "    ds = ds.map(fn, batched=False, remove_columns=['text','tags'])\n",
    "    return ds, DataCollatorForTokenClassification(TOKENIZER), texts\n",
    "\n",
    "def update_remaining_dataset(remaining_df, json_file):\n",
    "    \"\"\"\n",
    "    Обновляет оставшийся датасет, удаляя из него сообщения, которые были размечены.\n",
    "    Args:\n",
    "        remaining_df: DataFrame с оставшимися сообщениями\n",
    "        json_file: путь к JSON файлу с размеченными данными\n",
    "    Returns:\n",
    "        Обновленный DataFrame с оставшимися сообщениями\n",
    "    \"\"\"\n",
    "    # Удаляем все print, связанные с размером датасета и совпадениями\n",
    "    # Загружаем размеченные данные\n",
    "    with open(json_file, 'r', encoding='utf-8') as f:\n",
    "        labeled_data = json.load(f)\n",
    "    # Получаем ID сообщений из JSON файла\n",
    "    labeled_ids = []\n",
    "    for item in labeled_data:\n",
    "        if 'data' in item and 'meta' in item['data'] and 'id' in item['data']['meta']:\n",
    "            labeled_ids.append(str(item['data']['meta']['id']))\n",
    "    if labeled_ids:\n",
    "        # Проверяем, есть ли совпадения ID\n",
    "        matching_ids = remaining_df.index.astype(str).isin(labeled_ids)\n",
    "        # Удаляем строки, где индекс совпадает с ID из JSON\n",
    "        remaining_df = remaining_df[~remaining_df.index.astype(str).isin(labeled_ids)]\n",
    "    return remaining_df\n",
    "\n",
    "def compute_metrics(p):\n",
    "    \"\"\"\n",
    "    Вычисляет метрики для оценки модели NER.\n",
    "    \"\"\"\n",
    "    preds = p.predictions.argmax(-1)\n",
    "    refs, hyps = [], []\n",
    "    for pr, gt in zip(preds, p.label_ids):\n",
    "        r_seq, h_seq = [], []\n",
    "        for pi, gi in zip(pr, gt):\n",
    "            if gi == -100:\n",
    "                continue\n",
    "            r_seq.append(ID2LABEL[gi])\n",
    "            h_seq.append(ID2LABEL[pi])\n",
    "        refs.append(r_seq)\n",
    "        hyps.append(h_seq)\n",
    "    out = metric.compute(predictions=hyps, references=refs)\n",
    "    return {\n",
    "        'precision': out['overall_precision'],\n",
    "        'recall': out['overall_recall'],\n",
    "        'f1': out['overall_f1']\n",
    "    }\n",
    "\n",
    "def predict_entities(text: str, model, tokenizer, id2label: Dict[int, str]) -> List[Dict]:\n",
    "    \"\"\"\n",
    "    Извлекает именованные сущности из текста с помощью обученной модели.\n",
    "\n",
    "    Args:\n",
    "        text (str): Входной текст для анализа\n",
    "        model: Обученная модель NER\n",
    "        tokenizer: Токенизатор для обработки текста\n",
    "        id2label (Dict[int, str]): Словарь для преобразования ID в метки\n",
    "\n",
    "    Returns:\n",
    "        List[Dict]: Список словарей с найденными сущностями в формате:\n",
    "            [{'text': 'текст сущности', 'label': 'тип сущности', 'start': начало, 'end': конец}]\n",
    "    \"\"\"\n",
    "    # Определяем устройство для вычислений (GPU/CPU)\n",
    "    device = torch.device('cuda' if torch.cuda.is_available() else 'cpu')\n",
    "    model = model.to(device)\n",
    "\n",
    "    # Токенизация текста с сохранением маппинга позиций\n",
    "    inputs = tokenizer(\n",
    "        text,\n",
    "        return_tensors=\"pt\",\n",
    "        return_offsets_mapping=True,\n",
    "        truncation=True,\n",
    "        max_length=512\n",
    "    )\n",
    "    offset_mapping = inputs.pop('offset_mapping')[0]\n",
    "\n",
    "    # Перенос входных данных на нужное устройство\n",
    "    inputs = {k: v.to(device) for k, v in inputs.items()}\n",
    "\n",
    "    # Получение предсказаний модели\n",
    "    with torch.no_grad():\n",
    "        outputs = model(**inputs)\n",
    "        predictions = outputs.logits.argmax(-1)[0]\n",
    "\n",
    "    # Перенос предсказаний обратно на CPU для обработки\n",
    "    predictions = predictions.cpu()\n",
    "\n",
    "    # Обработка предсказаний и сбор сущностей\n",
    "    entities = []\n",
    "    current_entity = None\n",
    "\n",
    "    # Проходим по всем токенам и их позициям\n",
    "    for pred, (start, end) in zip(predictions, offset_mapping):\n",
    "        # Пропускаем специальные токены (CLS, SEP, PAD)\n",
    "        if start == 0 and end == 0:\n",
    "            continue\n",
    "\n",
    "        # Получаем метку для текущего токена\n",
    "        label = id2label[pred.item()]\n",
    "\n",
    "        if label.startswith('B-'):\n",
    "            # Если встретили начало новой сущности\n",
    "            if current_entity:\n",
    "                # Сохраняем предыдущую сущность\n",
    "                entities.append(current_entity)\n",
    "            # Создаем новую сущность\n",
    "            current_entity = {\n",
    "                'text': text[start:end],\n",
    "                'label': label[2:],  # Убираем префикс B-\n",
    "                'start': start,\n",
    "                'end': end\n",
    "            }\n",
    "        elif label.startswith('I-') and current_entity and label[2:] == current_entity['label']:\n",
    "            # Продолжаем текущую сущность\n",
    "            current_entity['text'] += text[start:end]\n",
    "            current_entity['end'] = end\n",
    "        else:\n",
    "            # Если встретили токен вне сущности\n",
    "            if current_entity:\n",
    "                # Сохраняем текущую сущность\n",
    "                entities.append(current_entity)\n",
    "                current_entity = None\n",
    "\n",
    "    # Добавляем последнюю сущность, если она есть\n",
    "    if current_entity:\n",
    "        entities.append(current_entity)\n",
    "\n",
    "    return entities\n",
    "\n",
    "def test_model_on_example(model, tokenizer, text):\n",
    "    \"\"\"\n",
    "    Тестирует только NER модель на одном примере и выводит результаты разметки в унифицированном формате.\n",
    "    Выводит все определенные сущности.\n",
    "    \"\"\"\n",
    "    print(f\"\\nТестовый пример:\")\n",
    "    print(f\"Текст: {text}\")\n",
    "\n",
    "    # Получаем предсказанные сущности\n",
    "    entities = predict_entities(text, model, tokenizer, ID2LABEL)\n",
    "\n",
    "    # Группируем сущности по типу\n",
    "    ent_by_type = {label: [] for label in LABELS}\n",
    "    for ent in entities:\n",
    "        if ent['label'] in ent_by_type:\n",
    "            ent_by_type[ent['label']].append(ent['text'])\n",
    "\n",
    "    # Выводим результаты NER\n",
    "    print(\"\\n[NER] Результаты анализа:\")\n",
    "    for label in LABELS:\n",
    "        if ent_by_type[label]:\n",
    "            print(f\"{label}: {', '.join(ent_by_type[label])}\")\n",
    "        else:\n",
    "            print(f\"{label}: не найдено\")"
   ]
  },
  {
   "cell_type": "code",
   "execution_count": 11,
   "metadata": {
    "id": "NFJexHKPktqv"
   },
   "outputs": [],
   "source": [
    "def run_cycle(df_path: str, sizes, start_size: Optional[int] = None) -> None:\n",
    "    \"\"\"\n",
    "    Запускает цикл обучения модели NER с активным обучением.\n",
    "\n",
    "    Args:\n",
    "        df_path (str): Путь к исходному датасету\n",
    "        start_size (Optional[int]): Размер выборки, с которой начать обучение\n",
    "    \"\"\"\n",
    "    # Загружаем датасет и создаем копию для оставшихся сообщений\n",
    "    df = pd.read_csv(df_path, sep=';', index_col=0)\n",
    "    print(f\"Загружен исходный датасет размером {len(df)} сообщений\")\n",
    "    print(\"Первые 5 строк исходного датасета:\")\n",
    "    print(df.head())\n",
    "\n",
    "    # Если указан start_size, находим его индекс в списке sizes\n",
    "    start_index = 0\n",
    "    if start_size is not None:\n",
    "        try:\n",
    "            start_index = sizes.index(start_size)\n",
    "            print(f\"Начинаем с итерации {start_index + 1} (размер выборки {start_size})\")\n",
    "        except ValueError:\n",
    "            print(f\"Ошибка: размер выборки {start_size} не найден в списке допустимых размеров\")\n",
    "            return\n",
    "\n",
    "    # Проверяем существование тестового проекта\n",
    "    test_project_title = 'PollenNER TEST'\n",
    "    test_project = get_or_create_project(ls, test_project_title, LABEL_CONFIG)\n",
    "    test_tasks = get_project_tasks(ls, test_project.id)\n",
    "\n",
    "    # Если тестовый проект пустой или не существует, создаем его\n",
    "    if not test_tasks:\n",
    "        print(\"\\nСоздание тестового проекта из случайных записей\")\n",
    "        # Выбираем 100 случайных записей с фиксированным seed\n",
    "        test_df = df.sample(n=100, random_state=SEED)\n",
    "        test_texts_with_ids = [(idx, text) for idx, text in zip(test_df.index, test_df['text'])]\n",
    "\n",
    "        # Создаем задачи в Label Studio\n",
    "        for text_id, text in test_texts_with_ids:\n",
    "            create_task(ls, test_project.id, text, text_id)\n",
    "\n",
    "        print(f\"Создано {len(test_texts_with_ids)} тестовых задач\")\n",
    "        print(\"Пожалуйста, разместите тестовые данные в Label Studio\")\n",
    "        input(\"Нажмите Enter после завершения разметки...\")\n",
    "\n",
    "        # Экспортируем размеченные данные\n",
    "        test_data = export_project(ls, test_project.id)\n",
    "        with open('PollenNER_TEST.json', 'w', encoding='utf-8') as f:\n",
    "            json.dump(test_data, f, ensure_ascii=False, indent=2)\n",
    "\n",
    "        # Преобразуем данные в формат для обучения\n",
    "        test_ex = []\n",
    "        for item in test_data:\n",
    "            tags = []\n",
    "            for ann in item.get('annotations', []):\n",
    "                for r in ann.get('result', []):\n",
    "                    v = r.get('value')\n",
    "                    if v and isinstance(v, dict) and 'start' in v and 'end' in v and 'labels' in v:\n",
    "                        tags.append({'start': v['start'], 'end': v['end'], 'label': v['labels'][0]})\n",
    "            test_ex.append({'text': item['data']['text'], 'tags': tags})\n",
    "\n",
    "        # Создаем тестовый датасет\n",
    "        test_ds, _, _ = to_hf_dataset(test_ex)\n",
    "\n",
    "        # Обновляем оставшийся датасет\n",
    "        test_ids = [str(item['data']['meta']['id']) for item in test_data]\n",
    "        remaining_df = df[~df.index.astype(str).isin(test_ids)]\n",
    "        print(f\"Размер оставшегося датасета после создания тестового: {len(remaining_df)}\")\n",
    "    else:\n",
    "        print(\"\\nТестовый проект уже существует, загружаем данные\")\n",
    "        # Загружаем существующие тестовые данные\n",
    "        with open('PollenNER_TEST.json', 'r', encoding='utf-8') as f:\n",
    "            test_data = json.load(f)\n",
    "\n",
    "        # Преобразуем данные в формат для обучения\n",
    "        test_ex = []\n",
    "        for item in test_data:\n",
    "            tags = []\n",
    "            for ann in item.get('annotations', []):\n",
    "                for r in ann.get('result', []):\n",
    "                    v = r.get('value')\n",
    "                    if v and isinstance(v, dict) and 'start' in v and 'end' in v and 'labels' in v:\n",
    "                        tags.append({'start': v['start'], 'end': v['end'], 'label': v['labels'][0]})\n",
    "            test_ex.append({'text': item['data']['text'], 'tags': tags})\n",
    "\n",
    "        test_ds, _, _ = to_hf_dataset(test_ex)\n",
    "        test_ids = [str(item['data']['meta']['id']) for item in test_data]\n",
    "        remaining_df = df[~df.index.astype(str).isin(test_ids)]\n",
    "        print(f\"Размер оставшегося датасета: {len(remaining_df)}\")\n",
    "\n",
    "    results = []\n",
    "\n",
    "    # --- Инициализация базовой модели с dropout через конфиг ---\n",
    "    config = AutoConfig.from_pretrained(\n",
    "        'DeepPavlov/rubert-base-cased',\n",
    "        hidden_dropout_prob=0.3,  # Dropout для регуляризации\n",
    "        attention_probs_dropout_prob=0.3,  # Dropout на внимании\n",
    "        id2label=ID2LABEL,\n",
    "        label2id=LABEL2ID\n",
    "    )\n",
    "    base_model = AutoModelForTokenClassification.from_pretrained('DeepPavlov/rubert-base-cased', config=config)\n",
    "\n",
    "    # Если начинаем не с начала, загружаем последнюю обученную модель\n",
    "    if start_index > 0:\n",
    "        prev_size = sizes[start_index - 1]\n",
    "        model_path = f'models/pollen_ner_{prev_size}'\n",
    "        if os.path.exists(model_path):\n",
    "            print(f\"Загружаем модель из {model_path}\")\n",
    "            model = get_peft_model(base_model,\n",
    "                                   LoraConfig(task_type='TOKEN_CLS',\n",
    "                                              r=16,\n",
    "                                              lora_alpha=32,\n",
    "                                              lora_dropout=0.1))\n",
    "            model.load_adapter(model_path, adapter_name=\"default\")\n",
    "            # Перемещаем модель на GPU, если доступен\n",
    "            device = torch.device('cuda' if torch.cuda.is_available() else 'cpu')\n",
    "            model = model.to(device)\n",
    "            print(f\"Модель перемещена на {device}\")\n",
    "        else:\n",
    "            print(f\"Ошибка: модель {model_path} не найдена\")\n",
    "            return\n",
    "    else:\n",
    "        model = get_peft_model(base_model, LoraConfig(task_type='TOKEN_CLS',\n",
    "                                                      r=16,\n",
    "                                                      lora_alpha=32,\n",
    "                                                      lora_dropout=0.1))\n",
    "        # Перемещаем модель на GPU, если доступен\n",
    "        device = torch.device('cuda' if torch.cuda.is_available() else 'cpu')\n",
    "        model = model.to(device)\n",
    "        print(f\"Модель перемещена на {device}\")\n",
    "\n",
    "    # Продолжаем с указанной итерации\n",
    "    for i, size in enumerate(sizes[start_index:], start_index):\n",
    "        if start_size and size < start_size:\n",
    "            continue\n",
    "        print(f\"\\n[NER] Начинаем итерацию с размером выборки {size}\")\n",
    "\n",
    "        # Проверяем наличие существующего проекта для текущего размера\n",
    "        title = f'PollenNER TRAIN {size}'\n",
    "        export_file = f'PollenNER_TRAIN_{size}.json'\n",
    "\n",
    "        # Проверяем, существует ли проект и все ли задачи размечены\n",
    "        proj = get_or_create_project(ls, title, LABEL_CONFIG)\n",
    "        tasks = get_project_tasks(ls, proj.id)\n",
    "\n",
    "        if tasks and all(t.is_labeled for t in tasks):\n",
    "            print(f\"Найден существующий размеченный проект для размера {size}\")\n",
    "            # Экспортируем размеченные данные\n",
    "            data = export_project(ls, proj.id)\n",
    "            with open(export_file, 'w', encoding='utf-8') as f:\n",
    "                json.dump(data, f, ensure_ascii=False, indent=2)\n",
    "\n",
    "            # Преобразуем данные в формат для обучения\n",
    "            train_ex = []\n",
    "            for item in data:\n",
    "                tags = []\n",
    "                for ann in item.get('annotations', []):\n",
    "                    for r in ann.get('result', []):\n",
    "                        v = r.get('value')\n",
    "                        if v and isinstance(v, dict) and 'start' in v and 'end' in v and 'labels' in v:\n",
    "                            tags.append({'start': v['start'], 'end': v['end'], 'label': v['labels'][0]})\n",
    "                train_ex.append({'text': item['data']['text'], 'tags': tags})\n",
    "        else:\n",
    "            # Если это первая итерация и проект пустой, создаем его с нуля\n",
    "            if i == start_index and not tasks:\n",
    "                print(f\"\\nСоздание первого тренировочного проекта с размером {size}\")\n",
    "                # Выбираем случайные записи с фиксированным seed\n",
    "                train_df = remaining_df.sample(n=size, random_state=SEED)\n",
    "                train_texts_with_ids = [(idx, text) for idx, text in zip(train_df.index, train_df['text'])]\n",
    "\n",
    "                # Создаем задачи в Label Studio\n",
    "                for text_id, text in train_texts_with_ids:\n",
    "                    create_task(ls, proj.id, text, text_id)\n",
    "\n",
    "                print(f\"Создано {len(train_texts_with_ids)} тренировочных задач\")\n",
    "                print(\"Пожалуйста, разместите тренировочные данные в Label Studio\")\n",
    "                input(\"Нажмите Enter после завершения разметки...\")\n",
    "\n",
    "                # Экспортируем размеченные данные\n",
    "                data = export_project(ls, proj.id)\n",
    "                with open(export_file, 'w', encoding='utf-8') as f:\n",
    "                    json.dump(data, f, ensure_ascii=False, indent=2)\n",
    "\n",
    "                # Преобразуем данные в формат для обучения\n",
    "                train_ex = []\n",
    "                for item in data:\n",
    "                    tags = []\n",
    "                    for ann in item.get('annotations', []):\n",
    "                        for r in ann.get('result', []):\n",
    "                            v = r.get('value')\n",
    "                            if v and isinstance(v, dict) and 'start' in v and 'end' in v and 'labels' in v:\n",
    "                                tags.append({'start': v['start'], 'end': v['end'], 'label': v['labels'][0]})\n",
    "                    train_ex.append({'text': item['data']['text'], 'tags': tags})\n",
    "            else:\n",
    "                # Загружаем размеченные данные из предыдущей итерации\n",
    "                prev_size = sizes[i-1] if i > 0 else 0\n",
    "                prev_json = f'PollenNER_TRAIN_{prev_size}.json'\n",
    "                if os.path.exists(prev_json):\n",
    "                    print(f\"Загружаем размеченные данные из {prev_json}\")\n",
    "                    with open(prev_json, 'r', encoding='utf-8') as f:\n",
    "                        prev_data = json.load(f)\n",
    "\n",
    "                    # Создаем список задач для импорта\n",
    "                    tasks_list = []\n",
    "\n",
    "                    # Добавляем размеченные данные из предыдущей итерации\n",
    "                    for item in prev_data:\n",
    "                        tasks_list.append({\n",
    "                            'data': {\n",
    "                                'text': item['data']['text'],\n",
    "                                'meta': {\n",
    "                                    'id': item['data']['meta']['id']\n",
    "                                }\n",
    "                            },\n",
    "                            'annotations': item.get('annotations', [])\n",
    "                        })\n",
    "\n",
    "                    # Импортируем размеченные данные\n",
    "                    if tasks_list:\n",
    "                        print(f\"Импортируем {len(tasks_list)} размеченных сообщений из предыдущей итерации\")\n",
    "                        bulk_import_via_http(proj.id, tasks_list, LS_URL, LS_TOKEN)\n",
    "\n",
    "                # Выбираем наименее уверенные примеры из оставшегося датасета\n",
    "                if len(remaining_df) > 0:\n",
    "                    # Получаем оценки неопределенности для всех оставшихся сообщений\n",
    "                    uncertainties = calculate_uncertainty_scores(model,\n",
    "                                                                 remaining_df['text'].tolist(),\n",
    "                                                                 TOKENIZER)\n",
    "\n",
    "                    # Выбираем сообщения с наивысшей неопределенностью\n",
    "                    # Количество новых примеров = текущий размер - предыдущий размер\n",
    "                    n_new_samples = size - prev_size\n",
    "                    selected_indices = select_samples_improved(\n",
    "                        model,\n",
    "                        remaining_df['text'].tolist(),\n",
    "                        TOKENIZER,\n",
    "                        n_samples=n_new_samples,\n",
    "                        remaining_texts=remaining_df['text'].tolist(),\n",
    "                        current_iteration=i\n",
    "                    )\n",
    "\n",
    "                    # Получаем выбранные сообщения с их ID\n",
    "                    selected_df = remaining_df.iloc[selected_indices]\n",
    "                    train_texts = [(idx, text) for idx, text in zip(selected_df.index, selected_df['text'])]\n",
    "\n",
    "                    # Добавляем новые сообщения в проект\n",
    "                    print(f\"Добавляем {len(train_texts)} новых сообщений для разметки\")\n",
    "                    for text_id, text in train_texts:\n",
    "                        create_task(ls, proj.id, text, text_id)\n",
    "\n",
    "                    # Ждем разметки новых данных\n",
    "                    print(f\"\\nРазметьте {len(train_texts)} новых сообщений в Label Studio\")\n",
    "                    input(\"Нажмите Enter после завершения разметки...\")\n",
    "\n",
    "                    # Экспортируем все размеченные данные\n",
    "                    data = export_project(ls, proj.id)\n",
    "                    with open(export_file, 'w', encoding='utf-8') as f:\n",
    "                        json.dump(data, f, ensure_ascii=False, indent=2)\n",
    "\n",
    "                    # Преобразуем данные в формат для обучения\n",
    "                    train_ex = []\n",
    "                    for item in data:\n",
    "                        tags = []\n",
    "                        for ann in item.get('annotations', []):\n",
    "                            for r in ann.get('result', []):\n",
    "                                v = r.get('value')\n",
    "                                if v and isinstance(v, dict) and 'start' in v and 'end' in v and 'labels' in v:\n",
    "                                    tags.append({'start': v['start'], 'end': v['end'], 'label': v['labels'][0]})\n",
    "                        train_ex.append({'text': item['data']['text'], 'tags': tags})\n",
    "                else:\n",
    "                    print(\"Больше нет доступных сообщений для обучения\")\n",
    "                    break\n",
    "\n",
    "        # Обновляем оставшийся датасет\n",
    "        remaining_df = update_remaining_dataset(remaining_df, export_file)\n",
    "\n",
    "        print(f\"После итерации {i+1} осталось {len(remaining_df)} сообщений\")\n",
    "\n",
    "        train_ds, coll, train_texts = to_hf_dataset(train_ex)\n",
    "\n",
    "        # Настройка аргументов тренировки\n",
    "        timestamp = time.strftime(\"%Y%m%d_%H%M%S\")\n",
    "        run_name = f\"pollen_ner_{size}_{timestamp}\"\n",
    "\n",
    "        args = TrainingArguments(\n",
    "            output_dir=f'runs/train_{size}',\n",
    "            run_name=run_name,\n",
    "            per_device_train_batch_size=8,\n",
    "            per_device_eval_batch_size=8,\n",
    "            num_train_epochs=10,\n",
    "            load_best_model_at_end=True,\n",
    "            metric_for_best_model='eval_f1',\n",
    "            greater_is_better=True,\n",
    "            eval_strategy='epoch',\n",
    "            save_strategy='epoch',\n",
    "            save_total_limit=2,\n",
    "            push_to_hub=True,\n",
    "            hub_model_id=f'pollen-ner-{size}',\n",
    "            hub_token=HF_TOKEN,\n",
    "            no_cuda=not torch.cuda.is_available(),\n",
    "            weight_decay=0.01  # L2-регуляризация для борьбы с переобучением\n",
    "        )\n",
    "\n",
    "        # Создаем trainer\n",
    "        trainer = Trainer(\n",
    "            model=model,\n",
    "            args=args,\n",
    "            train_dataset=train_ds,\n",
    "            eval_dataset=test_ds,\n",
    "            data_collator=coll,\n",
    "            tokenizer=TOKENIZER,\n",
    "            compute_metrics=compute_metrics,\n",
    "            callbacks=[EarlyStoppingCallback(\n",
    "                early_stopping_patience=2,\n",
    "                early_stopping_threshold=0.001\n",
    "            )]\n",
    "        )\n",
    "\n",
    "        print(f\"[NER] Обучение на {size} примерах\")\n",
    "        trainer.train()\n",
    "        ev = trainer.evaluate()\n",
    "        print(f\"[NER] Результаты: F1 = {ev['eval_f1']:.4f}\")\n",
    "\n",
    "        # Получаем предсказания для тестового набора\n",
    "        predictions = trainer.predict(test_ds)\n",
    "        preds = predictions.predictions.argmax(-1)\n",
    "        labels = predictions.label_ids\n",
    "\n",
    "        # Подготавливаем списки для эталонных и предсказанных последовательностей\n",
    "        refs, hyps = [], []\n",
    "        for pr, gt in zip(preds, labels):\n",
    "            r_seq, h_seq = [], []\n",
    "            for pi, gi in zip(pr, gt):\n",
    "                if gi == -100:\n",
    "                    continue\n",
    "                r_seq.append(ID2LABEL[gi])\n",
    "                h_seq.append(ID2LABEL[pi])\n",
    "            refs.append(r_seq)\n",
    "            hyps.append(h_seq)\n",
    "\n",
    "        # Преобразуем последовательности в плоский формат для classification_report\n",
    "        flat_refs = []\n",
    "        flat_hyps = []\n",
    "        for r_seq, h_seq in zip(refs, hyps):\n",
    "            flat_refs.extend(r_seq)\n",
    "            flat_hyps.extend(h_seq)\n",
    "\n",
    "        # Выводим подробный отчет о классификации\n",
    "        print(\"\\n[NER] Подробный отчет о классификации:\")\n",
    "        print(classification_report(flat_refs,\n",
    "                                    flat_hyps,\n",
    "                                    digits=4))\n",
    "\n",
    "        # Сохраняем лучшую модель\n",
    "        model_save_path = f'models/pollen_ner_{size}'\n",
    "        os.makedirs(model_save_path, exist_ok=True)\n",
    "        trainer.save_model(model_save_path)\n",
    "        print(f\"[NER] Модель сохранена в {model_save_path}\")\n",
    "\n",
    "        # --- Сохраняем только лучшую и одну финальную модель NER ---\n",
    "        best_f1 = -1\n",
    "        best_model_path = 'models/pollen_ner_best'\n",
    "\n",
    "        if ev['eval_f1'] > best_f1:\n",
    "            best_f1 = ev['eval_f1']\n",
    "            os.makedirs(best_model_path, exist_ok=True)\n",
    "            trainer.save_model(best_model_path)\n",
    "            TOKENIZER.save_pretrained(best_model_path)\n",
    "            print(f\"[NER] Лучшая модель за все итерации сохранена в {best_model_path}\")\n",
    "\n",
    "        # Тестируем модель на примерах после каждой итерации\n",
    "        print(\"\\n[NER] Тестирование модели после обучения:\")\n",
    "        test_model_on_example(model, TOKENIZER, TEST_EXAMPLES[0])\n",
    "\n",
    "        results.append({'size': size, 'f1': ev['eval_f1']})\n",
    "\n",
    "        # Загружаем лучшую модель для следующей итерации\n",
    "        model = get_peft_model(base_model,\n",
    "                               LoraConfig(task_type='TOKEN_CLS',\n",
    "                                          r=16,\n",
    "                                          lora_alpha=32,\n",
    "                                          lora_dropout=0.1))\n",
    "        model.load_adapter(model_save_path, adapter_name=\"default\")\n",
    "        # Перемещаем модель на GPU, если доступен\n",
    "        device = torch.device('cuda' if torch.cuda.is_available() else 'cpu')\n",
    "        model = model.to(device)\n",
    "        print(f\"Модель перемещена на {device}\")\n",
    "\n",
    "        # После каждой итерации выводим статистику распределения классов по train_texts\n",
    "        from collections import Counter\n",
    "        print(f\"\\nСтатистика распределения классов в тренировочном датасете после итерации {i+1}:\")\n",
    "        all_labels = []\n",
    "        for ex in train_texts:\n",
    "            # Для каждого текста можно получить предсказания NER, но если train_texts — это список текстов, то статистика по ним\n",
    "            # Если нужно по меткам, то train_ex содержит 'tags'\n",
    "            pass  # Можно доработать, если нужно по меткам\n",
    "        # Если train_ex доступен, можно посчитать по меткам:\n",
    "        if 'train_ex' in locals():\n",
    "            for ex in train_ex:\n",
    "                for tag in ex.get('tags', []):\n",
    "                    all_labels.append(tag['label'])\n",
    "            print(Counter(all_labels))\n",
    "        else:\n",
    "            print('Нет данных для подсчёта статистики по меткам.')\n",
    "\n",
    "    # Визуализация результатов\n",
    "    plt.figure(figsize=(10, 6))\n",
    "    sns.set_style(\"whitegrid\")\n",
    "    results_df = pd.DataFrame(results)\n",
    "    ax = plt.gca()\n",
    "    sns.lineplot(data=results_df, x='size', y='f1', marker='o', ax=ax)\n",
    "    ax.set_title('Зависимость F1 от размера выборки', pad=20)\n",
    "    ax.set_xlabel('Размер обучающей выборки')\n",
    "    ax.set_ylabel('F1 Score')\n",
    "    # Подпись только у максимального значения F1\n",
    "    max_idx = results_df['f1'].idxmax()\n",
    "    max_x = results_df.loc[max_idx, 'size']\n",
    "    max_y = results_df.loc[max_idx, 'f1']\n",
    "    ax.annotate(f'{max_y:.3f}', (max_x, max_y),\n",
    "                textcoords=\"offset points\",\n",
    "                xytext=(0,10),\n",
    "                ha='center',\n",
    "                color='red',\n",
    "                fontsize=12,\n",
    "                fontweight='bold')\n",
    "    plt.tight_layout()\n",
    "\n",
    "    # Сохраняем график на диск\n",
    "    plt.savefig('learning_curve.png', dpi=300, bbox_inches='tight')\n",
    "\n",
    "    # Выводим график на экран\n",
    "    plt.show()\n",
    "\n",
    "    # Закрываем график после сохранения и отображения\n",
    "    plt.close()\n",
    "\n",
    "    # Сохраняем финальный оставшийся датасет\n",
    "    remaining_df.to_csv('remaining_dataset_final.csv', sep=';')\n",
    "    print(f\"\\nФинальный оставшийся датасет сохранен в remaining_dataset_final.csv\")\n",
    "    print(f\"Размер финального датасета: {len(remaining_df)} сообщений\")\n",
    "\n",
    "    # После цикла обучения NER:\n",
    "    last_ner_model = model  # Сохраняем последнюю обученную NER-модель\n",
    "\n",
    "    # Загружаем последнюю сохранённую модель из директории\n",
    "    last_size = sizes[-1] if start_size is None else sizes[start_index + len(results) - 1]\n",
    "    model_save_path = f'models/pollen_ner_{last_size}'\n",
    "    base_model = AutoModelForTokenClassification.from_pretrained('DeepPavlov/rubert-base-cased',\n",
    "                                                                 id2label=ID2LABEL,\n",
    "                                                                 label2id=LABEL2ID)\n",
    "    last_ner_model = get_peft_model(base_model,\n",
    "                                    LoraConfig(task_type='TOKEN_CLS',\n",
    "                                               r=16,\n",
    "                                               lora_alpha=32,\n",
    "                                               lora_dropout=0.1))\n",
    "    last_ner_model.load_adapter(model_save_path,\n",
    "                                adapter_name=\"default\")\n",
    "    device = torch.device('cuda' if torch.cuda.is_available() else 'cpu')\n",
    "    last_ner_model = last_ner_model.to(device)\n",
    "    return last_ner_model\n",
    "\n",
    "def calculate_text_diversity(texts, n_clusters=5):\n",
    "    \"\"\"\n",
    "    Рассчитывает разнообразие текстов с помощью кластеризации TF-IDF.\n",
    "\n",
    "    Параметры:\n",
    "    - texts: список текстов\n",
    "    - n_clusters: количество кластеров для кластеризации\n",
    "\n",
    "    Возвращает:\n",
    "    - оценку разнообразия текстов (0-1)\n",
    "    \"\"\"\n",
    "    with parallel_backend('loky', n_jobs=n_jobs):\n",
    "        # Векторизация текстов\n",
    "        vectorizer = TfidfVectorizer(max_features=1000)\n",
    "        tfidf_matrix = vectorizer.fit_transform(texts)\n",
    "\n",
    "        # Кластеризация текстов\n",
    "        kmeans = KMeans(\n",
    "            n_clusters=min(n_clusters, len(texts)),\n",
    "            random_state=42\n",
    "        )\n",
    "        clusters = kmeans.fit_predict(tfidf_matrix)\n",
    "\n",
    "        # Анализ распределения текстов по кластерам\n",
    "        cluster_counts = Counter(clusters)\n",
    "\n",
    "        # Нормализация счетчиков для получения оценки разнообразия\n",
    "        total = len(texts)\n",
    "        diversity_scores = [1 - (count/total) for count in cluster_counts.values()]\n",
    "\n",
    "        return np.mean(diversity_scores)\n",
    "\n",
    "def calculate_class_distribution(texts, tokenizer, model):\n",
    "    \"\"\"\n",
    "    Рассчитывает распределение классов в наборе текстов.\n",
    "\n",
    "    Параметры:\n",
    "    - texts: список текстов\n",
    "    - tokenizer: токенизатор\n",
    "    - model: модель для предсказаний\n",
    "\n",
    "    Возвращает:\n",
    "    - словарь с распределением классов\n",
    "    \"\"\"\n",
    "    class_counts = Counter()\n",
    "    total_tokens = 0\n",
    "\n",
    "    for text in texts:\n",
    "        inputs = tokenizer(text, return_tensors=\"pt\", truncation=True, max_length=512)\n",
    "        inputs = {k: v.to(next(model.parameters()).device) for k, v in inputs.items()}\n",
    "\n",
    "        with torch.no_grad():\n",
    "            outputs = model(**inputs)\n",
    "            predictions = outputs.logits.argmax(-1)[0]\n",
    "\n",
    "        for pred in predictions:\n",
    "            label = ID2LABEL[pred.item()]\n",
    "            if label != 'O':\n",
    "                class_counts[label.split('-')[1]] += 1\n",
    "                total_tokens += 1\n",
    "\n",
    "    return {k: v/total_tokens for k, v in class_counts.items()} if total_tokens > 0 else {}\n",
    "\n",
    "def calculate_class_balance_score(class_distribution):\n",
    "    \"\"\"\n",
    "    Рассчитывает оценку баланса классов.\n",
    "\n",
    "    Параметры:\n",
    "    - class_distribution: распределение классов\n",
    "\n",
    "    Возвращает:\n",
    "    - оценку баланса (0-1)\n",
    "    \"\"\"\n",
    "    if not class_distribution:\n",
    "        return 0\n",
    "\n",
    "    # Расчет энтропии распределения\n",
    "    probs = list(class_distribution.values())\n",
    "    entropy = -sum(p * np.log(p) for p in probs)\n",
    "\n",
    "    # Нормализация энтропии\n",
    "    max_entropy = np.log(len(LABELS))\n",
    "    return entropy / max_entropy if max_entropy > 0 else 0\n",
    "\n",
    "def select_samples_improved(model,\n",
    "                            texts,\n",
    "                            tokenizer,\n",
    "                            n_samples=50,\n",
    "                            remaining_texts=None,\n",
    "                            current_iteration=0):\n",
    "    \"\"\"\n",
    "    Улучшенная стратегия отбора сообщений для активного обучения.\n",
    "    Учитывает неопределенность модели, разнообразие текстов и баланс классов.\n",
    "\n",
    "    Параметры:\n",
    "    - model: текущая модель\n",
    "    - texts: список текстов для отбора\n",
    "    - tokenizer: токенизатор\n",
    "    - n_samples: количество сообщений для отбора\n",
    "    - remaining_texts: оставшиеся тексты для учета разнообразия\n",
    "    - current_iteration: текущая итерация обучения\n",
    "\n",
    "    Возвращает:\n",
    "    - индексы отобранных сообщений\n",
    "    \"\"\"\n",
    "    # Веса для метрик\n",
    "    weights = {\n",
    "        'uncertainty': 0.5,      # Неопределенность модели\n",
    "        'text_diversity': 0.2,   # Разнообразие текстов\n",
    "        'class_balance': 0.3     # Баланс классов\n",
    "    }\n",
    "\n",
    "    # Получаем оценки неопределенности\n",
    "    uncertainties = calculate_uncertainty_scores(model, texts, tokenizer)\n",
    "\n",
    "    # Рассчитываем разнообразие текстов\n",
    "    n_clusters = min(5, max(2, len(texts) // 10))\n",
    "    if remaining_texts:\n",
    "        text_diversity = calculate_text_diversity(texts + remaining_texts, n_clusters=n_clusters)\n",
    "    else:\n",
    "        text_diversity = calculate_text_diversity(texts, n_clusters=n_clusters)\n",
    "\n",
    "    # Рассчитываем текущее распределение классов\n",
    "    current_distribution = calculate_class_distribution(texts, tokenizer, model)\n",
    "    class_balance = calculate_class_balance_score(current_distribution)\n",
    "\n",
    "    # Нормализация неопределенности\n",
    "    uncertainties = np.array(uncertainties)\n",
    "    uncertainties = (uncertainties - uncertainties.min()) / (uncertainties.max() - uncertainties.min() + 1e-10)\n",
    "\n",
    "    # Комбинирование метрик с весами\n",
    "    combined_scores = (\n",
    "        weights['uncertainty'] * uncertainties +\n",
    "        weights['text_diversity'] * text_diversity +\n",
    "        weights['class_balance'] * class_balance\n",
    "    )\n",
    "\n",
    "    # Выбор сообщений с наивысшими комбинированными оценками\n",
    "    selected_indices = np.argsort(combined_scores)[-n_samples:]\n",
    "\n",
    "    # Вывод подробной статистики\n",
    "    print(\"\\nСтатистика отобранных сообщений:\")\n",
    "    print(f\"Итерация: {current_iteration}\")\n",
    "    print(f\"Веса метрик:\")\n",
    "    for metric, weight in weights.items():\n",
    "        print(f\"- {metric}: {weight:.3f}\")\n",
    "    print(f\"Средняя неопределенность: {np.mean(uncertainties[selected_indices]):.4f}\")\n",
    "    print(f\"Разнообразие текстов: {text_diversity:.4f}\")\n",
    "    print(f\"Баланс классов: {class_balance:.4f}\")\n",
    "    print(\"\\nРаспределение классов:\")\n",
    "    for label, prob in current_distribution.items():\n",
    "        print(f\"- {label}: {prob:.3f}\")\n",
    "\n",
    "    return selected_indices\n",
    "\n",
    "def parse_labelstudio_json(json_path):\n",
    "    \"\"\"\n",
    "    Извлекает сущности и отношения из разметки Label Studio (JSON).\n",
    "    Поддерживает только отношения из RE_RELATION_LABELS.\n",
    "    Пропускает примеры без сущностей или с одной сущностью.\n",
    "\n",
    "    Важно: для RE критично, чтобы id в отношениях (from_id, to_id) совпадали с id сущностей.\n",
    "    Также важно учитывать направленность отношений (from_id -> to_id).\n",
    "    \"\"\"\n",
    "    results = []\n",
    "    with open(json_path, 'r', encoding='utf-8') as f:\n",
    "        data = json.load(f)\n",
    "    for item in data:\n",
    "        text = item['data']['text']\n",
    "        ann = item['annotations'][0]['result'] if item['annotations'] and 'result' in item['annotations'][0] else []\n",
    "        entities = []\n",
    "        relations = []\n",
    "        for obj in ann:\n",
    "            if obj.get('type') == 'labels':\n",
    "                ent = {\n",
    "                    'id': obj['id'],\n",
    "                    'start': obj['value']['start'],\n",
    "                    'end': obj['value']['end'],\n",
    "                    'label': obj['value']['labels'][0],\n",
    "                    'text': obj['value']['text']\n",
    "                }\n",
    "                entities.append(ent)\n",
    "        for obj in ann:\n",
    "            if obj.get('type') == 'relation':\n",
    "                if 'labels' in obj:\n",
    "                    rel_label = obj['labels'][0]\n",
    "                elif 'label' in obj:\n",
    "                    rel_label = obj['label']\n",
    "                else:\n",
    "                    rel_label = 'unknown_relation'\n",
    "                if rel_label in RE_RELATION_LABELS:\n",
    "                    rel = {\n",
    "                        'from_id': obj['from_id'],\n",
    "                        'to_id': obj['to_id'],\n",
    "                        'label': rel_label\n",
    "                    }\n",
    "                    relations.append(rel)\n",
    "        # Пропускаем примеры без сущностей или с одной сущностью\n",
    "        if len(entities) < 2:\n",
    "            continue\n",
    "        results.append({'text': text, 'entities': entities, 'relations': relations})\n",
    "    return results\n",
    "\n",
    "def split_sentences(text):\n",
    "    \"\"\"\n",
    "    Разбивает текст на предложения по точкам, восклицательным и вопросительным знакам.\n",
    "    Можно заменить на более продвинутый токенизатор (например, nltk), если потребуется.\n",
    "    \"\"\"\n",
    "    return [s.strip() for s in re.split(r'[.!?]', text) if s.strip()]\n",
    "\n",
    "def prepare_re_dataset(parsed_data,\n",
    "                       relation_labels=None,\n",
    "                       max_no_relation_ratio=3,\n",
    "                       oversample_medicine=False):\n",
    "    \"\"\"\n",
    "    Формирует датасет для обучения модели извлечения отношений (RE) с балансировкой класса 'no_relation'.\n",
    "    Использует только отношения из RE_RELATION_LABELS.\n",
    "    Пропускает примеры с одной сущностью.\n",
    "    max_no_relation_ratio: максимальное соотношение 'no_relation' к числу позитивных примеров (например, 3:1).\n",
    "    Теперь пары формируются только между сущностями, находящимися в одном предложении.\n",
    "    oversample_medicine: если True, увеличивает число примеров has_medicine до числа has_symptom (дублированием)\n",
    "    \"\"\"\n",
    "    if relation_labels is None:\n",
    "        relation_labels = RE_RELATION_LABELS.copy()\n",
    "    relation_labels = relation_labels + ['no_relation']\n",
    "\n",
    "    re_examples = []\n",
    "    for item in parsed_data:\n",
    "        text = item['text']\n",
    "        entities = item['entities']\n",
    "        relations = item['relations']\n",
    "        if len(entities) < 2:\n",
    "            continue\n",
    "        # Разбиваем текст на предложения\n",
    "        sentences = split_sentences(text)\n",
    "        # Для каждого предложения ищем сущности, которые в него попадают\n",
    "        for sent in sentences:\n",
    "            sent_start = text.find(sent)\n",
    "            sent_end = sent_start + len(sent)\n",
    "            ents_in_sent = [e for e in entities if e['start'] >= sent_start and e['end'] <= sent_end]\n",
    "            # Генерируем пары только внутри предложения\n",
    "            positive, negative = [], []\n",
    "            for i, ent1 in enumerate(ents_in_sent):\n",
    "                for j, ent2 in enumerate(ents_in_sent):\n",
    "                    if i == j:\n",
    "                        continue\n",
    "                    # Фильтруем только осмысленные пары:\n",
    "                    # BODY_PART–SYMPTOM (has_symptom) и BODY_PART–MEDICINE (has_medicine)\n",
    "                    if ent1['label'] == 'BODY_PART' and ent2['label'] == 'SYMPTOM':\n",
    "                        rel_label = None\n",
    "                        for rel in relations:\n",
    "                            if rel['from_id'] == ent1['id'] and rel['to_id'] == ent2['id']:\n",
    "                                rel_label = rel['label']\n",
    "                                break\n",
    "                        rel_label = rel_label if rel_label in relation_labels else 'no_relation'\n",
    "                        ex = {\n",
    "                            'text': text,\n",
    "                            'entity1': ent1,\n",
    "                            'entity2': ent2,\n",
    "                            'relation': rel_label\n",
    "                        }\n",
    "                        if ex['relation'] == 'no_relation':\n",
    "                            negative.append(ex)\n",
    "                        else:\n",
    "                            positive.append(ex)\n",
    "                    elif ent1['label'] == 'BODY_PART' and ent2['label'] == 'MEDICINE':\n",
    "                        rel_label = None\n",
    "                        for rel in relations:\n",
    "                            if rel['from_id'] == ent1['id'] and rel['to_id'] == ent2['id']:\n",
    "                                rel_label = rel['label']\n",
    "                                break\n",
    "                        rel_label = rel_label if rel_label in relation_labels else 'no_relation'\n",
    "                        ex = {\n",
    "                            'text': text,\n",
    "                            'entity1': ent1,\n",
    "                            'entity2': ent2,\n",
    "                            'relation': rel_label\n",
    "                        }\n",
    "                        if ex['relation'] == 'no_relation':\n",
    "                            negative.append(ex)\n",
    "                        else:\n",
    "                            positive.append(ex)\n",
    "            # Балансируем: не больше max_no_relation_ratio * positive\n",
    "            if max_no_relation_ratio is not None and positive:\n",
    "                negative = random.sample(negative,\n",
    "                                         min(len(negative),\n",
    "                                             max_no_relation_ratio * len(positive)))\n",
    "            # --- Oversample has_medicine ---\n",
    "            if oversample_medicine:\n",
    "                medicine_pos = [ex for ex in positive if ex['relation'] == 'has_medicine']\n",
    "                symptom_count = len([ex for ex in positive if ex['relation'] == 'has_symptom'])\n",
    "                if medicine_pos and symptom_count > 0:\n",
    "                    repeats = max(1, symptom_count // len(medicine_pos))\n",
    "                    positive += medicine_pos * (repeats - 1)\n",
    "            re_examples.extend(positive + negative)\n",
    "    return re_examples, relation_labels\n",
    "\n",
    "def insert_entity_markers(text, ent1, ent2):\n",
    "    \"\"\"\n",
    "    Вставляет специальные маркеры вокруг двух сущностей с указанием их типа.\n",
    "    Теперь маркеры имеют вид [TYPE]...[/TYPE], где TYPE — тип сущности (например, BODY_PART, SYMPTOM).\n",
    "    Это помогает RE-модели лучше различать роли сущностей в паре.\n",
    "    \"\"\"\n",
    "    # Определяем порядок: сначала более ранняя сущность\n",
    "    if ent1['start'] < ent2['start']:\n",
    "        first, second = ent1, ent2\n",
    "    else:\n",
    "        first, second = ent2, ent1\n",
    "    # Формируем маркеры с типом сущности\n",
    "    first_tag = f'[{first[\"label\"]}]'\n",
    "    first_end_tag = f'[/{first[\"label\"]}]'\n",
    "    second_tag = f'[{second[\"label\"]}]'\n",
    "    second_end_tag = f'[/{second[\"label\"]}]'\n",
    "    # Вставляем маркеры с конца, чтобы не сбить индексы\n",
    "    text_marked = (\n",
    "        text[:second['start']] + second_tag +\n",
    "        text[second['start']:second['end']] + second_end_tag +\n",
    "        text[second['end']:] )\n",
    "    text_marked = (\n",
    "        text_marked[:first['start']] + first_tag +\n",
    "        text_marked[first['start']:first['end']] + first_end_tag +\n",
    "        text_marked[first['end']:] )\n",
    "    return text_marked\n",
    "\n",
    "def prepare_hf_re_dataset(re_examples, tokenizer, label2id, max_length=256):\n",
    "    \"\"\"\n",
    "    Преобразует список примеров RE в HuggingFace Dataset.\n",
    "    Теперь не добавляет признак distance, так как он не используется стандартной моделью.\n",
    "    Пропускает примеры с relation == 'unknown_relation'.\n",
    "    Пропускает пустые примеры.\n",
    "    \"\"\"\n",
    "    rows = []\n",
    "    for ex in re_examples:\n",
    "        if ex['relation'] == 'unknown_relation':\n",
    "            continue\n",
    "        if not ex['entity1']['text'].strip() or not ex['entity2']['text'].strip():\n",
    "            continue\n",
    "        text_marked = insert_entity_markers(ex['text'], ex['entity1'], ex['entity2'])\n",
    "        rows.append({\n",
    "            'text': text_marked,\n",
    "            'label': label2id[ex['relation']]\n",
    "        })\n",
    "    if not rows:\n",
    "        raise ValueError('Нет валидных примеров для RE!')\n",
    "    df = pd.DataFrame(rows)\n",
    "    def tokenize_fn(ex):\n",
    "        return tokenizer(\n",
    "            ex['text'],\n",
    "            truncation=True,\n",
    "            padding='max_length',\n",
    "            max_length=max_length\n",
    "        )\n",
    "    ds = Dataset.from_pandas(df)\n",
    "    ds = ds.map(tokenize_fn, batched=False)\n",
    "    return ds\n",
    "\n",
    "def train_and_eval_re_model(train_ds,\n",
    "                            test_ds,\n",
    "                            num_labels,\n",
    "                            label2id,\n",
    "                            id2label,\n",
    "                            tokenizer,\n",
    "                            hf_token=None,\n",
    "                            output_dir='re_model',\n",
    "                            epochs=5):\n",
    "    \"\"\"\n",
    "    Обучает и оценивает модель для извлечения отношений (RE) на основе BERT.\n",
    "\n",
    "    Параметры:\n",
    "        train_ds: HuggingFace Dataset для обучения\n",
    "        test_ds: HuggingFace Dataset для теста\n",
    "        num_labels: число классов (отношений)\n",
    "        label2id, id2label: словари метка<->id\n",
    "        tokenizer: токенизатор\n",
    "        hf_token: токен для HuggingFace Hub (если нужен пуш)\n",
    "        output_dir: директория для сохранения модели\n",
    "        epochs: число эпох обучения\n",
    "\n",
    "    Возвращает:\n",
    "        trainer, eval_results: Trainer и результаты оценки\n",
    "    \"\"\"\n",
    "    # Загружаем базовую модель (ruBERT)\n",
    "    model = AutoModelForSequenceClassification.from_pretrained(\n",
    "        'DeepPavlov/rubert-base-cased',\n",
    "        num_labels=num_labels,\n",
    "        id2label=id2label,\n",
    "        label2id=label2id\n",
    "    )\n",
    "    # Аргументы тренировки для RE\n",
    "    timestamp = time.strftime(\"%Y%m%d_%H%M%S\")\n",
    "    run_name = f\"pollen_re_{timestamp}\"\n",
    "\n",
    "    args = TrainingArguments(\n",
    "        output_dir=output_dir,\n",
    "        run_name=run_name,  # Уникальное имя для каждого запуска\n",
    "        per_device_train_batch_size=8,\n",
    "        per_device_eval_batch_size=8,\n",
    "        num_train_epochs=5,\n",
    "        load_best_model_at_end=True,\n",
    "        metric_for_best_model='eval_f1',\n",
    "        greater_is_better=True,\n",
    "        eval_strategy='epoch',\n",
    "        save_strategy='epoch',\n",
    "        save_total_limit=2,\n",
    "        push_to_hub=bool(hf_token),\n",
    "        hub_model_id='pollen-re-model',\n",
    "        hub_token=hf_token,\n",
    "        no_cuda=not torch.cuda.is_available(),\n",
    "        weight_decay=0.01  # L2-регуляризация для RE\n",
    "    )\n",
    "    # Метрика\n",
    "    metric = evaluate.load('f1')\n",
    "    def compute_metrics_re(p):\n",
    "        preds = np.argmax(p.predictions, axis=1)\n",
    "        return metric.compute(predictions=preds,\n",
    "                              references=p.label_ids,\n",
    "                              average='macro')\n",
    "    # Trainer с EarlyStopping для RE\n",
    "    from transformers import EarlyStoppingCallback\n",
    "    trainer = Trainer(\n",
    "        model=model,\n",
    "        args=args,\n",
    "        train_dataset=train_ds,\n",
    "        eval_dataset=test_ds,\n",
    "        tokenizer=tokenizer,\n",
    "        compute_metrics=compute_metrics_re,\n",
    "        callbacks=[EarlyStoppingCallback(early_stopping_patience=2)]\n",
    "    )\n",
    "    # Обучение\n",
    "    trainer.train()\n",
    "    # Оценка\n",
    "    eval_results = trainer.evaluate()\n",
    "    print(f\"\\nRE-модель: Macro F1 = {eval_results['eval_f1']:.4f}\")\n",
    "    # Сохраняем модель\n",
    "    os.makedirs(output_dir, exist_ok=True)\n",
    "    trainer.save_model(output_dir)\n",
    "    print(f\"RE-модель сохранена в {output_dir}\")\n",
    "    return trainer, eval_results\n",
    "\n",
    "def infer_ner_re_on_text(text,\n",
    "                         ner_model,\n",
    "                         re_model,\n",
    "                         tokenizer,\n",
    "                         id2label_ner,\n",
    "                         id2label_re):\n",
    "    \"\"\"\n",
    "    Извлекает сущности и отношения из текста с помощью обученных моделей NER и RE.\n",
    "    Возвращает список сущностей и отношений.\n",
    "    Теперь перебирает только допустимые пары (BODY_PART–SYMPTOM и BODY_PART–MEDICINE) и только внутри одного предложения.\n",
    "    \"\"\"\n",
    "    # 1. Извлекаем сущности\n",
    "    entities = predict_entities(text, ner_model,\n",
    "                                tokenizer,\n",
    "                                id2label_ner)\n",
    "    # 2. Разбиваем текст на предложения\n",
    "    sentences = split_sentences(text)\n",
    "    relations = []\n",
    "    for sent in sentences:\n",
    "        sent_start = text.find(sent)\n",
    "        sent_end = sent_start + len(sent)\n",
    "        ents_in_sent = [e for e in entities if e['start'] >= sent_start and e['end'] <= sent_end]\n",
    "        # 3. Перебираем только допустимые пары внутри предложения\n",
    "        for ent1 in ents_in_sent:\n",
    "            for ent2 in ents_in_sent:\n",
    "                if ent1 == ent2:\n",
    "                    continue\n",
    "                # Только BODY_PART–SYMPTOM и BODY_PART–MEDICINE\n",
    "                if ent1['label'] == 'BODY_PART' and ent2['label'] == 'SYMPTOM':\n",
    "                    marked_text = insert_entity_markers(text, ent1, ent2)\n",
    "                    inputs = tokenizer(marked_text,\n",
    "                                       return_tensors='pt',\n",
    "                                       truncation=True,\n",
    "                                       max_length=256)\n",
    "                    inputs = {k: v.to(next(re_model.parameters()).device) for k, v in inputs.items()}\n",
    "                    with torch.no_grad():\n",
    "                        logits = re_model(**inputs).logits\n",
    "                        pred = logits.argmax(-1).item()\n",
    "                        rel_label = id2label_re[pred]\n",
    "                    if rel_label != 'no_relation':\n",
    "                        relations.append({'head': ent1,\n",
    "                                          'tail': ent2,\n",
    "                                          'relation': rel_label})\n",
    "                elif ent1['label'] == 'BODY_PART' and ent2['label'] == 'MEDICINE':\n",
    "                    marked_text = insert_entity_markers(text, ent1, ent2)\n",
    "                    inputs = tokenizer(marked_text,\n",
    "                                       return_tensors='pt',\n",
    "                                       truncation=True,\n",
    "                                       max_length=256)\n",
    "                    inputs = {k: v.to(next(re_model.parameters()).device) for k, v in inputs.items()}\n",
    "                    with torch.no_grad():\n",
    "                        logits = re_model(**inputs).logits\n",
    "                        pred = logits.argmax(-1).item()\n",
    "                        rel_label = id2label_re[pred]\n",
    "                    if rel_label != 'no_relation':\n",
    "                        relations.append({'head': ent1, 'tail': ent2, 'relation': rel_label})\n",
    "    return entities, relations"
   ]
  },
  {
   "cell_type": "markdown",
   "metadata": {
    "id": "rC07XiJqwxsI"
   },
   "source": [
    "## Запуск пайплайна"
   ]
  },
  {
   "cell_type": "code",
   "execution_count": 17,
   "metadata": {
    "colab": {
     "referenced_widgets": [
      "02e8f391af0840bfa4b91c67ccccc26d",
      "8c3be57727c4488eaef0ed20ca992223",
      "5e38ee2aa5fd4e2e9eaf4dbc217ef36e",
      "b4e7409dedab44009fc499fef5e8225a",
      "2b6b7931dfb34a2bb75fdf2a16ae7bce",
      "8b2debe2397f4a1fa2ebc08e1382c7b5",
      "cc766c1f11684d529103dd543052f857",
      "4ae82eaeb1fb429eb76e4a271c4aa826",
      "0ddec7ecc42f487ab1b14ff2024aec1a",
      "17dfdb822eab45cda405d63cddb832f6",
      "fc69fd6e2ad34795a477eb026bd60db6",
      "2c255f175fee4e348bef52f0c349672b",
      "7877df69b9844b1da4712e7c51f1d0e8",
      "a7d4b586c05d4ca38e43db9e773cc7a6",
      "b9fcf6d3b58c4179bd825016ef760455",
      "958a1af987c042f99903938a0cce10bb",
      "2b7007a54fa5453bbe1a9c4e84b5fe66",
      "2bbeab8b5db144c3b324f2e631f01dc4",
      "73ced4c5fe094a10a84bfd9cbf5dd4db",
      "51df127576174a228c6608d9736547ef",
      "8cb7acba16214dbcb582c94757698ea2",
      "c0cde6b7ca0e496ba4300f4773cd18a4",
      "f1587d9d0f324d4d88e770bb08ea5698",
      "9aa2970bd6d044629cd96d137dd02167",
      "51c2c2d4a375459d841643eca087bf13",
      "961cd81f23574200982195e954fb803e",
      "8b5644da55e346e88c6e8aee3b3cd8f2",
      "90796c4afe734738b635ccad8bb3701e",
      "5ec8ad785441485eaf358ae3c61ac33d",
      "178ceca309fb4f329a4a4821c8ebcd2b",
      "ebf39451fd1f446bb9e23624f4bcde60",
      "69a2ffebedb14d4f94ca5238e379a550",
      "63f9378721db43b6922e2881cf793bae"
     ]
    },
    "id": "5ImiWGcivFd7",
    "outputId": "2725df0b-0cfc-4722-916a-03111d8fbf26"
   },
   "outputs": [
    {
     "name": "stdout",
     "output_type": "stream",
     "text": [
      "\n",
      "=== Начинаем обучение NER-модели ===\n",
      "Загружен исходный датасет размером 4143 сообщений\n",
      "Первые 5 строк исходного датасета:\n",
      "                                                text\n",
      "0             Утром проснулась с отекшими глазами)))\n",
      "1  Открывала окна без спандбонда, нормально, ниче...\n",
      "2  Пока изменений в худшую сторону нет. Каникулы,...\n",
      "3  Я сегодня еле разодрала глаза и до сих сдуться...\n",
      "4  Я тоже сегодня опухшая, надутая, глаза дерет, ...\n",
      "\n",
      "Тестовый проект уже существует, загружаем данные\n"
     ]
    },
    {
     "data": {
      "application/vnd.jupyter.widget-view+json": {
       "model_id": "81cd050b0110405ca562ad8797494ba6",
       "version_major": 2,
       "version_minor": 0
      },
      "text/plain": [
       "Map:   0%|          | 0/100 [00:00<?, ? examples/s]"
      ]
     },
     "metadata": {},
     "output_type": "display_data"
    },
    {
     "name": "stdout",
     "output_type": "stream",
     "text": [
      "Размер оставшегося датасета: 4043\n"
     ]
    },
    {
     "name": "stderr",
     "output_type": "stream",
     "text": [
      "Some weights of BertForTokenClassification were not initialized from the model checkpoint at DeepPavlov/rubert-base-cased and are newly initialized: ['classifier.bias', 'classifier.weight']\n",
      "You should probably TRAIN this model on a down-stream task to be able to use it for predictions and inference.\n"
     ]
    },
    {
     "name": "stdout",
     "output_type": "stream",
     "text": [
      "Модель перемещена на cuda\n",
      "\n",
      "[NER] Начинаем итерацию с размером выборки 50\n",
      "Найден существующий размеченный проект для размера 50\n",
      "После итерации 1 осталось 3993 сообщений\n"
     ]
    },
    {
     "data": {
      "application/vnd.jupyter.widget-view+json": {
       "model_id": "7f1be2814aea47abb3ed7ae8d248ec0e",
       "version_major": 2,
       "version_minor": 0
      },
      "text/plain": [
       "Map:   0%|          | 0/50 [00:00<?, ? examples/s]"
      ]
     },
     "metadata": {},
     "output_type": "display_data"
    },
    {
     "name": "stderr",
     "output_type": "stream",
     "text": [
      "No label_names provided for model class `PeftModelForTokenClassification`. Since `PeftModel` hides base models input arguments, if label_names is not given, label_names can't be set automatically within `Trainer`. Note that empty label_names list will be used instead.\n"
     ]
    },
    {
     "name": "stdout",
     "output_type": "stream",
     "text": [
      "[NER] Обучение на 50 примерах\n"
     ]
    },
    {
     "data": {
      "text/html": [
       "\n",
       "    <div>\n",
       "      \n",
       "      <progress value='21' max='70' style='width:300px; height:20px; vertical-align: middle;'></progress>\n",
       "      [21/70 00:18 < 00:47, 1.02 it/s, Epoch 3/10]\n",
       "    </div>\n",
       "    <table border=\"1\" class=\"dataframe\">\n",
       "  <thead>\n",
       " <tr style=\"text-align: left;\">\n",
       "      <th>Epoch</th>\n",
       "      <th>Training Loss</th>\n",
       "      <th>Validation Loss</th>\n",
       "      <th>Precision</th>\n",
       "      <th>Recall</th>\n",
       "      <th>F1</th>\n",
       "    </tr>\n",
       "  </thead>\n",
       "  <tbody>\n",
       "    <tr>\n",
       "      <td>1</td>\n",
       "      <td>No log</td>\n",
       "      <td>2.326650</td>\n",
       "      <td>0.010435</td>\n",
       "      <td>0.048193</td>\n",
       "      <td>0.017155</td>\n",
       "    </tr>\n",
       "    <tr>\n",
       "      <td>2</td>\n",
       "      <td>No log</td>\n",
       "      <td>2.205613</td>\n",
       "      <td>0.008381</td>\n",
       "      <td>0.032129</td>\n",
       "      <td>0.013295</td>\n",
       "    </tr>\n",
       "    <tr>\n",
       "      <td>3</td>\n",
       "      <td>No log</td>\n",
       "      <td>2.086585</td>\n",
       "      <td>0.008000</td>\n",
       "      <td>0.022088</td>\n",
       "      <td>0.011746</td>\n",
       "    </tr>\n",
       "  </tbody>\n",
       "</table><p>"
      ],
      "text/plain": [
       "<IPython.core.display.HTML object>"
      ]
     },
     "metadata": {},
     "output_type": "display_data"
    },
    {
     "data": {
      "text/html": [],
      "text/plain": [
       "<IPython.core.display.HTML object>"
      ]
     },
     "metadata": {},
     "output_type": "display_data"
    },
    {
     "name": "stdout",
     "output_type": "stream",
     "text": [
      "[NER] Результаты: F1 = 0.0172\n",
      "\n",
      "[NER] Подробный отчет о классификации:\n",
      "              precision    recall  f1-score   support\n",
      "\n",
      "  B-ALLERGEN     0.0199    0.1594    0.0354        69\n",
      " B-BODY_PART     0.0362    0.1039    0.0537        77\n",
      "  B-MEDICINE     0.0714    0.0784    0.0748        51\n",
      "   B-SYMPTOM     0.0508    0.0891    0.0647       101\n",
      "   B-TOPONYM     0.0227    0.0357    0.0278       196\n",
      "  I-ALLERGEN     0.0114    0.1000    0.0205        80\n",
      " I-BODY_PART     0.0000    0.0000    0.0000        17\n",
      "  I-MEDICINE     0.0641    0.2619    0.1030        84\n",
      "   I-SYMPTOM     0.0121    0.0164    0.0139       122\n",
      "   I-TOPONYM     0.0383    0.2045    0.0645        44\n",
      "           O     0.7521    0.1701    0.2775      2604\n",
      "\n",
      "    accuracy                         0.1518      3445\n",
      "   macro avg     0.0981    0.1109    0.0669      3445\n",
      "weighted avg     0.5763    0.1518    0.2205      3445\n",
      "\n",
      "[NER] Модель сохранена в models/pollen_ner_50\n"
     ]
    },
    {
     "name": "stderr",
     "output_type": "stream",
     "text": [
      "No files have been modified since last commit. Skipping to prevent empty commit.\n"
     ]
    },
    {
     "name": "stdout",
     "output_type": "stream",
     "text": [
      "[NER] Лучшая модель за все итерации сохранена в models/pollen_ner_best\n",
      "\n",
      "[NER] Тестирование модели после обучения:\n",
      "\n",
      "Тестовый пример:\n",
      "Текст: В Московской области у меня началась аллергия на пыльцу березы, потекли глаза, нос, принимаю Зиртек и Назонекс. У ребенка в Новокузнецке чешутся глаза, уши и течет нос, врач прописал Кромогексал, Назонекс в нос. В Санкт-Петербурге началось цветение ольхи, сильная реакция, принимаю Эриус, но глаза все равно слезятся.\n",
      "\n",
      "[NER] Результаты анализа:\n",
      "TOPONYM: ,, аю, Наз\n",
      "MEDICINE: Зиртек, но\n",
      "SYMPTOM: началась, ., ., сильная, .\n",
      "ALLERGEN: меня, ия, цу, приним, оне, цвете, принимаю\n",
      "BODY_PART: Наз\n",
      "Модель перемещена на cuda\n",
      "\n",
      "Статистика распределения классов в тренировочном датасете после итерации 1:\n",
      "Counter({'SYMPTOM': 52, 'TOPONYM': 50, 'BODY_PART': 33, 'ALLERGEN': 32, 'MEDICINE': 29})\n",
      "\n",
      "[NER] Начинаем итерацию с размером выборки 100\n"
     ]
    },
    {
     "name": "stderr",
     "output_type": "stream",
     "text": [
      "C:\\Users\\ivanm\\anaconda3\\envs\\project\\Lib\\site-packages\\peft\\mapping_func.py:73: UserWarning: You are trying to modify a model with PEFT for a second time. If you want to reload the model with a different config, make sure to call `.unload()` before.\n",
      "  warnings.warn(\n",
      "C:\\Users\\ivanm\\anaconda3\\envs\\project\\Lib\\site-packages\\peft\\tuners\\tuners_utils.py:167: UserWarning: Already found a `peft_config` attribute in the model. This will lead to having multiple adapters in the model. Make sure to know what you are doing!\n",
      "  warnings.warn(\n"
     ]
    },
    {
     "name": "stdout",
     "output_type": "stream",
     "text": [
      "Найден существующий размеченный проект для размера 100\n",
      "После итерации 2 осталось 3943 сообщений\n"
     ]
    },
    {
     "data": {
      "application/vnd.jupyter.widget-view+json": {
       "model_id": "b6c913c1f83a4336aa055c5a8e73c188",
       "version_major": 2,
       "version_minor": 0
      },
      "text/plain": [
       "Map:   0%|          | 0/100 [00:00<?, ? examples/s]"
      ]
     },
     "metadata": {},
     "output_type": "display_data"
    },
    {
     "name": "stderr",
     "output_type": "stream",
     "text": [
      "No label_names provided for model class `PeftModelForTokenClassification`. Since `PeftModel` hides base models input arguments, if label_names is not given, label_names can't be set automatically within `Trainer`. Note that empty label_names list will be used instead.\n"
     ]
    },
    {
     "name": "stdout",
     "output_type": "stream",
     "text": [
      "[NER] Обучение на 100 примерах\n"
     ]
    },
    {
     "data": {
      "text/html": [
       "\n",
       "    <div>\n",
       "      \n",
       "      <progress value='39' max='130' style='width:300px; height:20px; vertical-align: middle;'></progress>\n",
       "      [ 39/130 00:27 < 01:08, 1.33 it/s, Epoch 3/10]\n",
       "    </div>\n",
       "    <table border=\"1\" class=\"dataframe\">\n",
       "  <thead>\n",
       " <tr style=\"text-align: left;\">\n",
       "      <th>Epoch</th>\n",
       "      <th>Training Loss</th>\n",
       "      <th>Validation Loss</th>\n",
       "      <th>Precision</th>\n",
       "      <th>Recall</th>\n",
       "      <th>F1</th>\n",
       "    </tr>\n",
       "  </thead>\n",
       "  <tbody>\n",
       "    <tr>\n",
       "      <td>1</td>\n",
       "      <td>No log</td>\n",
       "      <td>2.079891</td>\n",
       "      <td>0.008166</td>\n",
       "      <td>0.022088</td>\n",
       "      <td>0.011924</td>\n",
       "    </tr>\n",
       "    <tr>\n",
       "      <td>2</td>\n",
       "      <td>No log</td>\n",
       "      <td>1.817392</td>\n",
       "      <td>0.007874</td>\n",
       "      <td>0.006024</td>\n",
       "      <td>0.006826</td>\n",
       "    </tr>\n",
       "    <tr>\n",
       "      <td>3</td>\n",
       "      <td>No log</td>\n",
       "      <td>1.562923</td>\n",
       "      <td>0.000000</td>\n",
       "      <td>0.000000</td>\n",
       "      <td>0.000000</td>\n",
       "    </tr>\n",
       "  </tbody>\n",
       "</table><p>"
      ],
      "text/plain": [
       "<IPython.core.display.HTML object>"
      ]
     },
     "metadata": {},
     "output_type": "display_data"
    },
    {
     "data": {
      "text/html": [],
      "text/plain": [
       "<IPython.core.display.HTML object>"
      ]
     },
     "metadata": {},
     "output_type": "display_data"
    },
    {
     "name": "stdout",
     "output_type": "stream",
     "text": [
      "[NER] Результаты: F1 = 0.0119\n",
      "\n",
      "[NER] Подробный отчет о классификации:\n",
      "              precision    recall  f1-score   support\n",
      "\n",
      "  B-ALLERGEN     0.0197    0.0870    0.0321        69\n",
      " B-BODY_PART     0.0244    0.0390    0.0300        77\n",
      "  B-MEDICINE     0.1379    0.0784    0.1000        51\n",
      "   B-SYMPTOM     0.0510    0.0495    0.0503       101\n",
      "   B-TOPONYM     0.0069    0.0051    0.0059       196\n",
      "  I-ALLERGEN     0.0112    0.0500    0.0183        80\n",
      " I-BODY_PART     0.0000    0.0000    0.0000        17\n",
      "  I-MEDICINE     0.0806    0.2024    0.1153        84\n",
      "   I-SYMPTOM     0.0083    0.0082    0.0082       122\n",
      "   I-TOPONYM     0.0161    0.0455    0.0238        44\n",
      "           O     0.7612    0.5534    0.6409      2604\n",
      "\n",
      "    accuracy                         0.4308      3445\n",
      "   macro avg     0.1016    0.1017    0.0932      3445\n",
      "weighted avg     0.5830    0.4308    0.4929      3445\n",
      "\n",
      "[NER] Модель сохранена в models/pollen_ner_100\n"
     ]
    },
    {
     "name": "stderr",
     "output_type": "stream",
     "text": [
      "No files have been modified since last commit. Skipping to prevent empty commit.\n"
     ]
    },
    {
     "name": "stdout",
     "output_type": "stream",
     "text": [
      "[NER] Лучшая модель за все итерации сохранена в models/pollen_ner_best\n",
      "\n",
      "[NER] Тестирование модели после обучения:\n",
      "\n",
      "Тестовый пример:\n",
      "Текст: В Московской области у меня началась аллергия на пыльцу березы, потекли глаза, нос, принимаю Зиртек и Назонекс. У ребенка в Новокузнецке чешутся глаза, уши и течет нос, врач прописал Кромогексал, Назонекс в нос. В Санкт-Петербурге началось цветение ольхи, сильная реакция, принимаю Эриус, но глаза все равно слезятся.\n",
      "\n",
      "[NER] Результаты анализа:\n",
      "TOPONYM: аю, Наз\n",
      "MEDICINE: не найдено\n",
      "SYMPTOM: началась, сильная, Эри\n",
      "ALLERGEN: меня, цу, приним, оне, принимаю\n",
      "BODY_PART: Наз\n",
      "Модель перемещена на cuda\n",
      "\n",
      "Статистика распределения классов в тренировочном датасете после итерации 2:\n",
      "Counter({'TOPONYM': 66, 'SYMPTOM': 60, 'ALLERGEN': 40, 'BODY_PART': 37, 'MEDICINE': 30})\n",
      "\n",
      "[NER] Начинаем итерацию с размером выборки 150\n"
     ]
    },
    {
     "name": "stderr",
     "output_type": "stream",
     "text": [
      "C:\\Users\\ivanm\\anaconda3\\envs\\project\\Lib\\site-packages\\peft\\mapping_func.py:73: UserWarning: You are trying to modify a model with PEFT for a second time. If you want to reload the model with a different config, make sure to call `.unload()` before.\n",
      "  warnings.warn(\n",
      "C:\\Users\\ivanm\\anaconda3\\envs\\project\\Lib\\site-packages\\peft\\tuners\\tuners_utils.py:167: UserWarning: Already found a `peft_config` attribute in the model. This will lead to having multiple adapters in the model. Make sure to know what you are doing!\n",
      "  warnings.warn(\n"
     ]
    },
    {
     "name": "stdout",
     "output_type": "stream",
     "text": [
      "Ошибка при выполнении get_project_tasks: status_code: 500, body: {'id': '34f36a6c-17da-4dd2-a468-aca0fa111efc', 'status_code': 500, 'version': '1.18.0', 'detail': 'connection already closed', 'exc_info': 'Traceback (most recent call last):\\n  File \"C:\\\\Users\\\\ivanm\\\\anaconda3\\\\Lib\\\\site-packages\\\\rest_framework\\\\views.py\", line 506, in dispatch\\n    response = handler(request, *args, **kwargs)\\n               ^^^^^^^^^^^^^^^^^^^^^^^^^^^^^^^^^\\n  File \"C:\\\\Users\\\\ivanm\\\\anaconda3\\\\Lib\\\\site-packages\\\\django\\\\utils\\\\decorators.py\", line 48, in _wrapper\\n    return bound_method(*args, **kwargs)\\n           ^^^^^^^^^^^^^^^^^^^^^^^^^^^^^\\n  File \"C:\\\\Users\\\\ivanm\\\\anaconda3\\\\Lib\\\\site-packages\\\\label_studio\\\\data_manager\\\\api.py\", line 315, in get\\n    page = self.paginate_queryset(queryset)\\n           ^^^^^^^^^^^^^^^^^^^^^^^^^^^^^^^^\\n  File \"C:\\\\Users\\\\ivanm\\\\anaconda3\\\\Lib\\\\site-packages\\\\rest_framework\\\\generics.py\", line 175, in paginate_queryset\\n    return self.paginator.paginate_queryset(queryset, self.request, view=self)\\n           ^^^^^^^^^^^^^^^^^^^^^^^^^^^^^^^^^^^^^^^^^^^^^^^^^^^^^^^^^^^^^^^^^^^\\n  File \"C:\\\\Users\\\\ivanm\\\\anaconda3\\\\Lib\\\\site-packages\\\\label_studio\\\\data_manager\\\\api.py\", line 240, in paginate_queryset\\n    return self.paginate_totals_queryset(queryset, request, view)\\n           ^^^^^^^^^^^^^^^^^^^^^^^^^^^^^^^^^^^^^^^^^^^^^^^^^^^^^^\\n  File \"C:\\\\Users\\\\ivanm\\\\anaconda3\\\\Lib\\\\site-packages\\\\label_studio\\\\data_manager\\\\api.py\", line 230, in paginate_totals_queryset\\n    totals = queryset.values(\\'id\\').aggregate(\\n             ^^^^^^^^^^^^^^^^^^^^^^^^^^^^^^^^\\n  File \"C:\\\\Users\\\\ivanm\\\\anaconda3\\\\Lib\\\\site-packages\\\\django\\\\db\\\\models\\\\query.py\", line 604, in aggregate\\n    return self.query.chain().get_aggregation(self.db, kwargs)\\n           ^^^^^^^^^^^^^^^^^^^^^^^^^^^^^^^^^^^^^^^^^^^^^^^^^^^\\n  File \"C:\\\\Users\\\\ivanm\\\\anaconda3\\\\Lib\\\\site-packages\\\\django\\\\db\\\\models\\\\sql\\\\query.py\", line 616, in get_aggregation\\n    result = compiler.execute_sql(SINGLE)\\n             ^^^^^^^^^^^^^^^^^^^^^^^^^^^^\\n  File \"C:\\\\Users\\\\ivanm\\\\anaconda3\\\\Lib\\\\site-packages\\\\django\\\\db\\\\models\\\\sql\\\\compiler.py\", line 1574, in execute_sql\\n    cursor.execute(sql, params)\\n  File \"C:\\\\Users\\\\ivanm\\\\anaconda3\\\\Lib\\\\site-packages\\\\sentry_sdk\\\\utils.py\", line 1788, in runner\\n    return sentry_patched_function(*args, **kwargs)\\n           ^^^^^^^^^^^^^^^^^^^^^^^^^^^^^^^^^^^^^^^^\\n  File \"C:\\\\Users\\\\ivanm\\\\anaconda3\\\\Lib\\\\site-packages\\\\sentry_sdk\\\\integrations\\\\django\\\\__init__.py\", line 652, in execute\\n    _set_db_data(span, self)\\n  File \"C:\\\\Users\\\\ivanm\\\\anaconda3\\\\Lib\\\\site-packages\\\\sentry_sdk\\\\integrations\\\\django\\\\__init__.py\", line 717, in _set_db_data\\n    connection_params = cursor_or_db.connection.get_dsn_parameters()\\n                        ^^^^^^^^^^^^^^^^^^^^^^^^^^^^^^^^^^^^^^^^^^^^\\npsycopg2.InterfaceError: connection already closed\\n'}. Попытка 1/5\n",
      "Найден существующий размеченный проект для размера 150\n",
      "После итерации 3 осталось 3893 сообщений\n"
     ]
    },
    {
     "data": {
      "application/vnd.jupyter.widget-view+json": {
       "model_id": "1643453a184e43bdb53d212b190aeaad",
       "version_major": 2,
       "version_minor": 0
      },
      "text/plain": [
       "Map:   0%|          | 0/150 [00:00<?, ? examples/s]"
      ]
     },
     "metadata": {},
     "output_type": "display_data"
    },
    {
     "name": "stderr",
     "output_type": "stream",
     "text": [
      "No label_names provided for model class `PeftModelForTokenClassification`. Since `PeftModel` hides base models input arguments, if label_names is not given, label_names can't be set automatically within `Trainer`. Note that empty label_names list will be used instead.\n"
     ]
    },
    {
     "name": "stdout",
     "output_type": "stream",
     "text": [
      "[NER] Обучение на 150 примерах\n"
     ]
    },
    {
     "data": {
      "text/html": [
       "\n",
       "    <div>\n",
       "      \n",
       "      <progress value='57' max='190' style='width:300px; height:20px; vertical-align: middle;'></progress>\n",
       "      [ 57/190 00:37 < 01:29, 1.49 it/s, Epoch 3/10]\n",
       "    </div>\n",
       "    <table border=\"1\" class=\"dataframe\">\n",
       "  <thead>\n",
       " <tr style=\"text-align: left;\">\n",
       "      <th>Epoch</th>\n",
       "      <th>Training Loss</th>\n",
       "      <th>Validation Loss</th>\n",
       "      <th>Precision</th>\n",
       "      <th>Recall</th>\n",
       "      <th>F1</th>\n",
       "    </tr>\n",
       "  </thead>\n",
       "  <tbody>\n",
       "    <tr>\n",
       "      <td>1</td>\n",
       "      <td>No log</td>\n",
       "      <td>1.710369</td>\n",
       "      <td>0.004545</td>\n",
       "      <td>0.002008</td>\n",
       "      <td>0.002786</td>\n",
       "    </tr>\n",
       "    <tr>\n",
       "      <td>2</td>\n",
       "      <td>No log</td>\n",
       "      <td>1.357767</td>\n",
       "      <td>0.000000</td>\n",
       "      <td>0.000000</td>\n",
       "      <td>0.000000</td>\n",
       "    </tr>\n",
       "    <tr>\n",
       "      <td>3</td>\n",
       "      <td>No log</td>\n",
       "      <td>1.151297</td>\n",
       "      <td>0.000000</td>\n",
       "      <td>0.000000</td>\n",
       "      <td>0.000000</td>\n",
       "    </tr>\n",
       "  </tbody>\n",
       "</table><p>"
      ],
      "text/plain": [
       "<IPython.core.display.HTML object>"
      ]
     },
     "metadata": {},
     "output_type": "display_data"
    },
    {
     "name": "stderr",
     "output_type": "stream",
     "text": [
      "C:\\Users\\ivanm\\anaconda3\\envs\\project\\Lib\\site-packages\\seqeval\\metrics\\v1.py:57: UndefinedMetricWarning: Precision and F-score are ill-defined and being set to 0.0 in labels with no predicted samples. Use `zero_division` parameter to control this behavior.\n",
      "  _warn_prf(average, modifier, msg_start, len(result))\n",
      "C:\\Users\\ivanm\\anaconda3\\envs\\project\\Lib\\site-packages\\seqeval\\metrics\\v1.py:57: UndefinedMetricWarning: Precision and F-score are ill-defined and being set to 0.0 in labels with no predicted samples. Use `zero_division` parameter to control this behavior.\n",
      "  _warn_prf(average, modifier, msg_start, len(result))\n"
     ]
    },
    {
     "data": {
      "text/html": [],
      "text/plain": [
       "<IPython.core.display.HTML object>"
      ]
     },
     "metadata": {},
     "output_type": "display_data"
    },
    {
     "name": "stdout",
     "output_type": "stream",
     "text": [
      "[NER] Результаты: F1 = 0.0028\n",
      "\n",
      "[NER] Подробный отчет о классификации:\n",
      "              precision    recall  f1-score   support\n",
      "\n",
      "  B-ALLERGEN     0.0000    0.0000    0.0000        69\n",
      " B-BODY_PART     0.0000    0.0000    0.0000        77\n",
      "  B-MEDICINE     0.3333    0.0196    0.0370        51\n",
      "   B-SYMPTOM     0.0909    0.0099    0.0179       101\n",
      "   B-TOPONYM     0.0000    0.0000    0.0000       196\n",
      "  I-ALLERGEN     0.0000    0.0000    0.0000        80\n",
      " I-BODY_PART     0.0000    0.0000    0.0000        17\n",
      "  I-MEDICINE     0.1892    0.0833    0.1157        84\n",
      "   I-SYMPTOM     0.0222    0.0082    0.0120       122\n",
      "   I-TOPONYM     0.0000    0.0000    0.0000        44\n",
      "           O     0.7635    0.9424    0.8436      2604\n",
      "\n",
      "    accuracy                         0.7152      3445\n",
      "   macro avg     0.1272    0.0967    0.0933      3445\n",
      "weighted avg     0.5901    0.7152    0.6420      3445\n",
      "\n",
      "[NER] Модель сохранена в models/pollen_ner_150\n"
     ]
    },
    {
     "name": "stderr",
     "output_type": "stream",
     "text": [
      "No files have been modified since last commit. Skipping to prevent empty commit.\n"
     ]
    },
    {
     "name": "stdout",
     "output_type": "stream",
     "text": [
      "[NER] Лучшая модель за все итерации сохранена в models/pollen_ner_best\n",
      "\n",
      "[NER] Тестирование модели после обучения:\n",
      "\n",
      "Тестовый пример:\n",
      "Текст: В Московской области у меня началась аллергия на пыльцу березы, потекли глаза, нос, принимаю Зиртек и Назонекс. У ребенка в Новокузнецке чешутся глаза, уши и течет нос, врач прописал Кромогексал, Назонекс в нос. В Санкт-Петербурге началось цветение ольхи, сильная реакция, принимаю Эриус, но глаза все равно слезятся.\n",
      "\n",
      "[NER] Результаты анализа:\n",
      "TOPONYM: аю\n",
      "MEDICINE: не найдено\n",
      "SYMPTOM: не найдено\n",
      "ALLERGEN: меня\n",
      "BODY_PART: не найдено\n",
      "Модель перемещена на cuda\n",
      "\n",
      "Статистика распределения классов в тренировочном датасете после итерации 3:\n",
      "Counter({'TOPONYM': 83, 'SYMPTOM': 61, 'ALLERGEN': 43, 'BODY_PART': 37, 'MEDICINE': 31})\n",
      "\n",
      "[NER] Начинаем итерацию с размером выборки 200\n"
     ]
    },
    {
     "name": "stderr",
     "output_type": "stream",
     "text": [
      "C:\\Users\\ivanm\\anaconda3\\envs\\project\\Lib\\site-packages\\peft\\mapping_func.py:73: UserWarning: You are trying to modify a model with PEFT for a second time. If you want to reload the model with a different config, make sure to call `.unload()` before.\n",
      "  warnings.warn(\n",
      "C:\\Users\\ivanm\\anaconda3\\envs\\project\\Lib\\site-packages\\peft\\tuners\\tuners_utils.py:167: UserWarning: Already found a `peft_config` attribute in the model. This will lead to having multiple adapters in the model. Make sure to know what you are doing!\n",
      "  warnings.warn(\n"
     ]
    },
    {
     "name": "stdout",
     "output_type": "stream",
     "text": [
      "Найден существующий размеченный проект для размера 200\n",
      "После итерации 4 осталось 3843 сообщений\n"
     ]
    },
    {
     "data": {
      "application/vnd.jupyter.widget-view+json": {
       "model_id": "91d33d0e308f478cb8e164fc99b57f71",
       "version_major": 2,
       "version_minor": 0
      },
      "text/plain": [
       "Map:   0%|          | 0/200 [00:00<?, ? examples/s]"
      ]
     },
     "metadata": {},
     "output_type": "display_data"
    },
    {
     "name": "stderr",
     "output_type": "stream",
     "text": [
      "No label_names provided for model class `PeftModelForTokenClassification`. Since `PeftModel` hides base models input arguments, if label_names is not given, label_names can't be set automatically within `Trainer`. Note that empty label_names list will be used instead.\n"
     ]
    },
    {
     "name": "stdout",
     "output_type": "stream",
     "text": [
      "[NER] Обучение на 200 примерах\n"
     ]
    },
    {
     "data": {
      "text/html": [
       "\n",
       "    <div>\n",
       "      \n",
       "      <progress value='75' max='250' style='width:300px; height:20px; vertical-align: middle;'></progress>\n",
       "      [ 75/250 00:46 < 01:50, 1.58 it/s, Epoch 3/10]\n",
       "    </div>\n",
       "    <table border=\"1\" class=\"dataframe\">\n",
       "  <thead>\n",
       " <tr style=\"text-align: left;\">\n",
       "      <th>Epoch</th>\n",
       "      <th>Training Loss</th>\n",
       "      <th>Validation Loss</th>\n",
       "      <th>Precision</th>\n",
       "      <th>Recall</th>\n",
       "      <th>F1</th>\n",
       "    </tr>\n",
       "  </thead>\n",
       "  <tbody>\n",
       "    <tr>\n",
       "      <td>1</td>\n",
       "      <td>No log</td>\n",
       "      <td>1.255394</td>\n",
       "      <td>0.000000</td>\n",
       "      <td>0.000000</td>\n",
       "      <td>0.000000</td>\n",
       "    </tr>\n",
       "    <tr>\n",
       "      <td>2</td>\n",
       "      <td>No log</td>\n",
       "      <td>1.095546</td>\n",
       "      <td>0.000000</td>\n",
       "      <td>0.000000</td>\n",
       "      <td>0.000000</td>\n",
       "    </tr>\n",
       "    <tr>\n",
       "      <td>3</td>\n",
       "      <td>No log</td>\n",
       "      <td>1.067458</td>\n",
       "      <td>0.000000</td>\n",
       "      <td>0.000000</td>\n",
       "      <td>0.000000</td>\n",
       "    </tr>\n",
       "  </tbody>\n",
       "</table><p>"
      ],
      "text/plain": [
       "<IPython.core.display.HTML object>"
      ]
     },
     "metadata": {},
     "output_type": "display_data"
    },
    {
     "name": "stderr",
     "output_type": "stream",
     "text": [
      "C:\\Users\\ivanm\\anaconda3\\envs\\project\\Lib\\site-packages\\seqeval\\metrics\\v1.py:57: UndefinedMetricWarning: Precision and F-score are ill-defined and being set to 0.0 in labels with no predicted samples. Use `zero_division` parameter to control this behavior.\n",
      "  _warn_prf(average, modifier, msg_start, len(result))\n",
      "C:\\Users\\ivanm\\anaconda3\\envs\\project\\Lib\\site-packages\\seqeval\\metrics\\v1.py:57: UndefinedMetricWarning: Precision and F-score are ill-defined and being set to 0.0 in labels with no predicted samples. Use `zero_division` parameter to control this behavior.\n",
      "  _warn_prf(average, modifier, msg_start, len(result))\n",
      "C:\\Users\\ivanm\\anaconda3\\envs\\project\\Lib\\site-packages\\seqeval\\metrics\\v1.py:57: UndefinedMetricWarning: Precision and F-score are ill-defined and being set to 0.0 due to no predicted samples. Use `zero_division` parameter to control this behavior.\n",
      "  _warn_prf(average, modifier, msg_start, len(result))\n",
      "C:\\Users\\ivanm\\anaconda3\\envs\\project\\Lib\\site-packages\\seqeval\\metrics\\v1.py:57: UndefinedMetricWarning: Precision and F-score are ill-defined and being set to 0.0 in labels with no predicted samples. Use `zero_division` parameter to control this behavior.\n",
      "  _warn_prf(average, modifier, msg_start, len(result))\n",
      "C:\\Users\\ivanm\\anaconda3\\envs\\project\\Lib\\site-packages\\seqeval\\metrics\\v1.py:57: UndefinedMetricWarning: Precision and F-score are ill-defined and being set to 0.0 due to no predicted samples. Use `zero_division` parameter to control this behavior.\n",
      "  _warn_prf(average, modifier, msg_start, len(result))\n"
     ]
    },
    {
     "data": {
      "text/html": [],
      "text/plain": [
       "<IPython.core.display.HTML object>"
      ]
     },
     "metadata": {},
     "output_type": "display_data"
    },
    {
     "name": "stderr",
     "output_type": "stream",
     "text": [
      "C:\\Users\\ivanm\\anaconda3\\envs\\project\\Lib\\site-packages\\seqeval\\metrics\\v1.py:57: UndefinedMetricWarning: Precision and F-score are ill-defined and being set to 0.0 in labels with no predicted samples. Use `zero_division` parameter to control this behavior.\n",
      "  _warn_prf(average, modifier, msg_start, len(result))\n"
     ]
    },
    {
     "name": "stdout",
     "output_type": "stream",
     "text": [
      "[NER] Результаты: F1 = 0.0000\n",
      "\n",
      "[NER] Подробный отчет о классификации:\n",
      "              precision    recall  f1-score   support\n",
      "\n",
      "  B-ALLERGEN     0.0000    0.0000    0.0000        69\n",
      " B-BODY_PART     0.0000    0.0000    0.0000        77\n",
      "  B-MEDICINE     0.0000    0.0000    0.0000        51\n",
      "   B-SYMPTOM     0.0000    0.0000    0.0000       101\n",
      "   B-TOPONYM     0.0000    0.0000    0.0000       196\n",
      "  I-ALLERGEN     0.0000    0.0000    0.0000        80\n",
      " I-BODY_PART     0.0000    0.0000    0.0000        17\n",
      "  I-MEDICINE     0.0000    0.0000    0.0000        84\n",
      "   I-SYMPTOM     0.0000    0.0000    0.0000       122\n",
      "   I-TOPONYM     0.0000    0.0000    0.0000        44\n",
      "           O     0.7560    0.9969    0.8599      2604\n",
      "\n",
      "    accuracy                         0.7536      3445\n",
      "   macro avg     0.0687    0.0906    0.0782      3445\n",
      "weighted avg     0.5714    0.7536    0.6500      3445\n",
      "\n"
     ]
    },
    {
     "name": "stderr",
     "output_type": "stream",
     "text": [
      "C:\\Users\\ivanm\\anaconda3\\envs\\project\\Lib\\site-packages\\sklearn\\metrics\\_classification.py:1565: UndefinedMetricWarning: Precision is ill-defined and being set to 0.0 in labels with no predicted samples. Use `zero_division` parameter to control this behavior.\n",
      "  _warn_prf(average, modifier, f\"{metric.capitalize()} is\", len(result))\n",
      "C:\\Users\\ivanm\\anaconda3\\envs\\project\\Lib\\site-packages\\sklearn\\metrics\\_classification.py:1565: UndefinedMetricWarning: Precision is ill-defined and being set to 0.0 in labels with no predicted samples. Use `zero_division` parameter to control this behavior.\n",
      "  _warn_prf(average, modifier, f\"{metric.capitalize()} is\", len(result))\n",
      "C:\\Users\\ivanm\\anaconda3\\envs\\project\\Lib\\site-packages\\sklearn\\metrics\\_classification.py:1565: UndefinedMetricWarning: Precision is ill-defined and being set to 0.0 in labels with no predicted samples. Use `zero_division` parameter to control this behavior.\n",
      "  _warn_prf(average, modifier, f\"{metric.capitalize()} is\", len(result))\n"
     ]
    },
    {
     "name": "stdout",
     "output_type": "stream",
     "text": [
      "[NER] Модель сохранена в models/pollen_ner_200\n"
     ]
    },
    {
     "name": "stderr",
     "output_type": "stream",
     "text": [
      "No files have been modified since last commit. Skipping to prevent empty commit.\n"
     ]
    },
    {
     "name": "stdout",
     "output_type": "stream",
     "text": [
      "[NER] Лучшая модель за все итерации сохранена в models/pollen_ner_best\n",
      "\n",
      "[NER] Тестирование модели после обучения:\n",
      "\n",
      "Тестовый пример:\n",
      "Текст: В Московской области у меня началась аллергия на пыльцу березы, потекли глаза, нос, принимаю Зиртек и Назонекс. У ребенка в Новокузнецке чешутся глаза, уши и течет нос, врач прописал Кромогексал, Назонекс в нос. В Санкт-Петербурге началось цветение ольхи, сильная реакция, принимаю Эриус, но глаза все равно слезятся.\n",
      "\n",
      "[NER] Результаты анализа:\n",
      "TOPONYM: не найдено\n",
      "MEDICINE: не найдено\n",
      "SYMPTOM: не найдено\n",
      "ALLERGEN: не найдено\n",
      "BODY_PART: не найдено\n",
      "Модель перемещена на cuda\n",
      "\n",
      "Статистика распределения классов в тренировочном датасете после итерации 4:\n",
      "Counter({'TOPONYM': 119, 'SYMPTOM': 92, 'ALLERGEN': 63, 'BODY_PART': 62, 'MEDICINE': 53})\n",
      "\n",
      "[NER] Начинаем итерацию с размером выборки 250\n"
     ]
    },
    {
     "name": "stderr",
     "output_type": "stream",
     "text": [
      "C:\\Users\\ivanm\\anaconda3\\envs\\project\\Lib\\site-packages\\peft\\mapping_func.py:73: UserWarning: You are trying to modify a model with PEFT for a second time. If you want to reload the model with a different config, make sure to call `.unload()` before.\n",
      "  warnings.warn(\n",
      "C:\\Users\\ivanm\\anaconda3\\envs\\project\\Lib\\site-packages\\peft\\tuners\\tuners_utils.py:167: UserWarning: Already found a `peft_config` attribute in the model. This will lead to having multiple adapters in the model. Make sure to know what you are doing!\n",
      "  warnings.warn(\n"
     ]
    },
    {
     "name": "stdout",
     "output_type": "stream",
     "text": [
      "Найден существующий размеченный проект для размера 250\n",
      "После итерации 5 осталось 3793 сообщений\n"
     ]
    },
    {
     "data": {
      "application/vnd.jupyter.widget-view+json": {
       "model_id": "8d648a31d18f4c58b7d778a37848b4a3",
       "version_major": 2,
       "version_minor": 0
      },
      "text/plain": [
       "Map:   0%|          | 0/250 [00:00<?, ? examples/s]"
      ]
     },
     "metadata": {},
     "output_type": "display_data"
    },
    {
     "name": "stderr",
     "output_type": "stream",
     "text": [
      "No label_names provided for model class `PeftModelForTokenClassification`. Since `PeftModel` hides base models input arguments, if label_names is not given, label_names can't be set automatically within `Trainer`. Note that empty label_names list will be used instead.\n"
     ]
    },
    {
     "name": "stdout",
     "output_type": "stream",
     "text": [
      "[NER] Обучение на 250 примерах\n"
     ]
    },
    {
     "data": {
      "text/html": [
       "\n",
       "    <div>\n",
       "      \n",
       "      <progress value='96' max='320' style='width:300px; height:20px; vertical-align: middle;'></progress>\n",
       "      [ 96/320 00:55 < 02:12, 1.69 it/s, Epoch 3/10]\n",
       "    </div>\n",
       "    <table border=\"1\" class=\"dataframe\">\n",
       "  <thead>\n",
       " <tr style=\"text-align: left;\">\n",
       "      <th>Epoch</th>\n",
       "      <th>Training Loss</th>\n",
       "      <th>Validation Loss</th>\n",
       "      <th>Precision</th>\n",
       "      <th>Recall</th>\n",
       "      <th>F1</th>\n",
       "    </tr>\n",
       "  </thead>\n",
       "  <tbody>\n",
       "    <tr>\n",
       "      <td>1</td>\n",
       "      <td>No log</td>\n",
       "      <td>1.074276</td>\n",
       "      <td>0.000000</td>\n",
       "      <td>0.000000</td>\n",
       "      <td>0.000000</td>\n",
       "    </tr>\n",
       "    <tr>\n",
       "      <td>2</td>\n",
       "      <td>No log</td>\n",
       "      <td>1.048084</td>\n",
       "      <td>0.000000</td>\n",
       "      <td>0.000000</td>\n",
       "      <td>0.000000</td>\n",
       "    </tr>\n",
       "    <tr>\n",
       "      <td>3</td>\n",
       "      <td>No log</td>\n",
       "      <td>1.014652</td>\n",
       "      <td>0.000000</td>\n",
       "      <td>0.000000</td>\n",
       "      <td>0.000000</td>\n",
       "    </tr>\n",
       "  </tbody>\n",
       "</table><p>"
      ],
      "text/plain": [
       "<IPython.core.display.HTML object>"
      ]
     },
     "metadata": {},
     "output_type": "display_data"
    },
    {
     "name": "stderr",
     "output_type": "stream",
     "text": [
      "C:\\Users\\ivanm\\anaconda3\\envs\\project\\Lib\\site-packages\\seqeval\\metrics\\v1.py:57: UndefinedMetricWarning: Precision and F-score are ill-defined and being set to 0.0 in labels with no predicted samples. Use `zero_division` parameter to control this behavior.\n",
      "  _warn_prf(average, modifier, msg_start, len(result))\n",
      "C:\\Users\\ivanm\\anaconda3\\envs\\project\\Lib\\site-packages\\seqeval\\metrics\\v1.py:57: UndefinedMetricWarning: Precision and F-score are ill-defined and being set to 0.0 due to no predicted samples. Use `zero_division` parameter to control this behavior.\n",
      "  _warn_prf(average, modifier, msg_start, len(result))\n",
      "C:\\Users\\ivanm\\anaconda3\\envs\\project\\Lib\\site-packages\\seqeval\\metrics\\v1.py:57: UndefinedMetricWarning: Precision and F-score are ill-defined and being set to 0.0 in labels with no predicted samples. Use `zero_division` parameter to control this behavior.\n",
      "  _warn_prf(average, modifier, msg_start, len(result))\n",
      "C:\\Users\\ivanm\\anaconda3\\envs\\project\\Lib\\site-packages\\seqeval\\metrics\\v1.py:57: UndefinedMetricWarning: Precision and F-score are ill-defined and being set to 0.0 due to no predicted samples. Use `zero_division` parameter to control this behavior.\n",
      "  _warn_prf(average, modifier, msg_start, len(result))\n",
      "C:\\Users\\ivanm\\anaconda3\\envs\\project\\Lib\\site-packages\\seqeval\\metrics\\v1.py:57: UndefinedMetricWarning: Precision and F-score are ill-defined and being set to 0.0 in labels with no predicted samples. Use `zero_division` parameter to control this behavior.\n",
      "  _warn_prf(average, modifier, msg_start, len(result))\n"
     ]
    },
    {
     "data": {
      "text/html": [],
      "text/plain": [
       "<IPython.core.display.HTML object>"
      ]
     },
     "metadata": {},
     "output_type": "display_data"
    },
    {
     "name": "stdout",
     "output_type": "stream",
     "text": [
      "[NER] Результаты: F1 = 0.0000\n"
     ]
    },
    {
     "name": "stderr",
     "output_type": "stream",
     "text": [
      "C:\\Users\\ivanm\\anaconda3\\envs\\project\\Lib\\site-packages\\seqeval\\metrics\\v1.py:57: UndefinedMetricWarning: Precision and F-score are ill-defined and being set to 0.0 in labels with no predicted samples. Use `zero_division` parameter to control this behavior.\n",
      "  _warn_prf(average, modifier, msg_start, len(result))\n",
      "C:\\Users\\ivanm\\anaconda3\\envs\\project\\Lib\\site-packages\\seqeval\\metrics\\v1.py:57: UndefinedMetricWarning: Precision and F-score are ill-defined and being set to 0.0 due to no predicted samples. Use `zero_division` parameter to control this behavior.\n",
      "  _warn_prf(average, modifier, msg_start, len(result))\n"
     ]
    },
    {
     "name": "stdout",
     "output_type": "stream",
     "text": [
      "\n",
      "[NER] Подробный отчет о классификации:\n",
      "              precision    recall  f1-score   support\n",
      "\n",
      "  B-ALLERGEN     0.0000    0.0000    0.0000        69\n",
      " B-BODY_PART     0.0000    0.0000    0.0000        77\n",
      "  B-MEDICINE     0.0000    0.0000    0.0000        51\n",
      "   B-SYMPTOM     0.0000    0.0000    0.0000       101\n",
      "   B-TOPONYM     0.0000    0.0000    0.0000       196\n",
      "  I-ALLERGEN     0.0000    0.0000    0.0000        80\n",
      " I-BODY_PART     0.0000    0.0000    0.0000        17\n",
      "  I-MEDICINE     0.0000    0.0000    0.0000        84\n",
      "   I-SYMPTOM     0.0000    0.0000    0.0000       122\n",
      "   I-TOPONYM     0.0000    0.0000    0.0000        44\n",
      "           O     0.7559    1.0000    0.8610      2604\n",
      "\n",
      "    accuracy                         0.7559      3445\n",
      "   macro avg     0.0687    0.0909    0.0783      3445\n",
      "weighted avg     0.5714    0.7559    0.6508      3445\n",
      "\n"
     ]
    },
    {
     "name": "stderr",
     "output_type": "stream",
     "text": [
      "C:\\Users\\ivanm\\anaconda3\\envs\\project\\Lib\\site-packages\\sklearn\\metrics\\_classification.py:1565: UndefinedMetricWarning: Precision is ill-defined and being set to 0.0 in labels with no predicted samples. Use `zero_division` parameter to control this behavior.\n",
      "  _warn_prf(average, modifier, f\"{metric.capitalize()} is\", len(result))\n",
      "C:\\Users\\ivanm\\anaconda3\\envs\\project\\Lib\\site-packages\\sklearn\\metrics\\_classification.py:1565: UndefinedMetricWarning: Precision is ill-defined and being set to 0.0 in labels with no predicted samples. Use `zero_division` parameter to control this behavior.\n",
      "  _warn_prf(average, modifier, f\"{metric.capitalize()} is\", len(result))\n",
      "C:\\Users\\ivanm\\anaconda3\\envs\\project\\Lib\\site-packages\\sklearn\\metrics\\_classification.py:1565: UndefinedMetricWarning: Precision is ill-defined and being set to 0.0 in labels with no predicted samples. Use `zero_division` parameter to control this behavior.\n",
      "  _warn_prf(average, modifier, f\"{metric.capitalize()} is\", len(result))\n"
     ]
    },
    {
     "name": "stdout",
     "output_type": "stream",
     "text": [
      "[NER] Модель сохранена в models/pollen_ner_250\n"
     ]
    },
    {
     "name": "stderr",
     "output_type": "stream",
     "text": [
      "No files have been modified since last commit. Skipping to prevent empty commit.\n"
     ]
    },
    {
     "name": "stdout",
     "output_type": "stream",
     "text": [
      "[NER] Лучшая модель за все итерации сохранена в models/pollen_ner_best\n",
      "\n",
      "[NER] Тестирование модели после обучения:\n",
      "\n",
      "Тестовый пример:\n",
      "Текст: В Московской области у меня началась аллергия на пыльцу березы, потекли глаза, нос, принимаю Зиртек и Назонекс. У ребенка в Новокузнецке чешутся глаза, уши и течет нос, врач прописал Кромогексал, Назонекс в нос. В Санкт-Петербурге началось цветение ольхи, сильная реакция, принимаю Эриус, но глаза все равно слезятся.\n",
      "\n",
      "[NER] Результаты анализа:\n",
      "TOPONYM: не найдено\n",
      "MEDICINE: не найдено\n",
      "SYMPTOM: не найдено\n",
      "ALLERGEN: не найдено\n",
      "BODY_PART: не найдено\n",
      "Модель перемещена на cuda\n",
      "\n",
      "Статистика распределения классов в тренировочном датасете после итерации 5:\n",
      "Counter({'TOPONYM': 179, 'SYMPTOM': 166, 'BODY_PART': 109, 'ALLERGEN': 102, 'MEDICINE': 101})\n",
      "\n",
      "[NER] Начинаем итерацию с размером выборки 300\n"
     ]
    },
    {
     "name": "stderr",
     "output_type": "stream",
     "text": [
      "C:\\Users\\ivanm\\anaconda3\\envs\\project\\Lib\\site-packages\\peft\\mapping_func.py:73: UserWarning: You are trying to modify a model with PEFT for a second time. If you want to reload the model with a different config, make sure to call `.unload()` before.\n",
      "  warnings.warn(\n",
      "C:\\Users\\ivanm\\anaconda3\\envs\\project\\Lib\\site-packages\\peft\\tuners\\tuners_utils.py:167: UserWarning: Already found a `peft_config` attribute in the model. This will lead to having multiple adapters in the model. Make sure to know what you are doing!\n",
      "  warnings.warn(\n"
     ]
    },
    {
     "name": "stdout",
     "output_type": "stream",
     "text": [
      "Найден существующий размеченный проект для размера 300\n",
      "После итерации 6 осталось 3743 сообщений\n"
     ]
    },
    {
     "data": {
      "application/vnd.jupyter.widget-view+json": {
       "model_id": "b8e56c6b35574c2f9f976242b506c067",
       "version_major": 2,
       "version_minor": 0
      },
      "text/plain": [
       "Map:   0%|          | 0/300 [00:00<?, ? examples/s]"
      ]
     },
     "metadata": {},
     "output_type": "display_data"
    },
    {
     "name": "stderr",
     "output_type": "stream",
     "text": [
      "No label_names provided for model class `PeftModelForTokenClassification`. Since `PeftModel` hides base models input arguments, if label_names is not given, label_names can't be set automatically within `Trainer`. Note that empty label_names list will be used instead.\n"
     ]
    },
    {
     "name": "stdout",
     "output_type": "stream",
     "text": [
      "[NER] Обучение на 300 примерах\n"
     ]
    },
    {
     "data": {
      "text/html": [
       "\n",
       "    <div>\n",
       "      \n",
       "      <progress value='114' max='380' style='width:300px; height:20px; vertical-align: middle;'></progress>\n",
       "      [114/380 01:05 < 02:35, 1.71 it/s, Epoch 3/10]\n",
       "    </div>\n",
       "    <table border=\"1\" class=\"dataframe\">\n",
       "  <thead>\n",
       " <tr style=\"text-align: left;\">\n",
       "      <th>Epoch</th>\n",
       "      <th>Training Loss</th>\n",
       "      <th>Validation Loss</th>\n",
       "      <th>Precision</th>\n",
       "      <th>Recall</th>\n",
       "      <th>F1</th>\n",
       "    </tr>\n",
       "  </thead>\n",
       "  <tbody>\n",
       "    <tr>\n",
       "      <td>1</td>\n",
       "      <td>No log</td>\n",
       "      <td>1.046641</td>\n",
       "      <td>0.000000</td>\n",
       "      <td>0.000000</td>\n",
       "      <td>0.000000</td>\n",
       "    </tr>\n",
       "    <tr>\n",
       "      <td>2</td>\n",
       "      <td>No log</td>\n",
       "      <td>1.006633</td>\n",
       "      <td>0.000000</td>\n",
       "      <td>0.000000</td>\n",
       "      <td>0.000000</td>\n",
       "    </tr>\n",
       "    <tr>\n",
       "      <td>3</td>\n",
       "      <td>No log</td>\n",
       "      <td>0.974680</td>\n",
       "      <td>0.000000</td>\n",
       "      <td>0.000000</td>\n",
       "      <td>0.000000</td>\n",
       "    </tr>\n",
       "  </tbody>\n",
       "</table><p>"
      ],
      "text/plain": [
       "<IPython.core.display.HTML object>"
      ]
     },
     "metadata": {},
     "output_type": "display_data"
    },
    {
     "name": "stderr",
     "output_type": "stream",
     "text": [
      "C:\\Users\\ivanm\\anaconda3\\envs\\project\\Lib\\site-packages\\seqeval\\metrics\\v1.py:57: UndefinedMetricWarning: Precision and F-score are ill-defined and being set to 0.0 in labels with no predicted samples. Use `zero_division` parameter to control this behavior.\n",
      "  _warn_prf(average, modifier, msg_start, len(result))\n",
      "C:\\Users\\ivanm\\anaconda3\\envs\\project\\Lib\\site-packages\\seqeval\\metrics\\v1.py:57: UndefinedMetricWarning: Precision and F-score are ill-defined and being set to 0.0 in labels with no predicted samples. Use `zero_division` parameter to control this behavior.\n",
      "  _warn_prf(average, modifier, msg_start, len(result))\n",
      "C:\\Users\\ivanm\\anaconda3\\envs\\project\\Lib\\site-packages\\seqeval\\metrics\\v1.py:57: UndefinedMetricWarning: Precision and F-score are ill-defined and being set to 0.0 in labels with no predicted samples. Use `zero_division` parameter to control this behavior.\n",
      "  _warn_prf(average, modifier, msg_start, len(result))\n"
     ]
    },
    {
     "data": {
      "text/html": [],
      "text/plain": [
       "<IPython.core.display.HTML object>"
      ]
     },
     "metadata": {},
     "output_type": "display_data"
    },
    {
     "name": "stderr",
     "output_type": "stream",
     "text": [
      "C:\\Users\\ivanm\\anaconda3\\envs\\project\\Lib\\site-packages\\seqeval\\metrics\\v1.py:57: UndefinedMetricWarning: Precision and F-score are ill-defined and being set to 0.0 in labels with no predicted samples. Use `zero_division` parameter to control this behavior.\n",
      "  _warn_prf(average, modifier, msg_start, len(result))\n"
     ]
    },
    {
     "name": "stdout",
     "output_type": "stream",
     "text": [
      "[NER] Результаты: F1 = 0.0000\n",
      "\n",
      "[NER] Подробный отчет о классификации:\n",
      "              precision    recall  f1-score   support\n",
      "\n",
      "  B-ALLERGEN     0.0000    0.0000    0.0000        69\n",
      " B-BODY_PART     0.0000    0.0000    0.0000        77\n",
      "  B-MEDICINE     0.0000    0.0000    0.0000        51\n",
      "   B-SYMPTOM     0.0000    0.0000    0.0000       101\n",
      "   B-TOPONYM     0.0000    0.0000    0.0000       196\n",
      "  I-ALLERGEN     0.0000    0.0000    0.0000        80\n",
      " I-BODY_PART     0.0000    0.0000    0.0000        17\n",
      "  I-MEDICINE     0.0000    0.0000    0.0000        84\n",
      "   I-SYMPTOM     0.0000    0.0000    0.0000       122\n",
      "   I-TOPONYM     0.0000    0.0000    0.0000        44\n",
      "           O     0.7561    1.0000    0.8611      2604\n",
      "\n",
      "    accuracy                         0.7559      3445\n",
      "   macro avg     0.0687    0.0909    0.0783      3445\n",
      "weighted avg     0.5715    0.7559    0.6509      3445\n",
      "\n"
     ]
    },
    {
     "name": "stderr",
     "output_type": "stream",
     "text": [
      "C:\\Users\\ivanm\\anaconda3\\envs\\project\\Lib\\site-packages\\sklearn\\metrics\\_classification.py:1565: UndefinedMetricWarning: Precision is ill-defined and being set to 0.0 in labels with no predicted samples. Use `zero_division` parameter to control this behavior.\n",
      "  _warn_prf(average, modifier, f\"{metric.capitalize()} is\", len(result))\n",
      "C:\\Users\\ivanm\\anaconda3\\envs\\project\\Lib\\site-packages\\sklearn\\metrics\\_classification.py:1565: UndefinedMetricWarning: Precision is ill-defined and being set to 0.0 in labels with no predicted samples. Use `zero_division` parameter to control this behavior.\n",
      "  _warn_prf(average, modifier, f\"{metric.capitalize()} is\", len(result))\n",
      "C:\\Users\\ivanm\\anaconda3\\envs\\project\\Lib\\site-packages\\sklearn\\metrics\\_classification.py:1565: UndefinedMetricWarning: Precision is ill-defined and being set to 0.0 in labels with no predicted samples. Use `zero_division` parameter to control this behavior.\n",
      "  _warn_prf(average, modifier, f\"{metric.capitalize()} is\", len(result))\n"
     ]
    },
    {
     "name": "stdout",
     "output_type": "stream",
     "text": [
      "[NER] Модель сохранена в models/pollen_ner_300\n"
     ]
    },
    {
     "name": "stderr",
     "output_type": "stream",
     "text": [
      "No files have been modified since last commit. Skipping to prevent empty commit.\n"
     ]
    },
    {
     "name": "stdout",
     "output_type": "stream",
     "text": [
      "[NER] Лучшая модель за все итерации сохранена в models/pollen_ner_best\n",
      "\n",
      "[NER] Тестирование модели после обучения:\n",
      "\n",
      "Тестовый пример:\n",
      "Текст: В Московской области у меня началась аллергия на пыльцу березы, потекли глаза, нос, принимаю Зиртек и Назонекс. У ребенка в Новокузнецке чешутся глаза, уши и течет нос, врач прописал Кромогексал, Назонекс в нос. В Санкт-Петербурге началось цветение ольхи, сильная реакция, принимаю Эриус, но глаза все равно слезятся.\n",
      "\n",
      "[NER] Результаты анализа:\n",
      "TOPONYM: не найдено\n",
      "MEDICINE: не найдено\n",
      "SYMPTOM: не найдено\n",
      "ALLERGEN: не найдено\n",
      "BODY_PART: не найдено\n",
      "Модель перемещена на cuda\n",
      "\n",
      "Статистика распределения классов в тренировочном датасете после итерации 6:\n",
      "Counter({'SYMPTOM': 262, 'TOPONYM': 251, 'BODY_PART': 172, 'MEDICINE': 136, 'ALLERGEN': 122})\n",
      "\n",
      "[NER] Начинаем итерацию с размером выборки 350\n"
     ]
    },
    {
     "name": "stderr",
     "output_type": "stream",
     "text": [
      "C:\\Users\\ivanm\\anaconda3\\envs\\project\\Lib\\site-packages\\peft\\mapping_func.py:73: UserWarning: You are trying to modify a model with PEFT for a second time. If you want to reload the model with a different config, make sure to call `.unload()` before.\n",
      "  warnings.warn(\n",
      "C:\\Users\\ivanm\\anaconda3\\envs\\project\\Lib\\site-packages\\peft\\tuners\\tuners_utils.py:167: UserWarning: Already found a `peft_config` attribute in the model. This will lead to having multiple adapters in the model. Make sure to know what you are doing!\n",
      "  warnings.warn(\n"
     ]
    },
    {
     "name": "stdout",
     "output_type": "stream",
     "text": [
      "Найден существующий размеченный проект для размера 350\n",
      "После итерации 7 осталось 3693 сообщений\n"
     ]
    },
    {
     "data": {
      "application/vnd.jupyter.widget-view+json": {
       "model_id": "8022083d0db849f89d42d56dfbec6207",
       "version_major": 2,
       "version_minor": 0
      },
      "text/plain": [
       "Map:   0%|          | 0/350 [00:00<?, ? examples/s]"
      ]
     },
     "metadata": {},
     "output_type": "display_data"
    },
    {
     "name": "stderr",
     "output_type": "stream",
     "text": [
      "No label_names provided for model class `PeftModelForTokenClassification`. Since `PeftModel` hides base models input arguments, if label_names is not given, label_names can't be set automatically within `Trainer`. Note that empty label_names list will be used instead.\n"
     ]
    },
    {
     "name": "stdout",
     "output_type": "stream",
     "text": [
      "[NER] Обучение на 350 примерах\n"
     ]
    },
    {
     "data": {
      "text/html": [
       "\n",
       "    <div>\n",
       "      \n",
       "      <progress value='440' max='440' style='width:300px; height:20px; vertical-align: middle;'></progress>\n",
       "      [440/440 04:10, Epoch 10/10]\n",
       "    </div>\n",
       "    <table border=\"1\" class=\"dataframe\">\n",
       "  <thead>\n",
       " <tr style=\"text-align: left;\">\n",
       "      <th>Epoch</th>\n",
       "      <th>Training Loss</th>\n",
       "      <th>Validation Loss</th>\n",
       "      <th>Precision</th>\n",
       "      <th>Recall</th>\n",
       "      <th>F1</th>\n",
       "    </tr>\n",
       "  </thead>\n",
       "  <tbody>\n",
       "    <tr>\n",
       "      <td>1</td>\n",
       "      <td>No log</td>\n",
       "      <td>0.998308</td>\n",
       "      <td>0.000000</td>\n",
       "      <td>0.000000</td>\n",
       "      <td>0.000000</td>\n",
       "    </tr>\n",
       "    <tr>\n",
       "      <td>2</td>\n",
       "      <td>No log</td>\n",
       "      <td>0.959294</td>\n",
       "      <td>0.181818</td>\n",
       "      <td>0.004016</td>\n",
       "      <td>0.007859</td>\n",
       "    </tr>\n",
       "    <tr>\n",
       "      <td>3</td>\n",
       "      <td>No log</td>\n",
       "      <td>0.909350</td>\n",
       "      <td>0.222222</td>\n",
       "      <td>0.008032</td>\n",
       "      <td>0.015504</td>\n",
       "    </tr>\n",
       "    <tr>\n",
       "      <td>4</td>\n",
       "      <td>No log</td>\n",
       "      <td>0.878324</td>\n",
       "      <td>0.264706</td>\n",
       "      <td>0.018072</td>\n",
       "      <td>0.033835</td>\n",
       "    </tr>\n",
       "    <tr>\n",
       "      <td>5</td>\n",
       "      <td>No log</td>\n",
       "      <td>0.842981</td>\n",
       "      <td>0.196078</td>\n",
       "      <td>0.020080</td>\n",
       "      <td>0.036430</td>\n",
       "    </tr>\n",
       "    <tr>\n",
       "      <td>6</td>\n",
       "      <td>No log</td>\n",
       "      <td>0.811744</td>\n",
       "      <td>0.280899</td>\n",
       "      <td>0.050201</td>\n",
       "      <td>0.085179</td>\n",
       "    </tr>\n",
       "    <tr>\n",
       "      <td>7</td>\n",
       "      <td>No log</td>\n",
       "      <td>0.790820</td>\n",
       "      <td>0.299213</td>\n",
       "      <td>0.076305</td>\n",
       "      <td>0.121600</td>\n",
       "    </tr>\n",
       "    <tr>\n",
       "      <td>8</td>\n",
       "      <td>No log</td>\n",
       "      <td>0.776179</td>\n",
       "      <td>0.300000</td>\n",
       "      <td>0.090361</td>\n",
       "      <td>0.138889</td>\n",
       "    </tr>\n",
       "    <tr>\n",
       "      <td>9</td>\n",
       "      <td>No log</td>\n",
       "      <td>0.761162</td>\n",
       "      <td>0.302013</td>\n",
       "      <td>0.090361</td>\n",
       "      <td>0.139104</td>\n",
       "    </tr>\n",
       "    <tr>\n",
       "      <td>10</td>\n",
       "      <td>No log</td>\n",
       "      <td>0.759857</td>\n",
       "      <td>0.308642</td>\n",
       "      <td>0.100402</td>\n",
       "      <td>0.151515</td>\n",
       "    </tr>\n",
       "  </tbody>\n",
       "</table><p>"
      ],
      "text/plain": [
       "<IPython.core.display.HTML object>"
      ]
     },
     "metadata": {},
     "output_type": "display_data"
    },
    {
     "name": "stderr",
     "output_type": "stream",
     "text": [
      "C:\\Users\\ivanm\\anaconda3\\envs\\project\\Lib\\site-packages\\seqeval\\metrics\\v1.py:57: UndefinedMetricWarning: Precision and F-score are ill-defined and being set to 0.0 in labels with no predicted samples. Use `zero_division` parameter to control this behavior.\n",
      "  _warn_prf(average, modifier, msg_start, len(result))\n",
      "C:\\Users\\ivanm\\anaconda3\\envs\\project\\Lib\\site-packages\\seqeval\\metrics\\v1.py:57: UndefinedMetricWarning: Precision and F-score are ill-defined and being set to 0.0 in labels with no predicted samples. Use `zero_division` parameter to control this behavior.\n",
      "  _warn_prf(average, modifier, msg_start, len(result))\n",
      "C:\\Users\\ivanm\\anaconda3\\envs\\project\\Lib\\site-packages\\seqeval\\metrics\\v1.py:57: UndefinedMetricWarning: Precision and F-score are ill-defined and being set to 0.0 in labels with no predicted samples. Use `zero_division` parameter to control this behavior.\n",
      "  _warn_prf(average, modifier, msg_start, len(result))\n",
      "C:\\Users\\ivanm\\anaconda3\\envs\\project\\Lib\\site-packages\\seqeval\\metrics\\v1.py:57: UndefinedMetricWarning: Precision and F-score are ill-defined and being set to 0.0 in labels with no predicted samples. Use `zero_division` parameter to control this behavior.\n",
      "  _warn_prf(average, modifier, msg_start, len(result))\n",
      "C:\\Users\\ivanm\\anaconda3\\envs\\project\\Lib\\site-packages\\seqeval\\metrics\\v1.py:57: UndefinedMetricWarning: Precision and F-score are ill-defined and being set to 0.0 in labels with no predicted samples. Use `zero_division` parameter to control this behavior.\n",
      "  _warn_prf(average, modifier, msg_start, len(result))\n",
      "C:\\Users\\ivanm\\anaconda3\\envs\\project\\Lib\\site-packages\\seqeval\\metrics\\v1.py:57: UndefinedMetricWarning: Precision and F-score are ill-defined and being set to 0.0 in labels with no predicted samples. Use `zero_division` parameter to control this behavior.\n",
      "  _warn_prf(average, modifier, msg_start, len(result))\n",
      "C:\\Users\\ivanm\\anaconda3\\envs\\project\\Lib\\site-packages\\seqeval\\metrics\\v1.py:57: UndefinedMetricWarning: Precision and F-score are ill-defined and being set to 0.0 in labels with no predicted samples. Use `zero_division` parameter to control this behavior.\n",
      "  _warn_prf(average, modifier, msg_start, len(result))\n",
      "C:\\Users\\ivanm\\anaconda3\\envs\\project\\Lib\\site-packages\\seqeval\\metrics\\v1.py:57: UndefinedMetricWarning: Precision and F-score are ill-defined and being set to 0.0 in labels with no predicted samples. Use `zero_division` parameter to control this behavior.\n",
      "  _warn_prf(average, modifier, msg_start, len(result))\n",
      "C:\\Users\\ivanm\\anaconda3\\envs\\project\\Lib\\site-packages\\seqeval\\metrics\\v1.py:57: UndefinedMetricWarning: Precision and F-score are ill-defined and being set to 0.0 in labels with no predicted samples. Use `zero_division` parameter to control this behavior.\n",
      "  _warn_prf(average, modifier, msg_start, len(result))\n",
      "C:\\Users\\ivanm\\anaconda3\\envs\\project\\Lib\\site-packages\\seqeval\\metrics\\v1.py:57: UndefinedMetricWarning: Precision and F-score are ill-defined and being set to 0.0 in labels with no predicted samples. Use `zero_division` parameter to control this behavior.\n",
      "  _warn_prf(average, modifier, msg_start, len(result))\n"
     ]
    },
    {
     "data": {
      "text/html": [],
      "text/plain": [
       "<IPython.core.display.HTML object>"
      ]
     },
     "metadata": {},
     "output_type": "display_data"
    },
    {
     "name": "stderr",
     "output_type": "stream",
     "text": [
      "C:\\Users\\ivanm\\anaconda3\\envs\\project\\Lib\\site-packages\\seqeval\\metrics\\v1.py:57: UndefinedMetricWarning: Precision and F-score are ill-defined and being set to 0.0 in labels with no predicted samples. Use `zero_division` parameter to control this behavior.\n",
      "  _warn_prf(average, modifier, msg_start, len(result))\n"
     ]
    },
    {
     "name": "stdout",
     "output_type": "stream",
     "text": [
      "[NER] Результаты: F1 = 0.1515\n",
      "\n",
      "[NER] Подробный отчет о классификации:\n",
      "              precision    recall  f1-score   support\n",
      "\n",
      "  B-ALLERGEN     0.0000    0.0000    0.0000        69\n",
      " B-BODY_PART     0.8056    0.3766    0.5133        77\n",
      "  B-MEDICINE     1.0000    0.1569    0.2712        51\n",
      "   B-SYMPTOM     0.5500    0.3267    0.4099       101\n",
      "   B-TOPONYM     0.5714    0.0816    0.1429       196\n",
      "  I-ALLERGEN     0.0000    0.0000    0.0000        80\n",
      " I-BODY_PART     0.0000    0.0000    0.0000        17\n",
      "  I-MEDICINE     0.7368    0.3333    0.4590        84\n",
      "   I-SYMPTOM     0.4706    0.0656    0.1151       122\n",
      "   I-TOPONYM     0.0000    0.0000    0.0000        44\n",
      "           O     0.7897    0.9881    0.8779      2604\n",
      "\n",
      "    accuracy                         0.7823      3445\n",
      "   macro avg     0.4477    0.2117    0.2536      3445\n",
      "weighted avg     0.7130    0.7823    0.7145      3445\n",
      "\n"
     ]
    },
    {
     "name": "stderr",
     "output_type": "stream",
     "text": [
      "C:\\Users\\ivanm\\anaconda3\\envs\\project\\Lib\\site-packages\\sklearn\\metrics\\_classification.py:1565: UndefinedMetricWarning: Precision is ill-defined and being set to 0.0 in labels with no predicted samples. Use `zero_division` parameter to control this behavior.\n",
      "  _warn_prf(average, modifier, f\"{metric.capitalize()} is\", len(result))\n",
      "C:\\Users\\ivanm\\anaconda3\\envs\\project\\Lib\\site-packages\\sklearn\\metrics\\_classification.py:1565: UndefinedMetricWarning: Precision is ill-defined and being set to 0.0 in labels with no predicted samples. Use `zero_division` parameter to control this behavior.\n",
      "  _warn_prf(average, modifier, f\"{metric.capitalize()} is\", len(result))\n",
      "C:\\Users\\ivanm\\anaconda3\\envs\\project\\Lib\\site-packages\\sklearn\\metrics\\_classification.py:1565: UndefinedMetricWarning: Precision is ill-defined and being set to 0.0 in labels with no predicted samples. Use `zero_division` parameter to control this behavior.\n",
      "  _warn_prf(average, modifier, f\"{metric.capitalize()} is\", len(result))\n"
     ]
    },
    {
     "name": "stdout",
     "output_type": "stream",
     "text": [
      "[NER] Модель сохранена в models/pollen_ner_350\n"
     ]
    },
    {
     "name": "stderr",
     "output_type": "stream",
     "text": [
      "No files have been modified since last commit. Skipping to prevent empty commit.\n"
     ]
    },
    {
     "name": "stdout",
     "output_type": "stream",
     "text": [
      "[NER] Лучшая модель за все итерации сохранена в models/pollen_ner_best\n",
      "\n",
      "[NER] Тестирование модели после обучения:\n",
      "\n",
      "Тестовый пример:\n",
      "Текст: В Московской области у меня началась аллергия на пыльцу березы, потекли глаза, нос, принимаю Зиртек и Назонекс. У ребенка в Новокузнецке чешутся глаза, уши и течет нос, врач прописал Кромогексал, Назонекс в нос. В Санкт-Петербурге началось цветение ольхи, сильная реакция, принимаю Эриус, но глаза все равно слезятся.\n",
      "\n",
      "[NER] Результаты анализа:\n",
      "TOPONYM: не найдено\n",
      "MEDICINE: не найдено\n",
      "SYMPTOM: пот, слез\n",
      "ALLERGEN: не найдено\n",
      "BODY_PART: глаза, нос, глаза, уши, глаза\n",
      "Модель перемещена на cuda\n",
      "\n",
      "Статистика распределения классов в тренировочном датасете после итерации 7:\n",
      "Counter({'SYMPTOM': 385, 'TOPONYM': 314, 'BODY_PART': 247, 'MEDICINE': 173, 'ALLERGEN': 135})\n",
      "\n",
      "[NER] Начинаем итерацию с размером выборки 400\n"
     ]
    },
    {
     "name": "stderr",
     "output_type": "stream",
     "text": [
      "C:\\Users\\ivanm\\anaconda3\\envs\\project\\Lib\\site-packages\\peft\\mapping_func.py:73: UserWarning: You are trying to modify a model with PEFT for a second time. If you want to reload the model with a different config, make sure to call `.unload()` before.\n",
      "  warnings.warn(\n",
      "C:\\Users\\ivanm\\anaconda3\\envs\\project\\Lib\\site-packages\\peft\\tuners\\tuners_utils.py:167: UserWarning: Already found a `peft_config` attribute in the model. This will lead to having multiple adapters in the model. Make sure to know what you are doing!\n",
      "  warnings.warn(\n"
     ]
    },
    {
     "name": "stdout",
     "output_type": "stream",
     "text": [
      "Найден существующий размеченный проект для размера 400\n",
      "После итерации 8 осталось 3643 сообщений\n"
     ]
    },
    {
     "data": {
      "application/vnd.jupyter.widget-view+json": {
       "model_id": "4f78811ab27a46c8b8f3ffebcac3a0f5",
       "version_major": 2,
       "version_minor": 0
      },
      "text/plain": [
       "Map:   0%|          | 0/400 [00:00<?, ? examples/s]"
      ]
     },
     "metadata": {},
     "output_type": "display_data"
    },
    {
     "name": "stderr",
     "output_type": "stream",
     "text": [
      "No label_names provided for model class `PeftModelForTokenClassification`. Since `PeftModel` hides base models input arguments, if label_names is not given, label_names can't be set automatically within `Trainer`. Note that empty label_names list will be used instead.\n"
     ]
    },
    {
     "name": "stdout",
     "output_type": "stream",
     "text": [
      "[NER] Обучение на 400 примерах\n"
     ]
    },
    {
     "data": {
      "text/html": [
       "\n",
       "    <div>\n",
       "      \n",
       "      <progress value='500' max='500' style='width:300px; height:20px; vertical-align: middle;'></progress>\n",
       "      [500/500 04:41, Epoch 10/10]\n",
       "    </div>\n",
       "    <table border=\"1\" class=\"dataframe\">\n",
       "  <thead>\n",
       " <tr style=\"text-align: left;\">\n",
       "      <th>Epoch</th>\n",
       "      <th>Training Loss</th>\n",
       "      <th>Validation Loss</th>\n",
       "      <th>Precision</th>\n",
       "      <th>Recall</th>\n",
       "      <th>F1</th>\n",
       "    </tr>\n",
       "  </thead>\n",
       "  <tbody>\n",
       "    <tr>\n",
       "      <td>1</td>\n",
       "      <td>No log</td>\n",
       "      <td>0.701246</td>\n",
       "      <td>0.390152</td>\n",
       "      <td>0.206827</td>\n",
       "      <td>0.270341</td>\n",
       "    </tr>\n",
       "    <tr>\n",
       "      <td>2</td>\n",
       "      <td>No log</td>\n",
       "      <td>0.652081</td>\n",
       "      <td>0.425134</td>\n",
       "      <td>0.319277</td>\n",
       "      <td>0.364679</td>\n",
       "    </tr>\n",
       "    <tr>\n",
       "      <td>3</td>\n",
       "      <td>No log</td>\n",
       "      <td>0.623924</td>\n",
       "      <td>0.452830</td>\n",
       "      <td>0.433735</td>\n",
       "      <td>0.443077</td>\n",
       "    </tr>\n",
       "    <tr>\n",
       "      <td>4</td>\n",
       "      <td>No log</td>\n",
       "      <td>0.577853</td>\n",
       "      <td>0.468000</td>\n",
       "      <td>0.469880</td>\n",
       "      <td>0.468938</td>\n",
       "    </tr>\n",
       "    <tr>\n",
       "      <td>5</td>\n",
       "      <td>No log</td>\n",
       "      <td>0.564276</td>\n",
       "      <td>0.456294</td>\n",
       "      <td>0.524096</td>\n",
       "      <td>0.487850</td>\n",
       "    </tr>\n",
       "    <tr>\n",
       "      <td>6</td>\n",
       "      <td>No log</td>\n",
       "      <td>0.550945</td>\n",
       "      <td>0.448505</td>\n",
       "      <td>0.542169</td>\n",
       "      <td>0.490909</td>\n",
       "    </tr>\n",
       "    <tr>\n",
       "      <td>7</td>\n",
       "      <td>No log</td>\n",
       "      <td>0.530452</td>\n",
       "      <td>0.462057</td>\n",
       "      <td>0.550201</td>\n",
       "      <td>0.502291</td>\n",
       "    </tr>\n",
       "    <tr>\n",
       "      <td>8</td>\n",
       "      <td>No log</td>\n",
       "      <td>0.525641</td>\n",
       "      <td>0.463295</td>\n",
       "      <td>0.570281</td>\n",
       "      <td>0.511251</td>\n",
       "    </tr>\n",
       "    <tr>\n",
       "      <td>9</td>\n",
       "      <td>No log</td>\n",
       "      <td>0.521654</td>\n",
       "      <td>0.461290</td>\n",
       "      <td>0.574297</td>\n",
       "      <td>0.511628</td>\n",
       "    </tr>\n",
       "    <tr>\n",
       "      <td>10</td>\n",
       "      <td>0.965200</td>\n",
       "      <td>0.519775</td>\n",
       "      <td>0.461538</td>\n",
       "      <td>0.578313</td>\n",
       "      <td>0.513369</td>\n",
       "    </tr>\n",
       "  </tbody>\n",
       "</table><p>"
      ],
      "text/plain": [
       "<IPython.core.display.HTML object>"
      ]
     },
     "metadata": {},
     "output_type": "display_data"
    },
    {
     "data": {
      "text/html": [],
      "text/plain": [
       "<IPython.core.display.HTML object>"
      ]
     },
     "metadata": {},
     "output_type": "display_data"
    },
    {
     "name": "stdout",
     "output_type": "stream",
     "text": [
      "[NER] Результаты: F1 = 0.5134\n",
      "\n",
      "[NER] Подробный отчет о классификации:\n",
      "              precision    recall  f1-score   support\n",
      "\n",
      "  B-ALLERGEN     0.8250    0.4783    0.6055        69\n",
      " B-BODY_PART     0.7065    0.8442    0.7692        77\n",
      "  B-MEDICINE     0.7500    0.4706    0.5783        51\n",
      "   B-SYMPTOM     0.5139    0.7327    0.6041       101\n",
      "   B-TOPONYM     0.5934    0.7296    0.6545       196\n",
      "  I-ALLERGEN     1.0000    0.0750    0.1395        80\n",
      " I-BODY_PART     0.0000    0.0000    0.0000        17\n",
      "  I-MEDICINE     0.6633    0.7738    0.7143        84\n",
      "   I-SYMPTOM     0.4923    0.7869    0.6057       122\n",
      "   I-TOPONYM     1.0000    0.0455    0.0870        44\n",
      "           O     0.9264    0.9232    0.9248      2604\n",
      "\n",
      "    accuracy                         0.8453      3445\n",
      "   macro avg     0.6792    0.5327    0.5166      3445\n",
      "weighted avg     0.8621    0.8453    0.8351      3445\n",
      "\n"
     ]
    },
    {
     "name": "stderr",
     "output_type": "stream",
     "text": [
      "C:\\Users\\ivanm\\anaconda3\\envs\\project\\Lib\\site-packages\\sklearn\\metrics\\_classification.py:1565: UndefinedMetricWarning: Precision is ill-defined and being set to 0.0 in labels with no predicted samples. Use `zero_division` parameter to control this behavior.\n",
      "  _warn_prf(average, modifier, f\"{metric.capitalize()} is\", len(result))\n",
      "C:\\Users\\ivanm\\anaconda3\\envs\\project\\Lib\\site-packages\\sklearn\\metrics\\_classification.py:1565: UndefinedMetricWarning: Precision is ill-defined and being set to 0.0 in labels with no predicted samples. Use `zero_division` parameter to control this behavior.\n",
      "  _warn_prf(average, modifier, f\"{metric.capitalize()} is\", len(result))\n",
      "C:\\Users\\ivanm\\anaconda3\\envs\\project\\Lib\\site-packages\\sklearn\\metrics\\_classification.py:1565: UndefinedMetricWarning: Precision is ill-defined and being set to 0.0 in labels with no predicted samples. Use `zero_division` parameter to control this behavior.\n",
      "  _warn_prf(average, modifier, f\"{metric.capitalize()} is\", len(result))\n"
     ]
    },
    {
     "name": "stdout",
     "output_type": "stream",
     "text": [
      "[NER] Модель сохранена в models/pollen_ner_400\n"
     ]
    },
    {
     "name": "stderr",
     "output_type": "stream",
     "text": [
      "No files have been modified since last commit. Skipping to prevent empty commit.\n"
     ]
    },
    {
     "name": "stdout",
     "output_type": "stream",
     "text": [
      "[NER] Лучшая модель за все итерации сохранена в models/pollen_ner_best\n",
      "\n",
      "[NER] Тестирование модели после обучения:\n",
      "\n",
      "Тестовый пример:\n",
      "Текст: В Московской области у меня началась аллергия на пыльцу березы, потекли глаза, нос, принимаю Зиртек и Назонекс. У ребенка в Новокузнецке чешутся глаза, уши и течет нос, врач прописал Кромогексал, Назонекс в нос. В Санкт-Петербурге началось цветение ольхи, сильная реакция, принимаю Эриус, но глаза все равно слезятся.\n",
      "\n",
      "[NER] Результаты анализа:\n",
      "TOPONYM: .\n",
      "MEDICINE: Зиртек, Кромогексал, Назонекс, Эриус\n",
      "SYMPTOM: пыльцу, потекли, Наз, чешутся, течет, слезятся\n",
      "ALLERGEN: берез, ы, оль\n",
      "BODY_PART: глаза, нос, глаза, уши, нос, нос, глаза\n",
      "Модель перемещена на cuda\n",
      "\n",
      "Статистика распределения классов в тренировочном датасете после итерации 8:\n",
      "Counter({'SYMPTOM': 497, 'TOPONYM': 366, 'BODY_PART': 331, 'MEDICINE': 204, 'ALLERGEN': 144})\n",
      "\n",
      "[NER] Начинаем итерацию с размером выборки 450\n"
     ]
    },
    {
     "name": "stderr",
     "output_type": "stream",
     "text": [
      "C:\\Users\\ivanm\\anaconda3\\envs\\project\\Lib\\site-packages\\peft\\mapping_func.py:73: UserWarning: You are trying to modify a model with PEFT for a second time. If you want to reload the model with a different config, make sure to call `.unload()` before.\n",
      "  warnings.warn(\n",
      "C:\\Users\\ivanm\\anaconda3\\envs\\project\\Lib\\site-packages\\peft\\tuners\\tuners_utils.py:167: UserWarning: Already found a `peft_config` attribute in the model. This will lead to having multiple adapters in the model. Make sure to know what you are doing!\n",
      "  warnings.warn(\n"
     ]
    },
    {
     "name": "stdout",
     "output_type": "stream",
     "text": [
      "Найден существующий размеченный проект для размера 450\n",
      "После итерации 9 осталось 3593 сообщений\n"
     ]
    },
    {
     "data": {
      "application/vnd.jupyter.widget-view+json": {
       "model_id": "3b890c72eea040b79762a9a6bd104082",
       "version_major": 2,
       "version_minor": 0
      },
      "text/plain": [
       "Map:   0%|          | 0/450 [00:00<?, ? examples/s]"
      ]
     },
     "metadata": {},
     "output_type": "display_data"
    },
    {
     "name": "stderr",
     "output_type": "stream",
     "text": [
      "No label_names provided for model class `PeftModelForTokenClassification`. Since `PeftModel` hides base models input arguments, if label_names is not given, label_names can't be set automatically within `Trainer`. Note that empty label_names list will be used instead.\n"
     ]
    },
    {
     "name": "stdout",
     "output_type": "stream",
     "text": [
      "[NER] Обучение на 450 примерах\n"
     ]
    },
    {
     "data": {
      "text/html": [
       "\n",
       "    <div>\n",
       "      \n",
       "      <progress value='570' max='570' style='width:300px; height:20px; vertical-align: middle;'></progress>\n",
       "      [570/570 05:12, Epoch 10/10]\n",
       "    </div>\n",
       "    <table border=\"1\" class=\"dataframe\">\n",
       "  <thead>\n",
       " <tr style=\"text-align: left;\">\n",
       "      <th>Epoch</th>\n",
       "      <th>Training Loss</th>\n",
       "      <th>Validation Loss</th>\n",
       "      <th>Precision</th>\n",
       "      <th>Recall</th>\n",
       "      <th>F1</th>\n",
       "    </tr>\n",
       "  </thead>\n",
       "  <tbody>\n",
       "    <tr>\n",
       "      <td>1</td>\n",
       "      <td>No log</td>\n",
       "      <td>0.486102</td>\n",
       "      <td>0.492936</td>\n",
       "      <td>0.630522</td>\n",
       "      <td>0.553304</td>\n",
       "    </tr>\n",
       "    <tr>\n",
       "      <td>2</td>\n",
       "      <td>No log</td>\n",
       "      <td>0.472945</td>\n",
       "      <td>0.484352</td>\n",
       "      <td>0.652610</td>\n",
       "      <td>0.556031</td>\n",
       "    </tr>\n",
       "    <tr>\n",
       "      <td>3</td>\n",
       "      <td>No log</td>\n",
       "      <td>0.455163</td>\n",
       "      <td>0.487699</td>\n",
       "      <td>0.676707</td>\n",
       "      <td>0.566863</td>\n",
       "    </tr>\n",
       "    <tr>\n",
       "      <td>4</td>\n",
       "      <td>No log</td>\n",
       "      <td>0.434806</td>\n",
       "      <td>0.510324</td>\n",
       "      <td>0.694779</td>\n",
       "      <td>0.588435</td>\n",
       "    </tr>\n",
       "    <tr>\n",
       "      <td>5</td>\n",
       "      <td>No log</td>\n",
       "      <td>0.422223</td>\n",
       "      <td>0.522963</td>\n",
       "      <td>0.708835</td>\n",
       "      <td>0.601876</td>\n",
       "    </tr>\n",
       "    <tr>\n",
       "      <td>6</td>\n",
       "      <td>No log</td>\n",
       "      <td>0.407766</td>\n",
       "      <td>0.535552</td>\n",
       "      <td>0.710843</td>\n",
       "      <td>0.610871</td>\n",
       "    </tr>\n",
       "    <tr>\n",
       "      <td>7</td>\n",
       "      <td>No log</td>\n",
       "      <td>0.406780</td>\n",
       "      <td>0.537313</td>\n",
       "      <td>0.722892</td>\n",
       "      <td>0.616438</td>\n",
       "    </tr>\n",
       "    <tr>\n",
       "      <td>8</td>\n",
       "      <td>No log</td>\n",
       "      <td>0.401464</td>\n",
       "      <td>0.548580</td>\n",
       "      <td>0.736948</td>\n",
       "      <td>0.628963</td>\n",
       "    </tr>\n",
       "    <tr>\n",
       "      <td>9</td>\n",
       "      <td>0.750100</td>\n",
       "      <td>0.396952</td>\n",
       "      <td>0.551360</td>\n",
       "      <td>0.732932</td>\n",
       "      <td>0.629310</td>\n",
       "    </tr>\n",
       "    <tr>\n",
       "      <td>10</td>\n",
       "      <td>0.750100</td>\n",
       "      <td>0.395573</td>\n",
       "      <td>0.553869</td>\n",
       "      <td>0.732932</td>\n",
       "      <td>0.630942</td>\n",
       "    </tr>\n",
       "  </tbody>\n",
       "</table><p>"
      ],
      "text/plain": [
       "<IPython.core.display.HTML object>"
      ]
     },
     "metadata": {},
     "output_type": "display_data"
    },
    {
     "data": {
      "text/html": [],
      "text/plain": [
       "<IPython.core.display.HTML object>"
      ]
     },
     "metadata": {},
     "output_type": "display_data"
    },
    {
     "name": "stdout",
     "output_type": "stream",
     "text": [
      "[NER] Результаты: F1 = 0.6309\n",
      "\n",
      "[NER] Подробный отчет о классификации:\n",
      "              precision    recall  f1-score   support\n",
      "\n",
      "  B-ALLERGEN     0.7547    0.5797    0.6557        69\n",
      " B-BODY_PART     0.7283    0.8701    0.7929        77\n",
      "  B-MEDICINE     0.6596    0.6078    0.6327        51\n",
      "   B-SYMPTOM     0.5827    0.8020    0.6750       101\n",
      "   B-TOPONYM     0.6667    0.9388    0.7797       196\n",
      "  I-ALLERGEN     1.0000    0.2875    0.4466        80\n",
      " I-BODY_PART     0.0000    0.0000    0.0000        17\n",
      "  I-MEDICINE     0.6900    0.8214    0.7500        84\n",
      "   I-SYMPTOM     0.4739    0.8197    0.6006       122\n",
      "   I-TOPONYM     1.0000    0.5909    0.7429        44\n",
      "           O     0.9605    0.9140    0.9366      2604\n",
      "\n",
      "    accuracy                         0.8711      3445\n",
      "   macro avg     0.6833    0.6574    0.6375      3445\n",
      "weighted avg     0.8918    0.8711    0.8718      3445\n",
      "\n"
     ]
    },
    {
     "name": "stderr",
     "output_type": "stream",
     "text": [
      "C:\\Users\\ivanm\\anaconda3\\envs\\project\\Lib\\site-packages\\sklearn\\metrics\\_classification.py:1565: UndefinedMetricWarning: Precision is ill-defined and being set to 0.0 in labels with no predicted samples. Use `zero_division` parameter to control this behavior.\n",
      "  _warn_prf(average, modifier, f\"{metric.capitalize()} is\", len(result))\n",
      "C:\\Users\\ivanm\\anaconda3\\envs\\project\\Lib\\site-packages\\sklearn\\metrics\\_classification.py:1565: UndefinedMetricWarning: Precision is ill-defined and being set to 0.0 in labels with no predicted samples. Use `zero_division` parameter to control this behavior.\n",
      "  _warn_prf(average, modifier, f\"{metric.capitalize()} is\", len(result))\n",
      "C:\\Users\\ivanm\\anaconda3\\envs\\project\\Lib\\site-packages\\sklearn\\metrics\\_classification.py:1565: UndefinedMetricWarning: Precision is ill-defined and being set to 0.0 in labels with no predicted samples. Use `zero_division` parameter to control this behavior.\n",
      "  _warn_prf(average, modifier, f\"{metric.capitalize()} is\", len(result))\n"
     ]
    },
    {
     "name": "stdout",
     "output_type": "stream",
     "text": [
      "[NER] Модель сохранена в models/pollen_ner_450\n"
     ]
    },
    {
     "name": "stderr",
     "output_type": "stream",
     "text": [
      "No files have been modified since last commit. Skipping to prevent empty commit.\n"
     ]
    },
    {
     "name": "stdout",
     "output_type": "stream",
     "text": [
      "[NER] Лучшая модель за все итерации сохранена в models/pollen_ner_best\n",
      "\n",
      "[NER] Тестирование модели после обучения:\n",
      "\n",
      "Тестовый пример:\n",
      "Текст: В Московской области у меня началась аллергия на пыльцу березы, потекли глаза, нос, принимаю Зиртек и Назонекс. У ребенка в Новокузнецке чешутся глаза, уши и течет нос, врач прописал Кромогексал, Назонекс в нос. В Санкт-Петербурге началось цветение ольхи, сильная реакция, принимаю Эриус, но глаза все равно слезятся.\n",
      "\n",
      "[NER] Результаты анализа:\n",
      "TOPONYM: Московской, ., Новокузнецке, .\n",
      "MEDICINE: Зиртек, Назонекс, Кромогексал, Назонекс, Эриус\n",
      "SYMPTOM: пыльцу, потекли, чешутся, течет, слезятся\n",
      "ALLERGEN: березы, цвете, ольхи\n",
      "BODY_PART: глаза, нос, глаза, уши, нос, в, нос, глаза\n",
      "Модель перемещена на cuda\n",
      "\n",
      "Статистика распределения классов в тренировочном датасете после итерации 9:\n",
      "Counter({'SYMPTOM': 571, 'TOPONYM': 416, 'BODY_PART': 388, 'MEDICINE': 222, 'ALLERGEN': 164})\n",
      "\n",
      "[NER] Начинаем итерацию с размером выборки 500\n"
     ]
    },
    {
     "name": "stderr",
     "output_type": "stream",
     "text": [
      "C:\\Users\\ivanm\\anaconda3\\envs\\project\\Lib\\site-packages\\peft\\mapping_func.py:73: UserWarning: You are trying to modify a model with PEFT for a second time. If you want to reload the model with a different config, make sure to call `.unload()` before.\n",
      "  warnings.warn(\n",
      "C:\\Users\\ivanm\\anaconda3\\envs\\project\\Lib\\site-packages\\peft\\tuners\\tuners_utils.py:167: UserWarning: Already found a `peft_config` attribute in the model. This will lead to having multiple adapters in the model. Make sure to know what you are doing!\n",
      "  warnings.warn(\n"
     ]
    },
    {
     "name": "stdout",
     "output_type": "stream",
     "text": [
      "Найден существующий размеченный проект для размера 500\n",
      "После итерации 10 осталось 3543 сообщений\n"
     ]
    },
    {
     "data": {
      "application/vnd.jupyter.widget-view+json": {
       "model_id": "7b4955baffee41159bcf000ced660a08",
       "version_major": 2,
       "version_minor": 0
      },
      "text/plain": [
       "Map:   0%|          | 0/500 [00:00<?, ? examples/s]"
      ]
     },
     "metadata": {},
     "output_type": "display_data"
    },
    {
     "name": "stderr",
     "output_type": "stream",
     "text": [
      "No label_names provided for model class `PeftModelForTokenClassification`. Since `PeftModel` hides base models input arguments, if label_names is not given, label_names can't be set automatically within `Trainer`. Note that empty label_names list will be used instead.\n"
     ]
    },
    {
     "name": "stdout",
     "output_type": "stream",
     "text": [
      "[NER] Обучение на 500 примерах\n"
     ]
    },
    {
     "data": {
      "text/html": [
       "\n",
       "    <div>\n",
       "      \n",
       "      <progress value='630' max='630' style='width:300px; height:20px; vertical-align: middle;'></progress>\n",
       "      [630/630 05:42, Epoch 10/10]\n",
       "    </div>\n",
       "    <table border=\"1\" class=\"dataframe\">\n",
       "  <thead>\n",
       " <tr style=\"text-align: left;\">\n",
       "      <th>Epoch</th>\n",
       "      <th>Training Loss</th>\n",
       "      <th>Validation Loss</th>\n",
       "      <th>Precision</th>\n",
       "      <th>Recall</th>\n",
       "      <th>F1</th>\n",
       "    </tr>\n",
       "  </thead>\n",
       "  <tbody>\n",
       "    <tr>\n",
       "      <td>1</td>\n",
       "      <td>No log</td>\n",
       "      <td>0.382078</td>\n",
       "      <td>0.550445</td>\n",
       "      <td>0.744980</td>\n",
       "      <td>0.633106</td>\n",
       "    </tr>\n",
       "    <tr>\n",
       "      <td>2</td>\n",
       "      <td>No log</td>\n",
       "      <td>0.378969</td>\n",
       "      <td>0.552632</td>\n",
       "      <td>0.759036</td>\n",
       "      <td>0.639594</td>\n",
       "    </tr>\n",
       "    <tr>\n",
       "      <td>3</td>\n",
       "      <td>No log</td>\n",
       "      <td>0.365513</td>\n",
       "      <td>0.568657</td>\n",
       "      <td>0.765060</td>\n",
       "      <td>0.652397</td>\n",
       "    </tr>\n",
       "    <tr>\n",
       "      <td>4</td>\n",
       "      <td>No log</td>\n",
       "      <td>0.364889</td>\n",
       "      <td>0.571429</td>\n",
       "      <td>0.779116</td>\n",
       "      <td>0.659303</td>\n",
       "    </tr>\n",
       "    <tr>\n",
       "      <td>5</td>\n",
       "      <td>No log</td>\n",
       "      <td>0.337904</td>\n",
       "      <td>0.607143</td>\n",
       "      <td>0.785141</td>\n",
       "      <td>0.684764</td>\n",
       "    </tr>\n",
       "    <tr>\n",
       "      <td>6</td>\n",
       "      <td>No log</td>\n",
       "      <td>0.341193</td>\n",
       "      <td>0.601527</td>\n",
       "      <td>0.791165</td>\n",
       "      <td>0.683435</td>\n",
       "    </tr>\n",
       "    <tr>\n",
       "      <td>7</td>\n",
       "      <td>No log</td>\n",
       "      <td>0.335366</td>\n",
       "      <td>0.607088</td>\n",
       "      <td>0.791165</td>\n",
       "      <td>0.687010</td>\n",
       "    </tr>\n",
       "    <tr>\n",
       "      <td>8</td>\n",
       "      <td>0.617500</td>\n",
       "      <td>0.335462</td>\n",
       "      <td>0.607034</td>\n",
       "      <td>0.797189</td>\n",
       "      <td>0.689236</td>\n",
       "    </tr>\n",
       "    <tr>\n",
       "      <td>9</td>\n",
       "      <td>0.617500</td>\n",
       "      <td>0.332145</td>\n",
       "      <td>0.614198</td>\n",
       "      <td>0.799197</td>\n",
       "      <td>0.694590</td>\n",
       "    </tr>\n",
       "    <tr>\n",
       "      <td>10</td>\n",
       "      <td>0.617500</td>\n",
       "      <td>0.331252</td>\n",
       "      <td>0.616099</td>\n",
       "      <td>0.799197</td>\n",
       "      <td>0.695804</td>\n",
       "    </tr>\n",
       "  </tbody>\n",
       "</table><p>"
      ],
      "text/plain": [
       "<IPython.core.display.HTML object>"
      ]
     },
     "metadata": {},
     "output_type": "display_data"
    },
    {
     "data": {
      "text/html": [],
      "text/plain": [
       "<IPython.core.display.HTML object>"
      ]
     },
     "metadata": {},
     "output_type": "display_data"
    },
    {
     "name": "stdout",
     "output_type": "stream",
     "text": [
      "[NER] Результаты: F1 = 0.6958\n",
      "\n",
      "[NER] Подробный отчет о классификации:\n",
      "              precision    recall  f1-score   support\n",
      "\n",
      "  B-ALLERGEN     0.7361    0.7681    0.7518        69\n",
      " B-BODY_PART     0.7614    0.8701    0.8121        77\n",
      "  B-MEDICINE     0.6604    0.6863    0.6731        51\n",
      "   B-SYMPTOM     0.6412    0.8317    0.7241       101\n",
      "   B-TOPONYM     0.7083    0.9541    0.8130       196\n",
      "  I-ALLERGEN     0.9792    0.5875    0.7344        80\n",
      " I-BODY_PART     0.0000    0.0000    0.0000        17\n",
      "  I-MEDICINE     0.7340    0.8214    0.7753        84\n",
      "   I-SYMPTOM     0.5258    0.8361    0.6456       122\n",
      "   I-TOPONYM     0.8780    0.8182    0.8471        44\n",
      "           O     0.9687    0.9151    0.9412      2604\n",
      "\n",
      "    accuracy                         0.8891      3445\n",
      "   macro avg     0.6903    0.7353    0.7016      3445\n",
      "weighted avg     0.9033    0.8891    0.8917      3445\n",
      "\n"
     ]
    },
    {
     "name": "stderr",
     "output_type": "stream",
     "text": [
      "C:\\Users\\ivanm\\anaconda3\\envs\\project\\Lib\\site-packages\\sklearn\\metrics\\_classification.py:1565: UndefinedMetricWarning: Precision is ill-defined and being set to 0.0 in labels with no predicted samples. Use `zero_division` parameter to control this behavior.\n",
      "  _warn_prf(average, modifier, f\"{metric.capitalize()} is\", len(result))\n",
      "C:\\Users\\ivanm\\anaconda3\\envs\\project\\Lib\\site-packages\\sklearn\\metrics\\_classification.py:1565: UndefinedMetricWarning: Precision is ill-defined and being set to 0.0 in labels with no predicted samples. Use `zero_division` parameter to control this behavior.\n",
      "  _warn_prf(average, modifier, f\"{metric.capitalize()} is\", len(result))\n",
      "C:\\Users\\ivanm\\anaconda3\\envs\\project\\Lib\\site-packages\\sklearn\\metrics\\_classification.py:1565: UndefinedMetricWarning: Precision is ill-defined and being set to 0.0 in labels with no predicted samples. Use `zero_division` parameter to control this behavior.\n",
      "  _warn_prf(average, modifier, f\"{metric.capitalize()} is\", len(result))\n"
     ]
    },
    {
     "name": "stdout",
     "output_type": "stream",
     "text": [
      "[NER] Модель сохранена в models/pollen_ner_500\n"
     ]
    },
    {
     "name": "stderr",
     "output_type": "stream",
     "text": [
      "No files have been modified since last commit. Skipping to prevent empty commit.\n"
     ]
    },
    {
     "name": "stdout",
     "output_type": "stream",
     "text": [
      "[NER] Лучшая модель за все итерации сохранена в models/pollen_ner_best\n",
      "\n",
      "[NER] Тестирование модели после обучения:\n",
      "\n",
      "Тестовый пример:\n",
      "Текст: В Московской области у меня началась аллергия на пыльцу березы, потекли глаза, нос, принимаю Зиртек и Назонекс. У ребенка в Новокузнецке чешутся глаза, уши и течет нос, врач прописал Кромогексал, Назонекс в нос. В Санкт-Петербурге началось цветение ольхи, сильная реакция, принимаю Эриус, но глаза все равно слезятся.\n",
      "\n",
      "[NER] Результаты анализа:\n",
      "TOPONYM: Московской, Новокузнецке, .\n",
      "MEDICINE: Зиртек, Назонекс, Кромогексал, Назонекс, Эриус\n",
      "SYMPTOM: потекли, чешутся, течет, слезятся\n",
      "ALLERGEN: пыльцу, березы, цвете, ольхи\n",
      "BODY_PART: глаза, нос, глаза, уши, нос, в, нос, глаза\n",
      "Модель перемещена на cuda\n",
      "\n",
      "Статистика распределения классов в тренировочном датасете после итерации 10:\n",
      "Counter({'SYMPTOM': 627, 'TOPONYM': 465, 'BODY_PART': 422, 'MEDICINE': 245, 'ALLERGEN': 189})\n",
      "\n",
      "[NER] Начинаем итерацию с размером выборки 550\n"
     ]
    },
    {
     "name": "stderr",
     "output_type": "stream",
     "text": [
      "C:\\Users\\ivanm\\anaconda3\\envs\\project\\Lib\\site-packages\\peft\\mapping_func.py:73: UserWarning: You are trying to modify a model with PEFT for a second time. If you want to reload the model with a different config, make sure to call `.unload()` before.\n",
      "  warnings.warn(\n",
      "C:\\Users\\ivanm\\anaconda3\\envs\\project\\Lib\\site-packages\\peft\\tuners\\tuners_utils.py:167: UserWarning: Already found a `peft_config` attribute in the model. This will lead to having multiple adapters in the model. Make sure to know what you are doing!\n",
      "  warnings.warn(\n"
     ]
    },
    {
     "name": "stdout",
     "output_type": "stream",
     "text": [
      "Найден существующий размеченный проект для размера 550\n",
      "После итерации 11 осталось 3493 сообщений\n"
     ]
    },
    {
     "data": {
      "application/vnd.jupyter.widget-view+json": {
       "model_id": "501dfcd9ada543abb3f41c5aa20829f0",
       "version_major": 2,
       "version_minor": 0
      },
      "text/plain": [
       "Map:   0%|          | 0/550 [00:00<?, ? examples/s]"
      ]
     },
     "metadata": {},
     "output_type": "display_data"
    },
    {
     "name": "stderr",
     "output_type": "stream",
     "text": [
      "No label_names provided for model class `PeftModelForTokenClassification`. Since `PeftModel` hides base models input arguments, if label_names is not given, label_names can't be set automatically within `Trainer`. Note that empty label_names list will be used instead.\n"
     ]
    },
    {
     "name": "stdout",
     "output_type": "stream",
     "text": [
      "[NER] Обучение на 550 примерах\n"
     ]
    },
    {
     "data": {
      "text/html": [
       "\n",
       "    <div>\n",
       "      \n",
       "      <progress value='621' max='690' style='width:300px; height:20px; vertical-align: middle;'></progress>\n",
       "      [621/690 05:36 < 00:37, 1.84 it/s, Epoch 9/10]\n",
       "    </div>\n",
       "    <table border=\"1\" class=\"dataframe\">\n",
       "  <thead>\n",
       " <tr style=\"text-align: left;\">\n",
       "      <th>Epoch</th>\n",
       "      <th>Training Loss</th>\n",
       "      <th>Validation Loss</th>\n",
       "      <th>Precision</th>\n",
       "      <th>Recall</th>\n",
       "      <th>F1</th>\n",
       "    </tr>\n",
       "  </thead>\n",
       "  <tbody>\n",
       "    <tr>\n",
       "      <td>1</td>\n",
       "      <td>No log</td>\n",
       "      <td>0.311787</td>\n",
       "      <td>0.633648</td>\n",
       "      <td>0.809237</td>\n",
       "      <td>0.710758</td>\n",
       "    </tr>\n",
       "    <tr>\n",
       "      <td>2</td>\n",
       "      <td>No log</td>\n",
       "      <td>0.295272</td>\n",
       "      <td>0.653094</td>\n",
       "      <td>0.805221</td>\n",
       "      <td>0.721223</td>\n",
       "    </tr>\n",
       "    <tr>\n",
       "      <td>3</td>\n",
       "      <td>No log</td>\n",
       "      <td>0.301376</td>\n",
       "      <td>0.646130</td>\n",
       "      <td>0.821285</td>\n",
       "      <td>0.723254</td>\n",
       "    </tr>\n",
       "    <tr>\n",
       "      <td>4</td>\n",
       "      <td>No log</td>\n",
       "      <td>0.299421</td>\n",
       "      <td>0.646782</td>\n",
       "      <td>0.827309</td>\n",
       "      <td>0.725991</td>\n",
       "    </tr>\n",
       "    <tr>\n",
       "      <td>5</td>\n",
       "      <td>No log</td>\n",
       "      <td>0.289205</td>\n",
       "      <td>0.649289</td>\n",
       "      <td>0.825301</td>\n",
       "      <td>0.726790</td>\n",
       "    </tr>\n",
       "    <tr>\n",
       "      <td>6</td>\n",
       "      <td>No log</td>\n",
       "      <td>0.285090</td>\n",
       "      <td>0.659744</td>\n",
       "      <td>0.829317</td>\n",
       "      <td>0.734875</td>\n",
       "    </tr>\n",
       "    <tr>\n",
       "      <td>7</td>\n",
       "      <td>No log</td>\n",
       "      <td>0.272591</td>\n",
       "      <td>0.682119</td>\n",
       "      <td>0.827309</td>\n",
       "      <td>0.747731</td>\n",
       "    </tr>\n",
       "    <tr>\n",
       "      <td>8</td>\n",
       "      <td>0.530900</td>\n",
       "      <td>0.275135</td>\n",
       "      <td>0.674304</td>\n",
       "      <td>0.827309</td>\n",
       "      <td>0.743012</td>\n",
       "    </tr>\n",
       "    <tr>\n",
       "      <td>9</td>\n",
       "      <td>0.530900</td>\n",
       "      <td>0.279685</td>\n",
       "      <td>0.670455</td>\n",
       "      <td>0.829317</td>\n",
       "      <td>0.741472</td>\n",
       "    </tr>\n",
       "  </tbody>\n",
       "</table><p>"
      ],
      "text/plain": [
       "<IPython.core.display.HTML object>"
      ]
     },
     "metadata": {},
     "output_type": "display_data"
    },
    {
     "data": {
      "text/html": [],
      "text/plain": [
       "<IPython.core.display.HTML object>"
      ]
     },
     "metadata": {},
     "output_type": "display_data"
    },
    {
     "name": "stdout",
     "output_type": "stream",
     "text": [
      "[NER] Результаты: F1 = 0.7477\n",
      "\n",
      "[NER] Подробный отчет о классификации:\n",
      "              precision    recall  f1-score   support\n",
      "\n",
      "  B-ALLERGEN     0.7639    0.7971    0.7801        69\n",
      " B-BODY_PART     0.8193    0.8831    0.8500        77\n",
      "  B-MEDICINE     0.7222    0.7647    0.7429        51\n",
      "   B-SYMPTOM     0.6905    0.8614    0.7665       101\n",
      "   B-TOPONYM     0.7746    0.9643    0.8591       196\n",
      "  I-ALLERGEN     0.9649    0.6875    0.8029        80\n",
      " I-BODY_PART     0.7500    0.1765    0.2857        17\n",
      "  I-MEDICINE     0.7556    0.8095    0.7816        84\n",
      "   I-SYMPTOM     0.5862    0.8361    0.6892       122\n",
      "   I-TOPONYM     0.8636    0.8636    0.8636        44\n",
      "           O     0.9708    0.9309    0.9504      2604\n",
      "\n",
      "    accuracy                         0.9080      3445\n",
      "   macro avg     0.7874    0.7795    0.7611      3445\n",
      "weighted avg     0.9187    0.9080    0.9099      3445\n",
      "\n",
      "[NER] Модель сохранена в models/pollen_ner_550\n"
     ]
    },
    {
     "name": "stderr",
     "output_type": "stream",
     "text": [
      "No files have been modified since last commit. Skipping to prevent empty commit.\n"
     ]
    },
    {
     "name": "stdout",
     "output_type": "stream",
     "text": [
      "[NER] Лучшая модель за все итерации сохранена в models/pollen_ner_best\n",
      "\n",
      "[NER] Тестирование модели после обучения:\n",
      "\n",
      "Тестовый пример:\n",
      "Текст: В Московской области у меня началась аллергия на пыльцу березы, потекли глаза, нос, принимаю Зиртек и Назонекс. У ребенка в Новокузнецке чешутся глаза, уши и течет нос, врач прописал Кромогексал, Назонекс в нос. В Санкт-Петербурге началось цветение ольхи, сильная реакция, принимаю Эриус, но глаза все равно слезятся.\n",
      "\n",
      "[NER] Результаты анализа:\n",
      "TOPONYM: Московскойобласти, Новокузнецке, ., Санкт-Петербурге\n",
      "MEDICINE: Зиртек, Назонекс, Кромогексал, Назонекс, Эриус\n",
      "SYMPTOM: потекли, чешутся, течет, слезятся\n",
      "ALLERGEN: пыльцу, березы, цвете, ольхи\n",
      "BODY_PART: глаза, нос, глаза, уши, нос, в, нос, глаза\n",
      "Модель перемещена на cuda\n",
      "\n",
      "Статистика распределения классов в тренировочном датасете после итерации 11:\n",
      "Counter({'SYMPTOM': 685, 'TOPONYM': 514, 'BODY_PART': 457, 'MEDICINE': 274, 'ALLERGEN': 207})\n",
      "\n",
      "[NER] Начинаем итерацию с размером выборки 600\n"
     ]
    },
    {
     "name": "stderr",
     "output_type": "stream",
     "text": [
      "C:\\Users\\ivanm\\anaconda3\\envs\\project\\Lib\\site-packages\\peft\\mapping_func.py:73: UserWarning: You are trying to modify a model with PEFT for a second time. If you want to reload the model with a different config, make sure to call `.unload()` before.\n",
      "  warnings.warn(\n",
      "C:\\Users\\ivanm\\anaconda3\\envs\\project\\Lib\\site-packages\\peft\\tuners\\tuners_utils.py:167: UserWarning: Already found a `peft_config` attribute in the model. This will lead to having multiple adapters in the model. Make sure to know what you are doing!\n",
      "  warnings.warn(\n"
     ]
    },
    {
     "name": "stdout",
     "output_type": "stream",
     "text": [
      "Найден существующий размеченный проект для размера 600\n",
      "После итерации 12 осталось 3443 сообщений\n"
     ]
    },
    {
     "data": {
      "application/vnd.jupyter.widget-view+json": {
       "model_id": "0f17901579fc4f358246fa1c12a4db5e",
       "version_major": 2,
       "version_minor": 0
      },
      "text/plain": [
       "Map:   0%|          | 0/600 [00:00<?, ? examples/s]"
      ]
     },
     "metadata": {},
     "output_type": "display_data"
    },
    {
     "name": "stderr",
     "output_type": "stream",
     "text": [
      "No label_names provided for model class `PeftModelForTokenClassification`. Since `PeftModel` hides base models input arguments, if label_names is not given, label_names can't be set automatically within `Trainer`. Note that empty label_names list will be used instead.\n"
     ]
    },
    {
     "name": "stdout",
     "output_type": "stream",
     "text": [
      "[NER] Обучение на 600 примерах\n"
     ]
    },
    {
     "data": {
      "text/html": [
       "\n",
       "    <div>\n",
       "      \n",
       "      <progress value='525' max='750' style='width:300px; height:20px; vertical-align: middle;'></progress>\n",
       "      [525/750 04:42 < 02:01, 1.85 it/s, Epoch 7/10]\n",
       "    </div>\n",
       "    <table border=\"1\" class=\"dataframe\">\n",
       "  <thead>\n",
       " <tr style=\"text-align: left;\">\n",
       "      <th>Epoch</th>\n",
       "      <th>Training Loss</th>\n",
       "      <th>Validation Loss</th>\n",
       "      <th>Precision</th>\n",
       "      <th>Recall</th>\n",
       "      <th>F1</th>\n",
       "    </tr>\n",
       "  </thead>\n",
       "  <tbody>\n",
       "    <tr>\n",
       "      <td>1</td>\n",
       "      <td>No log</td>\n",
       "      <td>0.267017</td>\n",
       "      <td>0.678748</td>\n",
       "      <td>0.827309</td>\n",
       "      <td>0.745701</td>\n",
       "    </tr>\n",
       "    <tr>\n",
       "      <td>2</td>\n",
       "      <td>No log</td>\n",
       "      <td>0.260539</td>\n",
       "      <td>0.687603</td>\n",
       "      <td>0.835341</td>\n",
       "      <td>0.754306</td>\n",
       "    </tr>\n",
       "    <tr>\n",
       "      <td>3</td>\n",
       "      <td>No log</td>\n",
       "      <td>0.252973</td>\n",
       "      <td>0.698492</td>\n",
       "      <td>0.837349</td>\n",
       "      <td>0.761644</td>\n",
       "    </tr>\n",
       "    <tr>\n",
       "      <td>4</td>\n",
       "      <td>No log</td>\n",
       "      <td>0.263259</td>\n",
       "      <td>0.683871</td>\n",
       "      <td>0.851406</td>\n",
       "      <td>0.758497</td>\n",
       "    </tr>\n",
       "    <tr>\n",
       "      <td>5</td>\n",
       "      <td>No log</td>\n",
       "      <td>0.252761</td>\n",
       "      <td>0.709732</td>\n",
       "      <td>0.849398</td>\n",
       "      <td>0.773309</td>\n",
       "    </tr>\n",
       "    <tr>\n",
       "      <td>6</td>\n",
       "      <td>No log</td>\n",
       "      <td>0.252328</td>\n",
       "      <td>0.707846</td>\n",
       "      <td>0.851406</td>\n",
       "      <td>0.773017</td>\n",
       "    </tr>\n",
       "    <tr>\n",
       "      <td>7</td>\n",
       "      <td>0.486100</td>\n",
       "      <td>0.253066</td>\n",
       "      <td>0.705193</td>\n",
       "      <td>0.845382</td>\n",
       "      <td>0.768950</td>\n",
       "    </tr>\n",
       "  </tbody>\n",
       "</table><p>"
      ],
      "text/plain": [
       "<IPython.core.display.HTML object>"
      ]
     },
     "metadata": {},
     "output_type": "display_data"
    },
    {
     "data": {
      "text/html": [],
      "text/plain": [
       "<IPython.core.display.HTML object>"
      ]
     },
     "metadata": {},
     "output_type": "display_data"
    },
    {
     "name": "stdout",
     "output_type": "stream",
     "text": [
      "[NER] Результаты: F1 = 0.7733\n",
      "\n",
      "[NER] Подробный отчет о классификации:\n",
      "              precision    recall  f1-score   support\n",
      "\n",
      "  B-ALLERGEN     0.7733    0.8406    0.8056        69\n",
      " B-BODY_PART     0.8434    0.9091    0.8750        77\n",
      "  B-MEDICINE     0.7586    0.8627    0.8073        51\n",
      "   B-SYMPTOM     0.6769    0.8713    0.7619       101\n",
      "   B-TOPONYM     0.8289    0.9643    0.8915       196\n",
      "  I-ALLERGEN     0.9661    0.7125    0.8201        80\n",
      " I-BODY_PART     0.8571    0.3529    0.5000        17\n",
      "  I-MEDICINE     0.7582    0.8214    0.7886        84\n",
      "   I-SYMPTOM     0.5965    0.8361    0.6962       122\n",
      "   I-TOPONYM     0.8636    0.8636    0.8636        44\n",
      "           O     0.9740    0.9347    0.9539      2604\n",
      "\n",
      "    accuracy                         0.9158      3445\n",
      "   macro avg     0.8088    0.8154    0.7967      3445\n",
      "weighted avg     0.9261    0.9158    0.9182      3445\n",
      "\n",
      "[NER] Модель сохранена в models/pollen_ner_600\n"
     ]
    },
    {
     "name": "stderr",
     "output_type": "stream",
     "text": [
      "No files have been modified since last commit. Skipping to prevent empty commit.\n"
     ]
    },
    {
     "name": "stdout",
     "output_type": "stream",
     "text": [
      "[NER] Лучшая модель за все итерации сохранена в models/pollen_ner_best\n",
      "\n",
      "[NER] Тестирование модели после обучения:\n",
      "\n",
      "Тестовый пример:\n",
      "Текст: В Московской области у меня началась аллергия на пыльцу березы, потекли глаза, нос, принимаю Зиртек и Назонекс. У ребенка в Новокузнецке чешутся глаза, уши и течет нос, врач прописал Кромогексал, Назонекс в нос. В Санкт-Петербурге началось цветение ольхи, сильная реакция, принимаю Эриус, но глаза все равно слезятся.\n",
      "\n",
      "[NER] Результаты анализа:\n",
      "TOPONYM: Московскойобласти, Новокузнецке, Санкт-Петербурге\n",
      "MEDICINE: Зиртек, Назонекс, Кромогексал, Назонекс, Эриус\n",
      "SYMPTOM: потекли, чешутся, течет, слезятся\n",
      "ALLERGEN: пыльцу, березы, цвете, ольхи\n",
      "BODY_PART: глаза, нос, глаза, уши, нос, в, нос, глаза\n",
      "Модель перемещена на cuda\n",
      "\n",
      "Статистика распределения классов в тренировочном датасете после итерации 12:\n",
      "Counter({'SYMPTOM': 777, 'TOPONYM': 561, 'BODY_PART': 521, 'MEDICINE': 304, 'ALLERGEN': 232})\n",
      "\n",
      "[NER] Начинаем итерацию с размером выборки 650\n"
     ]
    },
    {
     "name": "stderr",
     "output_type": "stream",
     "text": [
      "C:\\Users\\ivanm\\anaconda3\\envs\\project\\Lib\\site-packages\\peft\\mapping_func.py:73: UserWarning: You are trying to modify a model with PEFT for a second time. If you want to reload the model with a different config, make sure to call `.unload()` before.\n",
      "  warnings.warn(\n",
      "C:\\Users\\ivanm\\anaconda3\\envs\\project\\Lib\\site-packages\\peft\\tuners\\tuners_utils.py:167: UserWarning: Already found a `peft_config` attribute in the model. This will lead to having multiple adapters in the model. Make sure to know what you are doing!\n",
      "  warnings.warn(\n"
     ]
    },
    {
     "name": "stdout",
     "output_type": "stream",
     "text": [
      "Найден существующий размеченный проект для размера 650\n",
      "После итерации 13 осталось 3393 сообщений\n"
     ]
    },
    {
     "data": {
      "application/vnd.jupyter.widget-view+json": {
       "model_id": "21c6277df85940c4b06fbca5ced984e3",
       "version_major": 2,
       "version_minor": 0
      },
      "text/plain": [
       "Map:   0%|          | 0/650 [00:00<?, ? examples/s]"
      ]
     },
     "metadata": {},
     "output_type": "display_data"
    },
    {
     "name": "stderr",
     "output_type": "stream",
     "text": [
      "No label_names provided for model class `PeftModelForTokenClassification`. Since `PeftModel` hides base models input arguments, if label_names is not given, label_names can't be set automatically within `Trainer`. Note that empty label_names list will be used instead.\n"
     ]
    },
    {
     "name": "stdout",
     "output_type": "stream",
     "text": [
      "[NER] Обучение на 650 примерах\n"
     ]
    },
    {
     "data": {
      "text/html": [
       "\n",
       "    <div>\n",
       "      \n",
       "      <progress value='410' max='820' style='width:300px; height:20px; vertical-align: middle;'></progress>\n",
       "      [410/820 03:37 < 03:38, 1.88 it/s, Epoch 5/10]\n",
       "    </div>\n",
       "    <table border=\"1\" class=\"dataframe\">\n",
       "  <thead>\n",
       " <tr style=\"text-align: left;\">\n",
       "      <th>Epoch</th>\n",
       "      <th>Training Loss</th>\n",
       "      <th>Validation Loss</th>\n",
       "      <th>Precision</th>\n",
       "      <th>Recall</th>\n",
       "      <th>F1</th>\n",
       "    </tr>\n",
       "  </thead>\n",
       "  <tbody>\n",
       "    <tr>\n",
       "      <td>1</td>\n",
       "      <td>No log</td>\n",
       "      <td>0.254825</td>\n",
       "      <td>0.694943</td>\n",
       "      <td>0.855422</td>\n",
       "      <td>0.766877</td>\n",
       "    </tr>\n",
       "    <tr>\n",
       "      <td>2</td>\n",
       "      <td>No log</td>\n",
       "      <td>0.248789</td>\n",
       "      <td>0.711409</td>\n",
       "      <td>0.851406</td>\n",
       "      <td>0.775137</td>\n",
       "    </tr>\n",
       "    <tr>\n",
       "      <td>3</td>\n",
       "      <td>No log</td>\n",
       "      <td>0.230686</td>\n",
       "      <td>0.742215</td>\n",
       "      <td>0.861446</td>\n",
       "      <td>0.797398</td>\n",
       "    </tr>\n",
       "    <tr>\n",
       "      <td>4</td>\n",
       "      <td>No log</td>\n",
       "      <td>0.242279</td>\n",
       "      <td>0.714524</td>\n",
       "      <td>0.859438</td>\n",
       "      <td>0.780310</td>\n",
       "    </tr>\n",
       "    <tr>\n",
       "      <td>5</td>\n",
       "      <td>No log</td>\n",
       "      <td>0.241419</td>\n",
       "      <td>0.724080</td>\n",
       "      <td>0.869478</td>\n",
       "      <td>0.790146</td>\n",
       "    </tr>\n",
       "  </tbody>\n",
       "</table><p>"
      ],
      "text/plain": [
       "<IPython.core.display.HTML object>"
      ]
     },
     "metadata": {},
     "output_type": "display_data"
    },
    {
     "data": {
      "text/html": [],
      "text/plain": [
       "<IPython.core.display.HTML object>"
      ]
     },
     "metadata": {},
     "output_type": "display_data"
    },
    {
     "name": "stdout",
     "output_type": "stream",
     "text": [
      "[NER] Результаты: F1 = 0.7974\n",
      "\n",
      "[NER] Подробный отчет о классификации:\n",
      "              precision    recall  f1-score   support\n",
      "\n",
      "  B-ALLERGEN     0.7838    0.8406    0.8112        69\n",
      " B-BODY_PART     0.8537    0.9091    0.8805        77\n",
      "  B-MEDICINE     0.7458    0.8627    0.8000        51\n",
      "   B-SYMPTOM     0.6992    0.8515    0.7679       101\n",
      "   B-TOPONYM     0.8527    0.9745    0.9095       196\n",
      "  I-ALLERGEN     0.9538    0.7750    0.8552        80\n",
      " I-BODY_PART     0.8571    0.3529    0.5000        17\n",
      "  I-MEDICINE     0.7609    0.8333    0.7955        84\n",
      "   I-SYMPTOM     0.6497    0.8361    0.7312       122\n",
      "   I-TOPONYM     0.8636    0.8636    0.8636        44\n",
      "           O     0.9750    0.9428    0.9586      2604\n",
      "\n",
      "    accuracy                         0.9237      3445\n",
      "   macro avg     0.8177    0.8220    0.8066      3445\n",
      "weighted avg     0.9308    0.9237    0.9253      3445\n",
      "\n",
      "[NER] Модель сохранена в models/pollen_ner_650\n"
     ]
    },
    {
     "name": "stderr",
     "output_type": "stream",
     "text": [
      "No files have been modified since last commit. Skipping to prevent empty commit.\n"
     ]
    },
    {
     "name": "stdout",
     "output_type": "stream",
     "text": [
      "[NER] Лучшая модель за все итерации сохранена в models/pollen_ner_best\n",
      "\n",
      "[NER] Тестирование модели после обучения:\n",
      "\n",
      "Тестовый пример:\n",
      "Текст: В Московской области у меня началась аллергия на пыльцу березы, потекли глаза, нос, принимаю Зиртек и Назонекс. У ребенка в Новокузнецке чешутся глаза, уши и течет нос, врач прописал Кромогексал, Назонекс в нос. В Санкт-Петербурге началось цветение ольхи, сильная реакция, принимаю Эриус, но глаза все равно слезятся.\n",
      "\n",
      "[NER] Результаты анализа:\n",
      "TOPONYM: Московскойобласти, Новокузнецке, ., Санкт-Петербурге\n",
      "MEDICINE: Зиртек, Назонекс, Кромогексал, Назонекс, Эриус\n",
      "SYMPTOM: потекли, чешутся, течет, слезятся\n",
      "ALLERGEN: пыльцу, березы, цвете, ольхи\n",
      "BODY_PART: глаза, нос, глаза, уши, нос, в, нос, глаза\n",
      "Модель перемещена на cuda\n",
      "\n",
      "Статистика распределения классов в тренировочном датасете после итерации 13:\n",
      "Counter({'SYMPTOM': 859, 'TOPONYM': 610, 'BODY_PART': 579, 'MEDICINE': 349, 'ALLERGEN': 262})\n",
      "\n",
      "[NER] Начинаем итерацию с размером выборки 700\n"
     ]
    },
    {
     "name": "stderr",
     "output_type": "stream",
     "text": [
      "C:\\Users\\ivanm\\anaconda3\\envs\\project\\Lib\\site-packages\\peft\\mapping_func.py:73: UserWarning: You are trying to modify a model with PEFT for a second time. If you want to reload the model with a different config, make sure to call `.unload()` before.\n",
      "  warnings.warn(\n",
      "C:\\Users\\ivanm\\anaconda3\\envs\\project\\Lib\\site-packages\\peft\\tuners\\tuners_utils.py:167: UserWarning: Already found a `peft_config` attribute in the model. This will lead to having multiple adapters in the model. Make sure to know what you are doing!\n",
      "  warnings.warn(\n"
     ]
    },
    {
     "name": "stdout",
     "output_type": "stream",
     "text": [
      "Найден существующий размеченный проект для размера 700\n",
      "После итерации 14 осталось 3343 сообщений\n"
     ]
    },
    {
     "data": {
      "application/vnd.jupyter.widget-view+json": {
       "model_id": "6caf1cf03ac24d74a470a4c586ac1053",
       "version_major": 2,
       "version_minor": 0
      },
      "text/plain": [
       "Map:   0%|          | 0/700 [00:00<?, ? examples/s]"
      ]
     },
     "metadata": {},
     "output_type": "display_data"
    },
    {
     "name": "stderr",
     "output_type": "stream",
     "text": [
      "No label_names provided for model class `PeftModelForTokenClassification`. Since `PeftModel` hides base models input arguments, if label_names is not given, label_names can't be set automatically within `Trainer`. Note that empty label_names list will be used instead.\n"
     ]
    },
    {
     "name": "stdout",
     "output_type": "stream",
     "text": [
      "[NER] Обучение на 700 примерах\n"
     ]
    },
    {
     "data": {
      "text/html": [
       "\n",
       "    <div>\n",
       "      \n",
       "      <progress value='880' max='880' style='width:300px; height:20px; vertical-align: middle;'></progress>\n",
       "      [880/880 07:51, Epoch 10/10]\n",
       "    </div>\n",
       "    <table border=\"1\" class=\"dataframe\">\n",
       "  <thead>\n",
       " <tr style=\"text-align: left;\">\n",
       "      <th>Epoch</th>\n",
       "      <th>Training Loss</th>\n",
       "      <th>Validation Loss</th>\n",
       "      <th>Precision</th>\n",
       "      <th>Recall</th>\n",
       "      <th>F1</th>\n",
       "    </tr>\n",
       "  </thead>\n",
       "  <tbody>\n",
       "    <tr>\n",
       "      <td>1</td>\n",
       "      <td>No log</td>\n",
       "      <td>0.227019</td>\n",
       "      <td>0.746946</td>\n",
       "      <td>0.859438</td>\n",
       "      <td>0.799253</td>\n",
       "    </tr>\n",
       "    <tr>\n",
       "      <td>2</td>\n",
       "      <td>No log</td>\n",
       "      <td>0.217379</td>\n",
       "      <td>0.761062</td>\n",
       "      <td>0.863454</td>\n",
       "      <td>0.809031</td>\n",
       "    </tr>\n",
       "    <tr>\n",
       "      <td>3</td>\n",
       "      <td>No log</td>\n",
       "      <td>0.221575</td>\n",
       "      <td>0.760070</td>\n",
       "      <td>0.871486</td>\n",
       "      <td>0.811974</td>\n",
       "    </tr>\n",
       "    <tr>\n",
       "      <td>4</td>\n",
       "      <td>No log</td>\n",
       "      <td>0.215565</td>\n",
       "      <td>0.769094</td>\n",
       "      <td>0.869478</td>\n",
       "      <td>0.816211</td>\n",
       "    </tr>\n",
       "    <tr>\n",
       "      <td>5</td>\n",
       "      <td>No log</td>\n",
       "      <td>0.226703</td>\n",
       "      <td>0.742321</td>\n",
       "      <td>0.873494</td>\n",
       "      <td>0.802583</td>\n",
       "    </tr>\n",
       "    <tr>\n",
       "      <td>6</td>\n",
       "      <td>0.435900</td>\n",
       "      <td>0.209983</td>\n",
       "      <td>0.770870</td>\n",
       "      <td>0.871486</td>\n",
       "      <td>0.818096</td>\n",
       "    </tr>\n",
       "    <tr>\n",
       "      <td>7</td>\n",
       "      <td>0.435900</td>\n",
       "      <td>0.211781</td>\n",
       "      <td>0.772647</td>\n",
       "      <td>0.873494</td>\n",
       "      <td>0.819981</td>\n",
       "    </tr>\n",
       "    <tr>\n",
       "      <td>8</td>\n",
       "      <td>0.435900</td>\n",
       "      <td>0.207548</td>\n",
       "      <td>0.771681</td>\n",
       "      <td>0.875502</td>\n",
       "      <td>0.820320</td>\n",
       "    </tr>\n",
       "    <tr>\n",
       "      <td>9</td>\n",
       "      <td>0.435900</td>\n",
       "      <td>0.205599</td>\n",
       "      <td>0.777184</td>\n",
       "      <td>0.875502</td>\n",
       "      <td>0.823418</td>\n",
       "    </tr>\n",
       "    <tr>\n",
       "      <td>10</td>\n",
       "      <td>0.435900</td>\n",
       "      <td>0.209094</td>\n",
       "      <td>0.770723</td>\n",
       "      <td>0.877510</td>\n",
       "      <td>0.820657</td>\n",
       "    </tr>\n",
       "  </tbody>\n",
       "</table><p>"
      ],
      "text/plain": [
       "<IPython.core.display.HTML object>"
      ]
     },
     "metadata": {},
     "output_type": "display_data"
    },
    {
     "data": {
      "text/html": [],
      "text/plain": [
       "<IPython.core.display.HTML object>"
      ]
     },
     "metadata": {},
     "output_type": "display_data"
    },
    {
     "name": "stdout",
     "output_type": "stream",
     "text": [
      "[NER] Результаты: F1 = 0.8234\n",
      "\n",
      "[NER] Подробный отчет о классификации:\n",
      "              precision    recall  f1-score   support\n",
      "\n",
      "  B-ALLERGEN     0.7922    0.8841    0.8356        69\n",
      " B-BODY_PART     0.9211    0.9091    0.9150        77\n",
      "  B-MEDICINE     0.7857    0.8627    0.8224        51\n",
      "   B-SYMPTOM     0.7016    0.8614    0.7733       101\n",
      "   B-TOPONYM     0.8967    0.9745    0.9340       196\n",
      "  I-ALLERGEN     0.9118    0.7750    0.8378        80\n",
      " I-BODY_PART     1.0000    0.7059    0.8276        17\n",
      "  I-MEDICINE     0.7609    0.8333    0.7955        84\n",
      "   I-SYMPTOM     0.6755    0.8361    0.7473       122\n",
      "   I-TOPONYM     0.8837    0.8636    0.8736        44\n",
      "           O     0.9747    0.9482    0.9613      2604\n",
      "\n",
      "    accuracy                         0.9306      3445\n",
      "   macro avg     0.8458    0.8594    0.8476      3445\n",
      "weighted avg     0.9363    0.9306    0.9323      3445\n",
      "\n",
      "[NER] Модель сохранена в models/pollen_ner_700\n"
     ]
    },
    {
     "name": "stderr",
     "output_type": "stream",
     "text": [
      "No files have been modified since last commit. Skipping to prevent empty commit.\n"
     ]
    },
    {
     "name": "stdout",
     "output_type": "stream",
     "text": [
      "[NER] Лучшая модель за все итерации сохранена в models/pollen_ner_best\n",
      "\n",
      "[NER] Тестирование модели после обучения:\n",
      "\n",
      "Тестовый пример:\n",
      "Текст: В Московской области у меня началась аллергия на пыльцу березы, потекли глаза, нос, принимаю Зиртек и Назонекс. У ребенка в Новокузнецке чешутся глаза, уши и течет нос, врач прописал Кромогексал, Назонекс в нос. В Санкт-Петербурге началось цветение ольхи, сильная реакция, принимаю Эриус, но глаза все равно слезятся.\n",
      "\n",
      "[NER] Результаты анализа:\n",
      "TOPONYM: Московскойобласти, Новокузнецке, ., Санкт-Петербурге\n",
      "MEDICINE: Зиртек, Назонекс, Кромогексал, Назонекс, Эриус\n",
      "SYMPTOM: потекли, чешутся, течет, слезятся\n",
      "ALLERGEN: пыльцу, березы, цветение, ольхи\n",
      "BODY_PART: глаза, нос, глаза, уши, нос, внос, глаза\n",
      "Модель перемещена на cuda\n",
      "\n",
      "Статистика распределения классов в тренировочном датасете после итерации 14:\n",
      "Counter({'SYMPTOM': 928, 'TOPONYM': 650, 'BODY_PART': 626, 'MEDICINE': 367, 'ALLERGEN': 285})\n",
      "\n",
      "[NER] Начинаем итерацию с размером выборки 750\n"
     ]
    },
    {
     "name": "stderr",
     "output_type": "stream",
     "text": [
      "C:\\Users\\ivanm\\anaconda3\\envs\\project\\Lib\\site-packages\\peft\\mapping_func.py:73: UserWarning: You are trying to modify a model with PEFT for a second time. If you want to reload the model with a different config, make sure to call `.unload()` before.\n",
      "  warnings.warn(\n",
      "C:\\Users\\ivanm\\anaconda3\\envs\\project\\Lib\\site-packages\\peft\\tuners\\tuners_utils.py:167: UserWarning: Already found a `peft_config` attribute in the model. This will lead to having multiple adapters in the model. Make sure to know what you are doing!\n",
      "  warnings.warn(\n"
     ]
    },
    {
     "name": "stdout",
     "output_type": "stream",
     "text": [
      "Найден существующий размеченный проект для размера 750\n",
      "После итерации 15 осталось 3293 сообщений\n"
     ]
    },
    {
     "data": {
      "application/vnd.jupyter.widget-view+json": {
       "model_id": "23682de9cd74465ab8707b23de4bc8e2",
       "version_major": 2,
       "version_minor": 0
      },
      "text/plain": [
       "Map:   0%|          | 0/750 [00:00<?, ? examples/s]"
      ]
     },
     "metadata": {},
     "output_type": "display_data"
    },
    {
     "name": "stderr",
     "output_type": "stream",
     "text": [
      "No label_names provided for model class `PeftModelForTokenClassification`. Since `PeftModel` hides base models input arguments, if label_names is not given, label_names can't be set automatically within `Trainer`. Note that empty label_names list will be used instead.\n"
     ]
    },
    {
     "name": "stdout",
     "output_type": "stream",
     "text": [
      "[NER] Обучение на 750 примерах\n"
     ]
    },
    {
     "data": {
      "text/html": [
       "\n",
       "    <div>\n",
       "      \n",
       "      <progress value='658' max='940' style='width:300px; height:20px; vertical-align: middle;'></progress>\n",
       "      [658/940 05:49 < 02:30, 1.88 it/s, Epoch 7/10]\n",
       "    </div>\n",
       "    <table border=\"1\" class=\"dataframe\">\n",
       "  <thead>\n",
       " <tr style=\"text-align: left;\">\n",
       "      <th>Epoch</th>\n",
       "      <th>Training Loss</th>\n",
       "      <th>Validation Loss</th>\n",
       "      <th>Precision</th>\n",
       "      <th>Recall</th>\n",
       "      <th>F1</th>\n",
       "    </tr>\n",
       "  </thead>\n",
       "  <tbody>\n",
       "    <tr>\n",
       "      <td>1</td>\n",
       "      <td>No log</td>\n",
       "      <td>0.197889</td>\n",
       "      <td>0.780180</td>\n",
       "      <td>0.869478</td>\n",
       "      <td>0.822412</td>\n",
       "    </tr>\n",
       "    <tr>\n",
       "      <td>2</td>\n",
       "      <td>No log</td>\n",
       "      <td>0.206329</td>\n",
       "      <td>0.758261</td>\n",
       "      <td>0.875502</td>\n",
       "      <td>0.812675</td>\n",
       "    </tr>\n",
       "    <tr>\n",
       "      <td>3</td>\n",
       "      <td>No log</td>\n",
       "      <td>0.199125</td>\n",
       "      <td>0.776991</td>\n",
       "      <td>0.881526</td>\n",
       "      <td>0.825964</td>\n",
       "    </tr>\n",
       "    <tr>\n",
       "      <td>4</td>\n",
       "      <td>No log</td>\n",
       "      <td>0.196862</td>\n",
       "      <td>0.782531</td>\n",
       "      <td>0.881526</td>\n",
       "      <td>0.829084</td>\n",
       "    </tr>\n",
       "    <tr>\n",
       "      <td>5</td>\n",
       "      <td>No log</td>\n",
       "      <td>0.193072</td>\n",
       "      <td>0.795332</td>\n",
       "      <td>0.889558</td>\n",
       "      <td>0.839810</td>\n",
       "    </tr>\n",
       "    <tr>\n",
       "      <td>6</td>\n",
       "      <td>0.392700</td>\n",
       "      <td>0.187259</td>\n",
       "      <td>0.797468</td>\n",
       "      <td>0.885542</td>\n",
       "      <td>0.839201</td>\n",
       "    </tr>\n",
       "    <tr>\n",
       "      <td>7</td>\n",
       "      <td>0.392700</td>\n",
       "      <td>0.194998</td>\n",
       "      <td>0.780919</td>\n",
       "      <td>0.887550</td>\n",
       "      <td>0.830827</td>\n",
       "    </tr>\n",
       "  </tbody>\n",
       "</table><p>"
      ],
      "text/plain": [
       "<IPython.core.display.HTML object>"
      ]
     },
     "metadata": {},
     "output_type": "display_data"
    },
    {
     "data": {
      "text/html": [],
      "text/plain": [
       "<IPython.core.display.HTML object>"
      ]
     },
     "metadata": {},
     "output_type": "display_data"
    },
    {
     "name": "stdout",
     "output_type": "stream",
     "text": [
      "[NER] Результаты: F1 = 0.8398\n",
      "\n",
      "[NER] Подробный отчет о классификации:\n",
      "              precision    recall  f1-score   support\n",
      "\n",
      "  B-ALLERGEN     0.7831    0.9420    0.8553        69\n",
      " B-BODY_PART     0.9333    0.9091    0.9211        77\n",
      "  B-MEDICINE     0.7857    0.8627    0.8224        51\n",
      "   B-SYMPTOM     0.7768    0.8614    0.8169       101\n",
      "   B-TOPONYM     0.9095    0.9745    0.9409       196\n",
      "  I-ALLERGEN     0.8684    0.8250    0.8462        80\n",
      " I-BODY_PART     0.9333    0.8235    0.8750        17\n",
      "  I-MEDICINE     0.7692    0.8333    0.8000        84\n",
      "   I-SYMPTOM     0.7376    0.8525    0.7909       122\n",
      "   I-TOPONYM     0.8837    0.8636    0.8736        44\n",
      "           O     0.9760    0.9531    0.9644      2604\n",
      "\n",
      "    accuracy                         0.9379      3445\n",
      "   macro avg     0.8506    0.8819    0.8642      3445\n",
      "weighted avg     0.9414    0.9379    0.9390      3445\n",
      "\n",
      "[NER] Модель сохранена в models/pollen_ner_750\n"
     ]
    },
    {
     "name": "stderr",
     "output_type": "stream",
     "text": [
      "No files have been modified since last commit. Skipping to prevent empty commit.\n"
     ]
    },
    {
     "name": "stdout",
     "output_type": "stream",
     "text": [
      "[NER] Лучшая модель за все итерации сохранена в models/pollen_ner_best\n",
      "\n",
      "[NER] Тестирование модели после обучения:\n",
      "\n",
      "Тестовый пример:\n",
      "Текст: В Московской области у меня началась аллергия на пыльцу березы, потекли глаза, нос, принимаю Зиртек и Назонекс. У ребенка в Новокузнецке чешутся глаза, уши и течет нос, врач прописал Кромогексал, Назонекс в нос. В Санкт-Петербурге началось цветение ольхи, сильная реакция, принимаю Эриус, но глаза все равно слезятся.\n",
      "\n",
      "[NER] Результаты анализа:\n",
      "TOPONYM: Московскойобласти, Новокузнецке, ., Санкт-Петербурге\n",
      "MEDICINE: Зиртек, Назонекс, Кромогексал, Назонекс, Эриус\n",
      "SYMPTOM: потекли, чешутся, течет, слезятся\n",
      "ALLERGEN: пыльцу, березы, цветение, ольхи\n",
      "BODY_PART: глаза, нос, глаза, уши, нос, внос, глаза\n",
      "Модель перемещена на cuda\n",
      "\n",
      "Статистика распределения классов в тренировочном датасете после итерации 15:\n",
      "Counter({'SYMPTOM': 1000, 'TOPONYM': 706, 'BODY_PART': 684, 'MEDICINE': 391, 'ALLERGEN': 323})\n",
      "\n",
      "[NER] Начинаем итерацию с размером выборки 800\n"
     ]
    },
    {
     "name": "stderr",
     "output_type": "stream",
     "text": [
      "C:\\Users\\ivanm\\anaconda3\\envs\\project\\Lib\\site-packages\\peft\\mapping_func.py:73: UserWarning: You are trying to modify a model with PEFT for a second time. If you want to reload the model with a different config, make sure to call `.unload()` before.\n",
      "  warnings.warn(\n",
      "C:\\Users\\ivanm\\anaconda3\\envs\\project\\Lib\\site-packages\\peft\\tuners\\tuners_utils.py:167: UserWarning: Already found a `peft_config` attribute in the model. This will lead to having multiple adapters in the model. Make sure to know what you are doing!\n",
      "  warnings.warn(\n"
     ]
    },
    {
     "name": "stdout",
     "output_type": "stream",
     "text": [
      "Найден существующий размеченный проект для размера 800\n",
      "После итерации 16 осталось 3243 сообщений\n"
     ]
    },
    {
     "data": {
      "application/vnd.jupyter.widget-view+json": {
       "model_id": "e1db2c12cda749cab9288bee5d0a4825",
       "version_major": 2,
       "version_minor": 0
      },
      "text/plain": [
       "Map:   0%|          | 0/800 [00:00<?, ? examples/s]"
      ]
     },
     "metadata": {},
     "output_type": "display_data"
    },
    {
     "name": "stderr",
     "output_type": "stream",
     "text": [
      "No label_names provided for model class `PeftModelForTokenClassification`. Since `PeftModel` hides base models input arguments, if label_names is not given, label_names can't be set automatically within `Trainer`. Note that empty label_names list will be used instead.\n"
     ]
    },
    {
     "name": "stdout",
     "output_type": "stream",
     "text": [
      "[NER] Обучение на 800 примерах\n"
     ]
    },
    {
     "data": {
      "text/html": [
       "\n",
       "    <div>\n",
       "      \n",
       "      <progress value='600' max='1000' style='width:300px; height:20px; vertical-align: middle;'></progress>\n",
       "      [ 600/1000 05:18 < 03:32, 1.88 it/s, Epoch 6/10]\n",
       "    </div>\n",
       "    <table border=\"1\" class=\"dataframe\">\n",
       "  <thead>\n",
       " <tr style=\"text-align: left;\">\n",
       "      <th>Epoch</th>\n",
       "      <th>Training Loss</th>\n",
       "      <th>Validation Loss</th>\n",
       "      <th>Precision</th>\n",
       "      <th>Recall</th>\n",
       "      <th>F1</th>\n",
       "    </tr>\n",
       "  </thead>\n",
       "  <tbody>\n",
       "    <tr>\n",
       "      <td>1</td>\n",
       "      <td>No log</td>\n",
       "      <td>0.186665</td>\n",
       "      <td>0.790323</td>\n",
       "      <td>0.885542</td>\n",
       "      <td>0.835227</td>\n",
       "    </tr>\n",
       "    <tr>\n",
       "      <td>2</td>\n",
       "      <td>No log</td>\n",
       "      <td>0.183795</td>\n",
       "      <td>0.799639</td>\n",
       "      <td>0.889558</td>\n",
       "      <td>0.842205</td>\n",
       "    </tr>\n",
       "    <tr>\n",
       "      <td>3</td>\n",
       "      <td>No log</td>\n",
       "      <td>0.180135</td>\n",
       "      <td>0.807273</td>\n",
       "      <td>0.891566</td>\n",
       "      <td>0.847328</td>\n",
       "    </tr>\n",
       "    <tr>\n",
       "      <td>4</td>\n",
       "      <td>No log</td>\n",
       "      <td>0.178704</td>\n",
       "      <td>0.807971</td>\n",
       "      <td>0.895582</td>\n",
       "      <td>0.849524</td>\n",
       "    </tr>\n",
       "    <tr>\n",
       "      <td>5</td>\n",
       "      <td>0.370200</td>\n",
       "      <td>0.182947</td>\n",
       "      <td>0.800360</td>\n",
       "      <td>0.893574</td>\n",
       "      <td>0.844402</td>\n",
       "    </tr>\n",
       "    <tr>\n",
       "      <td>6</td>\n",
       "      <td>0.370200</td>\n",
       "      <td>0.182408</td>\n",
       "      <td>0.801802</td>\n",
       "      <td>0.893574</td>\n",
       "      <td>0.845204</td>\n",
       "    </tr>\n",
       "  </tbody>\n",
       "</table><p>"
      ],
      "text/plain": [
       "<IPython.core.display.HTML object>"
      ]
     },
     "metadata": {},
     "output_type": "display_data"
    },
    {
     "data": {
      "text/html": [],
      "text/plain": [
       "<IPython.core.display.HTML object>"
      ]
     },
     "metadata": {},
     "output_type": "display_data"
    },
    {
     "name": "stdout",
     "output_type": "stream",
     "text": [
      "[NER] Результаты: F1 = 0.8495\n",
      "\n",
      "[NER] Подробный отчет о классификации:\n",
      "              precision    recall  f1-score   support\n",
      "\n",
      "  B-ALLERGEN     0.7831    0.9420    0.8553        69\n",
      " B-BODY_PART     0.9351    0.9351    0.9351        77\n",
      "  B-MEDICINE     0.8182    0.8824    0.8491        51\n",
      "   B-SYMPTOM     0.8056    0.8614    0.8325       101\n",
      "   B-TOPONYM     0.9183    0.9745    0.9455       196\n",
      "  I-ALLERGEN     0.8816    0.8375    0.8590        80\n",
      " I-BODY_PART     1.0000    0.8235    0.9032        17\n",
      "  I-MEDICINE     0.7865    0.8333    0.8092        84\n",
      "   I-SYMPTOM     0.7536    0.8525    0.8000       122\n",
      "   I-TOPONYM     0.9070    0.8864    0.8966        44\n",
      "           O     0.9777    0.9589    0.9682      2604\n",
      "\n",
      "    accuracy                         0.9437      3445\n",
      "   macro avg     0.8697    0.8898    0.8776      3445\n",
      "weighted avg     0.9464    0.9437    0.9446      3445\n",
      "\n",
      "[NER] Модель сохранена в models/pollen_ner_800\n"
     ]
    },
    {
     "name": "stderr",
     "output_type": "stream",
     "text": [
      "No files have been modified since last commit. Skipping to prevent empty commit.\n"
     ]
    },
    {
     "name": "stdout",
     "output_type": "stream",
     "text": [
      "[NER] Лучшая модель за все итерации сохранена в models/pollen_ner_best\n",
      "\n",
      "[NER] Тестирование модели после обучения:\n",
      "\n",
      "Тестовый пример:\n",
      "Текст: В Московской области у меня началась аллергия на пыльцу березы, потекли глаза, нос, принимаю Зиртек и Назонекс. У ребенка в Новокузнецке чешутся глаза, уши и течет нос, врач прописал Кромогексал, Назонекс в нос. В Санкт-Петербурге началось цветение ольхи, сильная реакция, принимаю Эриус, но глаза все равно слезятся.\n",
      "\n",
      "[NER] Результаты анализа:\n",
      "TOPONYM: Московскойобласти, Новокузнецке, ., Санкт-Петербурге\n",
      "MEDICINE: Зиртек, Назонекс, Кромогексал, Назонекс, Эриус\n",
      "SYMPTOM: потекли, чешутся, течет, слезятся\n",
      "ALLERGEN: пыльцу, березы, цветение, ольхи\n",
      "BODY_PART: глаза, нос, глаза, уши, нос, внос, глаза\n",
      "Модель перемещена на cuda\n",
      "\n",
      "Статистика распределения классов в тренировочном датасете после итерации 16:\n",
      "Counter({'SYMPTOM': 1095, 'TOPONYM': 758, 'BODY_PART': 748, 'MEDICINE': 438, 'ALLERGEN': 352})\n",
      "\n",
      "[NER] Начинаем итерацию с размером выборки 850\n"
     ]
    },
    {
     "name": "stderr",
     "output_type": "stream",
     "text": [
      "C:\\Users\\ivanm\\anaconda3\\envs\\project\\Lib\\site-packages\\peft\\mapping_func.py:73: UserWarning: You are trying to modify a model with PEFT for a second time. If you want to reload the model with a different config, make sure to call `.unload()` before.\n",
      "  warnings.warn(\n",
      "C:\\Users\\ivanm\\anaconda3\\envs\\project\\Lib\\site-packages\\peft\\tuners\\tuners_utils.py:167: UserWarning: Already found a `peft_config` attribute in the model. This will lead to having multiple adapters in the model. Make sure to know what you are doing!\n",
      "  warnings.warn(\n"
     ]
    },
    {
     "name": "stdout",
     "output_type": "stream",
     "text": [
      "Найден существующий размеченный проект для размера 850\n",
      "После итерации 17 осталось 3193 сообщений\n"
     ]
    },
    {
     "data": {
      "application/vnd.jupyter.widget-view+json": {
       "model_id": "a8f4b478ca074336925998f01ee50cd6",
       "version_major": 2,
       "version_minor": 0
      },
      "text/plain": [
       "Map:   0%|          | 0/850 [00:00<?, ? examples/s]"
      ]
     },
     "metadata": {},
     "output_type": "display_data"
    },
    {
     "name": "stderr",
     "output_type": "stream",
     "text": [
      "No label_names provided for model class `PeftModelForTokenClassification`. Since `PeftModel` hides base models input arguments, if label_names is not given, label_names can't be set automatically within `Trainer`. Note that empty label_names list will be used instead.\n"
     ]
    },
    {
     "name": "stdout",
     "output_type": "stream",
     "text": [
      "[NER] Обучение на 850 примерах\n"
     ]
    },
    {
     "data": {
      "text/html": [
       "\n",
       "    <div>\n",
       "      \n",
       "      <progress value='642' max='1070' style='width:300px; height:20px; vertical-align: middle;'></progress>\n",
       "      [ 642/1070 05:36 < 03:45, 1.90 it/s, Epoch 6/10]\n",
       "    </div>\n",
       "    <table border=\"1\" class=\"dataframe\">\n",
       "  <thead>\n",
       " <tr style=\"text-align: left;\">\n",
       "      <th>Epoch</th>\n",
       "      <th>Training Loss</th>\n",
       "      <th>Validation Loss</th>\n",
       "      <th>Precision</th>\n",
       "      <th>Recall</th>\n",
       "      <th>F1</th>\n",
       "    </tr>\n",
       "  </thead>\n",
       "  <tbody>\n",
       "    <tr>\n",
       "      <td>1</td>\n",
       "      <td>No log</td>\n",
       "      <td>0.188829</td>\n",
       "      <td>0.797153</td>\n",
       "      <td>0.899598</td>\n",
       "      <td>0.845283</td>\n",
       "    </tr>\n",
       "    <tr>\n",
       "      <td>2</td>\n",
       "      <td>No log</td>\n",
       "      <td>0.174602</td>\n",
       "      <td>0.813528</td>\n",
       "      <td>0.893574</td>\n",
       "      <td>0.851675</td>\n",
       "    </tr>\n",
       "    <tr>\n",
       "      <td>3</td>\n",
       "      <td>No log</td>\n",
       "      <td>0.168981</td>\n",
       "      <td>0.824953</td>\n",
       "      <td>0.889558</td>\n",
       "      <td>0.856039</td>\n",
       "    </tr>\n",
       "    <tr>\n",
       "      <td>4</td>\n",
       "      <td>No log</td>\n",
       "      <td>0.172850</td>\n",
       "      <td>0.819013</td>\n",
       "      <td>0.899598</td>\n",
       "      <td>0.857416</td>\n",
       "    </tr>\n",
       "    <tr>\n",
       "      <td>5</td>\n",
       "      <td>0.352200</td>\n",
       "      <td>0.182154</td>\n",
       "      <td>0.805009</td>\n",
       "      <td>0.903614</td>\n",
       "      <td>0.851466</td>\n",
       "    </tr>\n",
       "    <tr>\n",
       "      <td>6</td>\n",
       "      <td>0.352200</td>\n",
       "      <td>0.182888</td>\n",
       "      <td>0.796099</td>\n",
       "      <td>0.901606</td>\n",
       "      <td>0.845574</td>\n",
       "    </tr>\n",
       "  </tbody>\n",
       "</table><p>"
      ],
      "text/plain": [
       "<IPython.core.display.HTML object>"
      ]
     },
     "metadata": {},
     "output_type": "display_data"
    },
    {
     "data": {
      "text/html": [],
      "text/plain": [
       "<IPython.core.display.HTML object>"
      ]
     },
     "metadata": {},
     "output_type": "display_data"
    },
    {
     "name": "stdout",
     "output_type": "stream",
     "text": [
      "[NER] Результаты: F1 = 0.8574\n",
      "\n",
      "[NER] Подробный отчет о классификации:\n",
      "              precision    recall  f1-score   support\n",
      "\n",
      "  B-ALLERGEN     0.8049    0.9565    0.8742        69\n",
      " B-BODY_PART     0.9351    0.9351    0.9351        77\n",
      "  B-MEDICINE     0.8182    0.8824    0.8491        51\n",
      "   B-SYMPTOM     0.8286    0.8614    0.8447       101\n",
      "   B-TOPONYM     0.9183    0.9745    0.9455       196\n",
      "  I-ALLERGEN     0.9067    0.8500    0.8774        80\n",
      " I-BODY_PART     1.0000    0.8235    0.9032        17\n",
      "  I-MEDICINE     0.8046    0.8333    0.8187        84\n",
      "   I-SYMPTOM     0.7664    0.8607    0.8108       122\n",
      "   I-TOPONYM     0.9048    0.8636    0.8837        44\n",
      "           O     0.9778    0.9624    0.9700      2604\n",
      "\n",
      "    accuracy                         0.9469      3445\n",
      "   macro avg     0.8787    0.8912    0.8829      3445\n",
      "weighted avg     0.9490    0.9469    0.9475      3445\n",
      "\n",
      "[NER] Модель сохранена в models/pollen_ner_850\n"
     ]
    },
    {
     "name": "stderr",
     "output_type": "stream",
     "text": [
      "No files have been modified since last commit. Skipping to prevent empty commit.\n"
     ]
    },
    {
     "name": "stdout",
     "output_type": "stream",
     "text": [
      "[NER] Лучшая модель за все итерации сохранена в models/pollen_ner_best\n",
      "\n",
      "[NER] Тестирование модели после обучения:\n",
      "\n",
      "Тестовый пример:\n",
      "Текст: В Московской области у меня началась аллергия на пыльцу березы, потекли глаза, нос, принимаю Зиртек и Назонекс. У ребенка в Новокузнецке чешутся глаза, уши и течет нос, врач прописал Кромогексал, Назонекс в нос. В Санкт-Петербурге началось цветение ольхи, сильная реакция, принимаю Эриус, но глаза все равно слезятся.\n",
      "\n",
      "[NER] Результаты анализа:\n",
      "TOPONYM: Московскойобласти, Новокузнецке, ., Санкт-Петербурге\n",
      "MEDICINE: Зиртек, Назонекс, Кромогексал, Назонекс, Эриус\n",
      "SYMPTOM: потекли, чешутся, течет, слезятся\n",
      "ALLERGEN: пыльцу, березы, ольхи\n",
      "BODY_PART: глаза, нос, глаза, уши, нос, внос, глаза\n",
      "Модель перемещена на cuda\n",
      "\n",
      "Статистика распределения классов в тренировочном датасете после итерации 17:\n",
      "Counter({'SYMPTOM': 1190, 'TOPONYM': 811, 'BODY_PART': 809, 'MEDICINE': 476, 'ALLERGEN': 376})\n",
      "\n",
      "[NER] Начинаем итерацию с размером выборки 900\n"
     ]
    },
    {
     "name": "stderr",
     "output_type": "stream",
     "text": [
      "C:\\Users\\ivanm\\anaconda3\\envs\\project\\Lib\\site-packages\\peft\\mapping_func.py:73: UserWarning: You are trying to modify a model with PEFT for a second time. If you want to reload the model with a different config, make sure to call `.unload()` before.\n",
      "  warnings.warn(\n",
      "C:\\Users\\ivanm\\anaconda3\\envs\\project\\Lib\\site-packages\\peft\\tuners\\tuners_utils.py:167: UserWarning: Already found a `peft_config` attribute in the model. This will lead to having multiple adapters in the model. Make sure to know what you are doing!\n",
      "  warnings.warn(\n"
     ]
    },
    {
     "name": "stdout",
     "output_type": "stream",
     "text": [
      "Найден существующий размеченный проект для размера 900\n",
      "После итерации 18 осталось 3143 сообщений\n"
     ]
    },
    {
     "data": {
      "application/vnd.jupyter.widget-view+json": {
       "model_id": "e6c4133baa6e4559abd65f0a99575c3c",
       "version_major": 2,
       "version_minor": 0
      },
      "text/plain": [
       "Map:   0%|          | 0/900 [00:00<?, ? examples/s]"
      ]
     },
     "metadata": {},
     "output_type": "display_data"
    },
    {
     "name": "stderr",
     "output_type": "stream",
     "text": [
      "No label_names provided for model class `PeftModelForTokenClassification`. Since `PeftModel` hides base models input arguments, if label_names is not given, label_names can't be set automatically within `Trainer`. Note that empty label_names list will be used instead.\n"
     ]
    },
    {
     "name": "stdout",
     "output_type": "stream",
     "text": [
      "[NER] Обучение на 900 примерах\n"
     ]
    },
    {
     "data": {
      "text/html": [
       "\n",
       "    <div>\n",
       "      \n",
       "      <progress value='339' max='1130' style='width:300px; height:20px; vertical-align: middle;'></progress>\n",
       "      [ 339/1130 02:57 < 06:55, 1.90 it/s, Epoch 3/10]\n",
       "    </div>\n",
       "    <table border=\"1\" class=\"dataframe\">\n",
       "  <thead>\n",
       " <tr style=\"text-align: left;\">\n",
       "      <th>Epoch</th>\n",
       "      <th>Training Loss</th>\n",
       "      <th>Validation Loss</th>\n",
       "      <th>Precision</th>\n",
       "      <th>Recall</th>\n",
       "      <th>F1</th>\n",
       "    </tr>\n",
       "  </thead>\n",
       "  <tbody>\n",
       "    <tr>\n",
       "      <td>1</td>\n",
       "      <td>No log</td>\n",
       "      <td>0.173326</td>\n",
       "      <td>0.816697</td>\n",
       "      <td>0.903614</td>\n",
       "      <td>0.857960</td>\n",
       "    </tr>\n",
       "    <tr>\n",
       "      <td>2</td>\n",
       "      <td>No log</td>\n",
       "      <td>0.172147</td>\n",
       "      <td>0.809353</td>\n",
       "      <td>0.903614</td>\n",
       "      <td>0.853890</td>\n",
       "    </tr>\n",
       "    <tr>\n",
       "      <td>3</td>\n",
       "      <td>No log</td>\n",
       "      <td>0.172418</td>\n",
       "      <td>0.810811</td>\n",
       "      <td>0.903614</td>\n",
       "      <td>0.854701</td>\n",
       "    </tr>\n",
       "  </tbody>\n",
       "</table><p>"
      ],
      "text/plain": [
       "<IPython.core.display.HTML object>"
      ]
     },
     "metadata": {},
     "output_type": "display_data"
    },
    {
     "data": {
      "text/html": [],
      "text/plain": [
       "<IPython.core.display.HTML object>"
      ]
     },
     "metadata": {},
     "output_type": "display_data"
    },
    {
     "name": "stdout",
     "output_type": "stream",
     "text": [
      "[NER] Результаты: F1 = 0.8580\n",
      "\n",
      "[NER] Подробный отчет о классификации:\n",
      "              precision    recall  f1-score   support\n",
      "\n",
      "  B-ALLERGEN     0.7882    0.9710    0.8701        69\n",
      " B-BODY_PART     0.9351    0.9351    0.9351        77\n",
      "  B-MEDICINE     0.8036    0.8824    0.8411        51\n",
      "   B-SYMPTOM     0.8208    0.8614    0.8406       101\n",
      "   B-TOPONYM     0.9183    0.9745    0.9455       196\n",
      "  I-ALLERGEN     0.9091    0.8750    0.8917        80\n",
      " I-BODY_PART     1.0000    0.8235    0.9032        17\n",
      "  I-MEDICINE     0.7912    0.8571    0.8229        84\n",
      "   I-SYMPTOM     0.7609    0.8607    0.8077       122\n",
      "   I-TOPONYM     0.9091    0.9091    0.9091        44\n",
      "           O     0.9800    0.9593    0.9695      2604\n",
      "\n",
      "    accuracy                         0.9466      3445\n",
      "   macro avg     0.8742    0.9008    0.8851      3445\n",
      "weighted avg     0.9495    0.9466    0.9475      3445\n",
      "\n",
      "[NER] Модель сохранена в models/pollen_ner_900\n"
     ]
    },
    {
     "name": "stderr",
     "output_type": "stream",
     "text": [
      "No files have been modified since last commit. Skipping to prevent empty commit.\n"
     ]
    },
    {
     "name": "stdout",
     "output_type": "stream",
     "text": [
      "[NER] Лучшая модель за все итерации сохранена в models/pollen_ner_best\n",
      "\n",
      "[NER] Тестирование модели после обучения:\n",
      "\n",
      "Тестовый пример:\n",
      "Текст: В Московской области у меня началась аллергия на пыльцу березы, потекли глаза, нос, принимаю Зиртек и Назонекс. У ребенка в Новокузнецке чешутся глаза, уши и течет нос, врач прописал Кромогексал, Назонекс в нос. В Санкт-Петербурге началось цветение ольхи, сильная реакция, принимаю Эриус, но глаза все равно слезятся.\n",
      "\n",
      "[NER] Результаты анализа:\n",
      "TOPONYM: Московскойобласти, Новокузнецке, ., Санкт-Петербурге\n",
      "MEDICINE: Зиртек, Назонекс, Кромогексал, Назонекс, Эриус\n",
      "SYMPTOM: потекли, чешутся, течет, слезятся\n",
      "ALLERGEN: пыльцу, березы, цвете, ольхи\n",
      "BODY_PART: глаза, нос, глаза, уши, нос, внос, глаза\n",
      "Модель перемещена на cuda\n",
      "\n",
      "Статистика распределения классов в тренировочном датасете после итерации 18:\n",
      "Counter({'SYMPTOM': 1266, 'TOPONYM': 854, 'BODY_PART': 841, 'MEDICINE': 511, 'ALLERGEN': 403})\n",
      "\n",
      "[NER] Начинаем итерацию с размером выборки 950\n"
     ]
    },
    {
     "name": "stderr",
     "output_type": "stream",
     "text": [
      "C:\\Users\\ivanm\\anaconda3\\envs\\project\\Lib\\site-packages\\peft\\mapping_func.py:73: UserWarning: You are trying to modify a model with PEFT for a second time. If you want to reload the model with a different config, make sure to call `.unload()` before.\n",
      "  warnings.warn(\n",
      "C:\\Users\\ivanm\\anaconda3\\envs\\project\\Lib\\site-packages\\peft\\tuners\\tuners_utils.py:167: UserWarning: Already found a `peft_config` attribute in the model. This will lead to having multiple adapters in the model. Make sure to know what you are doing!\n",
      "  warnings.warn(\n"
     ]
    },
    {
     "name": "stdout",
     "output_type": "stream",
     "text": [
      "Найден существующий размеченный проект для размера 950\n",
      "После итерации 19 осталось 3093 сообщений\n"
     ]
    },
    {
     "data": {
      "application/vnd.jupyter.widget-view+json": {
       "model_id": "b39c0f777d464784bc2aa805d6c83310",
       "version_major": 2,
       "version_minor": 0
      },
      "text/plain": [
       "Map:   0%|          | 0/950 [00:00<?, ? examples/s]"
      ]
     },
     "metadata": {},
     "output_type": "display_data"
    },
    {
     "name": "stderr",
     "output_type": "stream",
     "text": [
      "No label_names provided for model class `PeftModelForTokenClassification`. Since `PeftModel` hides base models input arguments, if label_names is not given, label_names can't be set automatically within `Trainer`. Note that empty label_names list will be used instead.\n"
     ]
    },
    {
     "name": "stdout",
     "output_type": "stream",
     "text": [
      "[NER] Обучение на 950 примерах\n"
     ]
    },
    {
     "data": {
      "text/html": [
       "\n",
       "    <div>\n",
       "      \n",
       "      <progress value='595' max='1190' style='width:300px; height:20px; vertical-align: middle;'></progress>\n",
       "      [ 595/1190 05:11 < 05:12, 1.90 it/s, Epoch 5/10]\n",
       "    </div>\n",
       "    <table border=\"1\" class=\"dataframe\">\n",
       "  <thead>\n",
       " <tr style=\"text-align: left;\">\n",
       "      <th>Epoch</th>\n",
       "      <th>Training Loss</th>\n",
       "      <th>Validation Loss</th>\n",
       "      <th>Precision</th>\n",
       "      <th>Recall</th>\n",
       "      <th>F1</th>\n",
       "    </tr>\n",
       "  </thead>\n",
       "  <tbody>\n",
       "    <tr>\n",
       "      <td>1</td>\n",
       "      <td>No log</td>\n",
       "      <td>0.173894</td>\n",
       "      <td>0.812274</td>\n",
       "      <td>0.903614</td>\n",
       "      <td>0.855513</td>\n",
       "    </tr>\n",
       "    <tr>\n",
       "      <td>2</td>\n",
       "      <td>No log</td>\n",
       "      <td>0.178790</td>\n",
       "      <td>0.797153</td>\n",
       "      <td>0.899598</td>\n",
       "      <td>0.845283</td>\n",
       "    </tr>\n",
       "    <tr>\n",
       "      <td>3</td>\n",
       "      <td>No log</td>\n",
       "      <td>0.172289</td>\n",
       "      <td>0.814079</td>\n",
       "      <td>0.905622</td>\n",
       "      <td>0.857414</td>\n",
       "    </tr>\n",
       "    <tr>\n",
       "      <td>4</td>\n",
       "      <td>No log</td>\n",
       "      <td>0.164387</td>\n",
       "      <td>0.816697</td>\n",
       "      <td>0.903614</td>\n",
       "      <td>0.857960</td>\n",
       "    </tr>\n",
       "    <tr>\n",
       "      <td>5</td>\n",
       "      <td>0.334000</td>\n",
       "      <td>0.164319</td>\n",
       "      <td>0.814079</td>\n",
       "      <td>0.905622</td>\n",
       "      <td>0.857414</td>\n",
       "    </tr>\n",
       "  </tbody>\n",
       "</table><p>"
      ],
      "text/plain": [
       "<IPython.core.display.HTML object>"
      ]
     },
     "metadata": {},
     "output_type": "display_data"
    },
    {
     "data": {
      "text/html": [],
      "text/plain": [
       "<IPython.core.display.HTML object>"
      ]
     },
     "metadata": {},
     "output_type": "display_data"
    },
    {
     "name": "stdout",
     "output_type": "stream",
     "text": [
      "[NER] Результаты: F1 = 0.8580\n",
      "\n",
      "[NER] Подробный отчет о классификации:\n",
      "              precision    recall  f1-score   support\n",
      "\n",
      "  B-ALLERGEN     0.8000    0.9855    0.8831        69\n",
      " B-BODY_PART     0.9351    0.9351    0.9351        77\n",
      "  B-MEDICINE     0.8036    0.8824    0.8411        51\n",
      "   B-SYMPTOM     0.8148    0.8713    0.8421       101\n",
      "   B-TOPONYM     0.9227    0.9745    0.9479       196\n",
      "  I-ALLERGEN     0.9231    0.9000    0.9114        80\n",
      " I-BODY_PART     1.0000    0.8235    0.9032        17\n",
      "  I-MEDICINE     0.7912    0.8571    0.8229        84\n",
      "   I-SYMPTOM     0.7778    0.8607    0.8171       122\n",
      "   I-TOPONYM     0.9091    0.9091    0.9091        44\n",
      "           O     0.9816    0.9612    0.9713      2604\n",
      "\n",
      "    accuracy                         0.9492      3445\n",
      "   macro avg     0.8781    0.9055    0.8895      3445\n",
      "weighted avg     0.9520    0.9492    0.9501      3445\n",
      "\n",
      "[NER] Модель сохранена в models/pollen_ner_950\n"
     ]
    },
    {
     "name": "stderr",
     "output_type": "stream",
     "text": [
      "No files have been modified since last commit. Skipping to prevent empty commit.\n"
     ]
    },
    {
     "name": "stdout",
     "output_type": "stream",
     "text": [
      "[NER] Лучшая модель за все итерации сохранена в models/pollen_ner_best\n",
      "\n",
      "[NER] Тестирование модели после обучения:\n",
      "\n",
      "Тестовый пример:\n",
      "Текст: В Московской области у меня началась аллергия на пыльцу березы, потекли глаза, нос, принимаю Зиртек и Назонекс. У ребенка в Новокузнецке чешутся глаза, уши и течет нос, врач прописал Кромогексал, Назонекс в нос. В Санкт-Петербурге началось цветение ольхи, сильная реакция, принимаю Эриус, но глаза все равно слезятся.\n",
      "\n",
      "[NER] Результаты анализа:\n",
      "TOPONYM: Московскойобласти, Новокузнецке, ., Санкт-Петербурге\n",
      "MEDICINE: Зиртек, Назонекс, Кромогексал, Назонекс, Эриус\n",
      "SYMPTOM: потекли, чешутся, течет, слезятся\n",
      "ALLERGEN: пыльцу, березы, ольхи\n",
      "BODY_PART: глаза, нос, глаза, уши, нос, внос, глаза\n",
      "Модель перемещена на cuda\n",
      "\n",
      "Статистика распределения классов в тренировочном датасете после итерации 19:\n",
      "Counter({'SYMPTOM': 1330, 'TOPONYM': 910, 'BODY_PART': 880, 'MEDICINE': 530, 'ALLERGEN': 435})\n",
      "\n",
      "[NER] Начинаем итерацию с размером выборки 1000\n"
     ]
    },
    {
     "name": "stderr",
     "output_type": "stream",
     "text": [
      "C:\\Users\\ivanm\\anaconda3\\envs\\project\\Lib\\site-packages\\peft\\mapping_func.py:73: UserWarning: You are trying to modify a model with PEFT for a second time. If you want to reload the model with a different config, make sure to call `.unload()` before.\n",
      "  warnings.warn(\n",
      "C:\\Users\\ivanm\\anaconda3\\envs\\project\\Lib\\site-packages\\peft\\tuners\\tuners_utils.py:167: UserWarning: Already found a `peft_config` attribute in the model. This will lead to having multiple adapters in the model. Make sure to know what you are doing!\n",
      "  warnings.warn(\n"
     ]
    },
    {
     "name": "stdout",
     "output_type": "stream",
     "text": [
      "Найден существующий размеченный проект для размера 1000\n",
      "После итерации 20 осталось 3043 сообщений\n"
     ]
    },
    {
     "data": {
      "application/vnd.jupyter.widget-view+json": {
       "model_id": "a48fcdb19531453a89d925c60e01bd1f",
       "version_major": 2,
       "version_minor": 0
      },
      "text/plain": [
       "Map:   0%|          | 0/1000 [00:00<?, ? examples/s]"
      ]
     },
     "metadata": {},
     "output_type": "display_data"
    },
    {
     "name": "stderr",
     "output_type": "stream",
     "text": [
      "No label_names provided for model class `PeftModelForTokenClassification`. Since `PeftModel` hides base models input arguments, if label_names is not given, label_names can't be set automatically within `Trainer`. Note that empty label_names list will be used instead.\n"
     ]
    },
    {
     "name": "stdout",
     "output_type": "stream",
     "text": [
      "[NER] Обучение на 1000 примерах\n"
     ]
    },
    {
     "data": {
      "text/html": [
       "\n",
       "    <div>\n",
       "      \n",
       "      <progress value='625' max='1250' style='width:300px; height:20px; vertical-align: middle;'></progress>\n",
       "      [ 625/1250 05:27 < 05:28, 1.91 it/s, Epoch 5/10]\n",
       "    </div>\n",
       "    <table border=\"1\" class=\"dataframe\">\n",
       "  <thead>\n",
       " <tr style=\"text-align: left;\">\n",
       "      <th>Epoch</th>\n",
       "      <th>Training Loss</th>\n",
       "      <th>Validation Loss</th>\n",
       "      <th>Precision</th>\n",
       "      <th>Recall</th>\n",
       "      <th>F1</th>\n",
       "    </tr>\n",
       "  </thead>\n",
       "  <tbody>\n",
       "    <tr>\n",
       "      <td>1</td>\n",
       "      <td>No log</td>\n",
       "      <td>0.157524</td>\n",
       "      <td>0.834879</td>\n",
       "      <td>0.903614</td>\n",
       "      <td>0.867888</td>\n",
       "    </tr>\n",
       "    <tr>\n",
       "      <td>2</td>\n",
       "      <td>No log</td>\n",
       "      <td>0.167124</td>\n",
       "      <td>0.817690</td>\n",
       "      <td>0.909639</td>\n",
       "      <td>0.861217</td>\n",
       "    </tr>\n",
       "    <tr>\n",
       "      <td>3</td>\n",
       "      <td>No log</td>\n",
       "      <td>0.153921</td>\n",
       "      <td>0.833948</td>\n",
       "      <td>0.907631</td>\n",
       "      <td>0.869231</td>\n",
       "    </tr>\n",
       "    <tr>\n",
       "      <td>4</td>\n",
       "      <td>0.318500</td>\n",
       "      <td>0.155575</td>\n",
       "      <td>0.830571</td>\n",
       "      <td>0.905622</td>\n",
       "      <td>0.866475</td>\n",
       "    </tr>\n",
       "    <tr>\n",
       "      <td>5</td>\n",
       "      <td>0.318500</td>\n",
       "      <td>0.158151</td>\n",
       "      <td>0.827839</td>\n",
       "      <td>0.907631</td>\n",
       "      <td>0.865900</td>\n",
       "    </tr>\n",
       "  </tbody>\n",
       "</table><p>"
      ],
      "text/plain": [
       "<IPython.core.display.HTML object>"
      ]
     },
     "metadata": {},
     "output_type": "display_data"
    },
    {
     "data": {
      "text/html": [],
      "text/plain": [
       "<IPython.core.display.HTML object>"
      ]
     },
     "metadata": {},
     "output_type": "display_data"
    },
    {
     "name": "stdout",
     "output_type": "stream",
     "text": [
      "[NER] Результаты: F1 = 0.8692\n",
      "\n",
      "[NER] Подробный отчет о классификации:\n",
      "              precision    recall  f1-score   support\n",
      "\n",
      "  B-ALLERGEN     0.8095    0.9855    0.8889        69\n",
      " B-BODY_PART     0.9600    0.9351    0.9474        77\n",
      "  B-MEDICINE     0.8364    0.9020    0.8679        51\n",
      "   B-SYMPTOM     0.8462    0.8713    0.8585       101\n",
      "   B-TOPONYM     0.9272    0.9745    0.9502       196\n",
      "  I-ALLERGEN     0.9231    0.9000    0.9114        80\n",
      " I-BODY_PART     1.0000    0.8235    0.9032        17\n",
      "  I-MEDICINE     0.8090    0.8571    0.8324        84\n",
      "   I-SYMPTOM     0.8281    0.8689    0.8480       122\n",
      "   I-TOPONYM     0.9091    0.9091    0.9091        44\n",
      "           O     0.9825    0.9689    0.9756      2604\n",
      "\n",
      "    accuracy                         0.9556      3445\n",
      "   macro avg     0.8937    0.9087    0.8993      3445\n",
      "weighted avg     0.9573    0.9556    0.9561      3445\n",
      "\n",
      "[NER] Модель сохранена в models/pollen_ner_1000\n"
     ]
    },
    {
     "name": "stderr",
     "output_type": "stream",
     "text": [
      "No files have been modified since last commit. Skipping to prevent empty commit.\n"
     ]
    },
    {
     "name": "stdout",
     "output_type": "stream",
     "text": [
      "[NER] Лучшая модель за все итерации сохранена в models/pollen_ner_best\n",
      "\n",
      "[NER] Тестирование модели после обучения:\n",
      "\n",
      "Тестовый пример:\n",
      "Текст: В Московской области у меня началась аллергия на пыльцу березы, потекли глаза, нос, принимаю Зиртек и Назонекс. У ребенка в Новокузнецке чешутся глаза, уши и течет нос, врач прописал Кромогексал, Назонекс в нос. В Санкт-Петербурге началось цветение ольхи, сильная реакция, принимаю Эриус, но глаза все равно слезятся.\n",
      "\n",
      "[NER] Результаты анализа:\n",
      "TOPONYM: Московскойобласти, Новокузнецке, Санкт-Петербурге\n",
      "MEDICINE: Зиртек, Назонекс, Кромогексал, Назонекс, Эриус\n",
      "SYMPTOM: потекли, чешутся, течет, слезятся\n",
      "ALLERGEN: пыльцу, березы, ольхи\n",
      "BODY_PART: глаза, нос, глаза, уши, нос, внос, глаза\n",
      "Модель перемещена на cuda\n",
      "\n",
      "Статистика распределения классов в тренировочном датасете после итерации 20:\n",
      "Counter({'SYMPTOM': 1410, 'TOPONYM': 961, 'BODY_PART': 948, 'MEDICINE': 565, 'ALLERGEN': 457})\n",
      "\n",
      "[NER] Начинаем итерацию с размером выборки 1050\n"
     ]
    },
    {
     "name": "stderr",
     "output_type": "stream",
     "text": [
      "C:\\Users\\ivanm\\anaconda3\\envs\\project\\Lib\\site-packages\\peft\\mapping_func.py:73: UserWarning: You are trying to modify a model with PEFT for a second time. If you want to reload the model with a different config, make sure to call `.unload()` before.\n",
      "  warnings.warn(\n",
      "C:\\Users\\ivanm\\anaconda3\\envs\\project\\Lib\\site-packages\\peft\\tuners\\tuners_utils.py:167: UserWarning: Already found a `peft_config` attribute in the model. This will lead to having multiple adapters in the model. Make sure to know what you are doing!\n",
      "  warnings.warn(\n"
     ]
    },
    {
     "name": "stdout",
     "output_type": "stream",
     "text": [
      "Найден существующий размеченный проект для размера 1050\n",
      "После итерации 21 осталось 2993 сообщений\n"
     ]
    },
    {
     "data": {
      "application/vnd.jupyter.widget-view+json": {
       "model_id": "2b170199ec664ce2a5a9a885017871fa",
       "version_major": 2,
       "version_minor": 0
      },
      "text/plain": [
       "Map:   0%|          | 0/1050 [00:00<?, ? examples/s]"
      ]
     },
     "metadata": {},
     "output_type": "display_data"
    },
    {
     "name": "stderr",
     "output_type": "stream",
     "text": [
      "No label_names provided for model class `PeftModelForTokenClassification`. Since `PeftModel` hides base models input arguments, if label_names is not given, label_names can't be set automatically within `Trainer`. Note that empty label_names list will be used instead.\n"
     ]
    },
    {
     "name": "stdout",
     "output_type": "stream",
     "text": [
      "[NER] Обучение на 1050 примерах\n"
     ]
    },
    {
     "data": {
      "text/html": [
       "\n",
       "    <div>\n",
       "      \n",
       "      <progress value='396' max='1320' style='width:300px; height:20px; vertical-align: middle;'></progress>\n",
       "      [ 396/1320 03:25 < 08:01, 1.92 it/s, Epoch 3/10]\n",
       "    </div>\n",
       "    <table border=\"1\" class=\"dataframe\">\n",
       "  <thead>\n",
       " <tr style=\"text-align: left;\">\n",
       "      <th>Epoch</th>\n",
       "      <th>Training Loss</th>\n",
       "      <th>Validation Loss</th>\n",
       "      <th>Precision</th>\n",
       "      <th>Recall</th>\n",
       "      <th>F1</th>\n",
       "    </tr>\n",
       "  </thead>\n",
       "  <tbody>\n",
       "    <tr>\n",
       "      <td>1</td>\n",
       "      <td>No log</td>\n",
       "      <td>0.159408</td>\n",
       "      <td>0.828467</td>\n",
       "      <td>0.911647</td>\n",
       "      <td>0.868069</td>\n",
       "    </tr>\n",
       "    <tr>\n",
       "      <td>2</td>\n",
       "      <td>No log</td>\n",
       "      <td>0.163260</td>\n",
       "      <td>0.826958</td>\n",
       "      <td>0.911647</td>\n",
       "      <td>0.867240</td>\n",
       "    </tr>\n",
       "    <tr>\n",
       "      <td>3</td>\n",
       "      <td>No log</td>\n",
       "      <td>0.160566</td>\n",
       "      <td>0.826642</td>\n",
       "      <td>0.909639</td>\n",
       "      <td>0.866157</td>\n",
       "    </tr>\n",
       "  </tbody>\n",
       "</table><p>"
      ],
      "text/plain": [
       "<IPython.core.display.HTML object>"
      ]
     },
     "metadata": {},
     "output_type": "display_data"
    },
    {
     "data": {
      "text/html": [],
      "text/plain": [
       "<IPython.core.display.HTML object>"
      ]
     },
     "metadata": {},
     "output_type": "display_data"
    },
    {
     "name": "stdout",
     "output_type": "stream",
     "text": [
      "[NER] Результаты: F1 = 0.8681\n",
      "\n",
      "[NER] Подробный отчет о классификации:\n",
      "              precision    recall  f1-score   support\n",
      "\n",
      "  B-ALLERGEN     0.8095    0.9855    0.8889        69\n",
      " B-BODY_PART     0.9359    0.9481    0.9419        77\n",
      "  B-MEDICINE     0.8214    0.9020    0.8598        51\n",
      "   B-SYMPTOM     0.8447    0.8614    0.8529       101\n",
      "   B-TOPONYM     0.9227    0.9745    0.9479       196\n",
      "  I-ALLERGEN     0.9125    0.9125    0.9125        80\n",
      " I-BODY_PART     1.0000    0.8235    0.9032        17\n",
      "  I-MEDICINE     0.8090    0.8571    0.8324        84\n",
      "   I-SYMPTOM     0.7786    0.8934    0.8321       122\n",
      "   I-TOPONYM     0.9091    0.9091    0.9091        44\n",
      "           O     0.9835    0.9631    0.9732      2604\n",
      "\n",
      "    accuracy                         0.9524      3445\n",
      "   macro avg     0.8843    0.9118    0.8958      3445\n",
      "weighted avg     0.9550    0.9524    0.9532      3445\n",
      "\n",
      "[NER] Модель сохранена в models/pollen_ner_1050\n"
     ]
    },
    {
     "name": "stderr",
     "output_type": "stream",
     "text": [
      "No files have been modified since last commit. Skipping to prevent empty commit.\n"
     ]
    },
    {
     "name": "stdout",
     "output_type": "stream",
     "text": [
      "[NER] Лучшая модель за все итерации сохранена в models/pollen_ner_best\n",
      "\n",
      "[NER] Тестирование модели после обучения:\n",
      "\n",
      "Тестовый пример:\n",
      "Текст: В Московской области у меня началась аллергия на пыльцу березы, потекли глаза, нос, принимаю Зиртек и Назонекс. У ребенка в Новокузнецке чешутся глаза, уши и течет нос, врач прописал Кромогексал, Назонекс в нос. В Санкт-Петербурге началось цветение ольхи, сильная реакция, принимаю Эриус, но глаза все равно слезятся.\n",
      "\n",
      "[NER] Результаты анализа:\n",
      "TOPONYM: Московскойобласти, Новокузнецке, ., Санкт-Петербурге\n",
      "MEDICINE: Зиртек, Назонекс, Кромогексал, Назонекс, Эриус\n",
      "SYMPTOM: потекли, чешутся, течет, слезятся\n",
      "ALLERGEN: пыльцу, березы, ольхи\n",
      "BODY_PART: глаза, нос, глаза, уши, нос, внос, глаза\n",
      "Модель перемещена на cuda\n",
      "\n",
      "Статистика распределения классов в тренировочном датасете после итерации 21:\n",
      "Counter({'SYMPTOM': 1555, 'BODY_PART': 1027, 'TOPONYM': 1013, 'MEDICINE': 598, 'ALLERGEN': 474})\n",
      "\n",
      "[NER] Начинаем итерацию с размером выборки 1100\n"
     ]
    },
    {
     "name": "stderr",
     "output_type": "stream",
     "text": [
      "C:\\Users\\ivanm\\anaconda3\\envs\\project\\Lib\\site-packages\\peft\\mapping_func.py:73: UserWarning: You are trying to modify a model with PEFT for a second time. If you want to reload the model with a different config, make sure to call `.unload()` before.\n",
      "  warnings.warn(\n",
      "C:\\Users\\ivanm\\anaconda3\\envs\\project\\Lib\\site-packages\\peft\\tuners\\tuners_utils.py:167: UserWarning: Already found a `peft_config` attribute in the model. This will lead to having multiple adapters in the model. Make sure to know what you are doing!\n",
      "  warnings.warn(\n"
     ]
    },
    {
     "name": "stdout",
     "output_type": "stream",
     "text": [
      "Ошибка при выполнении get_project_tasks: status_code: 500, body: {'id': '16ffec2b-01bc-424d-b2a1-96b5e9f05d4d', 'status_code': 500, 'version': '1.18.0', 'detail': 'connection already closed', 'exc_info': 'Traceback (most recent call last):\\n  File \"C:\\\\Users\\\\ivanm\\\\anaconda3\\\\Lib\\\\site-packages\\\\rest_framework\\\\views.py\", line 506, in dispatch\\n    response = handler(request, *args, **kwargs)\\n               ^^^^^^^^^^^^^^^^^^^^^^^^^^^^^^^^^\\n  File \"C:\\\\Users\\\\ivanm\\\\anaconda3\\\\Lib\\\\site-packages\\\\django\\\\utils\\\\decorators.py\", line 48, in _wrapper\\n    return bound_method(*args, **kwargs)\\n           ^^^^^^^^^^^^^^^^^^^^^^^^^^^^^\\n  File \"C:\\\\Users\\\\ivanm\\\\anaconda3\\\\Lib\\\\site-packages\\\\label_studio\\\\data_manager\\\\api.py\", line 352, in get\\n    return self.get_paginated_response(serializer.data)\\n                                       ^^^^^^^^^^^^^^^\\n  File \"C:\\\\Users\\\\ivanm\\\\anaconda3\\\\Lib\\\\site-packages\\\\rest_framework\\\\serializers.py\", line 795, in data\\n    ret = super().data\\n          ^^^^^^^^^^^^\\n  File \"C:\\\\Users\\\\ivanm\\\\anaconda3\\\\Lib\\\\site-packages\\\\rest_framework\\\\serializers.py\", line 249, in data\\n    self._data = self.to_representation(self.instance)\\n                 ^^^^^^^^^^^^^^^^^^^^^^^^^^^^^^^^^^^^^\\n  File \"C:\\\\Users\\\\ivanm\\\\anaconda3\\\\Lib\\\\site-packages\\\\rest_framework\\\\serializers.py\", line 714, in to_representation\\n    self.child.to_representation(item) for item in iterable\\n    ^^^^^^^^^^^^^^^^^^^^^^^^^^^^^^^^^^\\n  File \"C:\\\\Users\\\\ivanm\\\\anaconda3\\\\Lib\\\\site-packages\\\\label_studio\\\\data_manager\\\\serializers.py\", line 370, in to_representation\\n    ret = super(DataManagerTaskSerializer, self).to_representation(obj)\\n          ^^^^^^^^^^^^^^^^^^^^^^^^^^^^^^^^^^^^^^^^^^^^^^^^^^^^^^^^^^^^^\\n  File \"C:\\\\Users\\\\ivanm\\\\anaconda3\\\\Lib\\\\site-packages\\\\label_studio\\\\tasks\\\\serializers.py\", line 193, in to_representation\\n    return super().to_representation(instance)\\n           ^^^^^^^^^^^^^^^^^^^^^^^^^^^^^^^^^^^\\n  File \"C:\\\\Users\\\\ivanm\\\\anaconda3\\\\Lib\\\\site-packages\\\\rest_flex_fields\\\\serializers.py\", line 64, in to_representation\\n    return super().to_representation(instance)\\n           ^^^^^^^^^^^^^^^^^^^^^^^^^^^^^^^^^^^\\n  File \"C:\\\\Users\\\\ivanm\\\\anaconda3\\\\Lib\\\\site-packages\\\\rest_framework\\\\serializers.py\", line 538, in to_representation\\n    ret[field.field_name] = field.to_representation(attribute)\\n                            ^^^^^^^^^^^^^^^^^^^^^^^^^^^^^^^^^^\\n  File \"C:\\\\Users\\\\ivanm\\\\anaconda3\\\\Lib\\\\site-packages\\\\rest_framework\\\\relations.py\", line 566, in to_representation\\n    for value in iterable\\n                 ^^^^^^^^\\n  File \"C:\\\\Users\\\\ivanm\\\\anaconda3\\\\Lib\\\\site-packages\\\\django\\\\db\\\\models\\\\query.py\", line 400, in __iter__\\n    self._fetch_all()\\n  File \"C:\\\\Users\\\\ivanm\\\\anaconda3\\\\Lib\\\\site-packages\\\\django\\\\db\\\\models\\\\query.py\", line 1928, in _fetch_all\\n    self._result_cache = list(self._iterable_class(self))\\n                         ^^^^^^^^^^^^^^^^^^^^^^^^^^^^^^^^\\n  File \"C:\\\\Users\\\\ivanm\\\\anaconda3\\\\Lib\\\\site-packages\\\\django\\\\db\\\\models\\\\query.py\", line 91, in __iter__\\n    results = compiler.execute_sql(\\n              ^^^^^^^^^^^^^^^^^^^^^\\n  File \"C:\\\\Users\\\\ivanm\\\\anaconda3\\\\Lib\\\\site-packages\\\\django\\\\db\\\\models\\\\sql\\\\compiler.py\", line 1574, in execute_sql\\n    cursor.execute(sql, params)\\n  File \"C:\\\\Users\\\\ivanm\\\\anaconda3\\\\Lib\\\\site-packages\\\\sentry_sdk\\\\utils.py\", line 1788, in runner\\n    return sentry_patched_function(*args, **kwargs)\\n           ^^^^^^^^^^^^^^^^^^^^^^^^^^^^^^^^^^^^^^^^\\n  File \"C:\\\\Users\\\\ivanm\\\\anaconda3\\\\Lib\\\\site-packages\\\\sentry_sdk\\\\integrations\\\\django\\\\__init__.py\", line 652, in execute\\n    _set_db_data(span, self)\\n  File \"C:\\\\Users\\\\ivanm\\\\anaconda3\\\\Lib\\\\site-packages\\\\sentry_sdk\\\\integrations\\\\django\\\\__init__.py\", line 717, in _set_db_data\\n    connection_params = cursor_or_db.connection.get_dsn_parameters()\\n                        ^^^^^^^^^^^^^^^^^^^^^^^^^^^^^^^^^^^^^^^^^^^^\\npsycopg2.InterfaceError: connection already closed\\n'}. Попытка 1/5\n",
      "Найден существующий размеченный проект для размера 1100\n",
      "После итерации 22 осталось 2943 сообщений\n"
     ]
    },
    {
     "data": {
      "application/vnd.jupyter.widget-view+json": {
       "model_id": "63dfef3f789741d5bace9949c12c153e",
       "version_major": 2,
       "version_minor": 0
      },
      "text/plain": [
       "Map:   0%|          | 0/1100 [00:00<?, ? examples/s]"
      ]
     },
     "metadata": {},
     "output_type": "display_data"
    },
    {
     "name": "stderr",
     "output_type": "stream",
     "text": [
      "No label_names provided for model class `PeftModelForTokenClassification`. Since `PeftModel` hides base models input arguments, if label_names is not given, label_names can't be set automatically within `Trainer`. Note that empty label_names list will be used instead.\n"
     ]
    },
    {
     "name": "stdout",
     "output_type": "stream",
     "text": [
      "[NER] Обучение на 1100 примерах\n"
     ]
    },
    {
     "data": {
      "text/html": [
       "\n",
       "    <div>\n",
       "      \n",
       "      <progress value='552' max='1380' style='width:300px; height:20px; vertical-align: middle;'></progress>\n",
       "      [ 552/1380 04:46 < 07:10, 1.92 it/s, Epoch 4/10]\n",
       "    </div>\n",
       "    <table border=\"1\" class=\"dataframe\">\n",
       "  <thead>\n",
       " <tr style=\"text-align: left;\">\n",
       "      <th>Epoch</th>\n",
       "      <th>Training Loss</th>\n",
       "      <th>Validation Loss</th>\n",
       "      <th>Precision</th>\n",
       "      <th>Recall</th>\n",
       "      <th>F1</th>\n",
       "    </tr>\n",
       "  </thead>\n",
       "  <tbody>\n",
       "    <tr>\n",
       "      <td>1</td>\n",
       "      <td>No log</td>\n",
       "      <td>0.151078</td>\n",
       "      <td>0.841418</td>\n",
       "      <td>0.905622</td>\n",
       "      <td>0.872340</td>\n",
       "    </tr>\n",
       "    <tr>\n",
       "      <td>2</td>\n",
       "      <td>No log</td>\n",
       "      <td>0.150853</td>\n",
       "      <td>0.848598</td>\n",
       "      <td>0.911647</td>\n",
       "      <td>0.878993</td>\n",
       "    </tr>\n",
       "    <tr>\n",
       "      <td>3</td>\n",
       "      <td>No log</td>\n",
       "      <td>0.155730</td>\n",
       "      <td>0.836697</td>\n",
       "      <td>0.915663</td>\n",
       "      <td>0.874401</td>\n",
       "    </tr>\n",
       "    <tr>\n",
       "      <td>4</td>\n",
       "      <td>0.293900</td>\n",
       "      <td>0.163158</td>\n",
       "      <td>0.827027</td>\n",
       "      <td>0.921687</td>\n",
       "      <td>0.871795</td>\n",
       "    </tr>\n",
       "  </tbody>\n",
       "</table><p>"
      ],
      "text/plain": [
       "<IPython.core.display.HTML object>"
      ]
     },
     "metadata": {},
     "output_type": "display_data"
    },
    {
     "data": {
      "text/html": [],
      "text/plain": [
       "<IPython.core.display.HTML object>"
      ]
     },
     "metadata": {},
     "output_type": "display_data"
    },
    {
     "name": "stdout",
     "output_type": "stream",
     "text": [
      "[NER] Результаты: F1 = 0.8790\n",
      "\n",
      "[NER] Подробный отчет о классификации:\n",
      "              precision    recall  f1-score   support\n",
      "\n",
      "  B-ALLERGEN     0.8095    0.9855    0.8889        69\n",
      " B-BODY_PART     0.9367    0.9610    0.9487        77\n",
      "  B-MEDICINE     0.8364    0.9020    0.8679        51\n",
      "   B-SYMPTOM     0.8286    0.8614    0.8447       101\n",
      "   B-TOPONYM     0.9409    0.9745    0.9574       196\n",
      "  I-ALLERGEN     0.9481    0.9125    0.9299        80\n",
      " I-BODY_PART     1.0000    0.8235    0.9032        17\n",
      "  I-MEDICINE     0.8372    0.8571    0.8471        84\n",
      "   I-SYMPTOM     0.8346    0.8689    0.8514       122\n",
      "   I-TOPONYM     0.9091    0.9091    0.9091        44\n",
      "           O     0.9837    0.9712    0.9774      2604\n",
      "\n",
      "    accuracy                         0.9579      3445\n",
      "   macro avg     0.8968    0.9115    0.9023      3445\n",
      "weighted avg     0.9594    0.9579    0.9583      3445\n",
      "\n",
      "[NER] Модель сохранена в models/pollen_ner_1100\n"
     ]
    },
    {
     "name": "stderr",
     "output_type": "stream",
     "text": [
      "No files have been modified since last commit. Skipping to prevent empty commit.\n"
     ]
    },
    {
     "name": "stdout",
     "output_type": "stream",
     "text": [
      "[NER] Лучшая модель за все итерации сохранена в models/pollen_ner_best\n",
      "\n",
      "[NER] Тестирование модели после обучения:\n",
      "\n",
      "Тестовый пример:\n",
      "Текст: В Московской области у меня началась аллергия на пыльцу березы, потекли глаза, нос, принимаю Зиртек и Назонекс. У ребенка в Новокузнецке чешутся глаза, уши и течет нос, врач прописал Кромогексал, Назонекс в нос. В Санкт-Петербурге началось цветение ольхи, сильная реакция, принимаю Эриус, но глаза все равно слезятся.\n",
      "\n",
      "[NER] Результаты анализа:\n",
      "TOPONYM: Московскойобласти, Новокузнецке, Санкт-Петербурге\n",
      "MEDICINE: Зиртек, Назонекс, Кромогексал, Назонекс, Эриус\n",
      "SYMPTOM: потекли, чешутся, течет, слезятся\n",
      "ALLERGEN: пыльцу, березы, ольхи\n",
      "BODY_PART: глаза, нос, глаза, уши, нос, внос, глаза\n",
      "Модель перемещена на cuda\n",
      "\n",
      "Статистика распределения классов в тренировочном датасете после итерации 22:\n",
      "Counter({'SYMPTOM': 1634, 'BODY_PART': 1099, 'TOPONYM': 1071, 'MEDICINE': 615, 'ALLERGEN': 482})\n",
      "\n",
      "[NER] Начинаем итерацию с размером выборки 1150\n"
     ]
    },
    {
     "name": "stderr",
     "output_type": "stream",
     "text": [
      "C:\\Users\\ivanm\\anaconda3\\envs\\project\\Lib\\site-packages\\peft\\mapping_func.py:73: UserWarning: You are trying to modify a model with PEFT for a second time. If you want to reload the model with a different config, make sure to call `.unload()` before.\n",
      "  warnings.warn(\n",
      "C:\\Users\\ivanm\\anaconda3\\envs\\project\\Lib\\site-packages\\peft\\tuners\\tuners_utils.py:167: UserWarning: Already found a `peft_config` attribute in the model. This will lead to having multiple adapters in the model. Make sure to know what you are doing!\n",
      "  warnings.warn(\n"
     ]
    },
    {
     "name": "stdout",
     "output_type": "stream",
     "text": [
      "Найден существующий размеченный проект для размера 1150\n",
      "После итерации 23 осталось 2893 сообщений\n"
     ]
    },
    {
     "data": {
      "application/vnd.jupyter.widget-view+json": {
       "model_id": "cdaa3eb5fd9843008db2cb399e96553c",
       "version_major": 2,
       "version_minor": 0
      },
      "text/plain": [
       "Map:   0%|          | 0/1150 [00:00<?, ? examples/s]"
      ]
     },
     "metadata": {},
     "output_type": "display_data"
    },
    {
     "name": "stderr",
     "output_type": "stream",
     "text": [
      "No label_names provided for model class `PeftModelForTokenClassification`. Since `PeftModel` hides base models input arguments, if label_names is not given, label_names can't be set automatically within `Trainer`. Note that empty label_names list will be used instead.\n"
     ]
    },
    {
     "name": "stdout",
     "output_type": "stream",
     "text": [
      "[NER] Обучение на 1150 примерах\n"
     ]
    },
    {
     "data": {
      "text/html": [
       "\n",
       "    <div>\n",
       "      \n",
       "      <progress value='864' max='1440' style='width:300px; height:20px; vertical-align: middle;'></progress>\n",
       "      [ 864/1440 07:28 < 04:59, 1.92 it/s, Epoch 6/10]\n",
       "    </div>\n",
       "    <table border=\"1\" class=\"dataframe\">\n",
       "  <thead>\n",
       " <tr style=\"text-align: left;\">\n",
       "      <th>Epoch</th>\n",
       "      <th>Training Loss</th>\n",
       "      <th>Validation Loss</th>\n",
       "      <th>Precision</th>\n",
       "      <th>Recall</th>\n",
       "      <th>F1</th>\n",
       "    </tr>\n",
       "  </thead>\n",
       "  <tbody>\n",
       "    <tr>\n",
       "      <td>1</td>\n",
       "      <td>No log</td>\n",
       "      <td>0.152933</td>\n",
       "      <td>0.848881</td>\n",
       "      <td>0.913655</td>\n",
       "      <td>0.880077</td>\n",
       "    </tr>\n",
       "    <tr>\n",
       "      <td>2</td>\n",
       "      <td>No log</td>\n",
       "      <td>0.149000</td>\n",
       "      <td>0.855805</td>\n",
       "      <td>0.917671</td>\n",
       "      <td>0.885659</td>\n",
       "    </tr>\n",
       "    <tr>\n",
       "      <td>3</td>\n",
       "      <td>No log</td>\n",
       "      <td>0.149908</td>\n",
       "      <td>0.854478</td>\n",
       "      <td>0.919679</td>\n",
       "      <td>0.885880</td>\n",
       "    </tr>\n",
       "    <tr>\n",
       "      <td>4</td>\n",
       "      <td>0.285900</td>\n",
       "      <td>0.146455</td>\n",
       "      <td>0.860640</td>\n",
       "      <td>0.917671</td>\n",
       "      <td>0.888241</td>\n",
       "    </tr>\n",
       "    <tr>\n",
       "      <td>5</td>\n",
       "      <td>0.285900</td>\n",
       "      <td>0.156602</td>\n",
       "      <td>0.839122</td>\n",
       "      <td>0.921687</td>\n",
       "      <td>0.878469</td>\n",
       "    </tr>\n",
       "    <tr>\n",
       "      <td>6</td>\n",
       "      <td>0.285900</td>\n",
       "      <td>0.151417</td>\n",
       "      <td>0.854478</td>\n",
       "      <td>0.919679</td>\n",
       "      <td>0.885880</td>\n",
       "    </tr>\n",
       "  </tbody>\n",
       "</table><p>"
      ],
      "text/plain": [
       "<IPython.core.display.HTML object>"
      ]
     },
     "metadata": {},
     "output_type": "display_data"
    },
    {
     "data": {
      "text/html": [],
      "text/plain": [
       "<IPython.core.display.HTML object>"
      ]
     },
     "metadata": {},
     "output_type": "display_data"
    },
    {
     "name": "stdout",
     "output_type": "stream",
     "text": [
      "[NER] Результаты: F1 = 0.8882\n",
      "\n",
      "[NER] Подробный отчет о классификации:\n",
      "              precision    recall  f1-score   support\n",
      "\n",
      "  B-ALLERGEN     0.8193    0.9855    0.8947        69\n",
      " B-BODY_PART     0.9487    0.9610    0.9548        77\n",
      "  B-MEDICINE     0.8246    0.9216    0.8704        51\n",
      "   B-SYMPTOM     0.8614    0.8614    0.8614       101\n",
      "   B-TOPONYM     0.9550    0.9745    0.9646       196\n",
      "  I-ALLERGEN     0.9605    0.9125    0.9359        80\n",
      " I-BODY_PART     1.0000    0.8235    0.9032        17\n",
      "  I-MEDICINE     0.8182    0.8571    0.8372        84\n",
      "   I-SYMPTOM     0.8385    0.8934    0.8651       122\n",
      "   I-TOPONYM     0.9111    0.9318    0.9213        44\n",
      "           O     0.9848    0.9731    0.9789      2604\n",
      "\n",
      "    accuracy                         0.9608      3445\n",
      "   macro avg     0.9020    0.9178    0.9080      3445\n",
      "weighted avg     0.9623    0.9608    0.9613      3445\n",
      "\n",
      "[NER] Модель сохранена в models/pollen_ner_1150\n"
     ]
    },
    {
     "name": "stderr",
     "output_type": "stream",
     "text": [
      "No files have been modified since last commit. Skipping to prevent empty commit.\n"
     ]
    },
    {
     "name": "stdout",
     "output_type": "stream",
     "text": [
      "[NER] Лучшая модель за все итерации сохранена в models/pollen_ner_best\n",
      "\n",
      "[NER] Тестирование модели после обучения:\n",
      "\n",
      "Тестовый пример:\n",
      "Текст: В Московской области у меня началась аллергия на пыльцу березы, потекли глаза, нос, принимаю Зиртек и Назонекс. У ребенка в Новокузнецке чешутся глаза, уши и течет нос, врач прописал Кромогексал, Назонекс в нос. В Санкт-Петербурге началось цветение ольхи, сильная реакция, принимаю Эриус, но глаза все равно слезятся.\n",
      "\n",
      "[NER] Результаты анализа:\n",
      "TOPONYM: Московскойобласти, Новокузнецке, Санкт-Петербурге\n",
      "MEDICINE: Зиртек, Назонекс, Кромогексал, Назонекс, Эриус\n",
      "SYMPTOM: потекли, чешутся, течет, слезятся\n",
      "ALLERGEN: пыльцу, березы, ольхи\n",
      "BODY_PART: глаза, нос, глаза, уши, нос, внос, глаза\n",
      "Модель перемещена на cuda\n",
      "\n",
      "Статистика распределения классов в тренировочном датасете после итерации 23:\n",
      "Counter({'SYMPTOM': 1718, 'BODY_PART': 1158, 'TOPONYM': 1128, 'MEDICINE': 641, 'ALLERGEN': 497})\n",
      "\n",
      "[NER] Начинаем итерацию с размером выборки 1200\n"
     ]
    },
    {
     "name": "stderr",
     "output_type": "stream",
     "text": [
      "C:\\Users\\ivanm\\anaconda3\\envs\\project\\Lib\\site-packages\\peft\\mapping_func.py:73: UserWarning: You are trying to modify a model with PEFT for a second time. If you want to reload the model with a different config, make sure to call `.unload()` before.\n",
      "  warnings.warn(\n",
      "C:\\Users\\ivanm\\anaconda3\\envs\\project\\Lib\\site-packages\\peft\\tuners\\tuners_utils.py:167: UserWarning: Already found a `peft_config` attribute in the model. This will lead to having multiple adapters in the model. Make sure to know what you are doing!\n",
      "  warnings.warn(\n"
     ]
    },
    {
     "name": "stdout",
     "output_type": "stream",
     "text": [
      "Найден существующий размеченный проект для размера 1200\n",
      "После итерации 24 осталось 2843 сообщений\n"
     ]
    },
    {
     "data": {
      "application/vnd.jupyter.widget-view+json": {
       "model_id": "6c83592846e4468ca86f8fa4c97ce4b8",
       "version_major": 2,
       "version_minor": 0
      },
      "text/plain": [
       "Map:   0%|          | 0/1200 [00:00<?, ? examples/s]"
      ]
     },
     "metadata": {},
     "output_type": "display_data"
    },
    {
     "name": "stderr",
     "output_type": "stream",
     "text": [
      "No label_names provided for model class `PeftModelForTokenClassification`. Since `PeftModel` hides base models input arguments, if label_names is not given, label_names can't be set automatically within `Trainer`. Note that empty label_names list will be used instead.\n"
     ]
    },
    {
     "name": "stdout",
     "output_type": "stream",
     "text": [
      "[NER] Обучение на 1200 примерах\n"
     ]
    },
    {
     "data": {
      "text/html": [
       "\n",
       "    <div>\n",
       "      \n",
       "      <progress value='1500' max='1500' style='width:300px; height:20px; vertical-align: middle;'></progress>\n",
       "      [1500/1500 13:00, Epoch 10/10]\n",
       "    </div>\n",
       "    <table border=\"1\" class=\"dataframe\">\n",
       "  <thead>\n",
       " <tr style=\"text-align: left;\">\n",
       "      <th>Epoch</th>\n",
       "      <th>Training Loss</th>\n",
       "      <th>Validation Loss</th>\n",
       "      <th>Precision</th>\n",
       "      <th>Recall</th>\n",
       "      <th>F1</th>\n",
       "    </tr>\n",
       "  </thead>\n",
       "  <tbody>\n",
       "    <tr>\n",
       "      <td>1</td>\n",
       "      <td>No log</td>\n",
       "      <td>0.147368</td>\n",
       "      <td>0.853933</td>\n",
       "      <td>0.915663</td>\n",
       "      <td>0.883721</td>\n",
       "    </tr>\n",
       "    <tr>\n",
       "      <td>2</td>\n",
       "      <td>No log</td>\n",
       "      <td>0.140117</td>\n",
       "      <td>0.860377</td>\n",
       "      <td>0.915663</td>\n",
       "      <td>0.887160</td>\n",
       "    </tr>\n",
       "    <tr>\n",
       "      <td>3</td>\n",
       "      <td>No log</td>\n",
       "      <td>0.145078</td>\n",
       "      <td>0.849162</td>\n",
       "      <td>0.915663</td>\n",
       "      <td>0.881159</td>\n",
       "    </tr>\n",
       "    <tr>\n",
       "      <td>4</td>\n",
       "      <td>0.269700</td>\n",
       "      <td>0.140879</td>\n",
       "      <td>0.860640</td>\n",
       "      <td>0.917671</td>\n",
       "      <td>0.888241</td>\n",
       "    </tr>\n",
       "    <tr>\n",
       "      <td>5</td>\n",
       "      <td>0.269700</td>\n",
       "      <td>0.143825</td>\n",
       "      <td>0.855535</td>\n",
       "      <td>0.915663</td>\n",
       "      <td>0.884578</td>\n",
       "    </tr>\n",
       "    <tr>\n",
       "      <td>6</td>\n",
       "      <td>0.269700</td>\n",
       "      <td>0.140381</td>\n",
       "      <td>0.867424</td>\n",
       "      <td>0.919679</td>\n",
       "      <td>0.892788</td>\n",
       "    </tr>\n",
       "    <tr>\n",
       "      <td>7</td>\n",
       "      <td>0.258300</td>\n",
       "      <td>0.142893</td>\n",
       "      <td>0.865530</td>\n",
       "      <td>0.917671</td>\n",
       "      <td>0.890838</td>\n",
       "    </tr>\n",
       "    <tr>\n",
       "      <td>8</td>\n",
       "      <td>0.258300</td>\n",
       "      <td>0.138565</td>\n",
       "      <td>0.870722</td>\n",
       "      <td>0.919679</td>\n",
       "      <td>0.894531</td>\n",
       "    </tr>\n",
       "    <tr>\n",
       "      <td>9</td>\n",
       "      <td>0.258300</td>\n",
       "      <td>0.140343</td>\n",
       "      <td>0.867675</td>\n",
       "      <td>0.921687</td>\n",
       "      <td>0.893866</td>\n",
       "    </tr>\n",
       "    <tr>\n",
       "      <td>10</td>\n",
       "      <td>0.249300</td>\n",
       "      <td>0.140914</td>\n",
       "      <td>0.864151</td>\n",
       "      <td>0.919679</td>\n",
       "      <td>0.891051</td>\n",
       "    </tr>\n",
       "  </tbody>\n",
       "</table><p>"
      ],
      "text/plain": [
       "<IPython.core.display.HTML object>"
      ]
     },
     "metadata": {},
     "output_type": "display_data"
    },
    {
     "data": {
      "text/html": [],
      "text/plain": [
       "<IPython.core.display.HTML object>"
      ]
     },
     "metadata": {},
     "output_type": "display_data"
    },
    {
     "name": "stdout",
     "output_type": "stream",
     "text": [
      "[NER] Результаты: F1 = 0.8945\n",
      "\n",
      "[NER] Подробный отчет о классификации:\n",
      "              precision    recall  f1-score   support\n",
      "\n",
      "  B-ALLERGEN     0.8293    0.9855    0.9007        69\n",
      " B-BODY_PART     0.9487    0.9610    0.9548        77\n",
      "  B-MEDICINE     0.8545    0.9216    0.8868        51\n",
      "   B-SYMPTOM     0.8544    0.8713    0.8627       101\n",
      "   B-TOPONYM     0.9598    0.9745    0.9671       196\n",
      "  I-ALLERGEN     0.9605    0.9125    0.9359        80\n",
      " I-BODY_PART     1.0000    0.8235    0.9032        17\n",
      "  I-MEDICINE     0.8721    0.8929    0.8824        84\n",
      "   I-SYMPTOM     0.8492    0.8770    0.8629       122\n",
      "   I-TOPONYM     0.9111    0.9318    0.9213        44\n",
      "           O     0.9857    0.9770    0.9813      2604\n",
      "\n",
      "    accuracy                         0.9643      3445\n",
      "   macro avg     0.9114    0.9208    0.9145      3445\n",
      "weighted avg     0.9654    0.9643    0.9646      3445\n",
      "\n",
      "[NER] Модель сохранена в models/pollen_ner_1200\n"
     ]
    },
    {
     "name": "stderr",
     "output_type": "stream",
     "text": [
      "No files have been modified since last commit. Skipping to prevent empty commit.\n"
     ]
    },
    {
     "name": "stdout",
     "output_type": "stream",
     "text": [
      "[NER] Лучшая модель за все итерации сохранена в models/pollen_ner_best\n",
      "\n",
      "[NER] Тестирование модели после обучения:\n",
      "\n",
      "Тестовый пример:\n",
      "Текст: В Московской области у меня началась аллергия на пыльцу березы, потекли глаза, нос, принимаю Зиртек и Назонекс. У ребенка в Новокузнецке чешутся глаза, уши и течет нос, врач прописал Кромогексал, Назонекс в нос. В Санкт-Петербурге началось цветение ольхи, сильная реакция, принимаю Эриус, но глаза все равно слезятся.\n",
      "\n",
      "[NER] Результаты анализа:\n",
      "TOPONYM: Московскойобласти, Новокузнецке, Санкт-Петербурге\n",
      "MEDICINE: Зиртек, Назонекс, Кромогексал, Назонекс, Эриус\n",
      "SYMPTOM: потекли, чешутся, течет, слезятся\n",
      "ALLERGEN: пыльцу, березы, ольхи\n",
      "BODY_PART: глаза, нос, глаза, уши, нос, внос, глаза\n",
      "Модель перемещена на cuda\n",
      "\n",
      "Статистика распределения классов в тренировочном датасете после итерации 24:\n",
      "Counter({'SYMPTOM': 1790, 'BODY_PART': 1220, 'TOPONYM': 1181, 'MEDICINE': 663, 'ALLERGEN': 507})\n",
      "\n",
      "[NER] Начинаем итерацию с размером выборки 1250\n"
     ]
    },
    {
     "name": "stderr",
     "output_type": "stream",
     "text": [
      "C:\\Users\\ivanm\\anaconda3\\envs\\project\\Lib\\site-packages\\peft\\mapping_func.py:73: UserWarning: You are trying to modify a model with PEFT for a second time. If you want to reload the model with a different config, make sure to call `.unload()` before.\n",
      "  warnings.warn(\n",
      "C:\\Users\\ivanm\\anaconda3\\envs\\project\\Lib\\site-packages\\peft\\tuners\\tuners_utils.py:167: UserWarning: Already found a `peft_config` attribute in the model. This will lead to having multiple adapters in the model. Make sure to know what you are doing!\n",
      "  warnings.warn(\n"
     ]
    },
    {
     "name": "stdout",
     "output_type": "stream",
     "text": [
      "Найден существующий размеченный проект для размера 1250\n",
      "После итерации 25 осталось 2793 сообщений\n"
     ]
    },
    {
     "data": {
      "application/vnd.jupyter.widget-view+json": {
       "model_id": "6917d33436634ebba07a1ed1fd6a4322",
       "version_major": 2,
       "version_minor": 0
      },
      "text/plain": [
       "Map:   0%|          | 0/1250 [00:00<?, ? examples/s]"
      ]
     },
     "metadata": {},
     "output_type": "display_data"
    },
    {
     "name": "stderr",
     "output_type": "stream",
     "text": [
      "No label_names provided for model class `PeftModelForTokenClassification`. Since `PeftModel` hides base models input arguments, if label_names is not given, label_names can't be set automatically within `Trainer`. Note that empty label_names list will be used instead.\n"
     ]
    },
    {
     "name": "stdout",
     "output_type": "stream",
     "text": [
      "[NER] Обучение на 1250 примерах\n"
     ]
    },
    {
     "data": {
      "text/html": [
       "\n",
       "    <div>\n",
       "      \n",
       "      <progress value='471' max='1570' style='width:300px; height:20px; vertical-align: middle;'></progress>\n",
       "      [ 471/1570 04:02 < 09:28, 1.93 it/s, Epoch 3/10]\n",
       "    </div>\n",
       "    <table border=\"1\" class=\"dataframe\">\n",
       "  <thead>\n",
       " <tr style=\"text-align: left;\">\n",
       "      <th>Epoch</th>\n",
       "      <th>Training Loss</th>\n",
       "      <th>Validation Loss</th>\n",
       "      <th>Precision</th>\n",
       "      <th>Recall</th>\n",
       "      <th>F1</th>\n",
       "    </tr>\n",
       "  </thead>\n",
       "  <tbody>\n",
       "    <tr>\n",
       "      <td>1</td>\n",
       "      <td>No log</td>\n",
       "      <td>0.145527</td>\n",
       "      <td>0.861423</td>\n",
       "      <td>0.923695</td>\n",
       "      <td>0.891473</td>\n",
       "    </tr>\n",
       "    <tr>\n",
       "      <td>2</td>\n",
       "      <td>No log</td>\n",
       "      <td>0.140582</td>\n",
       "      <td>0.862524</td>\n",
       "      <td>0.919679</td>\n",
       "      <td>0.890185</td>\n",
       "    </tr>\n",
       "    <tr>\n",
       "      <td>3</td>\n",
       "      <td>No log</td>\n",
       "      <td>0.141999</td>\n",
       "      <td>0.859551</td>\n",
       "      <td>0.921687</td>\n",
       "      <td>0.889535</td>\n",
       "    </tr>\n",
       "  </tbody>\n",
       "</table><p>"
      ],
      "text/plain": [
       "<IPython.core.display.HTML object>"
      ]
     },
     "metadata": {},
     "output_type": "display_data"
    },
    {
     "data": {
      "text/html": [],
      "text/plain": [
       "<IPython.core.display.HTML object>"
      ]
     },
     "metadata": {},
     "output_type": "display_data"
    },
    {
     "name": "stdout",
     "output_type": "stream",
     "text": [
      "[NER] Результаты: F1 = 0.8915\n",
      "\n",
      "[NER] Подробный отчет о классификации:\n",
      "              precision    recall  f1-score   support\n",
      "\n",
      "  B-ALLERGEN     0.8293    0.9855    0.9007        69\n",
      " B-BODY_PART     0.9487    0.9610    0.9548        77\n",
      "  B-MEDICINE     0.8246    0.9216    0.8704        51\n",
      "   B-SYMPTOM     0.8318    0.8812    0.8558       101\n",
      "   B-TOPONYM     0.9598    0.9745    0.9671       196\n",
      "  I-ALLERGEN     0.9481    0.9125    0.9299        80\n",
      " I-BODY_PART     1.0000    0.8235    0.9032        17\n",
      "  I-MEDICINE     0.8352    0.9048    0.8686        84\n",
      "   I-SYMPTOM     0.8258    0.8934    0.8583       122\n",
      "   I-TOPONYM     0.9111    0.9318    0.9213        44\n",
      "           O     0.9867    0.9712    0.9789      2604\n",
      "\n",
      "    accuracy                         0.9611      3445\n",
      "   macro avg     0.9001    0.9237    0.9099      3445\n",
      "weighted avg     0.9631    0.9611    0.9617      3445\n",
      "\n",
      "[NER] Модель сохранена в models/pollen_ner_1250\n"
     ]
    },
    {
     "name": "stderr",
     "output_type": "stream",
     "text": [
      "No files have been modified since last commit. Skipping to prevent empty commit.\n"
     ]
    },
    {
     "name": "stdout",
     "output_type": "stream",
     "text": [
      "[NER] Лучшая модель за все итерации сохранена в models/pollen_ner_best\n",
      "\n",
      "[NER] Тестирование модели после обучения:\n",
      "\n",
      "Тестовый пример:\n",
      "Текст: В Московской области у меня началась аллергия на пыльцу березы, потекли глаза, нос, принимаю Зиртек и Назонекс. У ребенка в Новокузнецке чешутся глаза, уши и течет нос, врач прописал Кромогексал, Назонекс в нос. В Санкт-Петербурге началось цветение ольхи, сильная реакция, принимаю Эриус, но глаза все равно слезятся.\n",
      "\n",
      "[NER] Результаты анализа:\n",
      "TOPONYM: Московскойобласти, Новокузнецке, Санкт-Петербурге\n",
      "MEDICINE: Зиртек, Назонекс, Кромогексал, Назонекс, Эриус\n",
      "SYMPTOM: потекли, чешутся, течет, слезятся\n",
      "ALLERGEN: пыльцу, березы, ольхи\n",
      "BODY_PART: глаза, нос, глаза, уши, нос, внос, глаза\n",
      "Модель перемещена на cuda\n",
      "\n",
      "Статистика распределения классов в тренировочном датасете после итерации 25:\n",
      "Counter({'SYMPTOM': 1883, 'BODY_PART': 1279, 'TOPONYM': 1231, 'MEDICINE': 682, 'ALLERGEN': 537})\n",
      "\n",
      "[NER] Начинаем итерацию с размером выборки 1300\n"
     ]
    },
    {
     "name": "stderr",
     "output_type": "stream",
     "text": [
      "C:\\Users\\ivanm\\anaconda3\\envs\\project\\Lib\\site-packages\\peft\\mapping_func.py:73: UserWarning: You are trying to modify a model with PEFT for a second time. If you want to reload the model with a different config, make sure to call `.unload()` before.\n",
      "  warnings.warn(\n",
      "C:\\Users\\ivanm\\anaconda3\\envs\\project\\Lib\\site-packages\\peft\\tuners\\tuners_utils.py:167: UserWarning: Already found a `peft_config` attribute in the model. This will lead to having multiple adapters in the model. Make sure to know what you are doing!\n",
      "  warnings.warn(\n"
     ]
    },
    {
     "name": "stdout",
     "output_type": "stream",
     "text": [
      "Найден существующий размеченный проект для размера 1300\n",
      "После итерации 26 осталось 2743 сообщений\n"
     ]
    },
    {
     "data": {
      "application/vnd.jupyter.widget-view+json": {
       "model_id": "1fed8609c6b04fb08f9a152ad8e8c3be",
       "version_major": 2,
       "version_minor": 0
      },
      "text/plain": [
       "Map:   0%|          | 0/1300 [00:00<?, ? examples/s]"
      ]
     },
     "metadata": {},
     "output_type": "display_data"
    },
    {
     "name": "stderr",
     "output_type": "stream",
     "text": [
      "No label_names provided for model class `PeftModelForTokenClassification`. Since `PeftModel` hides base models input arguments, if label_names is not given, label_names can't be set automatically within `Trainer`. Note that empty label_names list will be used instead.\n"
     ]
    },
    {
     "name": "stdout",
     "output_type": "stream",
     "text": [
      "[NER] Обучение на 1300 примерах\n"
     ]
    },
    {
     "data": {
      "text/html": [
       "\n",
       "    <div>\n",
       "      \n",
       "      <progress value='489' max='1630' style='width:300px; height:20px; vertical-align: middle;'></progress>\n",
       "      [ 489/1630 04:11 < 09:50, 1.93 it/s, Epoch 3/10]\n",
       "    </div>\n",
       "    <table border=\"1\" class=\"dataframe\">\n",
       "  <thead>\n",
       " <tr style=\"text-align: left;\">\n",
       "      <th>Epoch</th>\n",
       "      <th>Training Loss</th>\n",
       "      <th>Validation Loss</th>\n",
       "      <th>Precision</th>\n",
       "      <th>Recall</th>\n",
       "      <th>F1</th>\n",
       "    </tr>\n",
       "  </thead>\n",
       "  <tbody>\n",
       "    <tr>\n",
       "      <td>1</td>\n",
       "      <td>No log</td>\n",
       "      <td>0.136530</td>\n",
       "      <td>0.873805</td>\n",
       "      <td>0.917671</td>\n",
       "      <td>0.895201</td>\n",
       "    </tr>\n",
       "    <tr>\n",
       "      <td>2</td>\n",
       "      <td>No log</td>\n",
       "      <td>0.138874</td>\n",
       "      <td>0.863894</td>\n",
       "      <td>0.917671</td>\n",
       "      <td>0.889971</td>\n",
       "    </tr>\n",
       "    <tr>\n",
       "      <td>3</td>\n",
       "      <td>No log</td>\n",
       "      <td>0.136911</td>\n",
       "      <td>0.868821</td>\n",
       "      <td>0.917671</td>\n",
       "      <td>0.892578</td>\n",
       "    </tr>\n",
       "  </tbody>\n",
       "</table><p>"
      ],
      "text/plain": [
       "<IPython.core.display.HTML object>"
      ]
     },
     "metadata": {},
     "output_type": "display_data"
    },
    {
     "data": {
      "text/html": [],
      "text/plain": [
       "<IPython.core.display.HTML object>"
      ]
     },
     "metadata": {},
     "output_type": "display_data"
    },
    {
     "name": "stdout",
     "output_type": "stream",
     "text": [
      "[NER] Результаты: F1 = 0.8952\n",
      "\n",
      "[NER] Подробный отчет о классификации:\n",
      "              precision    recall  f1-score   support\n",
      "\n",
      "  B-ALLERGEN     0.8293    0.9855    0.9007        69\n",
      " B-BODY_PART     0.9481    0.9481    0.9481        77\n",
      "  B-MEDICINE     0.8545    0.9216    0.8868        51\n",
      "   B-SYMPTOM     0.8713    0.8713    0.8713       101\n",
      "   B-TOPONYM     0.9646    0.9745    0.9695       196\n",
      "  I-ALLERGEN     0.9605    0.9125    0.9359        80\n",
      " I-BODY_PART     0.9333    0.8235    0.8750        17\n",
      "  I-MEDICINE     0.8621    0.8929    0.8772        84\n",
      "   I-SYMPTOM     0.8640    0.8852    0.8745       122\n",
      "   I-TOPONYM     0.9091    0.9091    0.9091        44\n",
      "           O     0.9853    0.9781    0.9817      2604\n",
      "\n",
      "    accuracy                         0.9649      3445\n",
      "   macro avg     0.9075    0.9184    0.9118      3445\n",
      "weighted avg     0.9658    0.9649    0.9651      3445\n",
      "\n",
      "[NER] Модель сохранена в models/pollen_ner_1300\n"
     ]
    },
    {
     "name": "stderr",
     "output_type": "stream",
     "text": [
      "No files have been modified since last commit. Skipping to prevent empty commit.\n"
     ]
    },
    {
     "name": "stdout",
     "output_type": "stream",
     "text": [
      "[NER] Лучшая модель за все итерации сохранена в models/pollen_ner_best\n",
      "\n",
      "[NER] Тестирование модели после обучения:\n",
      "\n",
      "Тестовый пример:\n",
      "Текст: В Московской области у меня началась аллергия на пыльцу березы, потекли глаза, нос, принимаю Зиртек и Назонекс. У ребенка в Новокузнецке чешутся глаза, уши и течет нос, врач прописал Кромогексал, Назонекс в нос. В Санкт-Петербурге началось цветение ольхи, сильная реакция, принимаю Эриус, но глаза все равно слезятся.\n",
      "\n",
      "[NER] Результаты анализа:\n",
      "TOPONYM: Московскойобласти, Новокузнецке, Санкт-Петербурге\n",
      "MEDICINE: Зиртек, Назонекс, Кромогексал, Назонекс, Эриус\n",
      "SYMPTOM: потекли, чешутся, течет, слезятся\n",
      "ALLERGEN: пыльцу, березы, ольхи\n",
      "BODY_PART: глаза, нос, глаза, уши, нос, внос, глаза\n",
      "Модель перемещена на cuda\n",
      "\n",
      "Статистика распределения классов в тренировочном датасете после итерации 26:\n",
      "Counter({'SYMPTOM': 1965, 'BODY_PART': 1340, 'TOPONYM': 1295, 'MEDICINE': 718, 'ALLERGEN': 553})\n",
      "\n",
      "[NER] Начинаем итерацию с размером выборки 1350\n"
     ]
    },
    {
     "name": "stderr",
     "output_type": "stream",
     "text": [
      "C:\\Users\\ivanm\\anaconda3\\envs\\project\\Lib\\site-packages\\peft\\mapping_func.py:73: UserWarning: You are trying to modify a model with PEFT for a second time. If you want to reload the model with a different config, make sure to call `.unload()` before.\n",
      "  warnings.warn(\n",
      "C:\\Users\\ivanm\\anaconda3\\envs\\project\\Lib\\site-packages\\peft\\tuners\\tuners_utils.py:167: UserWarning: Already found a `peft_config` attribute in the model. This will lead to having multiple adapters in the model. Make sure to know what you are doing!\n",
      "  warnings.warn(\n"
     ]
    },
    {
     "name": "stdout",
     "output_type": "stream",
     "text": [
      "Ошибка при выполнении get_project_tasks: status_code: 500, body: {'id': 'cdba6f81-9944-4495-bcde-f7925b0dc374', 'status_code': 500, 'version': '1.18.0', 'detail': 'connection already closed', 'exc_info': 'Traceback (most recent call last):\\n  File \"C:\\\\Users\\\\ivanm\\\\anaconda3\\\\Lib\\\\site-packages\\\\rest_framework\\\\views.py\", line 506, in dispatch\\n    response = handler(request, *args, **kwargs)\\n               ^^^^^^^^^^^^^^^^^^^^^^^^^^^^^^^^^\\n  File \"C:\\\\Users\\\\ivanm\\\\anaconda3\\\\Lib\\\\site-packages\\\\django\\\\utils\\\\decorators.py\", line 48, in _wrapper\\n    return bound_method(*args, **kwargs)\\n           ^^^^^^^^^^^^^^^^^^^^^^^^^^^^^\\n  File \"C:\\\\Users\\\\ivanm\\\\anaconda3\\\\Lib\\\\site-packages\\\\label_studio\\\\data_manager\\\\api.py\", line 352, in get\\n    return self.get_paginated_response(serializer.data)\\n                                       ^^^^^^^^^^^^^^^\\n  File \"C:\\\\Users\\\\ivanm\\\\anaconda3\\\\Lib\\\\site-packages\\\\rest_framework\\\\serializers.py\", line 795, in data\\n    ret = super().data\\n          ^^^^^^^^^^^^\\n  File \"C:\\\\Users\\\\ivanm\\\\anaconda3\\\\Lib\\\\site-packages\\\\rest_framework\\\\serializers.py\", line 249, in data\\n    self._data = self.to_representation(self.instance)\\n                 ^^^^^^^^^^^^^^^^^^^^^^^^^^^^^^^^^^^^^\\n  File \"C:\\\\Users\\\\ivanm\\\\anaconda3\\\\Lib\\\\site-packages\\\\rest_framework\\\\serializers.py\", line 714, in to_representation\\n    self.child.to_representation(item) for item in iterable\\n    ^^^^^^^^^^^^^^^^^^^^^^^^^^^^^^^^^^\\n  File \"C:\\\\Users\\\\ivanm\\\\anaconda3\\\\Lib\\\\site-packages\\\\label_studio\\\\data_manager\\\\serializers.py\", line 370, in to_representation\\n    ret = super(DataManagerTaskSerializer, self).to_representation(obj)\\n          ^^^^^^^^^^^^^^^^^^^^^^^^^^^^^^^^^^^^^^^^^^^^^^^^^^^^^^^^^^^^^\\n  File \"C:\\\\Users\\\\ivanm\\\\anaconda3\\\\Lib\\\\site-packages\\\\label_studio\\\\tasks\\\\serializers.py\", line 193, in to_representation\\n    return super().to_representation(instance)\\n           ^^^^^^^^^^^^^^^^^^^^^^^^^^^^^^^^^^^\\n  File \"C:\\\\Users\\\\ivanm\\\\anaconda3\\\\Lib\\\\site-packages\\\\rest_flex_fields\\\\serializers.py\", line 64, in to_representation\\n    return super().to_representation(instance)\\n           ^^^^^^^^^^^^^^^^^^^^^^^^^^^^^^^^^^^\\n  File \"C:\\\\Users\\\\ivanm\\\\anaconda3\\\\Lib\\\\site-packages\\\\rest_framework\\\\serializers.py\", line 538, in to_representation\\n    ret[field.field_name] = field.to_representation(attribute)\\n                            ^^^^^^^^^^^^^^^^^^^^^^^^^^^^^^^^^^\\n  File \"C:\\\\Users\\\\ivanm\\\\anaconda3\\\\Lib\\\\site-packages\\\\rest_framework\\\\relations.py\", line 566, in to_representation\\n    for value in iterable\\n                 ^^^^^^^^\\n  File \"C:\\\\Users\\\\ivanm\\\\anaconda3\\\\Lib\\\\site-packages\\\\django\\\\db\\\\models\\\\query.py\", line 400, in __iter__\\n    self._fetch_all()\\n  File \"C:\\\\Users\\\\ivanm\\\\anaconda3\\\\Lib\\\\site-packages\\\\django\\\\db\\\\models\\\\query.py\", line 1928, in _fetch_all\\n    self._result_cache = list(self._iterable_class(self))\\n                         ^^^^^^^^^^^^^^^^^^^^^^^^^^^^^^^^\\n  File \"C:\\\\Users\\\\ivanm\\\\anaconda3\\\\Lib\\\\site-packages\\\\django\\\\db\\\\models\\\\query.py\", line 91, in __iter__\\n    results = compiler.execute_sql(\\n              ^^^^^^^^^^^^^^^^^^^^^\\n  File \"C:\\\\Users\\\\ivanm\\\\anaconda3\\\\Lib\\\\site-packages\\\\django\\\\db\\\\models\\\\sql\\\\compiler.py\", line 1574, in execute_sql\\n    cursor.execute(sql, params)\\n  File \"C:\\\\Users\\\\ivanm\\\\anaconda3\\\\Lib\\\\site-packages\\\\sentry_sdk\\\\utils.py\", line 1788, in runner\\n    return sentry_patched_function(*args, **kwargs)\\n           ^^^^^^^^^^^^^^^^^^^^^^^^^^^^^^^^^^^^^^^^\\n  File \"C:\\\\Users\\\\ivanm\\\\anaconda3\\\\Lib\\\\site-packages\\\\sentry_sdk\\\\integrations\\\\django\\\\__init__.py\", line 652, in execute\\n    _set_db_data(span, self)\\n  File \"C:\\\\Users\\\\ivanm\\\\anaconda3\\\\Lib\\\\site-packages\\\\sentry_sdk\\\\integrations\\\\django\\\\__init__.py\", line 717, in _set_db_data\\n    connection_params = cursor_or_db.connection.get_dsn_parameters()\\n                        ^^^^^^^^^^^^^^^^^^^^^^^^^^^^^^^^^^^^^^^^^^^^\\npsycopg2.InterfaceError: connection already closed\\n'}. Попытка 1/5\n",
      "Найден существующий размеченный проект для размера 1350\n",
      "После итерации 27 осталось 2693 сообщений\n"
     ]
    },
    {
     "data": {
      "application/vnd.jupyter.widget-view+json": {
       "model_id": "58469fbf907d45a4be073b78f1a4e4d6",
       "version_major": 2,
       "version_minor": 0
      },
      "text/plain": [
       "Map:   0%|          | 0/1350 [00:00<?, ? examples/s]"
      ]
     },
     "metadata": {},
     "output_type": "display_data"
    },
    {
     "name": "stderr",
     "output_type": "stream",
     "text": [
      "No label_names provided for model class `PeftModelForTokenClassification`. Since `PeftModel` hides base models input arguments, if label_names is not given, label_names can't be set automatically within `Trainer`. Note that empty label_names list will be used instead.\n"
     ]
    },
    {
     "name": "stdout",
     "output_type": "stream",
     "text": [
      "[NER] Обучение на 1350 примерах\n"
     ]
    },
    {
     "data": {
      "text/html": [
       "\n",
       "    <div>\n",
       "      \n",
       "      <progress value='845' max='1690' style='width:300px; height:20px; vertical-align: middle;'></progress>\n",
       "      [ 845/1690 07:16 < 07:17, 1.93 it/s, Epoch 5/10]\n",
       "    </div>\n",
       "    <table border=\"1\" class=\"dataframe\">\n",
       "  <thead>\n",
       " <tr style=\"text-align: left;\">\n",
       "      <th>Epoch</th>\n",
       "      <th>Training Loss</th>\n",
       "      <th>Validation Loss</th>\n",
       "      <th>Precision</th>\n",
       "      <th>Recall</th>\n",
       "      <th>F1</th>\n",
       "    </tr>\n",
       "  </thead>\n",
       "  <tbody>\n",
       "    <tr>\n",
       "      <td>1</td>\n",
       "      <td>No log</td>\n",
       "      <td>0.140392</td>\n",
       "      <td>0.859287</td>\n",
       "      <td>0.919679</td>\n",
       "      <td>0.888458</td>\n",
       "    </tr>\n",
       "    <tr>\n",
       "      <td>2</td>\n",
       "      <td>No log</td>\n",
       "      <td>0.137651</td>\n",
       "      <td>0.864407</td>\n",
       "      <td>0.921687</td>\n",
       "      <td>0.892128</td>\n",
       "    </tr>\n",
       "    <tr>\n",
       "      <td>3</td>\n",
       "      <td>0.241800</td>\n",
       "      <td>0.133709</td>\n",
       "      <td>0.869565</td>\n",
       "      <td>0.923695</td>\n",
       "      <td>0.895813</td>\n",
       "    </tr>\n",
       "    <tr>\n",
       "      <td>4</td>\n",
       "      <td>0.241800</td>\n",
       "      <td>0.133371</td>\n",
       "      <td>0.867925</td>\n",
       "      <td>0.923695</td>\n",
       "      <td>0.894942</td>\n",
       "    </tr>\n",
       "    <tr>\n",
       "      <td>5</td>\n",
       "      <td>0.241800</td>\n",
       "      <td>0.128706</td>\n",
       "      <td>0.872381</td>\n",
       "      <td>0.919679</td>\n",
       "      <td>0.895406</td>\n",
       "    </tr>\n",
       "  </tbody>\n",
       "</table><p>"
      ],
      "text/plain": [
       "<IPython.core.display.HTML object>"
      ]
     },
     "metadata": {},
     "output_type": "display_data"
    },
    {
     "data": {
      "text/html": [],
      "text/plain": [
       "<IPython.core.display.HTML object>"
      ]
     },
     "metadata": {},
     "output_type": "display_data"
    },
    {
     "name": "stdout",
     "output_type": "stream",
     "text": [
      "[NER] Результаты: F1 = 0.8958\n",
      "\n",
      "[NER] Подробный отчет о классификации:\n",
      "              precision    recall  f1-score   support\n",
      "\n",
      "  B-ALLERGEN     0.8293    0.9855    0.9007        69\n",
      " B-BODY_PART     0.9610    0.9610    0.9610        77\n",
      "  B-MEDICINE     0.8545    0.9216    0.8868        51\n",
      "   B-SYMPTOM     0.8476    0.8812    0.8641       101\n",
      "   B-TOPONYM     0.9646    0.9745    0.9695       196\n",
      "  I-ALLERGEN     0.9605    0.9125    0.9359        80\n",
      " I-BODY_PART     1.0000    0.8235    0.9032        17\n",
      "  I-MEDICINE     0.8261    0.9048    0.8636        84\n",
      "   I-SYMPTOM     0.8504    0.8852    0.8675       122\n",
      "   I-TOPONYM     0.9130    0.9545    0.9333        44\n",
      "           O     0.9868    0.9750    0.9809      2604\n",
      "\n",
      "    accuracy                         0.9640      3445\n",
      "   macro avg     0.9085    0.9254    0.9151      3445\n",
      "weighted avg     0.9655    0.9640    0.9645      3445\n",
      "\n",
      "[NER] Модель сохранена в models/pollen_ner_1350\n"
     ]
    },
    {
     "name": "stderr",
     "output_type": "stream",
     "text": [
      "No files have been modified since last commit. Skipping to prevent empty commit.\n"
     ]
    },
    {
     "name": "stdout",
     "output_type": "stream",
     "text": [
      "[NER] Лучшая модель за все итерации сохранена в models/pollen_ner_best\n",
      "\n",
      "[NER] Тестирование модели после обучения:\n",
      "\n",
      "Тестовый пример:\n",
      "Текст: В Московской области у меня началась аллергия на пыльцу березы, потекли глаза, нос, принимаю Зиртек и Назонекс. У ребенка в Новокузнецке чешутся глаза, уши и течет нос, врач прописал Кромогексал, Назонекс в нос. В Санкт-Петербурге началось цветение ольхи, сильная реакция, принимаю Эриус, но глаза все равно слезятся.\n",
      "\n",
      "[NER] Результаты анализа:\n",
      "TOPONYM: Московскойобласти, Новокузнецке, Санкт-Петербурге\n",
      "MEDICINE: Зиртек, Назонекс, Кромогексал, Назонекс, Эриус\n",
      "SYMPTOM: потекли, чешутся, течет, слезятся\n",
      "ALLERGEN: пыльцу, березы, ольхи\n",
      "BODY_PART: глаза, нос, глаза, уши, нос, внос, глаза\n",
      "Модель перемещена на cuda\n",
      "\n",
      "Статистика распределения классов в тренировочном датасете после итерации 27:\n",
      "Counter({'SYMPTOM': 2081, 'BODY_PART': 1424, 'TOPONYM': 1359, 'MEDICINE': 758, 'ALLERGEN': 587})\n",
      "\n",
      "[NER] Начинаем итерацию с размером выборки 1400\n"
     ]
    },
    {
     "name": "stderr",
     "output_type": "stream",
     "text": [
      "C:\\Users\\ivanm\\anaconda3\\envs\\project\\Lib\\site-packages\\peft\\mapping_func.py:73: UserWarning: You are trying to modify a model with PEFT for a second time. If you want to reload the model with a different config, make sure to call `.unload()` before.\n",
      "  warnings.warn(\n",
      "C:\\Users\\ivanm\\anaconda3\\envs\\project\\Lib\\site-packages\\peft\\tuners\\tuners_utils.py:167: UserWarning: Already found a `peft_config` attribute in the model. This will lead to having multiple adapters in the model. Make sure to know what you are doing!\n",
      "  warnings.warn(\n"
     ]
    },
    {
     "name": "stdout",
     "output_type": "stream",
     "text": [
      "Найден существующий размеченный проект для размера 1400\n",
      "После итерации 28 осталось 2643 сообщений\n"
     ]
    },
    {
     "data": {
      "application/vnd.jupyter.widget-view+json": {
       "model_id": "4e23c9aa179740608b0656268b2c6f74",
       "version_major": 2,
       "version_minor": 0
      },
      "text/plain": [
       "Map:   0%|          | 0/1400 [00:00<?, ? examples/s]"
      ]
     },
     "metadata": {},
     "output_type": "display_data"
    },
    {
     "name": "stderr",
     "output_type": "stream",
     "text": [
      "No label_names provided for model class `PeftModelForTokenClassification`. Since `PeftModel` hides base models input arguments, if label_names is not given, label_names can't be set automatically within `Trainer`. Note that empty label_names list will be used instead.\n"
     ]
    },
    {
     "name": "stdout",
     "output_type": "stream",
     "text": [
      "[NER] Обучение на 1400 примерах\n"
     ]
    },
    {
     "data": {
      "text/html": [
       "\n",
       "    <div>\n",
       "      \n",
       "      <progress value='700' max='1750' style='width:300px; height:20px; vertical-align: middle;'></progress>\n",
       "      [ 700/1750 06:01 < 09:03, 1.93 it/s, Epoch 4/10]\n",
       "    </div>\n",
       "    <table border=\"1\" class=\"dataframe\">\n",
       "  <thead>\n",
       " <tr style=\"text-align: left;\">\n",
       "      <th>Epoch</th>\n",
       "      <th>Training Loss</th>\n",
       "      <th>Validation Loss</th>\n",
       "      <th>Precision</th>\n",
       "      <th>Recall</th>\n",
       "      <th>F1</th>\n",
       "    </tr>\n",
       "  </thead>\n",
       "  <tbody>\n",
       "    <tr>\n",
       "      <td>1</td>\n",
       "      <td>No log</td>\n",
       "      <td>0.138054</td>\n",
       "      <td>0.864407</td>\n",
       "      <td>0.921687</td>\n",
       "      <td>0.892128</td>\n",
       "    </tr>\n",
       "    <tr>\n",
       "      <td>2</td>\n",
       "      <td>No log</td>\n",
       "      <td>0.132594</td>\n",
       "      <td>0.874525</td>\n",
       "      <td>0.923695</td>\n",
       "      <td>0.898438</td>\n",
       "    </tr>\n",
       "    <tr>\n",
       "      <td>3</td>\n",
       "      <td>0.231100</td>\n",
       "      <td>0.134266</td>\n",
       "      <td>0.871212</td>\n",
       "      <td>0.923695</td>\n",
       "      <td>0.896686</td>\n",
       "    </tr>\n",
       "    <tr>\n",
       "      <td>4</td>\n",
       "      <td>0.231100</td>\n",
       "      <td>0.131526</td>\n",
       "      <td>0.866038</td>\n",
       "      <td>0.921687</td>\n",
       "      <td>0.892996</td>\n",
       "    </tr>\n",
       "  </tbody>\n",
       "</table><p>"
      ],
      "text/plain": [
       "<IPython.core.display.HTML object>"
      ]
     },
     "metadata": {},
     "output_type": "display_data"
    },
    {
     "data": {
      "text/html": [],
      "text/plain": [
       "<IPython.core.display.HTML object>"
      ]
     },
     "metadata": {},
     "output_type": "display_data"
    },
    {
     "name": "stdout",
     "output_type": "stream",
     "text": [
      "[NER] Результаты: F1 = 0.8984\n",
      "\n",
      "[NER] Подробный отчет о классификации:\n",
      "              precision    recall  f1-score   support\n",
      "\n",
      "  B-ALLERGEN     0.8293    0.9855    0.9007        69\n",
      " B-BODY_PART     0.9487    0.9610    0.9548        77\n",
      "  B-MEDICINE     0.8545    0.9216    0.8868        51\n",
      "   B-SYMPTOM     0.8558    0.8812    0.8683       101\n",
      "   B-TOPONYM     0.9646    0.9745    0.9695       196\n",
      "  I-ALLERGEN     0.9733    0.9125    0.9419        80\n",
      " I-BODY_PART     1.0000    0.8235    0.9032        17\n",
      "  I-MEDICINE     0.8621    0.8929    0.8772        84\n",
      "   I-SYMPTOM     0.8504    0.8852    0.8675       122\n",
      "   I-TOPONYM     0.9130    0.9545    0.9333        44\n",
      "           O     0.9868    0.9773    0.9821      2604\n",
      "\n",
      "    accuracy                         0.9655      3445\n",
      "   macro avg     0.9126    0.9245    0.9168      3445\n",
      "weighted avg     0.9667    0.9655    0.9658      3445\n",
      "\n",
      "[NER] Модель сохранена в models/pollen_ner_1400\n"
     ]
    },
    {
     "name": "stderr",
     "output_type": "stream",
     "text": [
      "No files have been modified since last commit. Skipping to prevent empty commit.\n"
     ]
    },
    {
     "name": "stdout",
     "output_type": "stream",
     "text": [
      "[NER] Лучшая модель за все итерации сохранена в models/pollen_ner_best\n",
      "\n",
      "[NER] Тестирование модели после обучения:\n",
      "\n",
      "Тестовый пример:\n",
      "Текст: В Московской области у меня началась аллергия на пыльцу березы, потекли глаза, нос, принимаю Зиртек и Назонекс. У ребенка в Новокузнецке чешутся глаза, уши и течет нос, врач прописал Кромогексал, Назонекс в нос. В Санкт-Петербурге началось цветение ольхи, сильная реакция, принимаю Эриус, но глаза все равно слезятся.\n",
      "\n",
      "[NER] Результаты анализа:\n",
      "TOPONYM: Московскойобласти, Новокузнецке, Санкт-Петербурге\n",
      "MEDICINE: Зиртек, Назонекс, Кромогексал, Назонекс, Эриус\n",
      "SYMPTOM: потекли, чешутся, течет, слезятся\n",
      "ALLERGEN: пыльцу, березы, ольхи\n",
      "BODY_PART: глаза, нос, глаза, уши, нос, внос, глаза\n",
      "Модель перемещена на cuda\n",
      "\n",
      "Статистика распределения классов в тренировочном датасете после итерации 28:\n",
      "Counter({'SYMPTOM': 2184, 'BODY_PART': 1483, 'TOPONYM': 1414, 'MEDICINE': 772, 'ALLERGEN': 616})\n",
      "\n",
      "[NER] Начинаем итерацию с размером выборки 1450\n"
     ]
    },
    {
     "name": "stderr",
     "output_type": "stream",
     "text": [
      "C:\\Users\\ivanm\\anaconda3\\envs\\project\\Lib\\site-packages\\peft\\mapping_func.py:73: UserWarning: You are trying to modify a model with PEFT for a second time. If you want to reload the model with a different config, make sure to call `.unload()` before.\n",
      "  warnings.warn(\n",
      "C:\\Users\\ivanm\\anaconda3\\envs\\project\\Lib\\site-packages\\peft\\tuners\\tuners_utils.py:167: UserWarning: Already found a `peft_config` attribute in the model. This will lead to having multiple adapters in the model. Make sure to know what you are doing!\n",
      "  warnings.warn(\n"
     ]
    },
    {
     "name": "stdout",
     "output_type": "stream",
     "text": [
      "Найден существующий размеченный проект для размера 1450\n",
      "После итерации 29 осталось 2593 сообщений\n"
     ]
    },
    {
     "data": {
      "application/vnd.jupyter.widget-view+json": {
       "model_id": "3d30226b84154a25abb6d94d69c69e36",
       "version_major": 2,
       "version_minor": 0
      },
      "text/plain": [
       "Map:   0%|          | 0/1450 [00:00<?, ? examples/s]"
      ]
     },
     "metadata": {},
     "output_type": "display_data"
    },
    {
     "name": "stderr",
     "output_type": "stream",
     "text": [
      "No label_names provided for model class `PeftModelForTokenClassification`. Since `PeftModel` hides base models input arguments, if label_names is not given, label_names can't be set automatically within `Trainer`. Note that empty label_names list will be used instead.\n"
     ]
    },
    {
     "name": "stdout",
     "output_type": "stream",
     "text": [
      "[NER] Обучение на 1450 примерах\n"
     ]
    },
    {
     "data": {
      "text/html": [
       "\n",
       "    <div>\n",
       "      \n",
       "      <progress value='910' max='1820' style='width:300px; height:20px; vertical-align: middle;'></progress>\n",
       "      [ 910/1820 07:49 < 07:50, 1.94 it/s, Epoch 5/10]\n",
       "    </div>\n",
       "    <table border=\"1\" class=\"dataframe\">\n",
       "  <thead>\n",
       " <tr style=\"text-align: left;\">\n",
       "      <th>Epoch</th>\n",
       "      <th>Training Loss</th>\n",
       "      <th>Validation Loss</th>\n",
       "      <th>Precision</th>\n",
       "      <th>Recall</th>\n",
       "      <th>F1</th>\n",
       "    </tr>\n",
       "  </thead>\n",
       "  <tbody>\n",
       "    <tr>\n",
       "      <td>1</td>\n",
       "      <td>No log</td>\n",
       "      <td>0.138046</td>\n",
       "      <td>0.865169</td>\n",
       "      <td>0.927711</td>\n",
       "      <td>0.895349</td>\n",
       "    </tr>\n",
       "    <tr>\n",
       "      <td>2</td>\n",
       "      <td>No log</td>\n",
       "      <td>0.127756</td>\n",
       "      <td>0.877629</td>\n",
       "      <td>0.921687</td>\n",
       "      <td>0.899119</td>\n",
       "    </tr>\n",
       "    <tr>\n",
       "      <td>3</td>\n",
       "      <td>0.227900</td>\n",
       "      <td>0.126492</td>\n",
       "      <td>0.879541</td>\n",
       "      <td>0.923695</td>\n",
       "      <td>0.901077</td>\n",
       "    </tr>\n",
       "    <tr>\n",
       "      <td>4</td>\n",
       "      <td>0.227900</td>\n",
       "      <td>0.127054</td>\n",
       "      <td>0.876190</td>\n",
       "      <td>0.923695</td>\n",
       "      <td>0.899316</td>\n",
       "    </tr>\n",
       "    <tr>\n",
       "      <td>5</td>\n",
       "      <td>0.227900</td>\n",
       "      <td>0.129944</td>\n",
       "      <td>0.875236</td>\n",
       "      <td>0.929719</td>\n",
       "      <td>0.901655</td>\n",
       "    </tr>\n",
       "  </tbody>\n",
       "</table><p>"
      ],
      "text/plain": [
       "<IPython.core.display.HTML object>"
      ]
     },
     "metadata": {},
     "output_type": "display_data"
    },
    {
     "data": {
      "text/html": [],
      "text/plain": [
       "<IPython.core.display.HTML object>"
      ]
     },
     "metadata": {},
     "output_type": "display_data"
    },
    {
     "name": "stdout",
     "output_type": "stream",
     "text": [
      "[NER] Результаты: F1 = 0.9017\n",
      "\n",
      "[NER] Подробный отчет о классификации:\n",
      "              precision    recall  f1-score   support\n",
      "\n",
      "  B-ALLERGEN     0.8293    0.9855    0.9007        69\n",
      " B-BODY_PART     0.9605    0.9481    0.9542        77\n",
      "  B-MEDICINE     0.8545    0.9216    0.8868        51\n",
      "   B-SYMPTOM     0.8491    0.8911    0.8696       101\n",
      "   B-TOPONYM     0.9697    0.9796    0.9746       196\n",
      "  I-ALLERGEN     0.9359    0.9125    0.9241        80\n",
      " I-BODY_PART     0.9333    0.8235    0.8750        17\n",
      "  I-MEDICINE     0.8652    0.9167    0.8902        84\n",
      "   I-SYMPTOM     0.8583    0.8934    0.8755       122\n",
      "   I-TOPONYM     0.9130    0.9545    0.9333        44\n",
      "           O     0.9883    0.9766    0.9824      2604\n",
      "\n",
      "    accuracy                         0.9660      3445\n",
      "   macro avg     0.9052    0.9276    0.9151      3445\n",
      "weighted avg     0.9673    0.9660    0.9664      3445\n",
      "\n",
      "[NER] Модель сохранена в models/pollen_ner_1450\n"
     ]
    },
    {
     "name": "stderr",
     "output_type": "stream",
     "text": [
      "No files have been modified since last commit. Skipping to prevent empty commit.\n"
     ]
    },
    {
     "name": "stdout",
     "output_type": "stream",
     "text": [
      "[NER] Лучшая модель за все итерации сохранена в models/pollen_ner_best\n",
      "\n",
      "[NER] Тестирование модели после обучения:\n",
      "\n",
      "Тестовый пример:\n",
      "Текст: В Московской области у меня началась аллергия на пыльцу березы, потекли глаза, нос, принимаю Зиртек и Назонекс. У ребенка в Новокузнецке чешутся глаза, уши и течет нос, врач прописал Кромогексал, Назонекс в нос. В Санкт-Петербурге началось цветение ольхи, сильная реакция, принимаю Эриус, но глаза все равно слезятся.\n",
      "\n",
      "[NER] Результаты анализа:\n",
      "TOPONYM: Московскойобласти, Новокузнецке, Санкт-Петербурге\n",
      "MEDICINE: Зиртек, Назонекс, Кромогексал, Назонекс, Эриус\n",
      "SYMPTOM: потекли, чешутся, течет, слезятся\n",
      "ALLERGEN: пыльцу, березы, ольхи\n",
      "BODY_PART: глаза, нос, глаза, уши, нос, внос, глаза\n",
      "Модель перемещена на cuda\n",
      "\n",
      "Статистика распределения классов в тренировочном датасете после итерации 29:\n",
      "Counter({'SYMPTOM': 2254, 'BODY_PART': 1527, 'TOPONYM': 1479, 'MEDICINE': 788, 'ALLERGEN': 633})\n",
      "\n",
      "[NER] Начинаем итерацию с размером выборки 1500\n"
     ]
    },
    {
     "name": "stderr",
     "output_type": "stream",
     "text": [
      "C:\\Users\\ivanm\\anaconda3\\envs\\project\\Lib\\site-packages\\peft\\mapping_func.py:73: UserWarning: You are trying to modify a model with PEFT for a second time. If you want to reload the model with a different config, make sure to call `.unload()` before.\n",
      "  warnings.warn(\n",
      "C:\\Users\\ivanm\\anaconda3\\envs\\project\\Lib\\site-packages\\peft\\tuners\\tuners_utils.py:167: UserWarning: Already found a `peft_config` attribute in the model. This will lead to having multiple adapters in the model. Make sure to know what you are doing!\n",
      "  warnings.warn(\n"
     ]
    },
    {
     "name": "stdout",
     "output_type": "stream",
     "text": [
      "Найден существующий размеченный проект для размера 1500\n",
      "После итерации 30 осталось 2543 сообщений\n"
     ]
    },
    {
     "data": {
      "application/vnd.jupyter.widget-view+json": {
       "model_id": "3476342b6af74f87a0fa64854ca16208",
       "version_major": 2,
       "version_minor": 0
      },
      "text/plain": [
       "Map:   0%|          | 0/1500 [00:00<?, ? examples/s]"
      ]
     },
     "metadata": {},
     "output_type": "display_data"
    },
    {
     "name": "stderr",
     "output_type": "stream",
     "text": [
      "No label_names provided for model class `PeftModelForTokenClassification`. Since `PeftModel` hides base models input arguments, if label_names is not given, label_names can't be set automatically within `Trainer`. Note that empty label_names list will be used instead.\n"
     ]
    },
    {
     "name": "stdout",
     "output_type": "stream",
     "text": [
      "[NER] Обучение на 1500 примерах\n"
     ]
    },
    {
     "data": {
      "text/html": [
       "\n",
       "    <div>\n",
       "      \n",
       "      <progress value='564' max='1880' style='width:300px; height:20px; vertical-align: middle;'></progress>\n",
       "      [ 564/1880 04:49 < 11:17, 1.94 it/s, Epoch 3/10]\n",
       "    </div>\n",
       "    <table border=\"1\" class=\"dataframe\">\n",
       "  <thead>\n",
       " <tr style=\"text-align: left;\">\n",
       "      <th>Epoch</th>\n",
       "      <th>Training Loss</th>\n",
       "      <th>Validation Loss</th>\n",
       "      <th>Precision</th>\n",
       "      <th>Recall</th>\n",
       "      <th>F1</th>\n",
       "    </tr>\n",
       "  </thead>\n",
       "  <tbody>\n",
       "    <tr>\n",
       "      <td>1</td>\n",
       "      <td>No log</td>\n",
       "      <td>0.142410</td>\n",
       "      <td>0.856611</td>\n",
       "      <td>0.923695</td>\n",
       "      <td>0.888889</td>\n",
       "    </tr>\n",
       "    <tr>\n",
       "      <td>2</td>\n",
       "      <td>No log</td>\n",
       "      <td>0.143939</td>\n",
       "      <td>0.847300</td>\n",
       "      <td>0.913655</td>\n",
       "      <td>0.879227</td>\n",
       "    </tr>\n",
       "    <tr>\n",
       "      <td>3</td>\n",
       "      <td>0.217000</td>\n",
       "      <td>0.141991</td>\n",
       "      <td>0.854717</td>\n",
       "      <td>0.909639</td>\n",
       "      <td>0.881323</td>\n",
       "    </tr>\n",
       "  </tbody>\n",
       "</table><p>"
      ],
      "text/plain": [
       "<IPython.core.display.HTML object>"
      ]
     },
     "metadata": {},
     "output_type": "display_data"
    },
    {
     "data": {
      "text/html": [],
      "text/plain": [
       "<IPython.core.display.HTML object>"
      ]
     },
     "metadata": {},
     "output_type": "display_data"
    },
    {
     "name": "stdout",
     "output_type": "stream",
     "text": [
      "[NER] Результаты: F1 = 0.8889\n",
      "\n",
      "[NER] Подробный отчет о классификации:\n",
      "              precision    recall  f1-score   support\n",
      "\n",
      "  B-ALLERGEN     0.8313    1.0000    0.9079        69\n",
      " B-BODY_PART     0.9481    0.9481    0.9481        77\n",
      "  B-MEDICINE     0.8545    0.9216    0.8868        51\n",
      "   B-SYMPTOM     0.7845    0.9010    0.8387       101\n",
      "   B-TOPONYM     0.9796    0.9796    0.9796       196\n",
      "  I-ALLERGEN     0.9481    0.9125    0.9299        80\n",
      " I-BODY_PART     1.0000    0.6471    0.7857        17\n",
      "  I-MEDICINE     0.8851    0.9167    0.9006        84\n",
      "   I-SYMPTOM     0.8120    0.8852    0.8471       122\n",
      "   I-TOPONYM     0.9111    0.9318    0.9213        44\n",
      "           O     0.9879    0.9731    0.9805      2604\n",
      "\n",
      "    accuracy                         0.9626      3445\n",
      "   macro avg     0.9038    0.9106    0.9024      3445\n",
      "weighted avg     0.9649    0.9626    0.9631      3445\n",
      "\n",
      "[NER] Модель сохранена в models/pollen_ner_1500\n"
     ]
    },
    {
     "name": "stderr",
     "output_type": "stream",
     "text": [
      "No files have been modified since last commit. Skipping to prevent empty commit.\n"
     ]
    },
    {
     "name": "stdout",
     "output_type": "stream",
     "text": [
      "[NER] Лучшая модель за все итерации сохранена в models/pollen_ner_best\n",
      "\n",
      "[NER] Тестирование модели после обучения:\n",
      "\n",
      "Тестовый пример:\n",
      "Текст: В Московской области у меня началась аллергия на пыльцу березы, потекли глаза, нос, принимаю Зиртек и Назонекс. У ребенка в Новокузнецке чешутся глаза, уши и течет нос, врач прописал Кромогексал, Назонекс в нос. В Санкт-Петербурге началось цветение ольхи, сильная реакция, принимаю Эриус, но глаза все равно слезятся.\n",
      "\n",
      "[NER] Результаты анализа:\n",
      "TOPONYM: Московскойобласти, Новокузнецке, Санкт-Петербурге\n",
      "MEDICINE: Зиртек, Назонекс, Кромогексал, Назонекс, Эриус\n",
      "SYMPTOM: потекли, чешутся, течет, слезятся\n",
      "ALLERGEN: пыльцу, березы, ольхи\n",
      "BODY_PART: глаза, нос, глаза, уши, нос, внос, глаза\n",
      "Модель перемещена на cuda\n",
      "\n",
      "Статистика распределения классов в тренировочном датасете после итерации 30:\n",
      "Counter({'SYMPTOM': 2323, 'BODY_PART': 1587, 'TOPONYM': 1534, 'MEDICINE': 831, 'ALLERGEN': 645})\n",
      "\n",
      "[NER] Начинаем итерацию с размером выборки 1550\n"
     ]
    },
    {
     "name": "stderr",
     "output_type": "stream",
     "text": [
      "C:\\Users\\ivanm\\anaconda3\\envs\\project\\Lib\\site-packages\\peft\\mapping_func.py:73: UserWarning: You are trying to modify a model with PEFT for a second time. If you want to reload the model with a different config, make sure to call `.unload()` before.\n",
      "  warnings.warn(\n",
      "C:\\Users\\ivanm\\anaconda3\\envs\\project\\Lib\\site-packages\\peft\\tuners\\tuners_utils.py:167: UserWarning: Already found a `peft_config` attribute in the model. This will lead to having multiple adapters in the model. Make sure to know what you are doing!\n",
      "  warnings.warn(\n"
     ]
    },
    {
     "name": "stdout",
     "output_type": "stream",
     "text": [
      "Найден существующий размеченный проект для размера 1550\n",
      "После итерации 31 осталось 2493 сообщений\n"
     ]
    },
    {
     "data": {
      "application/vnd.jupyter.widget-view+json": {
       "model_id": "dfa967054703453a9301f7181c5c98a1",
       "version_major": 2,
       "version_minor": 0
      },
      "text/plain": [
       "Map:   0%|          | 0/1550 [00:00<?, ? examples/s]"
      ]
     },
     "metadata": {},
     "output_type": "display_data"
    },
    {
     "name": "stderr",
     "output_type": "stream",
     "text": [
      "No label_names provided for model class `PeftModelForTokenClassification`. Since `PeftModel` hides base models input arguments, if label_names is not given, label_names can't be set automatically within `Trainer`. Note that empty label_names list will be used instead.\n"
     ]
    },
    {
     "name": "stdout",
     "output_type": "stream",
     "text": [
      "[NER] Обучение на 1550 примерах\n"
     ]
    },
    {
     "data": {
      "text/html": [
       "\n",
       "    <div>\n",
       "      \n",
       "      <progress value='582' max='1940' style='width:300px; height:20px; vertical-align: middle;'></progress>\n",
       "      [ 582/1940 04:58 < 11:39, 1.94 it/s, Epoch 3/10]\n",
       "    </div>\n",
       "    <table border=\"1\" class=\"dataframe\">\n",
       "  <thead>\n",
       " <tr style=\"text-align: left;\">\n",
       "      <th>Epoch</th>\n",
       "      <th>Training Loss</th>\n",
       "      <th>Validation Loss</th>\n",
       "      <th>Precision</th>\n",
       "      <th>Recall</th>\n",
       "      <th>F1</th>\n",
       "    </tr>\n",
       "  </thead>\n",
       "  <tbody>\n",
       "    <tr>\n",
       "      <td>1</td>\n",
       "      <td>No log</td>\n",
       "      <td>0.137705</td>\n",
       "      <td>0.849906</td>\n",
       "      <td>0.909639</td>\n",
       "      <td>0.878758</td>\n",
       "    </tr>\n",
       "    <tr>\n",
       "      <td>2</td>\n",
       "      <td>No log</td>\n",
       "      <td>0.137654</td>\n",
       "      <td>0.848030</td>\n",
       "      <td>0.907631</td>\n",
       "      <td>0.876819</td>\n",
       "    </tr>\n",
       "    <tr>\n",
       "      <td>3</td>\n",
       "      <td>0.208900</td>\n",
       "      <td>0.144650</td>\n",
       "      <td>0.847170</td>\n",
       "      <td>0.901606</td>\n",
       "      <td>0.873541</td>\n",
       "    </tr>\n",
       "  </tbody>\n",
       "</table><p>"
      ],
      "text/plain": [
       "<IPython.core.display.HTML object>"
      ]
     },
     "metadata": {},
     "output_type": "display_data"
    },
    {
     "data": {
      "text/html": [],
      "text/plain": [
       "<IPython.core.display.HTML object>"
      ]
     },
     "metadata": {},
     "output_type": "display_data"
    },
    {
     "name": "stdout",
     "output_type": "stream",
     "text": [
      "[NER] Результаты: F1 = 0.8788\n",
      "\n",
      "[NER] Подробный отчет о классификации:\n",
      "              precision    recall  f1-score   support\n",
      "\n",
      "  B-ALLERGEN     0.8415    1.0000    0.9139        69\n",
      " B-BODY_PART     0.8750    0.9091    0.8917        77\n",
      "  B-MEDICINE     0.8393    0.9216    0.8785        51\n",
      "   B-SYMPTOM     0.8544    0.8713    0.8627       101\n",
      "   B-TOPONYM     0.9697    0.9796    0.9746       196\n",
      "  I-ALLERGEN     0.9481    0.9125    0.9299        80\n",
      " I-BODY_PART     1.0000    0.3529    0.5217        17\n",
      "  I-MEDICINE     0.8556    0.9167    0.8851        84\n",
      "   I-SYMPTOM     0.8640    0.8852    0.8745       122\n",
      "   I-TOPONYM     0.9130    0.9545    0.9333        44\n",
      "           O     0.9861    0.9777    0.9819      2604\n",
      "\n",
      "    accuracy                         0.9631      3445\n",
      "   macro avg     0.9042    0.8801    0.8771      3445\n",
      "weighted avg     0.9645    0.9631    0.9628      3445\n",
      "\n",
      "[NER] Модель сохранена в models/pollen_ner_1550\n"
     ]
    },
    {
     "name": "stderr",
     "output_type": "stream",
     "text": [
      "No files have been modified since last commit. Skipping to prevent empty commit.\n"
     ]
    },
    {
     "name": "stdout",
     "output_type": "stream",
     "text": [
      "[NER] Лучшая модель за все итерации сохранена в models/pollen_ner_best\n",
      "\n",
      "[NER] Тестирование модели после обучения:\n",
      "\n",
      "Тестовый пример:\n",
      "Текст: В Московской области у меня началась аллергия на пыльцу березы, потекли глаза, нос, принимаю Зиртек и Назонекс. У ребенка в Новокузнецке чешутся глаза, уши и течет нос, врач прописал Кромогексал, Назонекс в нос. В Санкт-Петербурге началось цветение ольхи, сильная реакция, принимаю Эриус, но глаза все равно слезятся.\n",
      "\n",
      "[NER] Результаты анализа:\n",
      "TOPONYM: Московскойобласти, Новокузнецке, Санкт-Петербурге\n",
      "MEDICINE: Зиртек, Назонекс, Кромогексал, Назонекс, Эриус\n",
      "SYMPTOM: потекли, чешутся, течет, слезятся\n",
      "ALLERGEN: пыльцу, березы, ольхи\n",
      "BODY_PART: глаза, нос, глаза, уши, нос, нос, глаза\n",
      "Модель перемещена на cuda\n",
      "\n",
      "Статистика распределения классов в тренировочном датасете после итерации 31:\n",
      "Counter({'SYMPTOM': 2370, 'BODY_PART': 1613, 'TOPONYM': 1577, 'MEDICINE': 858, 'ALLERGEN': 682})\n",
      "\n",
      "[NER] Начинаем итерацию с размером выборки 1600\n"
     ]
    },
    {
     "name": "stderr",
     "output_type": "stream",
     "text": [
      "C:\\Users\\ivanm\\anaconda3\\envs\\project\\Lib\\site-packages\\peft\\mapping_func.py:73: UserWarning: You are trying to modify a model with PEFT for a second time. If you want to reload the model with a different config, make sure to call `.unload()` before.\n",
      "  warnings.warn(\n",
      "C:\\Users\\ivanm\\anaconda3\\envs\\project\\Lib\\site-packages\\peft\\tuners\\tuners_utils.py:167: UserWarning: Already found a `peft_config` attribute in the model. This will lead to having multiple adapters in the model. Make sure to know what you are doing!\n",
      "  warnings.warn(\n"
     ]
    },
    {
     "name": "stdout",
     "output_type": "stream",
     "text": [
      "Найден существующий размеченный проект для размера 1600\n",
      "После итерации 32 осталось 2443 сообщений\n"
     ]
    },
    {
     "data": {
      "application/vnd.jupyter.widget-view+json": {
       "model_id": "dc27d7eb9f9a4a84b2138a2759b2b23b",
       "version_major": 2,
       "version_minor": 0
      },
      "text/plain": [
       "Map:   0%|          | 0/1600 [00:00<?, ? examples/s]"
      ]
     },
     "metadata": {},
     "output_type": "display_data"
    },
    {
     "name": "stderr",
     "output_type": "stream",
     "text": [
      "No label_names provided for model class `PeftModelForTokenClassification`. Since `PeftModel` hides base models input arguments, if label_names is not given, label_names can't be set automatically within `Trainer`. Note that empty label_names list will be used instead.\n"
     ]
    },
    {
     "name": "stdout",
     "output_type": "stream",
     "text": [
      "[NER] Обучение на 1600 примерах\n"
     ]
    },
    {
     "data": {
      "text/html": [
       "\n",
       "    <div>\n",
       "      \n",
       "      <progress value='1000' max='2000' style='width:300px; height:20px; vertical-align: middle;'></progress>\n",
       "      [1000/2000 08:34 < 08:35, 1.94 it/s, Epoch 5/10]\n",
       "    </div>\n",
       "    <table border=\"1\" class=\"dataframe\">\n",
       "  <thead>\n",
       " <tr style=\"text-align: left;\">\n",
       "      <th>Epoch</th>\n",
       "      <th>Training Loss</th>\n",
       "      <th>Validation Loss</th>\n",
       "      <th>Precision</th>\n",
       "      <th>Recall</th>\n",
       "      <th>F1</th>\n",
       "    </tr>\n",
       "  </thead>\n",
       "  <tbody>\n",
       "    <tr>\n",
       "      <td>1</td>\n",
       "      <td>No log</td>\n",
       "      <td>0.143563</td>\n",
       "      <td>0.846154</td>\n",
       "      <td>0.905622</td>\n",
       "      <td>0.874879</td>\n",
       "    </tr>\n",
       "    <tr>\n",
       "      <td>2</td>\n",
       "      <td>No log</td>\n",
       "      <td>0.140701</td>\n",
       "      <td>0.854962</td>\n",
       "      <td>0.899598</td>\n",
       "      <td>0.876712</td>\n",
       "    </tr>\n",
       "    <tr>\n",
       "      <td>3</td>\n",
       "      <td>0.205800</td>\n",
       "      <td>0.144273</td>\n",
       "      <td>0.859316</td>\n",
       "      <td>0.907631</td>\n",
       "      <td>0.882812</td>\n",
       "    </tr>\n",
       "    <tr>\n",
       "      <td>4</td>\n",
       "      <td>0.205800</td>\n",
       "      <td>0.140537</td>\n",
       "      <td>0.855513</td>\n",
       "      <td>0.903614</td>\n",
       "      <td>0.878906</td>\n",
       "    </tr>\n",
       "    <tr>\n",
       "      <td>5</td>\n",
       "      <td>0.193500</td>\n",
       "      <td>0.143152</td>\n",
       "      <td>0.859316</td>\n",
       "      <td>0.907631</td>\n",
       "      <td>0.882812</td>\n",
       "    </tr>\n",
       "  </tbody>\n",
       "</table><p>"
      ],
      "text/plain": [
       "<IPython.core.display.HTML object>"
      ]
     },
     "metadata": {},
     "output_type": "display_data"
    },
    {
     "data": {
      "text/html": [],
      "text/plain": [
       "<IPython.core.display.HTML object>"
      ]
     },
     "metadata": {},
     "output_type": "display_data"
    },
    {
     "name": "stdout",
     "output_type": "stream",
     "text": [
      "[NER] Результаты: F1 = 0.8828\n",
      "\n",
      "[NER] Подробный отчет о классификации:\n",
      "              precision    recall  f1-score   support\n",
      "\n",
      "  B-ALLERGEN     0.8415    1.0000    0.9139        69\n",
      " B-BODY_PART     0.8289    0.8182    0.8235        77\n",
      "  B-MEDICINE     0.8727    0.9412    0.9057        51\n",
      "   B-SYMPTOM     0.8558    0.8812    0.8683       101\n",
      "   B-TOPONYM     0.9796    0.9796    0.9796       196\n",
      "  I-ALLERGEN     0.9481    0.9125    0.9299        80\n",
      " I-BODY_PART     1.0000    0.1765    0.3000        17\n",
      "  I-MEDICINE     0.8851    0.9167    0.9006        84\n",
      "   I-SYMPTOM     0.8583    0.8934    0.8755       122\n",
      "   I-TOPONYM     0.9130    0.9545    0.9333        44\n",
      "           O     0.9846    0.9800    0.9823      2604\n",
      "\n",
      "    accuracy                         0.9628      3445\n",
      "   macro avg     0.9061    0.8594    0.8557      3445\n",
      "weighted avg     0.9639    0.9628    0.9618      3445\n",
      "\n",
      "[NER] Модель сохранена в models/pollen_ner_1600\n"
     ]
    },
    {
     "name": "stderr",
     "output_type": "stream",
     "text": [
      "No files have been modified since last commit. Skipping to prevent empty commit.\n"
     ]
    },
    {
     "name": "stdout",
     "output_type": "stream",
     "text": [
      "[NER] Лучшая модель за все итерации сохранена в models/pollen_ner_best\n",
      "\n",
      "[NER] Тестирование модели после обучения:\n",
      "\n",
      "Тестовый пример:\n",
      "Текст: В Московской области у меня началась аллергия на пыльцу березы, потекли глаза, нос, принимаю Зиртек и Назонекс. У ребенка в Новокузнецке чешутся глаза, уши и течет нос, врач прописал Кромогексал, Назонекс в нос. В Санкт-Петербурге началось цветение ольхи, сильная реакция, принимаю Эриус, но глаза все равно слезятся.\n",
      "\n",
      "[NER] Результаты анализа:\n",
      "TOPONYM: Московскойобласти, Новокузнецке, Санкт-Петербурге\n",
      "MEDICINE: Зиртек, Назонекс, Кромогексал, Назонекс, Эриус\n",
      "SYMPTOM: потекли, чешутся, течет, слезятся\n",
      "ALLERGEN: пыльцу, березы, ольхи\n",
      "BODY_PART: глаза, нос, глаза, уши, нос, нос, глаза\n",
      "Модель перемещена на cuda\n",
      "\n",
      "Статистика распределения классов в тренировочном датасете после итерации 32:\n",
      "Counter({'SYMPTOM': 2415, 'BODY_PART': 1642, 'TOPONYM': 1634, 'MEDICINE': 892, 'ALLERGEN': 739})\n",
      "\n",
      "[NER] Начинаем итерацию с размером выборки 1650\n"
     ]
    },
    {
     "name": "stderr",
     "output_type": "stream",
     "text": [
      "C:\\Users\\ivanm\\anaconda3\\envs\\project\\Lib\\site-packages\\peft\\mapping_func.py:73: UserWarning: You are trying to modify a model with PEFT for a second time. If you want to reload the model with a different config, make sure to call `.unload()` before.\n",
      "  warnings.warn(\n",
      "C:\\Users\\ivanm\\anaconda3\\envs\\project\\Lib\\site-packages\\peft\\tuners\\tuners_utils.py:167: UserWarning: Already found a `peft_config` attribute in the model. This will lead to having multiple adapters in the model. Make sure to know what you are doing!\n",
      "  warnings.warn(\n"
     ]
    },
    {
     "name": "stdout",
     "output_type": "stream",
     "text": [
      "Найден существующий размеченный проект для размера 1650\n",
      "После итерации 33 осталось 2393 сообщений\n"
     ]
    },
    {
     "data": {
      "application/vnd.jupyter.widget-view+json": {
       "model_id": "fab022f600f04b24b37343e5a568b7da",
       "version_major": 2,
       "version_minor": 0
      },
      "text/plain": [
       "Map:   0%|          | 0/1650 [00:00<?, ? examples/s]"
      ]
     },
     "metadata": {},
     "output_type": "display_data"
    },
    {
     "name": "stderr",
     "output_type": "stream",
     "text": [
      "No label_names provided for model class `PeftModelForTokenClassification`. Since `PeftModel` hides base models input arguments, if label_names is not given, label_names can't be set automatically within `Trainer`. Note that empty label_names list will be used instead.\n"
     ]
    },
    {
     "name": "stdout",
     "output_type": "stream",
     "text": [
      "[NER] Обучение на 1650 примерах\n"
     ]
    },
    {
     "data": {
      "text/html": [
       "\n",
       "    <div>\n",
       "      \n",
       "      <progress value='1449' max='2070' style='width:300px; height:20px; vertical-align: middle;'></progress>\n",
       "      [1449/2070 12:22 < 05:18, 1.95 it/s, Epoch 7/10]\n",
       "    </div>\n",
       "    <table border=\"1\" class=\"dataframe\">\n",
       "  <thead>\n",
       " <tr style=\"text-align: left;\">\n",
       "      <th>Epoch</th>\n",
       "      <th>Training Loss</th>\n",
       "      <th>Validation Loss</th>\n",
       "      <th>Precision</th>\n",
       "      <th>Recall</th>\n",
       "      <th>F1</th>\n",
       "    </tr>\n",
       "  </thead>\n",
       "  <tbody>\n",
       "    <tr>\n",
       "      <td>1</td>\n",
       "      <td>No log</td>\n",
       "      <td>0.149388</td>\n",
       "      <td>0.852552</td>\n",
       "      <td>0.905622</td>\n",
       "      <td>0.878286</td>\n",
       "    </tr>\n",
       "    <tr>\n",
       "      <td>2</td>\n",
       "      <td>No log</td>\n",
       "      <td>0.146988</td>\n",
       "      <td>0.850662</td>\n",
       "      <td>0.903614</td>\n",
       "      <td>0.876339</td>\n",
       "    </tr>\n",
       "    <tr>\n",
       "      <td>3</td>\n",
       "      <td>0.194100</td>\n",
       "      <td>0.144732</td>\n",
       "      <td>0.857685</td>\n",
       "      <td>0.907631</td>\n",
       "      <td>0.881951</td>\n",
       "    </tr>\n",
       "    <tr>\n",
       "      <td>4</td>\n",
       "      <td>0.194100</td>\n",
       "      <td>0.143516</td>\n",
       "      <td>0.859316</td>\n",
       "      <td>0.907631</td>\n",
       "      <td>0.882812</td>\n",
       "    </tr>\n",
       "    <tr>\n",
       "      <td>5</td>\n",
       "      <td>0.187600</td>\n",
       "      <td>0.146373</td>\n",
       "      <td>0.861217</td>\n",
       "      <td>0.909639</td>\n",
       "      <td>0.884766</td>\n",
       "    </tr>\n",
       "    <tr>\n",
       "      <td>6</td>\n",
       "      <td>0.187600</td>\n",
       "      <td>0.146468</td>\n",
       "      <td>0.856604</td>\n",
       "      <td>0.911647</td>\n",
       "      <td>0.883268</td>\n",
       "    </tr>\n",
       "    <tr>\n",
       "      <td>7</td>\n",
       "      <td>0.187600</td>\n",
       "      <td>0.148109</td>\n",
       "      <td>0.859848</td>\n",
       "      <td>0.911647</td>\n",
       "      <td>0.884990</td>\n",
       "    </tr>\n",
       "  </tbody>\n",
       "</table><p>"
      ],
      "text/plain": [
       "<IPython.core.display.HTML object>"
      ]
     },
     "metadata": {},
     "output_type": "display_data"
    },
    {
     "data": {
      "text/html": [],
      "text/plain": [
       "<IPython.core.display.HTML object>"
      ]
     },
     "metadata": {},
     "output_type": "display_data"
    },
    {
     "name": "stdout",
     "output_type": "stream",
     "text": [
      "[NER] Результаты: F1 = 0.8850\n",
      "\n",
      "[NER] Подробный отчет о классификации:\n",
      "              precision    recall  f1-score   support\n",
      "\n",
      "  B-ALLERGEN     0.8313    1.0000    0.9079        69\n",
      " B-BODY_PART     0.8158    0.8052    0.8105        77\n",
      "  B-MEDICINE     0.8136    0.9412    0.8727        51\n",
      "   B-SYMPTOM     0.8318    0.8812    0.8558       101\n",
      "   B-TOPONYM     0.9897    0.9847    0.9872       196\n",
      "  I-ALLERGEN     0.9481    0.9125    0.9299        80\n",
      " I-BODY_PART     1.0000    0.0588    0.1111        17\n",
      "  I-MEDICINE     0.8778    0.9405    0.9080        84\n",
      "   I-SYMPTOM     0.8720    0.8934    0.8826       122\n",
      "   I-TOPONYM     0.9130    0.9545    0.9333        44\n",
      "           O     0.9857    0.9789    0.9823      2604\n",
      "\n",
      "    accuracy                         0.9620      3445\n",
      "   macro avg     0.8981    0.8501    0.8347      3445\n",
      "weighted avg     0.9636    0.9620    0.9604      3445\n",
      "\n",
      "[NER] Модель сохранена в models/pollen_ner_1650\n"
     ]
    },
    {
     "name": "stderr",
     "output_type": "stream",
     "text": [
      "No files have been modified since last commit. Skipping to prevent empty commit.\n"
     ]
    },
    {
     "name": "stdout",
     "output_type": "stream",
     "text": [
      "[NER] Лучшая модель за все итерации сохранена в models/pollen_ner_best\n",
      "\n",
      "[NER] Тестирование модели после обучения:\n",
      "\n",
      "Тестовый пример:\n",
      "Текст: В Московской области у меня началась аллергия на пыльцу березы, потекли глаза, нос, принимаю Зиртек и Назонекс. У ребенка в Новокузнецке чешутся глаза, уши и течет нос, врач прописал Кромогексал, Назонекс в нос. В Санкт-Петербурге началось цветение ольхи, сильная реакция, принимаю Эриус, но глаза все равно слезятся.\n",
      "\n",
      "[NER] Результаты анализа:\n",
      "TOPONYM: Московскойобласти, Новокузнецке, Санкт-Петербурге\n",
      "MEDICINE: Зиртек, Назонекс, Кромогексал, Назонекс, Эриус\n",
      "SYMPTOM: потекли, чешутся, течет, слезятся\n",
      "ALLERGEN: пыльцу, березы, ольхи\n",
      "BODY_PART: глаза, нос, глаза, уши, нос, нос, глаза\n",
      "Модель перемещена на cuda\n",
      "\n",
      "Статистика распределения классов в тренировочном датасете после итерации 33:\n",
      "Counter({'SYMPTOM': 2481, 'TOPONYM': 1689, 'BODY_PART': 1678, 'MEDICINE': 925, 'ALLERGEN': 784})\n",
      "\n",
      "[NER] Начинаем итерацию с размером выборки 1700\n"
     ]
    },
    {
     "name": "stderr",
     "output_type": "stream",
     "text": [
      "C:\\Users\\ivanm\\anaconda3\\envs\\project\\Lib\\site-packages\\peft\\mapping_func.py:73: UserWarning: You are trying to modify a model with PEFT for a second time. If you want to reload the model with a different config, make sure to call `.unload()` before.\n",
      "  warnings.warn(\n",
      "C:\\Users\\ivanm\\anaconda3\\envs\\project\\Lib\\site-packages\\peft\\tuners\\tuners_utils.py:167: UserWarning: Already found a `peft_config` attribute in the model. This will lead to having multiple adapters in the model. Make sure to know what you are doing!\n",
      "  warnings.warn(\n"
     ]
    },
    {
     "name": "stdout",
     "output_type": "stream",
     "text": [
      "Найден существующий размеченный проект для размера 1700\n",
      "После итерации 34 осталось 2343 сообщений\n"
     ]
    },
    {
     "data": {
      "application/vnd.jupyter.widget-view+json": {
       "model_id": "91d02254f11647b19dc92350a84ec3bb",
       "version_major": 2,
       "version_minor": 0
      },
      "text/plain": [
       "Map:   0%|          | 0/1700 [00:00<?, ? examples/s]"
      ]
     },
     "metadata": {},
     "output_type": "display_data"
    },
    {
     "name": "stderr",
     "output_type": "stream",
     "text": [
      "No label_names provided for model class `PeftModelForTokenClassification`. Since `PeftModel` hides base models input arguments, if label_names is not given, label_names can't be set automatically within `Trainer`. Note that empty label_names list will be used instead.\n"
     ]
    },
    {
     "name": "stdout",
     "output_type": "stream",
     "text": [
      "[NER] Обучение на 1700 примерах\n"
     ]
    },
    {
     "data": {
      "text/html": [
       "\n",
       "    <div>\n",
       "      \n",
       "      <progress value='639' max='2130' style='width:300px; height:20px; vertical-align: middle;'></progress>\n",
       "      [ 639/2130 05:26 < 12:43, 1.95 it/s, Epoch 3/10]\n",
       "    </div>\n",
       "    <table border=\"1\" class=\"dataframe\">\n",
       "  <thead>\n",
       " <tr style=\"text-align: left;\">\n",
       "      <th>Epoch</th>\n",
       "      <th>Training Loss</th>\n",
       "      <th>Validation Loss</th>\n",
       "      <th>Precision</th>\n",
       "      <th>Recall</th>\n",
       "      <th>F1</th>\n",
       "    </tr>\n",
       "  </thead>\n",
       "  <tbody>\n",
       "    <tr>\n",
       "      <td>1</td>\n",
       "      <td>No log</td>\n",
       "      <td>0.143737</td>\n",
       "      <td>0.862595</td>\n",
       "      <td>0.907631</td>\n",
       "      <td>0.884540</td>\n",
       "    </tr>\n",
       "    <tr>\n",
       "      <td>2</td>\n",
       "      <td>No log</td>\n",
       "      <td>0.146076</td>\n",
       "      <td>0.864245</td>\n",
       "      <td>0.907631</td>\n",
       "      <td>0.885406</td>\n",
       "    </tr>\n",
       "    <tr>\n",
       "      <td>3</td>\n",
       "      <td>0.181600</td>\n",
       "      <td>0.147555</td>\n",
       "      <td>0.861480</td>\n",
       "      <td>0.911647</td>\n",
       "      <td>0.885854</td>\n",
       "    </tr>\n",
       "  </tbody>\n",
       "</table><p>"
      ],
      "text/plain": [
       "<IPython.core.display.HTML object>"
      ]
     },
     "metadata": {},
     "output_type": "display_data"
    },
    {
     "data": {
      "text/html": [],
      "text/plain": [
       "<IPython.core.display.HTML object>"
      ]
     },
     "metadata": {},
     "output_type": "display_data"
    },
    {
     "name": "stdout",
     "output_type": "stream",
     "text": [
      "[NER] Результаты: F1 = 0.8859\n",
      "\n",
      "[NER] Подробный отчет о классификации:\n",
      "              precision    recall  f1-score   support\n",
      "\n",
      "  B-ALLERGEN     0.8313    1.0000    0.9079        69\n",
      " B-BODY_PART     0.8052    0.8052    0.8052        77\n",
      "  B-MEDICINE     0.8545    0.9216    0.8868        51\n",
      "   B-SYMPTOM     0.8476    0.8812    0.8641       101\n",
      "   B-TOPONYM     0.9948    0.9847    0.9897       196\n",
      "  I-ALLERGEN     0.9241    0.9125    0.9182        80\n",
      " I-BODY_PART     1.0000    0.0588    0.1111        17\n",
      "  I-MEDICINE     0.8667    0.9286    0.8966        84\n",
      "   I-SYMPTOM     0.8321    0.8934    0.8617       122\n",
      "   I-TOPONYM     0.9130    0.9545    0.9333        44\n",
      "           O     0.9865    0.9789    0.9827      2604\n",
      "\n",
      "    accuracy                         0.9614      3445\n",
      "   macro avg     0.8960    0.8472    0.8325      3445\n",
      "weighted avg     0.9630    0.9614    0.9599      3445\n",
      "\n",
      "[NER] Модель сохранена в models/pollen_ner_1700\n"
     ]
    },
    {
     "name": "stderr",
     "output_type": "stream",
     "text": [
      "No files have been modified since last commit. Skipping to prevent empty commit.\n"
     ]
    },
    {
     "name": "stdout",
     "output_type": "stream",
     "text": [
      "[NER] Лучшая модель за все итерации сохранена в models/pollen_ner_best\n",
      "\n",
      "[NER] Тестирование модели после обучения:\n",
      "\n",
      "Тестовый пример:\n",
      "Текст: В Московской области у меня началась аллергия на пыльцу березы, потекли глаза, нос, принимаю Зиртек и Назонекс. У ребенка в Новокузнецке чешутся глаза, уши и течет нос, врач прописал Кромогексал, Назонекс в нос. В Санкт-Петербурге началось цветение ольхи, сильная реакция, принимаю Эриус, но глаза все равно слезятся.\n",
      "\n",
      "[NER] Результаты анализа:\n",
      "TOPONYM: Московскойобласти, Новокузнецке, Санкт-Петербурге\n",
      "MEDICINE: Зиртек, Назонекс, Кромогексал, Назонекс, Эриус\n",
      "SYMPTOM: потекли, чешутся, течет, слезятся\n",
      "ALLERGEN: пыльцу, березы, ольхи\n",
      "BODY_PART: глаза, нос, глаза, уши, нос, нос, глаза\n",
      "Модель перемещена на cuda\n",
      "\n",
      "Статистика распределения классов в тренировочном датасете после итерации 34:\n",
      "Counter({'SYMPTOM': 2550, 'TOPONYM': 1726, 'BODY_PART': 1722, 'MEDICINE': 960, 'ALLERGEN': 811})\n",
      "\n",
      "[NER] Начинаем итерацию с размером выборки 1750\n"
     ]
    },
    {
     "name": "stderr",
     "output_type": "stream",
     "text": [
      "C:\\Users\\ivanm\\anaconda3\\envs\\project\\Lib\\site-packages\\peft\\mapping_func.py:73: UserWarning: You are trying to modify a model with PEFT for a second time. If you want to reload the model with a different config, make sure to call `.unload()` before.\n",
      "  warnings.warn(\n",
      "C:\\Users\\ivanm\\anaconda3\\envs\\project\\Lib\\site-packages\\peft\\tuners\\tuners_utils.py:167: UserWarning: Already found a `peft_config` attribute in the model. This will lead to having multiple adapters in the model. Make sure to know what you are doing!\n",
      "  warnings.warn(\n"
     ]
    },
    {
     "name": "stdout",
     "output_type": "stream",
     "text": [
      "Найден существующий размеченный проект для размера 1750\n",
      "После итерации 35 осталось 2293 сообщений\n"
     ]
    },
    {
     "data": {
      "application/vnd.jupyter.widget-view+json": {
       "model_id": "85bc11d0dd4c44feae01022773c4c1e0",
       "version_major": 2,
       "version_minor": 0
      },
      "text/plain": [
       "Map:   0%|          | 0/1750 [00:00<?, ? examples/s]"
      ]
     },
     "metadata": {},
     "output_type": "display_data"
    },
    {
     "name": "stderr",
     "output_type": "stream",
     "text": [
      "No label_names provided for model class `PeftModelForTokenClassification`. Since `PeftModel` hides base models input arguments, if label_names is not given, label_names can't be set automatically within `Trainer`. Note that empty label_names list will be used instead.\n"
     ]
    },
    {
     "name": "stdout",
     "output_type": "stream",
     "text": [
      "[NER] Обучение на 1750 примерах\n"
     ]
    },
    {
     "data": {
      "text/html": [
       "\n",
       "    <div>\n",
       "      \n",
       "      <progress value='1533' max='2190' style='width:300px; height:20px; vertical-align: middle;'></progress>\n",
       "      [1533/2190 13:05 < 05:37, 1.95 it/s, Epoch 7/10]\n",
       "    </div>\n",
       "    <table border=\"1\" class=\"dataframe\">\n",
       "  <thead>\n",
       " <tr style=\"text-align: left;\">\n",
       "      <th>Epoch</th>\n",
       "      <th>Training Loss</th>\n",
       "      <th>Validation Loss</th>\n",
       "      <th>Precision</th>\n",
       "      <th>Recall</th>\n",
       "      <th>F1</th>\n",
       "    </tr>\n",
       "  </thead>\n",
       "  <tbody>\n",
       "    <tr>\n",
       "      <td>1</td>\n",
       "      <td>No log</td>\n",
       "      <td>0.145606</td>\n",
       "      <td>0.865019</td>\n",
       "      <td>0.913655</td>\n",
       "      <td>0.888672</td>\n",
       "    </tr>\n",
       "    <tr>\n",
       "      <td>2</td>\n",
       "      <td>No log</td>\n",
       "      <td>0.142781</td>\n",
       "      <td>0.872832</td>\n",
       "      <td>0.909639</td>\n",
       "      <td>0.890855</td>\n",
       "    </tr>\n",
       "    <tr>\n",
       "      <td>3</td>\n",
       "      <td>0.178700</td>\n",
       "      <td>0.149390</td>\n",
       "      <td>0.863378</td>\n",
       "      <td>0.913655</td>\n",
       "      <td>0.887805</td>\n",
       "    </tr>\n",
       "    <tr>\n",
       "      <td>4</td>\n",
       "      <td>0.178700</td>\n",
       "      <td>0.142591</td>\n",
       "      <td>0.873321</td>\n",
       "      <td>0.913655</td>\n",
       "      <td>0.893032</td>\n",
       "    </tr>\n",
       "    <tr>\n",
       "      <td>5</td>\n",
       "      <td>0.169300</td>\n",
       "      <td>0.143313</td>\n",
       "      <td>0.873805</td>\n",
       "      <td>0.917671</td>\n",
       "      <td>0.895201</td>\n",
       "    </tr>\n",
       "    <tr>\n",
       "      <td>6</td>\n",
       "      <td>0.169300</td>\n",
       "      <td>0.145770</td>\n",
       "      <td>0.870476</td>\n",
       "      <td>0.917671</td>\n",
       "      <td>0.893451</td>\n",
       "    </tr>\n",
       "    <tr>\n",
       "      <td>7</td>\n",
       "      <td>0.171200</td>\n",
       "      <td>0.145840</td>\n",
       "      <td>0.870968</td>\n",
       "      <td>0.921687</td>\n",
       "      <td>0.895610</td>\n",
       "    </tr>\n",
       "  </tbody>\n",
       "</table><p>"
      ],
      "text/plain": [
       "<IPython.core.display.HTML object>"
      ]
     },
     "metadata": {},
     "output_type": "display_data"
    },
    {
     "data": {
      "text/html": [],
      "text/plain": [
       "<IPython.core.display.HTML object>"
      ]
     },
     "metadata": {},
     "output_type": "display_data"
    },
    {
     "name": "stdout",
     "output_type": "stream",
     "text": [
      "[NER] Результаты: F1 = 0.8956\n",
      "\n",
      "[NER] Подробный отчет о классификации:\n",
      "              precision    recall  f1-score   support\n",
      "\n",
      "  B-ALLERGEN     0.8415    1.0000    0.9139        69\n",
      " B-BODY_PART     0.8052    0.8052    0.8052        77\n",
      "  B-MEDICINE     0.8276    0.9412    0.8807        51\n",
      "   B-SYMPTOM     0.8349    0.9010    0.8667       101\n",
      "   B-TOPONYM     1.0000    0.9847    0.9923       196\n",
      "  I-ALLERGEN     0.9367    0.9250    0.9308        80\n",
      " I-BODY_PART     1.0000    0.0588    0.1111        17\n",
      "  I-MEDICINE     0.8778    0.9405    0.9080        84\n",
      "   I-SYMPTOM     0.8516    0.8934    0.8720       122\n",
      "   I-TOPONYM     0.9149    0.9773    0.9451        44\n",
      "           O     0.9876    0.9789    0.9832      2604\n",
      "\n",
      "    accuracy                         0.9631      3445\n",
      "   macro avg     0.8980    0.8551    0.8372      3445\n",
      "weighted avg     0.9649    0.9631    0.9617      3445\n",
      "\n",
      "[NER] Модель сохранена в models/pollen_ner_1750\n"
     ]
    },
    {
     "name": "stderr",
     "output_type": "stream",
     "text": [
      "No files have been modified since last commit. Skipping to prevent empty commit.\n"
     ]
    },
    {
     "name": "stdout",
     "output_type": "stream",
     "text": [
      "[NER] Лучшая модель за все итерации сохранена в models/pollen_ner_best\n",
      "\n",
      "[NER] Тестирование модели после обучения:\n",
      "\n",
      "Тестовый пример:\n",
      "Текст: В Московской области у меня началась аллергия на пыльцу березы, потекли глаза, нос, принимаю Зиртек и Назонекс. У ребенка в Новокузнецке чешутся глаза, уши и течет нос, врач прописал Кромогексал, Назонекс в нос. В Санкт-Петербурге началось цветение ольхи, сильная реакция, принимаю Эриус, но глаза все равно слезятся.\n",
      "\n",
      "[NER] Результаты анализа:\n",
      "TOPONYM: Московскойобласти, Новокузнецке, Санкт-Петербурге\n",
      "MEDICINE: Зиртек, Назонекс, Кромогексал, Назонекс, Эриус\n",
      "SYMPTOM: потекли, чешутся, течет, слезятся\n",
      "ALLERGEN: пыльцуберезы, ольхи\n",
      "BODY_PART: глаза, нос, глаза, уши, нос, нос, глаза\n",
      "Модель перемещена на cuda\n",
      "\n",
      "Статистика распределения классов в тренировочном датасете после итерации 35:\n",
      "Counter({'SYMPTOM': 2638, 'TOPONYM': 1774, 'BODY_PART': 1770, 'MEDICINE': 1026, 'ALLERGEN': 851})\n",
      "\n",
      "[NER] Начинаем итерацию с размером выборки 1800\n"
     ]
    },
    {
     "name": "stderr",
     "output_type": "stream",
     "text": [
      "C:\\Users\\ivanm\\anaconda3\\envs\\project\\Lib\\site-packages\\peft\\mapping_func.py:73: UserWarning: You are trying to modify a model with PEFT for a second time. If you want to reload the model with a different config, make sure to call `.unload()` before.\n",
      "  warnings.warn(\n",
      "C:\\Users\\ivanm\\anaconda3\\envs\\project\\Lib\\site-packages\\peft\\tuners\\tuners_utils.py:167: UserWarning: Already found a `peft_config` attribute in the model. This will lead to having multiple adapters in the model. Make sure to know what you are doing!\n",
      "  warnings.warn(\n"
     ]
    },
    {
     "name": "stdout",
     "output_type": "stream",
     "text": [
      "Найден существующий размеченный проект для размера 1800\n",
      "После итерации 36 осталось 2243 сообщений\n"
     ]
    },
    {
     "data": {
      "application/vnd.jupyter.widget-view+json": {
       "model_id": "c44a7e87f4a14e998fdb74f7b3112cd9",
       "version_major": 2,
       "version_minor": 0
      },
      "text/plain": [
       "Map:   0%|          | 0/1800 [00:00<?, ? examples/s]"
      ]
     },
     "metadata": {},
     "output_type": "display_data"
    },
    {
     "name": "stderr",
     "output_type": "stream",
     "text": [
      "No label_names provided for model class `PeftModelForTokenClassification`. Since `PeftModel` hides base models input arguments, if label_names is not given, label_names can't be set automatically within `Trainer`. Note that empty label_names list will be used instead.\n"
     ]
    },
    {
     "name": "stdout",
     "output_type": "stream",
     "text": [
      "[NER] Обучение на 1800 примерах\n"
     ]
    },
    {
     "data": {
      "text/html": [
       "\n",
       "    <div>\n",
       "      \n",
       "      <progress value='1125' max='2250' style='width:300px; height:20px; vertical-align: middle;'></progress>\n",
       "      [1125/2250 09:36 < 09:37, 1.95 it/s, Epoch 5/10]\n",
       "    </div>\n",
       "    <table border=\"1\" class=\"dataframe\">\n",
       "  <thead>\n",
       " <tr style=\"text-align: left;\">\n",
       "      <th>Epoch</th>\n",
       "      <th>Training Loss</th>\n",
       "      <th>Validation Loss</th>\n",
       "      <th>Precision</th>\n",
       "      <th>Recall</th>\n",
       "      <th>F1</th>\n",
       "    </tr>\n",
       "  </thead>\n",
       "  <tbody>\n",
       "    <tr>\n",
       "      <td>1</td>\n",
       "      <td>No log</td>\n",
       "      <td>0.144466</td>\n",
       "      <td>0.875954</td>\n",
       "      <td>0.921687</td>\n",
       "      <td>0.898239</td>\n",
       "    </tr>\n",
       "    <tr>\n",
       "      <td>2</td>\n",
       "      <td>No log</td>\n",
       "      <td>0.149202</td>\n",
       "      <td>0.865784</td>\n",
       "      <td>0.919679</td>\n",
       "      <td>0.891918</td>\n",
       "    </tr>\n",
       "    <tr>\n",
       "      <td>3</td>\n",
       "      <td>0.166800</td>\n",
       "      <td>0.143093</td>\n",
       "      <td>0.878327</td>\n",
       "      <td>0.927711</td>\n",
       "      <td>0.902344</td>\n",
       "    </tr>\n",
       "    <tr>\n",
       "      <td>4</td>\n",
       "      <td>0.166800</td>\n",
       "      <td>0.143112</td>\n",
       "      <td>0.879310</td>\n",
       "      <td>0.921687</td>\n",
       "      <td>0.900000</td>\n",
       "    </tr>\n",
       "    <tr>\n",
       "      <td>5</td>\n",
       "      <td>0.161200</td>\n",
       "      <td>0.140341</td>\n",
       "      <td>0.882692</td>\n",
       "      <td>0.921687</td>\n",
       "      <td>0.901768</td>\n",
       "    </tr>\n",
       "  </tbody>\n",
       "</table><p>"
      ],
      "text/plain": [
       "<IPython.core.display.HTML object>"
      ]
     },
     "metadata": {},
     "output_type": "display_data"
    },
    {
     "data": {
      "text/html": [],
      "text/plain": [
       "<IPython.core.display.HTML object>"
      ]
     },
     "metadata": {},
     "output_type": "display_data"
    },
    {
     "name": "stdout",
     "output_type": "stream",
     "text": [
      "[NER] Результаты: F1 = 0.9023\n",
      "\n",
      "[NER] Подробный отчет о классификации:\n",
      "              precision    recall  f1-score   support\n",
      "\n",
      "  B-ALLERGEN     0.8519    1.0000    0.9200        69\n",
      " B-BODY_PART     0.7949    0.8052    0.8000        77\n",
      "  B-MEDICINE     0.8571    0.9412    0.8972        51\n",
      "   B-SYMPTOM     0.8505    0.9010    0.8750       101\n",
      "   B-TOPONYM     1.0000    0.9898    0.9949       196\n",
      "  I-ALLERGEN     0.9375    0.9375    0.9375        80\n",
      " I-BODY_PART     1.0000    0.0588    0.1111        17\n",
      "  I-MEDICINE     0.8778    0.9405    0.9080        84\n",
      "   I-SYMPTOM     0.8594    0.9016    0.8800       122\n",
      "   I-TOPONYM     0.9149    0.9773    0.9451        44\n",
      "           O     0.9880    0.9800    0.9840      2604\n",
      "\n",
      "    accuracy                         0.9649      3445\n",
      "   macro avg     0.9029    0.8575    0.8412      3445\n",
      "weighted avg     0.9664    0.9649    0.9633      3445\n",
      "\n",
      "[NER] Модель сохранена в models/pollen_ner_1800\n"
     ]
    },
    {
     "name": "stderr",
     "output_type": "stream",
     "text": [
      "No files have been modified since last commit. Skipping to prevent empty commit.\n"
     ]
    },
    {
     "name": "stdout",
     "output_type": "stream",
     "text": [
      "[NER] Лучшая модель за все итерации сохранена в models/pollen_ner_best\n",
      "\n",
      "[NER] Тестирование модели после обучения:\n",
      "\n",
      "Тестовый пример:\n",
      "Текст: В Московской области у меня началась аллергия на пыльцу березы, потекли глаза, нос, принимаю Зиртек и Назонекс. У ребенка в Новокузнецке чешутся глаза, уши и течет нос, врач прописал Кромогексал, Назонекс в нос. В Санкт-Петербурге началось цветение ольхи, сильная реакция, принимаю Эриус, но глаза все равно слезятся.\n",
      "\n",
      "[NER] Результаты анализа:\n",
      "TOPONYM: Московскойобласти, Новокузнецке, Санкт-Петербурге\n",
      "MEDICINE: Зиртек, Назонекс, Кромогексал, Назонекс, Эриус\n",
      "SYMPTOM: потекли, чешутся, течет, слезятся\n",
      "ALLERGEN: пыльцуберезы, ольхи\n",
      "BODY_PART: глаза, нос, глаза, уши, нос, нос, глаза\n",
      "Модель перемещена на cuda\n",
      "\n",
      "Статистика распределения классов в тренировочном датасете после итерации 36:\n",
      "Counter({'SYMPTOM': 2694, 'TOPONYM': 1837, 'BODY_PART': 1801, 'MEDICINE': 1069, 'ALLERGEN': 889})\n",
      "\n",
      "[NER] Начинаем итерацию с размером выборки 1850\n"
     ]
    },
    {
     "name": "stderr",
     "output_type": "stream",
     "text": [
      "C:\\Users\\ivanm\\anaconda3\\envs\\project\\Lib\\site-packages\\peft\\mapping_func.py:73: UserWarning: You are trying to modify a model with PEFT for a second time. If you want to reload the model with a different config, make sure to call `.unload()` before.\n",
      "  warnings.warn(\n",
      "C:\\Users\\ivanm\\anaconda3\\envs\\project\\Lib\\site-packages\\peft\\tuners\\tuners_utils.py:167: UserWarning: Already found a `peft_config` attribute in the model. This will lead to having multiple adapters in the model. Make sure to know what you are doing!\n",
      "  warnings.warn(\n"
     ]
    },
    {
     "name": "stdout",
     "output_type": "stream",
     "text": [
      "Найден существующий размеченный проект для размера 1850\n",
      "После итерации 37 осталось 2193 сообщений\n"
     ]
    },
    {
     "data": {
      "application/vnd.jupyter.widget-view+json": {
       "model_id": "a9c9af0f9fa649c69c0b2f0eca97e35b",
       "version_major": 2,
       "version_minor": 0
      },
      "text/plain": [
       "Map:   0%|          | 0/1850 [00:00<?, ? examples/s]"
      ]
     },
     "metadata": {},
     "output_type": "display_data"
    },
    {
     "name": "stderr",
     "output_type": "stream",
     "text": [
      "No label_names provided for model class `PeftModelForTokenClassification`. Since `PeftModel` hides base models input arguments, if label_names is not given, label_names can't be set automatically within `Trainer`. Note that empty label_names list will be used instead.\n"
     ]
    },
    {
     "name": "stdout",
     "output_type": "stream",
     "text": [
      "[NER] Обучение на 1850 примерах\n"
     ]
    },
    {
     "data": {
      "text/html": [
       "\n",
       "    <div>\n",
       "      \n",
       "      <progress value='928' max='2320' style='width:300px; height:20px; vertical-align: middle;'></progress>\n",
       "      [ 928/2320 07:54 < 11:53, 1.95 it/s, Epoch 4/10]\n",
       "    </div>\n",
       "    <table border=\"1\" class=\"dataframe\">\n",
       "  <thead>\n",
       " <tr style=\"text-align: left;\">\n",
       "      <th>Epoch</th>\n",
       "      <th>Training Loss</th>\n",
       "      <th>Validation Loss</th>\n",
       "      <th>Precision</th>\n",
       "      <th>Recall</th>\n",
       "      <th>F1</th>\n",
       "    </tr>\n",
       "  </thead>\n",
       "  <tbody>\n",
       "    <tr>\n",
       "      <td>1</td>\n",
       "      <td>No log</td>\n",
       "      <td>0.141376</td>\n",
       "      <td>0.877395</td>\n",
       "      <td>0.919679</td>\n",
       "      <td>0.898039</td>\n",
       "    </tr>\n",
       "    <tr>\n",
       "      <td>2</td>\n",
       "      <td>No log</td>\n",
       "      <td>0.141483</td>\n",
       "      <td>0.890385</td>\n",
       "      <td>0.929719</td>\n",
       "      <td>0.909627</td>\n",
       "    </tr>\n",
       "    <tr>\n",
       "      <td>3</td>\n",
       "      <td>0.163200</td>\n",
       "      <td>0.141872</td>\n",
       "      <td>0.881226</td>\n",
       "      <td>0.923695</td>\n",
       "      <td>0.901961</td>\n",
       "    </tr>\n",
       "    <tr>\n",
       "      <td>4</td>\n",
       "      <td>0.163200</td>\n",
       "      <td>0.140953</td>\n",
       "      <td>0.874286</td>\n",
       "      <td>0.921687</td>\n",
       "      <td>0.897361</td>\n",
       "    </tr>\n",
       "  </tbody>\n",
       "</table><p>"
      ],
      "text/plain": [
       "<IPython.core.display.HTML object>"
      ]
     },
     "metadata": {},
     "output_type": "display_data"
    },
    {
     "data": {
      "text/html": [],
      "text/plain": [
       "<IPython.core.display.HTML object>"
      ]
     },
     "metadata": {},
     "output_type": "display_data"
    },
    {
     "name": "stdout",
     "output_type": "stream",
     "text": [
      "[NER] Результаты: F1 = 0.9096\n",
      "\n",
      "[NER] Подробный отчет о классификации:\n",
      "              precision    recall  f1-score   support\n",
      "\n",
      "  B-ALLERGEN     0.8734    1.0000    0.9324        69\n",
      " B-BODY_PART     0.7949    0.8052    0.8000        77\n",
      "  B-MEDICINE     0.8596    0.9608    0.9074        51\n",
      "   B-SYMPTOM     0.8900    0.8812    0.8856       101\n",
      "   B-TOPONYM     1.0000    0.9898    0.9949       196\n",
      "  I-ALLERGEN     0.9390    0.9625    0.9506        80\n",
      " I-BODY_PART     1.0000    0.0588    0.1111        17\n",
      "  I-MEDICINE     0.8778    0.9405    0.9080        84\n",
      "   I-SYMPTOM     0.8527    0.9016    0.8765       122\n",
      "   I-TOPONYM     0.9149    0.9773    0.9451        44\n",
      "           O     0.9876    0.9816    0.9846      2604\n",
      "\n",
      "    accuracy                         0.9663      3445\n",
      "   macro avg     0.9082    0.8599    0.8451      3445\n",
      "weighted avg     0.9675    0.9663    0.9647      3445\n",
      "\n",
      "[NER] Модель сохранена в models/pollen_ner_1850\n"
     ]
    },
    {
     "name": "stderr",
     "output_type": "stream",
     "text": [
      "No files have been modified since last commit. Skipping to prevent empty commit.\n"
     ]
    },
    {
     "name": "stdout",
     "output_type": "stream",
     "text": [
      "[NER] Лучшая модель за все итерации сохранена в models/pollen_ner_best\n",
      "\n",
      "[NER] Тестирование модели после обучения:\n",
      "\n",
      "Тестовый пример:\n",
      "Текст: В Московской области у меня началась аллергия на пыльцу березы, потекли глаза, нос, принимаю Зиртек и Назонекс. У ребенка в Новокузнецке чешутся глаза, уши и течет нос, врач прописал Кромогексал, Назонекс в нос. В Санкт-Петербурге началось цветение ольхи, сильная реакция, принимаю Эриус, но глаза все равно слезятся.\n",
      "\n",
      "[NER] Результаты анализа:\n",
      "TOPONYM: Московскойобласти, Новокузнецке, Санкт-Петербурге\n",
      "MEDICINE: Зиртек, Назонекс, Кромогексал, Назонекс, Эриус\n",
      "SYMPTOM: потекли, чешутся, течет, слезятся\n",
      "ALLERGEN: пыльцуберезы, ольхи\n",
      "BODY_PART: глаза, нос, глаза, уши, нос, нос, глаза\n",
      "Модель перемещена на cuda\n",
      "\n",
      "Статистика распределения классов в тренировочном датасете после итерации 37:\n",
      "Counter({'SYMPTOM': 2755, 'TOPONYM': 1892, 'BODY_PART': 1842, 'MEDICINE': 1103, 'ALLERGEN': 932})\n",
      "\n",
      "[NER] Начинаем итерацию с размером выборки 1900\n"
     ]
    },
    {
     "name": "stderr",
     "output_type": "stream",
     "text": [
      "C:\\Users\\ivanm\\anaconda3\\envs\\project\\Lib\\site-packages\\peft\\mapping_func.py:73: UserWarning: You are trying to modify a model with PEFT for a second time. If you want to reload the model with a different config, make sure to call `.unload()` before.\n",
      "  warnings.warn(\n",
      "C:\\Users\\ivanm\\anaconda3\\envs\\project\\Lib\\site-packages\\peft\\tuners\\tuners_utils.py:167: UserWarning: Already found a `peft_config` attribute in the model. This will lead to having multiple adapters in the model. Make sure to know what you are doing!\n",
      "  warnings.warn(\n"
     ]
    },
    {
     "name": "stdout",
     "output_type": "stream",
     "text": [
      "Найден существующий размеченный проект для размера 1900\n",
      "После итерации 38 осталось 2143 сообщений\n"
     ]
    },
    {
     "data": {
      "application/vnd.jupyter.widget-view+json": {
       "model_id": "6b98e06e1b2641e5879ef3ab3030f8c2",
       "version_major": 2,
       "version_minor": 0
      },
      "text/plain": [
       "Map:   0%|          | 0/1900 [00:00<?, ? examples/s]"
      ]
     },
     "metadata": {},
     "output_type": "display_data"
    },
    {
     "name": "stderr",
     "output_type": "stream",
     "text": [
      "No label_names provided for model class `PeftModelForTokenClassification`. Since `PeftModel` hides base models input arguments, if label_names is not given, label_names can't be set automatically within `Trainer`. Note that empty label_names list will be used instead.\n"
     ]
    },
    {
     "name": "stdout",
     "output_type": "stream",
     "text": [
      "[NER] Обучение на 1900 примерах\n"
     ]
    },
    {
     "data": {
      "text/html": [
       "\n",
       "    <div>\n",
       "      \n",
       "      <progress value='952' max='2380' style='width:300px; height:20px; vertical-align: middle;'></progress>\n",
       "      [ 952/2380 08:07 < 12:12, 1.95 it/s, Epoch 4/10]\n",
       "    </div>\n",
       "    <table border=\"1\" class=\"dataframe\">\n",
       "  <thead>\n",
       " <tr style=\"text-align: left;\">\n",
       "      <th>Epoch</th>\n",
       "      <th>Training Loss</th>\n",
       "      <th>Validation Loss</th>\n",
       "      <th>Precision</th>\n",
       "      <th>Recall</th>\n",
       "      <th>F1</th>\n",
       "    </tr>\n",
       "  </thead>\n",
       "  <tbody>\n",
       "    <tr>\n",
       "      <td>1</td>\n",
       "      <td>No log</td>\n",
       "      <td>0.140734</td>\n",
       "      <td>0.883142</td>\n",
       "      <td>0.925703</td>\n",
       "      <td>0.903922</td>\n",
       "    </tr>\n",
       "    <tr>\n",
       "      <td>2</td>\n",
       "      <td>No log</td>\n",
       "      <td>0.142046</td>\n",
       "      <td>0.886756</td>\n",
       "      <td>0.927711</td>\n",
       "      <td>0.906771</td>\n",
       "    </tr>\n",
       "    <tr>\n",
       "      <td>3</td>\n",
       "      <td>0.159600</td>\n",
       "      <td>0.145201</td>\n",
       "      <td>0.885057</td>\n",
       "      <td>0.927711</td>\n",
       "      <td>0.905882</td>\n",
       "    </tr>\n",
       "    <tr>\n",
       "      <td>4</td>\n",
       "      <td>0.159600</td>\n",
       "      <td>0.143789</td>\n",
       "      <td>0.883588</td>\n",
       "      <td>0.929719</td>\n",
       "      <td>0.906067</td>\n",
       "    </tr>\n",
       "  </tbody>\n",
       "</table><p>"
      ],
      "text/plain": [
       "<IPython.core.display.HTML object>"
      ]
     },
     "metadata": {},
     "output_type": "display_data"
    },
    {
     "data": {
      "text/html": [],
      "text/plain": [
       "<IPython.core.display.HTML object>"
      ]
     },
     "metadata": {},
     "output_type": "display_data"
    },
    {
     "name": "stdout",
     "output_type": "stream",
     "text": [
      "[NER] Результаты: F1 = 0.9068\n",
      "\n",
      "[NER] Подробный отчет о классификации:\n",
      "              precision    recall  f1-score   support\n",
      "\n",
      "  B-ALLERGEN     0.8846    1.0000    0.9388        69\n",
      " B-BODY_PART     0.7949    0.8052    0.8000        77\n",
      "  B-MEDICINE     0.8727    0.9412    0.9057        51\n",
      "   B-SYMPTOM     0.8571    0.8911    0.8738       101\n",
      "   B-TOPONYM     1.0000    0.9898    0.9949       196\n",
      "  I-ALLERGEN     0.9506    0.9625    0.9565        80\n",
      " I-BODY_PART     1.0000    0.0588    0.1111        17\n",
      "  I-MEDICINE     0.8778    0.9405    0.9080        84\n",
      "   I-SYMPTOM     0.8583    0.8934    0.8755       122\n",
      "   I-TOPONYM     0.9149    0.9773    0.9451        44\n",
      "           O     0.9876    0.9820    0.9848      2604\n",
      "\n",
      "    accuracy                         0.9663      3445\n",
      "   macro avg     0.9090    0.8583    0.8449      3445\n",
      "weighted avg     0.9675    0.9663    0.9647      3445\n",
      "\n",
      "[NER] Модель сохранена в models/pollen_ner_1900\n"
     ]
    },
    {
     "name": "stderr",
     "output_type": "stream",
     "text": [
      "No files have been modified since last commit. Skipping to prevent empty commit.\n"
     ]
    },
    {
     "name": "stdout",
     "output_type": "stream",
     "text": [
      "[NER] Лучшая модель за все итерации сохранена в models/pollen_ner_best\n",
      "\n",
      "[NER] Тестирование модели после обучения:\n",
      "\n",
      "Тестовый пример:\n",
      "Текст: В Московской области у меня началась аллергия на пыльцу березы, потекли глаза, нос, принимаю Зиртек и Назонекс. У ребенка в Новокузнецке чешутся глаза, уши и течет нос, врач прописал Кромогексал, Назонекс в нос. В Санкт-Петербурге началось цветение ольхи, сильная реакция, принимаю Эриус, но глаза все равно слезятся.\n",
      "\n",
      "[NER] Результаты анализа:\n",
      "TOPONYM: Московскойобласти, Новокузнецке, Санкт-Петербурге\n",
      "MEDICINE: Зиртек, Назонекс, Кромогексал, Назонекс, Эриус\n",
      "SYMPTOM: потекли, чешутся, течет, слезятся\n",
      "ALLERGEN: пыльцуберезы, ольхи\n",
      "BODY_PART: глаза, нос, глаза, уши, нос, нос, глаза\n",
      "Модель перемещена на cuda\n",
      "\n",
      "Статистика распределения классов в тренировочном датасете после итерации 38:\n",
      "Counter({'SYMPTOM': 2817, 'TOPONYM': 1935, 'BODY_PART': 1879, 'MEDICINE': 1125, 'ALLERGEN': 958})\n",
      "\n",
      "[NER] Начинаем итерацию с размером выборки 1950\n"
     ]
    },
    {
     "name": "stderr",
     "output_type": "stream",
     "text": [
      "C:\\Users\\ivanm\\anaconda3\\envs\\project\\Lib\\site-packages\\peft\\mapping_func.py:73: UserWarning: You are trying to modify a model with PEFT for a second time. If you want to reload the model with a different config, make sure to call `.unload()` before.\n",
      "  warnings.warn(\n",
      "C:\\Users\\ivanm\\anaconda3\\envs\\project\\Lib\\site-packages\\peft\\tuners\\tuners_utils.py:167: UserWarning: Already found a `peft_config` attribute in the model. This will lead to having multiple adapters in the model. Make sure to know what you are doing!\n",
      "  warnings.warn(\n"
     ]
    },
    {
     "name": "stdout",
     "output_type": "stream",
     "text": [
      "Найден существующий размеченный проект для размера 1950\n",
      "После итерации 39 осталось 2093 сообщений\n"
     ]
    },
    {
     "data": {
      "application/vnd.jupyter.widget-view+json": {
       "model_id": "288ab51f452f4a0cb7f492174b6cf92d",
       "version_major": 2,
       "version_minor": 0
      },
      "text/plain": [
       "Map:   0%|          | 0/1950 [00:00<?, ? examples/s]"
      ]
     },
     "metadata": {},
     "output_type": "display_data"
    },
    {
     "name": "stderr",
     "output_type": "stream",
     "text": [
      "No label_names provided for model class `PeftModelForTokenClassification`. Since `PeftModel` hides base models input arguments, if label_names is not given, label_names can't be set automatically within `Trainer`. Note that empty label_names list will be used instead.\n"
     ]
    },
    {
     "name": "stdout",
     "output_type": "stream",
     "text": [
      "[NER] Обучение на 1950 примерах\n"
     ]
    },
    {
     "data": {
      "text/html": [
       "\n",
       "    <div>\n",
       "      \n",
       "      <progress value='1464' max='2440' style='width:300px; height:20px; vertical-align: middle;'></progress>\n",
       "      [1464/2440 12:29 < 08:20, 1.95 it/s, Epoch 6/10]\n",
       "    </div>\n",
       "    <table border=\"1\" class=\"dataframe\">\n",
       "  <thead>\n",
       " <tr style=\"text-align: left;\">\n",
       "      <th>Epoch</th>\n",
       "      <th>Training Loss</th>\n",
       "      <th>Validation Loss</th>\n",
       "      <th>Precision</th>\n",
       "      <th>Recall</th>\n",
       "      <th>F1</th>\n",
       "    </tr>\n",
       "  </thead>\n",
       "  <tbody>\n",
       "    <tr>\n",
       "      <td>1</td>\n",
       "      <td>No log</td>\n",
       "      <td>0.140295</td>\n",
       "      <td>0.883142</td>\n",
       "      <td>0.925703</td>\n",
       "      <td>0.903922</td>\n",
       "    </tr>\n",
       "    <tr>\n",
       "      <td>2</td>\n",
       "      <td>No log</td>\n",
       "      <td>0.144397</td>\n",
       "      <td>0.883810</td>\n",
       "      <td>0.931727</td>\n",
       "      <td>0.907136</td>\n",
       "    </tr>\n",
       "    <tr>\n",
       "      <td>3</td>\n",
       "      <td>0.156100</td>\n",
       "      <td>0.140341</td>\n",
       "      <td>0.883365</td>\n",
       "      <td>0.927711</td>\n",
       "      <td>0.904995</td>\n",
       "    </tr>\n",
       "    <tr>\n",
       "      <td>4</td>\n",
       "      <td>0.156100</td>\n",
       "      <td>0.141844</td>\n",
       "      <td>0.890385</td>\n",
       "      <td>0.929719</td>\n",
       "      <td>0.909627</td>\n",
       "    </tr>\n",
       "    <tr>\n",
       "      <td>5</td>\n",
       "      <td>0.152300</td>\n",
       "      <td>0.143037</td>\n",
       "      <td>0.880000</td>\n",
       "      <td>0.927711</td>\n",
       "      <td>0.903226</td>\n",
       "    </tr>\n",
       "    <tr>\n",
       "      <td>6</td>\n",
       "      <td>0.152300</td>\n",
       "      <td>0.139096</td>\n",
       "      <td>0.886756</td>\n",
       "      <td>0.927711</td>\n",
       "      <td>0.906771</td>\n",
       "    </tr>\n",
       "  </tbody>\n",
       "</table><p>"
      ],
      "text/plain": [
       "<IPython.core.display.HTML object>"
      ]
     },
     "metadata": {},
     "output_type": "display_data"
    },
    {
     "data": {
      "text/html": [],
      "text/plain": [
       "<IPython.core.display.HTML object>"
      ]
     },
     "metadata": {},
     "output_type": "display_data"
    },
    {
     "name": "stdout",
     "output_type": "stream",
     "text": [
      "[NER] Результаты: F1 = 0.9096\n",
      "\n",
      "[NER] Подробный отчет о классификации:\n",
      "              precision    recall  f1-score   support\n",
      "\n",
      "  B-ALLERGEN     0.8961    1.0000    0.9452        69\n",
      " B-BODY_PART     0.7949    0.8052    0.8000        77\n",
      "  B-MEDICINE     0.8727    0.9412    0.9057        51\n",
      "   B-SYMPTOM     0.8738    0.8911    0.8824       101\n",
      "   B-TOPONYM     1.0000    0.9898    0.9949       196\n",
      "  I-ALLERGEN     0.9390    0.9625    0.9506        80\n",
      " I-BODY_PART     1.0000    0.0588    0.1111        17\n",
      "  I-MEDICINE     0.8681    0.9405    0.9029        84\n",
      "   I-SYMPTOM     0.8800    0.9016    0.8907       122\n",
      "   I-TOPONYM     0.9149    0.9773    0.9451        44\n",
      "           O     0.9877    0.9831    0.9854      2604\n",
      "\n",
      "    accuracy                         0.9675      3445\n",
      "   macro avg     0.9116    0.8592    0.8467      3445\n",
      "weighted avg     0.9684    0.9675    0.9658      3445\n",
      "\n",
      "[NER] Модель сохранена в models/pollen_ner_1950\n"
     ]
    },
    {
     "name": "stderr",
     "output_type": "stream",
     "text": [
      "No files have been modified since last commit. Skipping to prevent empty commit.\n"
     ]
    },
    {
     "name": "stdout",
     "output_type": "stream",
     "text": [
      "[NER] Лучшая модель за все итерации сохранена в models/pollen_ner_best\n",
      "\n",
      "[NER] Тестирование модели после обучения:\n",
      "\n",
      "Тестовый пример:\n",
      "Текст: В Московской области у меня началась аллергия на пыльцу березы, потекли глаза, нос, принимаю Зиртек и Назонекс. У ребенка в Новокузнецке чешутся глаза, уши и течет нос, врач прописал Кромогексал, Назонекс в нос. В Санкт-Петербурге началось цветение ольхи, сильная реакция, принимаю Эриус, но глаза все равно слезятся.\n",
      "\n",
      "[NER] Результаты анализа:\n",
      "TOPONYM: Московскойобласти, Новокузнецке, Санкт-Петербурге\n",
      "MEDICINE: Зиртек, Назонекс, Кромогексал, Назонекс, Эриус\n",
      "SYMPTOM: потекли, чешутся, течет, слезятся\n",
      "ALLERGEN: пыльцуберезы, ольхи\n",
      "BODY_PART: глаза, нос, глаза, уши, нос, нос, глаза\n",
      "Модель перемещена на cuda\n",
      "\n",
      "Статистика распределения классов в тренировочном датасете после итерации 39:\n",
      "Counter({'SYMPTOM': 2908, 'TOPONYM': 1982, 'BODY_PART': 1937, 'MEDICINE': 1167, 'ALLERGEN': 996})\n",
      "\n",
      "[NER] Начинаем итерацию с размером выборки 2000\n"
     ]
    },
    {
     "name": "stderr",
     "output_type": "stream",
     "text": [
      "C:\\Users\\ivanm\\anaconda3\\envs\\project\\Lib\\site-packages\\peft\\mapping_func.py:73: UserWarning: You are trying to modify a model with PEFT for a second time. If you want to reload the model with a different config, make sure to call `.unload()` before.\n",
      "  warnings.warn(\n",
      "C:\\Users\\ivanm\\anaconda3\\envs\\project\\Lib\\site-packages\\peft\\tuners\\tuners_utils.py:167: UserWarning: Already found a `peft_config` attribute in the model. This will lead to having multiple adapters in the model. Make sure to know what you are doing!\n",
      "  warnings.warn(\n"
     ]
    },
    {
     "name": "stdout",
     "output_type": "stream",
     "text": [
      "Найден существующий размеченный проект для размера 2000\n",
      "После итерации 40 осталось 2043 сообщений\n"
     ]
    },
    {
     "data": {
      "application/vnd.jupyter.widget-view+json": {
       "model_id": "0ef87f56db8a4794bd6a584856a691c3",
       "version_major": 2,
       "version_minor": 0
      },
      "text/plain": [
       "Map:   0%|          | 0/2000 [00:00<?, ? examples/s]"
      ]
     },
     "metadata": {},
     "output_type": "display_data"
    },
    {
     "name": "stderr",
     "output_type": "stream",
     "text": [
      "No label_names provided for model class `PeftModelForTokenClassification`. Since `PeftModel` hides base models input arguments, if label_names is not given, label_names can't be set automatically within `Trainer`. Note that empty label_names list will be used instead.\n"
     ]
    },
    {
     "name": "stdout",
     "output_type": "stream",
     "text": [
      "[NER] Обучение на 2000 примерах\n"
     ]
    },
    {
     "data": {
      "text/html": [
       "\n",
       "    <div>\n",
       "      \n",
       "      <progress value='1500' max='2500' style='width:300px; height:20px; vertical-align: middle;'></progress>\n",
       "      [1500/2500 12:47 < 08:32, 1.95 it/s, Epoch 6/10]\n",
       "    </div>\n",
       "    <table border=\"1\" class=\"dataframe\">\n",
       "  <thead>\n",
       " <tr style=\"text-align: left;\">\n",
       "      <th>Epoch</th>\n",
       "      <th>Training Loss</th>\n",
       "      <th>Validation Loss</th>\n",
       "      <th>Precision</th>\n",
       "      <th>Recall</th>\n",
       "      <th>F1</th>\n",
       "    </tr>\n",
       "  </thead>\n",
       "  <tbody>\n",
       "    <tr>\n",
       "      <td>1</td>\n",
       "      <td>No log</td>\n",
       "      <td>0.137823</td>\n",
       "      <td>0.885880</td>\n",
       "      <td>0.919679</td>\n",
       "      <td>0.902463</td>\n",
       "    </tr>\n",
       "    <tr>\n",
       "      <td>2</td>\n",
       "      <td>0.150000</td>\n",
       "      <td>0.140158</td>\n",
       "      <td>0.891683</td>\n",
       "      <td>0.925703</td>\n",
       "      <td>0.908374</td>\n",
       "    </tr>\n",
       "    <tr>\n",
       "      <td>3</td>\n",
       "      <td>0.150000</td>\n",
       "      <td>0.139458</td>\n",
       "      <td>0.879310</td>\n",
       "      <td>0.921687</td>\n",
       "      <td>0.900000</td>\n",
       "    </tr>\n",
       "    <tr>\n",
       "      <td>4</td>\n",
       "      <td>0.146900</td>\n",
       "      <td>0.141133</td>\n",
       "      <td>0.893617</td>\n",
       "      <td>0.927711</td>\n",
       "      <td>0.910345</td>\n",
       "    </tr>\n",
       "    <tr>\n",
       "      <td>5</td>\n",
       "      <td>0.146900</td>\n",
       "      <td>0.142022</td>\n",
       "      <td>0.888889</td>\n",
       "      <td>0.931727</td>\n",
       "      <td>0.909804</td>\n",
       "    </tr>\n",
       "    <tr>\n",
       "      <td>6</td>\n",
       "      <td>0.146300</td>\n",
       "      <td>0.142894</td>\n",
       "      <td>0.883588</td>\n",
       "      <td>0.929719</td>\n",
       "      <td>0.906067</td>\n",
       "    </tr>\n",
       "  </tbody>\n",
       "</table><p>"
      ],
      "text/plain": [
       "<IPython.core.display.HTML object>"
      ]
     },
     "metadata": {},
     "output_type": "display_data"
    },
    {
     "data": {
      "text/html": [],
      "text/plain": [
       "<IPython.core.display.HTML object>"
      ]
     },
     "metadata": {},
     "output_type": "display_data"
    },
    {
     "name": "stdout",
     "output_type": "stream",
     "text": [
      "[NER] Результаты: F1 = 0.9103\n",
      "\n",
      "[NER] Подробный отчет о классификации:\n",
      "              precision    recall  f1-score   support\n",
      "\n",
      "  B-ALLERGEN     0.8961    1.0000    0.9452        69\n",
      " B-BODY_PART     0.7949    0.8052    0.8000        77\n",
      "  B-MEDICINE     0.8727    0.9412    0.9057        51\n",
      "   B-SYMPTOM     0.8725    0.8812    0.8768       101\n",
      "   B-TOPONYM     1.0000    0.9898    0.9949       196\n",
      "  I-ALLERGEN     0.9625    0.9625    0.9625        80\n",
      " I-BODY_PART     1.0000    0.0588    0.1111        17\n",
      "  I-MEDICINE     0.8681    0.9405    0.9029        84\n",
      "   I-SYMPTOM     0.8790    0.8934    0.8862       122\n",
      "   I-TOPONYM     0.9149    0.9773    0.9451        44\n",
      "           O     0.9869    0.9839    0.9854      2604\n",
      "\n",
      "    accuracy                         0.9675      3445\n",
      "   macro avg     0.9134    0.8576    0.8469      3445\n",
      "weighted avg     0.9684    0.9675    0.9657      3445\n",
      "\n",
      "[NER] Модель сохранена в models/pollen_ner_2000\n"
     ]
    },
    {
     "name": "stderr",
     "output_type": "stream",
     "text": [
      "No files have been modified since last commit. Skipping to prevent empty commit.\n"
     ]
    },
    {
     "name": "stdout",
     "output_type": "stream",
     "text": [
      "[NER] Лучшая модель за все итерации сохранена в models/pollen_ner_best\n",
      "\n",
      "[NER] Тестирование модели после обучения:\n",
      "\n",
      "Тестовый пример:\n",
      "Текст: В Московской области у меня началась аллергия на пыльцу березы, потекли глаза, нос, принимаю Зиртек и Назонекс. У ребенка в Новокузнецке чешутся глаза, уши и течет нос, врач прописал Кромогексал, Назонекс в нос. В Санкт-Петербурге началось цветение ольхи, сильная реакция, принимаю Эриус, но глаза все равно слезятся.\n",
      "\n",
      "[NER] Результаты анализа:\n",
      "TOPONYM: Московскойобласти, Новокузнецке, Санкт-Петербурге\n",
      "MEDICINE: Зиртек, Назонекс, Кромогексал, Назонекс, Эриус\n",
      "SYMPTOM: потекли, чешутся, течет, слезятся\n",
      "ALLERGEN: пыльцуберезы, ольхи\n",
      "BODY_PART: глаза, нос, глаза, уши, нос, нос, глаза\n",
      "Модель перемещена на cuda\n",
      "\n",
      "Статистика распределения классов в тренировочном датасете после итерации 40:\n",
      "Counter({'SYMPTOM': 2989, 'TOPONYM': 2027, 'BODY_PART': 1988, 'MEDICINE': 1200, 'ALLERGEN': 1043})\n"
     ]
    },
    {
     "name": "stderr",
     "output_type": "stream",
     "text": [
      "C:\\Users\\ivanm\\anaconda3\\envs\\project\\Lib\\site-packages\\peft\\mapping_func.py:73: UserWarning: You are trying to modify a model with PEFT for a second time. If you want to reload the model with a different config, make sure to call `.unload()` before.\n",
      "  warnings.warn(\n",
      "C:\\Users\\ivanm\\anaconda3\\envs\\project\\Lib\\site-packages\\peft\\tuners\\tuners_utils.py:167: UserWarning: Already found a `peft_config` attribute in the model. This will lead to having multiple adapters in the model. Make sure to know what you are doing!\n",
      "  warnings.warn(\n"
     ]
    },
    {
     "data": {
      "image/png": "[encoded data removed]",
      "text/plain": [
       "<Figure size 1000x600 with 1 Axes>"
      ]
     },
     "metadata": {},
     "output_type": "display_data"
    },
    {
     "name": "stdout",
     "output_type": "stream",
     "text": [
      "\n",
      "Финальный оставшийся датасет сохранен в remaining_dataset_final.csv\n",
      "Размер финального датасета: 2043 сообщений\n"
     ]
    },
    {
     "name": "stderr",
     "output_type": "stream",
     "text": [
      "Some weights of BertForTokenClassification were not initialized from the model checkpoint at DeepPavlov/rubert-base-cased and are newly initialized: ['classifier.bias', 'classifier.weight']\n",
      "You should probably TRAIN this model on a down-stream task to be able to use it for predictions and inference.\n"
     ]
    },
    {
     "name": "stdout",
     "output_type": "stream",
     "text": [
      "\n",
      "NER-модель обучена успешно!\n",
      "\n",
      "=== Начинаем обучение RE-модели ===\n",
      "\n",
      "[RE] Этап 1: Подготовка данных\n",
      "[RE] Используется тренировочный json: PollenNER_TRAIN_2000.json\n",
      "\n",
      "[RE] Этап 2: Подготовка датасетов\n",
      "\n",
      "[RE] Статистика распределения классов:\n",
      "Train (после сэмплирования): Counter({'has_symptom': 1811, 'no_relation': 1468, 'has_medicine': 96})\n",
      "Test: Counter({'has_symptom': 56, 'no_relation': 41, 'has_medicine': 4})\n",
      "\n",
      "[RE] Этап 3: Токенизация\n"
     ]
    },
    {
     "data": {
      "application/vnd.jupyter.widget-view+json": {
       "model_id": "4b6f8d4270cf4fcba29fa706bd532c61",
       "version_major": 2,
       "version_minor": 0
      },
      "text/plain": [
       "Map:   0%|          | 0/3375 [00:00<?, ? examples/s]"
      ]
     },
     "metadata": {},
     "output_type": "display_data"
    },
    {
     "data": {
      "application/vnd.jupyter.widget-view+json": {
       "model_id": "f5813e0e14ce4740982e60dccbfe4df5",
       "version_major": 2,
       "version_minor": 0
      },
      "text/plain": [
       "Map:   0%|          | 0/101 [00:00<?, ? examples/s]"
      ]
     },
     "metadata": {},
     "output_type": "display_data"
    },
    {
     "name": "stdout",
     "output_type": "stream",
     "text": [
      "\n",
      "[RE] Этап 4: Обучение модели\n"
     ]
    },
    {
     "name": "stderr",
     "output_type": "stream",
     "text": [
      "Some weights of BertForSequenceClassification were not initialized from the model checkpoint at DeepPavlov/rubert-base-cased and are newly initialized: ['classifier.bias', 'classifier.weight']\n",
      "You should probably TRAIN this model on a down-stream task to be able to use it for predictions and inference.\n"
     ]
    },
    {
     "data": {
      "text/html": [
       "\n",
       "    <div>\n",
       "      \n",
       "      <progress value='2110' max='2110' style='width:300px; height:20px; vertical-align: middle;'></progress>\n",
       "      [2110/2110 12:53, Epoch 5/5]\n",
       "    </div>\n",
       "    <table border=\"1\" class=\"dataframe\">\n",
       "  <thead>\n",
       " <tr style=\"text-align: left;\">\n",
       "      <th>Epoch</th>\n",
       "      <th>Training Loss</th>\n",
       "      <th>Validation Loss</th>\n",
       "      <th>F1</th>\n",
       "    </tr>\n",
       "  </thead>\n",
       "  <tbody>\n",
       "    <tr>\n",
       "      <td>1</td>\n",
       "      <td>No log</td>\n",
       "      <td>0.468768</td>\n",
       "      <td>0.896511</td>\n",
       "    </tr>\n",
       "    <tr>\n",
       "      <td>2</td>\n",
       "      <td>0.572000</td>\n",
       "      <td>0.504780</td>\n",
       "      <td>0.878992</td>\n",
       "    </tr>\n",
       "    <tr>\n",
       "      <td>3</td>\n",
       "      <td>0.348000</td>\n",
       "      <td>0.454169</td>\n",
       "      <td>0.921702</td>\n",
       "    </tr>\n",
       "    <tr>\n",
       "      <td>4</td>\n",
       "      <td>0.261700</td>\n",
       "      <td>0.509117</td>\n",
       "      <td>0.929094</td>\n",
       "    </tr>\n",
       "    <tr>\n",
       "      <td>5</td>\n",
       "      <td>0.149100</td>\n",
       "      <td>0.526457</td>\n",
       "      <td>0.929094</td>\n",
       "    </tr>\n",
       "  </tbody>\n",
       "</table><p>"
      ],
      "text/plain": [
       "<IPython.core.display.HTML object>"
      ]
     },
     "metadata": {},
     "output_type": "display_data"
    },
    {
     "data": {
      "text/html": [],
      "text/plain": [
       "<IPython.core.display.HTML object>"
      ]
     },
     "metadata": {},
     "output_type": "display_data"
    },
    {
     "name": "stdout",
     "output_type": "stream",
     "text": [
      "\n",
      "RE-модель: Macro F1 = 0.9291\n",
      "RE-модель сохранена в models/pollen_re_model\n",
      "\n",
      "[RE] Результаты обучения:\n",
      "Macro F1 на тесте: 0.9291\n",
      "\n",
      "[RE] Этап 5: Детальный анализ результатов\n",
      "\n",
      "[RE] Подробный отчет по целевым классам:\n",
      "              precision    recall  f1-score   support\n",
      "\n",
      " has_symptom     0.8966    0.9286    0.9123        56\n",
      "has_medicine     1.0000    1.0000    1.0000         4\n",
      "\n",
      "   micro avg     0.9032    0.9333    0.9180        60\n",
      "   macro avg     0.9483    0.9643    0.9561        60\n",
      "weighted avg     0.9034    0.9333    0.9181        60\n",
      "\n",
      "\n",
      "=== Финальное тестирование на тестовых примерах ===\n",
      "\n",
      "Тестовый пример 1:\n",
      "Текст: В Московской области у меня началась аллергия на пыльцу березы, потекли глаза, нос, принимаю Зиртек и Назонекс. У ребенка в Новокузнецке чешутся глаза, уши и течет нос, врач прописал Кромогексал, Назонекс в нос. В Санкт-Петербурге началось цветение ольхи, сильная реакция, принимаю Эриус, но глаза все равно слезятся.\n",
      "\n",
      "Результаты анализа:\n",
      "TOPONYM: Московскойобласти, Новокузнецке, Санкт-Петербурге\n",
      "MEDICINE: Зиртек, Назонекс, Кромогексал, Назонекс, Эриус\n",
      "SYMPTOM: глаза потекли, нос потекли, глаза чешутся, уши чешутся, нос течет, глаза слезятся\n",
      "ALLERGEN: пыльцуберезы, ольхи\n"
     ]
    }
   ],
   "source": [
    "if __name__ == '__main__':\n",
    "    \"\"\"\n",
    "    Основной блок выполнения программы.\n",
    "    Последовательно запускаем все этапы обработки данных и обучения моделей.\n",
    "    \"\"\"\n",
    "    # ===============================\n",
    "    # 1. Обучение NER-модели\n",
    "    # ===============================\n",
    "    print(\"\\n=== Начинаем обучение NER-модели ===\")\n",
    "    # Запускаем цикл обучения NER с активным обучением\n",
    "    last_ner_model = run_cycle('dataset_v1.csv', sizes)\n",
    "    print(\"\\nNER-модель обучена успешно!\")\n",
    "\n",
    "    # ===============================\n",
    "    # 2. Обучение RE-модели\n",
    "    # ===============================\n",
    "    print(\"\\n=== Начинаем обучение RE-модели ===\")\n",
    "\n",
    "    # 2.1. Подготовка данных\n",
    "    print('\\n[RE] Этап 1: Подготовка данных')\n",
    "    # Ищем последний существующий TRAIN json для обучения\n",
    "    last_train_json = None\n",
    "    for size in reversed(sizes):\n",
    "        candidate = f'PollenNER_TRAIN_{size}.json'\n",
    "        if os.path.exists(candidate):\n",
    "            last_train_json = candidate\n",
    "            break\n",
    "    if last_train_json is None:\n",
    "        raise FileNotFoundError('Не найден ни один TRAIN json для RE!')\n",
    "    print(f'[RE] Используется тренировочный json: {last_train_json}')\n",
    "\n",
    "    # Парсим разметку из JSON файлов\n",
    "    train_parsed = parse_labelstudio_json(last_train_json)\n",
    "    test_parsed = parse_labelstudio_json('PollenNER_TEST.json')\n",
    "\n",
    "    # 2.2. Подготовка датасетов\n",
    "    print('\\n[RE] Этап 2: Подготовка датасетов')\n",
    "    # Балансируем классы и применяем oversampling для has_medicine\n",
    "    re_train, rel_labels = prepare_re_dataset(\n",
    "        train_parsed,\n",
    "        relation_labels=RE_RELATION_LABELS,\n",
    "        max_no_relation_ratio=1,\n",
    "        oversample_medicine=True\n",
    "    )\n",
    "    re_test, _ = prepare_re_dataset(\n",
    "        test_parsed,\n",
    "        relation_labels=RE_RELATION_LABELS + ['no_relation'],\n",
    "        max_no_relation_ratio=1,\n",
    "        oversample_medicine=False\n",
    "    )\n",
    "\n",
    "    # Выводим статистику распределения классов\n",
    "    print('\\n[RE] Статистика распределения классов:')\n",
    "    print('Train (после сэмплирования):', Counter([ex['relation'] for ex in re_train]))\n",
    "    print('Test:', Counter([ex['relation'] for ex in re_test]))\n",
    "\n",
    "    # Создаем словари для преобразования меток\n",
    "    rel_label2id = {l: i for i, l in enumerate(rel_labels)}\n",
    "    rel_id2label = {i: l for l, i in rel_label2id.items()}\n",
    "\n",
    "    # 2.3. Токенизация\n",
    "    print('\\n[RE] Этап 3: Токенизация')\n",
    "    re_train_ds = prepare_hf_re_dataset(re_train,\n",
    "                                        TOKENIZER,\n",
    "                                        rel_label2id)\n",
    "    re_test_ds = prepare_hf_re_dataset(re_test,\n",
    "                                       TOKENIZER,\n",
    "                                       rel_label2id)\n",
    "\n",
    "    # 2.4. Обучение модели\n",
    "    print('\\n[RE] Этап 4: Обучение модели')\n",
    "    trainer_re, eval_results_re = train_and_eval_re_model(\n",
    "        train_ds=re_train_ds,\n",
    "        test_ds=re_test_ds,\n",
    "        num_labels=len(rel_labels),\n",
    "        label2id=rel_label2id,\n",
    "        id2label=rel_id2label,\n",
    "        tokenizer=TOKENIZER,\n",
    "        hf_token=HF_TOKEN,\n",
    "        output_dir='models/pollen_re_model',\n",
    "        epochs=5\n",
    "    )\n",
    "    print(f\"\\n[RE] Результаты обучения:\")\n",
    "    print(f\"Macro F1 на тесте: {eval_results_re['eval_f1']:.4f}\")\n",
    "\n",
    "    # 2.5. Детальный анализ результатов\n",
    "    print('\\n[RE] Этап 5: Детальный анализ результатов')\n",
    "    # Получаем предсказания для тестового набора\n",
    "    re_test_preds = trainer_re.predict(re_test_ds)\n",
    "    y_true = re_test_preds.label_ids\n",
    "    y_pred = re_test_preds.predictions.argmax(-1)\n",
    "\n",
    "    # Преобразуем индексы в метки\n",
    "    y_true_labels = [rel_id2label[i] for i in y_true]\n",
    "    y_pred_labels = [rel_id2label[i] for i in y_pred]\n",
    "\n",
    "    # Выводим подробный отчет по целевым классам\n",
    "    target_labels = [l for l in rel_labels if l != 'no_relation']\n",
    "    print(\"\\n[RE] Подробный отчет по целевым классам:\")\n",
    "    print(classification_report(y_true_labels,\n",
    "                                y_pred_labels,\n",
    "                                labels=target_labels,\n",
    "                                digits=4,\n",
    "                                zero_division=0))\n",
    "\n",
    "\n",
    "    # ===============================\n",
    "    # 3. Финальное тестирование\n",
    "    # ===============================\n",
    "    print('\\n=== Финальное тестирование на тестовых примерах ===')\n",
    "    for i, text in enumerate(TEST_EXAMPLES, 1):\n",
    "        print(f'\\nТестовый пример {i}:')\n",
    "        print(f'Текст: {text}')\n",
    "\n",
    "        # Извлекаем сущности и отношения\n",
    "        entities, relations = infer_ner_re_on_text(text,\n",
    "                                                   last_ner_model,\n",
    "                                                   trainer_re.model,\n",
    "                                                   TOKENIZER,\n",
    "                                                   ID2LABEL,\n",
    "                                                   rel_id2label)\n",
    "\n",
    "        # Собираем симптомы из отношений has_symptom\n",
    "        symptoms_from_relations = []\n",
    "        for rel in relations:\n",
    "            if rel['relation'] == 'has_symptom':\n",
    "                head = rel['head']['text']\n",
    "                tail = rel['tail']['text']\n",
    "                symptoms_from_relations.append(f'{head} {tail}')\n",
    "\n",
    "        # Группируем сущности по типу (исключая BODY_PART)\n",
    "        ent_by_type = {label: [] for label in LABELS if label != 'BODY_PART'}\n",
    "        for ent in entities:\n",
    "            if ent['label'] in ent_by_type:\n",
    "                if ent['label'] != 'SYMPTOM':\n",
    "                    # Для остальных сущностей используем все найденные\n",
    "                    ent_by_type[ent['label']].append(ent['text'])\n",
    "\n",
    "        # Для SYMPTOM записываем данные из has_symptom\n",
    "        for symptom in symptoms_from_relations:\n",
    "            ent_by_type['SYMPTOM'].append(symptom)\n",
    "\n",
    "        # Выводим результаты\n",
    "        print('\\nРезультаты анализа:')\n",
    "        for label in ent_by_type.keys():\n",
    "            if ent_by_type[label]:\n",
    "                ents_str = ', '.join(ent_by_type[label])\n",
    "                print(f'{label}: {ents_str}')\n",
    "            else:\n",
    "                print(f'{label}: не найдено')"
   ]
  },
  {
   "cell_type": "markdown",
   "metadata": {
    "id": "kiv5i_R4vFd7"
   },
   "source": [
    "## Вывод\n",
    "\n",
    "Проведённые эксперименты показали, что внедрение отдельного модуля для оценки отношений (RE) существенно повысило точность выделения и классификации симптомов, устранив ложные срабатывания на упоминания частей тела. Уже с 400 размеченными сообщениями наблюдался заметный рост F1‑метрики, а к 2000 примерам модель достигла стабильного уровня в 0.91, демонстрируя зрелость и надёжность алгоритма.\n",
    "\n",
    "Интеграция NER и RE модулей в единую NLP‑конвейерную архитектуру позволяет в реальном времени автоматически обрабатывать пользовательские сообщения Пыльца Club, извлекая топонимы, симптомы, препараты и аллергены и устанавливая между ними семантические связи.\n"
   ]
  },
  {
   "cell_type": "code",
   "execution_count": null,
   "metadata": {},
   "outputs": [],
   "source": []
  }
 ],
 "metadata": {
  "colab": {
   "provenance": []
  },
  "kernelspec": {
   "display_name": "Python [conda env:project]",
   "language": "python",
   "name": "conda-env-project-py"
  },
  "language_info": {
   "codemirror_mode": {
    "name": "ipython",
    "version": 3
   },
   "file_extension": ".py",
   "mimetype": "text/x-python",
   "name": "python",
   "nbconvert_exporter": "python",
   "pygments_lexer": "ipython3",
   "version": "3.12.10"
  }
 },
 "nbformat": 4,
 "nbformat_minor": 4
}
